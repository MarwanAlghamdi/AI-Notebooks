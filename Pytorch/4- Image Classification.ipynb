{
 "cells": [
  {
   "cell_type": "code",
   "execution_count": 1,
   "metadata": {
    "collapsed": true,
    "ExecuteTime": {
     "end_time": "2023-10-19T20:29:39.916797700Z",
     "start_time": "2023-10-19T20:29:36.465609900Z"
    }
   },
   "outputs": [],
   "source": [
    "import numpy as np\n",
    "import matplotlib.pyplot as plt\n",
    "import torchvision.datasets as datasets\n",
    "import torchvision.transforms as transforms\n",
    "\n",
    "import torch\n",
    "import torch.nn as nn\n",
    "\n",
    "from torch.utils.data import DataLoader\n",
    "from torch.utils.data import TensorDataset\n",
    "\n",
    "from sklearn.model_selection import train_test_split\n",
    "\n",
    "plt.style.use('seaborn-v0_8-ticks')\n",
    "%config InlineBackend.figure_formats =['png']"
   ]
  },
  {
   "cell_type": "code",
   "execution_count": 2,
   "outputs": [],
   "source": [
    "import copy\n",
    "class EarlyStopping:\n",
    "    \"\"\"\n",
    "    Parameters\n",
    "    ----------\n",
    "    patience : float\n",
    "        How long should we wait until there are no improvements\n",
    "    minDelta : float\n",
    "        Small values, The minimum change that should be considered as an improvement.\n",
    "    restoreBestWeights : bool\n",
    "        Restore the best weight settings, when there is no overfitting!\n",
    "    \"\"\"\n",
    "\n",
    "    def __init__(self,patience=5, minDelta=0, restoreBestWeights=True):\n",
    "        # EarlyParams\n",
    "        self.patience = patience\n",
    "        self.minDelta = minDelta\n",
    "        self.restoreBestWeights = restoreBestWeights\n",
    "        self.best_epoch = 0\n",
    "        # Restore Options\n",
    "        self.bestModel  = None\n",
    "        self.bestLoss   = None\n",
    "        self.counter    = 0\n",
    "        self.status     = 'Learning'\n",
    "\n",
    "    def __call__(self, model, val_loss, epoch):\n",
    "\n",
    "        if self.bestLoss is None: # First Visit\n",
    "            self.bestModel = copy.deepcopy(model.state_dict())\n",
    "            self.bestLoss = val_loss\n",
    "            self.best_epoch = epoch\n",
    "\n",
    "        elif self.bestLoss - val_loss >= self.minDelta: # check if there is any improvement\n",
    "            self.bestModel   = copy.deepcopy(model.state_dict())\n",
    "            self.bestLoss   = val_loss\n",
    "            self.best_epoch = epoch\n",
    "            self.counter    = 0 # reset counting\n",
    "            self.status     = f'Learning'\n",
    "\n",
    "        else: # Means there are no improvements\n",
    "            self.counter   += 1\n",
    "            self.status     = f'Waiting.'\n",
    "            if self.counter >= self.patience: # Have we waited enough ?\n",
    "                self.status     = f'*Finished due to no improvements on validation for {self.counter} epochs.'\n",
    "                if self.restoreBestWeights: # Restore Best weights ?\n",
    "                    model.load_state_dict(self.bestModel)\n",
    "                return True\n",
    "        return False"
   ],
   "metadata": {
    "collapsed": false,
    "ExecuteTime": {
     "end_time": "2023-10-19T20:29:39.927842900Z",
     "start_time": "2023-10-19T20:29:39.899357400Z"
    }
   }
  },
  {
   "cell_type": "markdown",
   "source": [
    "# Data"
   ],
   "metadata": {
    "collapsed": false
   }
  },
  {
   "cell_type": "code",
   "execution_count": 3,
   "outputs": [],
   "source": [
    "transform = transforms.Compose([\n",
    "    transforms.ToTensor(),\n",
    "    transforms.Normalize(mean=0,std=1/255),\n",
    "])"
   ],
   "metadata": {
    "collapsed": false,
    "ExecuteTime": {
     "end_time": "2023-10-19T20:29:39.928345700Z",
     "start_time": "2023-10-19T20:29:39.902860400Z"
    }
   }
  },
  {
   "cell_type": "code",
   "execution_count": 4,
   "outputs": [],
   "source": [
    "train_df = datasets.MNIST(root='../data', train=False,  transform=transform, download=False)"
   ],
   "metadata": {
    "collapsed": false,
    "ExecuteTime": {
     "end_time": "2023-10-19T20:29:39.928345700Z",
     "start_time": "2023-10-19T20:29:39.917298300Z"
    }
   }
  },
  {
   "cell_type": "code",
   "execution_count": 5,
   "outputs": [],
   "source": [
    "num_samples = 10000\n",
    "random_samples = np.random.choice(len(train_df.data),size=(num_samples,), replace=False) # Replace -> False: means no duplicates"
   ],
   "metadata": {
    "collapsed": false,
    "ExecuteTime": {
     "end_time": "2023-10-19T20:29:39.928843900Z",
     "start_time": "2023-10-19T20:29:39.926254700Z"
    }
   }
  },
  {
   "cell_type": "code",
   "execution_count": 6,
   "outputs": [],
   "source": [
    "train_X = train_df.data[random_samples]\n",
    "train_y = train_df.targets[random_samples]"
   ],
   "metadata": {
    "collapsed": false,
    "ExecuteTime": {
     "end_time": "2023-10-19T20:29:39.950864300Z",
     "start_time": "2023-10-19T20:29:39.931846300Z"
    }
   }
  },
  {
   "cell_type": "markdown",
   "source": [
    "# Exploring Data\n",
    "Imbalance Data"
   ],
   "metadata": {
    "collapsed": false
   }
  },
  {
   "cell_type": "code",
   "execution_count": 7,
   "outputs": [
    {
     "data": {
      "text/plain": "tensor([ 980, 1135, 1032, 1010,  982,  892,  958, 1028,  974, 1009])"
     },
     "execution_count": 7,
     "metadata": {},
     "output_type": "execute_result"
    }
   ],
   "source": [
    "uniques,counts = train_y.unique(return_counts=True)\n",
    "counts"
   ],
   "metadata": {
    "collapsed": false,
    "ExecuteTime": {
     "end_time": "2023-10-19T20:29:39.983785600Z",
     "start_time": "2023-10-19T20:29:39.941731100Z"
    }
   }
  },
  {
   "cell_type": "markdown",
   "source": [
    "# Normalizing Dataset"
   ],
   "metadata": {
    "collapsed": false
   }
  },
  {
   "cell_type": "code",
   "execution_count": 8,
   "outputs": [],
   "source": [
    "train_X = train_X / torch.max(train_X)"
   ],
   "metadata": {
    "collapsed": false,
    "ExecuteTime": {
     "end_time": "2023-10-19T20:29:39.984286100Z",
     "start_time": "2023-10-19T20:29:39.953366200Z"
    }
   }
  },
  {
   "cell_type": "markdown",
   "source": [
    "# Datasets"
   ],
   "metadata": {
    "collapsed": false
   }
  },
  {
   "cell_type": "code",
   "execution_count": 9,
   "outputs": [],
   "source": [
    "X_train, X_test, y_train, y_test = train_test_split(train_X,train_y, train_size=.9)"
   ],
   "metadata": {
    "collapsed": false,
    "ExecuteTime": {
     "end_time": "2023-10-19T20:29:39.984786400Z",
     "start_time": "2023-10-19T20:29:39.972390500Z"
    }
   }
  },
  {
   "cell_type": "markdown",
   "source": [
    "## Fixing imbalance data"
   ],
   "metadata": {
    "collapsed": false
   }
  },
  {
   "cell_type": "code",
   "execution_count": 10,
   "outputs": [],
   "source": [
    "from torch.utils.data import WeightedRandomSampler\n",
    "\n",
    "# Get classes count\n",
    "class_counts  = torch.bincount(y_train).float()\n",
    "class_weights = 1. / class_counts\n",
    "weights = class_weights[y_train]\n",
    "\n",
    "# Sampler\n",
    "sampler = WeightedRandomSampler(weights=weights,num_samples=len(weights),replacement=True)\n",
    "\n",
    "# DataSet\n",
    "train_dataset = TensorDataset(X_train,y_train)\n",
    "test_dataset = TensorDataset(X_test,y_test)\n",
    "\n",
    "# Train and Test batches\n",
    "train_loader = DataLoader(train_dataset, batch_size=64, drop_last=True)\n",
    "test_loader = DataLoader(test_dataset, batch_size=len(test_dataset), shuffle=False)"
   ],
   "metadata": {
    "collapsed": false,
    "ExecuteTime": {
     "end_time": "2023-10-19T20:29:39.996055500Z",
     "start_time": "2023-10-19T20:29:39.984286100Z"
    }
   }
  },
  {
   "cell_type": "code",
   "execution_count": 11,
   "outputs": [
    {
     "name": "stdout",
     "output_type": "stream",
     "text": [
      "========= DataLoader =========\n",
      "Training DataLoader = Elements per batch 64, Batches = 140\n",
      "Testing DataLoader = Elements per batch 1000, Batches = 1\n"
     ]
    }
   ],
   "source": [
    "print('========= DataLoader =========')\n",
    "print(f'Training DataLoader = Elements per batch {train_loader.batch_size}, Batches = {len(train_loader)}')\n",
    "print(f'Testing DataLoader = Elements per batch {test_loader.batch_size}, Batches = {len(test_loader)}')"
   ],
   "metadata": {
    "collapsed": false,
    "ExecuteTime": {
     "end_time": "2023-10-19T20:29:40.008568100Z",
     "start_time": "2023-10-19T20:29:39.991861100Z"
    }
   }
  },
  {
   "cell_type": "markdown",
   "source": [
    "# Fixing Balancing Batches"
   ],
   "metadata": {
    "collapsed": false
   }
  },
  {
   "cell_type": "code",
   "execution_count": 12,
   "outputs": [
    {
     "name": "stdout",
     "output_type": "stream",
     "text": [
      "[10 10 10 10 10 10 10 10 10 10]\n",
      "[12 12 12 12 12 12 12 12 12 12]\n",
      "[10 10 10 10 10 10 10 10 10 10]\n",
      "[11 11 11 11 11 11 11 11 11 11]\n",
      "[8 8 8 8 8 8 8 8 8 8]\n",
      "[9 9 9 9 9 9 9 9 9 9]\n",
      "[13 13 13 13 13 13 13 13 13 13]\n",
      "[10 10 10 10 10 10 10 10 10 10]\n",
      "[10 10 10 10 10 10 10 10 10 10]\n",
      "[10 10 10 10 10 10 10 10 10 10]\n",
      "[9 9 9 9 9 9 9 9 9 9]\n",
      "[15 15 15 15 15 15 15 15 15 15]\n",
      "[9 9 9 9 9 9 9 9 9 9]\n",
      "[11 11 11 11 11 11 11 11 11 11]\n",
      "[10 10 10 10 10 10 10 10 10 10]\n",
      "[10 10 10 10 10 10 10 10 10 10]\n",
      "[10 10 10 10 10 10 10 10 10 10]\n",
      "[11 11 11 11 11 11 11 11 11 11]\n",
      "[10 10 10 10 10 10 10 10 10 10]\n",
      "[11 11 11 11 11 11 11 11 11 11]\n",
      "[11 11 11 11 11 11 11 11 11 11]\n",
      "[10 10 10 10 10 10 10 10 10 10]\n",
      "[12 12 12 12 12 12 12 12 12 12]\n",
      "[10 10 10 10 10 10 10 10 10 10]\n",
      "[9 9 9 9 9 9 9 9 9 9]\n",
      "[11 11 11 11 11 11 11 11 11 11]\n",
      "[11 11 11 11 11 11 11 11 11 11]\n",
      "[11 11 11 11 11 11 11 11 11 11]\n",
      "[11 11 11 11 11 11 11 11 11 11]\n",
      "[9 9 9 9 9 9 9 9 9 9]\n",
      "[13 13 13 13 13 13 13 13 13 13]\n",
      "[14 14 14 14 14 14 14 14 14 14]\n",
      "[10 10 10 10 10 10 10 10 10 10]\n",
      "[10 10 10 10 10 10 10 10 10 10]\n",
      "[9 9 9 9 9 9 9 9 9 9]\n",
      "[13 13 13 13 13 13 13 13 13 13]\n",
      "[12 12 12 12 12 12 12 12 12 12]\n",
      "[11 11 11 11 11 11 11 11 11 11]\n",
      "[9 9 9 9 9 9 9 9 9 9]\n",
      "[13 13 13 13 13 13 13 13 13 13]\n",
      "[10 10 10 10 10 10 10 10 10 10]\n",
      "[10 10 10 10 10 10 10 10 10 10]\n",
      "[10 10 10 10 10 10 10 10 10 10]\n",
      "[13 13 13 13 13 13 13 13 13 13]\n",
      "[11 11 11 11 11 11 11 11 11 11]\n",
      "[12 12 12 12 12 12 12 12 12 12]\n",
      "[10 10 10 10 10 10 10 10 10 10]\n",
      "[12 12 12 12 12 12 12 12 12 12]\n",
      "[12 12 12 12 12 12 12 12 12 12]\n",
      "[10 10 10 10 10 10 10 10 10 10]\n",
      "[12 12 12 12 12 12 12 12 12 12]\n",
      "[11 11 11 11 11 11 11 11 11 11]\n",
      "[10 10 10 10 10 10 10 10 10 10]\n",
      "[11 11 11 11 11 11 11 11 11 11]\n",
      "[9 9 9 9 9 9 9 9 9 9]\n",
      "[9 9 9 9 9 9 9 9 9 9]\n",
      "[11 11 11 11 11 11 11 11 11 11]\n",
      "[11 11 11 11 11 11 11 11 11 11]\n",
      "[10 10 10 10 10 10 10 10  0 10]\n",
      "[9 9 9 9 9 9 9 9 9 9]\n",
      "[9 9 9 9 9 9 9 9 9 9]\n",
      "[11 11 11 11 11 11 11 11 11 11]\n",
      "[10 10 10 10 10 10 10 10 10 10]\n",
      "[12 12 12 12 12 12 12 12 12 12]\n",
      "[9 9 9 9 9 9 9 9 9 9]\n",
      "[8 8 8 8 8 8 8 8 8 8]\n",
      "[11 11 11 11 11 11 11 11 11 11]\n",
      "[8 8 8 8 8 8 8 8 8 8]\n",
      "[9 9 9 9 9 9 9 9 9 9]\n",
      "[11 11 11 11 11 11 11 11 11 11]\n",
      "[11 11 11 11 11 11 11 11 11 11]\n",
      "[9 9 9 9 9 9 9 9 9 9]\n",
      "[11 11 11 11 11 11 11 11 11 11]\n",
      "[13 13 13 13 13 13 13 13 13 13]\n",
      "[9 9 9 9 9 9 9 9 9 9]\n",
      "[14 14 14 14 14 14 14 14 14 14]\n",
      "[9 9 9 9 9 9 9 9 9 9]\n",
      "[9 9 9 9 9 9 9 9 9 9]\n",
      "[10 10 10 10 10 10 10 10 10 10]\n",
      "[10 10 10 10 10 10 10 10 10 10]\n",
      "[8 8 8 8 8 8 8 8 8 8]\n",
      "[10 10 10 10 10 10 10 10 10 10]\n",
      "[10 10 10 10 10 10 10 10 10 10]\n",
      "[10 10 10 10 10 10 10 10 10 10]\n",
      "[12 12 12 12 12 12 12 12 12 12]\n",
      "[11 11 11 11 11 11 11 11 11 11]\n",
      "[12 12 12 12 12 12 12 12 12 12]\n",
      "[11 11 11 11 11 11 11 11 11 11]\n",
      "[13 13 13 13 13 13 13 13 13 13]\n",
      "[9 9 9 9 9 9 9 9 9 9]\n",
      "[10 10 10 10 10 10 10 10 10 10]\n",
      "[10 10 10 10 10 10 10 10 10 10]\n",
      "[11 11 11 11 11 11 11 11 11 11]\n",
      "[9 9 9 9 9 9 9 9 9 9]\n",
      "[11 11 11 11 11 11 11 11 11 11]\n",
      "[9 9 9 9 9 9 9 9 9 9]\n",
      "[10 10 10 10 10 10 10 10 10 10]\n",
      "[9 9 9 9 9 9 9 9 9 9]\n",
      "[11 11 11 11 11 11 11 11 11 11]\n",
      "[12 12 12 12 12 12 12 12 12 12]\n",
      "[10 10 10 10 10 10 10 10 10 10]\n",
      "[12 12 12 12 12 12 12 12 12 12]\n",
      "[13 13 13 13 13 13 13 13 13 13]\n",
      "[11 11 11 11 11 11 11 11 11 11]\n",
      "[10 10 10 10 10 10 10 10 10 10]\n",
      "[12 12 12 12 12 12 12 12 12 12]\n",
      "[10 10 10 10 10 10 10 10 10 10]\n",
      "[10 10 10 10 10 10 10 10 10 10]\n",
      "[10 10 10 10 10 10 10 10 10 10]\n",
      "[12 12 12 12 12 12 12 12 12 12]\n",
      "[14 14 14 14 14 14 14 14 14 14]\n",
      "[9 9 9 9 9 9 9 9 9 9]\n",
      "[11 11 11 11 11 11 11 11 11 11]\n",
      "[10 10 10 10 10 10 10 10 10 10]\n",
      "[8 8 8 8 8 8 8 8 8 8]\n",
      "[9 9 9 9 9 9 9 9 9 9]\n",
      "[8 8 8 8 8 8 8 8 8 8]\n",
      "[15 15 15 15 15 15 15 15 15 15]\n",
      "[11 11 11 11 11 11 11 11 11 11]\n",
      "[11 11 11 11 11 11 11 11 11 11]\n",
      "[11 11 11 11 11 11 11 11 11 11]\n",
      "[11 11 11 11 11 11 11 11 11 11]\n",
      "[9 9 9 9 9 9 9 9 9 9]\n",
      "[11 11 11 11 11 11 11 11 11 11]\n",
      "[11 11 11 11 11 11 11 11 11 11]\n",
      "[8 8 8 8 8 8 8 8 8 8]\n",
      "[10 10 10 10 10 10 10 10 10 10]\n",
      "[11 11 11 11 11 11 11 11 11 11]\n",
      "[9 9 9 9 9 9 9 9 9 9]\n",
      "[11 11 11 11 11 11 11 11 11 11]\n",
      "[9 9 9 9 9 9 9 9 9 9]\n",
      "[10 10 10 10 10 10 10 10 10 10]\n",
      "[9 9 9 9 9 9 9 9 9 9]\n",
      "[10 10 10 10 10 10 10 10 10 10]\n",
      "[11 11 11 11 11 11 11 11 11 11]\n",
      "[10 10 10 10 10 10 10 10 10 10]\n",
      "[12 12 12 12 12 12 12 12 12 12]\n",
      "[11 11 11 11 11 11 11 11 11 11]\n",
      "[9 9 9 9 9 9 9 9 9 9]\n",
      "[13 13 13 13 13 13 13 13 13 13]\n"
     ]
    }
   ],
   "source": [
    "from imblearn.over_sampling import RandomOverSampler\n",
    "\n",
    "balanced_batches = []\n",
    "sampler = RandomOverSampler()\n",
    "\n",
    "for idx,(data,label) in enumerate(train_loader):\n",
    "\n",
    "    # Convert images from shape [64,1,28,28] to [64,784]. and flatten targets\n",
    "    feature = data.view(data.size(0), -1)\n",
    "    target  = label.flatten()\n",
    "\n",
    "    feature_oversample, target_oversample = sampler.fit_resample(feature, target)\n",
    "\n",
    "    print(np.bincount(target_oversample))\n",
    "    balanced_batches.append(( torch.tensor(feature_oversample).float(), torch.tensor(target_oversample) ))"
   ],
   "metadata": {
    "collapsed": false,
    "ExecuteTime": {
     "end_time": "2023-10-19T20:29:40.538344600Z",
     "start_time": "2023-10-19T20:29:40.002062300Z"
    }
   }
  },
  {
   "cell_type": "markdown",
   "source": [
    "# Model"
   ],
   "metadata": {
    "collapsed": false
   }
  },
  {
   "cell_type": "code",
   "execution_count": 13,
   "outputs": [],
   "source": [
    "input_sz  = X_train[0].flatten().shape[0]\n",
    "output_sz = 10"
   ],
   "metadata": {
    "collapsed": false,
    "ExecuteTime": {
     "end_time": "2023-10-19T20:29:40.541347100Z",
     "start_time": "2023-10-19T20:29:40.535949500Z"
    }
   }
  },
  {
   "cell_type": "code",
   "execution_count": 14,
   "outputs": [],
   "source": [
    "model = nn.Sequential(\n",
    "    # Input\n",
    "    nn.Linear(in_features=input_sz, out_features=128), # Input Gray scaled image\n",
    "    nn.Tanh(),\n",
    "\n",
    "    # Hidden Layers\n",
    "    nn.Linear(in_features=128, out_features=128),\n",
    "    nn.Tanh(),\n",
    "    nn.Linear(in_features=128, out_features=128),\n",
    "    nn.Tanh(),\n",
    "    nn.Linear(in_features=128, out_features=128),\n",
    "    nn.Tanh(),\n",
    "\n",
    "    # Output\n",
    "    nn.Linear(in_features=128, out_features=output_sz),\n",
    "    nn.LogSoftmax(dim=1) # IMPORTANT: We must use NLLoss with Log softmax\n",
    ")\n",
    "\n",
    "criterion = nn.NLLLoss()\n",
    "optimizer = torch.optim.Adam(model.parameters(), lr= .005, )\n",
    "lr_sched  = torch.optim.lr_scheduler.StepLR(optimizer, gamma=0.9 ,step_size=5)\n",
    "\n",
    "es = EarlyStopping(patience=25)"
   ],
   "metadata": {
    "collapsed": false,
    "ExecuteTime": {
     "end_time": "2023-10-19T20:29:40.549644600Z",
     "start_time": "2023-10-19T20:29:40.542347900Z"
    }
   }
  },
  {
   "cell_type": "markdown",
   "source": [
    "## Training"
   ],
   "metadata": {
    "collapsed": false
   }
  },
  {
   "cell_type": "code",
   "execution_count": 15,
   "outputs": [],
   "source": [
    "train_loss_hist = []\n",
    "valid_loss_hist  = []\n",
    "train_accuracy_hist  = []\n",
    "valid_accuracy_hist  = []"
   ],
   "metadata": {
    "collapsed": false,
    "ExecuteTime": {
     "end_time": "2023-10-19T20:29:40.558423800Z",
     "start_time": "2023-10-19T20:29:40.550645600Z"
    }
   }
  },
  {
   "cell_type": "code",
   "execution_count": 16,
   "outputs": [
    {
     "name": "stdout",
     "output_type": "stream",
     "text": [
      "Epoch 1-Learning:\t Training Loss 0.5916925588888782 \t Training Accuracy 81.81821968938623, Training Loss 0.38736608624458313 \t Training Accuracy 87.69999694824219\n",
      "Epoch 2-Waiting.:\t Training Loss 0.31810032869023935 \t Training Accuracy 90.95560652869088, Training Loss 0.39689961075782776 \t Training Accuracy 88.80000305175781\n",
      "Epoch 3-Waiting.:\t Training Loss 0.2289451041924102 \t Training Accuracy 93.53891253471375, Training Loss 0.40374627709388733 \t Training Accuracy 89.70000457763672\n",
      "Epoch 4-Learning:\t Training Loss 0.19846876114606857 \t Training Accuracy 94.09283761467252, Training Loss 0.35818397998809814 \t Training Accuracy 90.5999984741211\n",
      "Epoch 5-Learning:\t Training Loss 0.16982115672102996 \t Training Accuracy 95.18934373344693, Training Loss 0.2703043222427368 \t Training Accuracy 93.0999984741211\n",
      "Epoch 6-Learning:\t Training Loss 0.12555403436001922 \t Training Accuracy 96.32950667824063, Training Loss 0.24589742720127106 \t Training Accuracy 93.5999984741211\n",
      "Epoch 7-Learning:\t Training Loss 0.09563441502063402 \t Training Accuracy 97.44201055594853, Training Loss 0.24084492027759552 \t Training Accuracy 94.30000305175781\n",
      "Epoch 8-Waiting.:\t Training Loss 0.08473970110062509 \t Training Accuracy 97.5091872044972, Training Loss 0.28197064995765686 \t Training Accuracy 93.5\n",
      "Epoch 9-Waiting.:\t Training Loss 0.07024228203309967 \t Training Accuracy 97.89989518267768, Training Loss 0.2604832053184509 \t Training Accuracy 94.0\n",
      "Epoch 10-Waiting.:\t Training Loss 0.06892969004859749 \t Training Accuracy 97.95070597103664, Training Loss 0.2706720530986786 \t Training Accuracy 94.5\n",
      "Epoch 11-Waiting.:\t Training Loss 0.04270401708698565 \t Training Accuracy 98.81662751947131, Training Loss 0.24487966299057007 \t Training Accuracy 95.0\n",
      "Epoch 12-Learning:\t Training Loss 0.048534353951358106 \t Training Accuracy 98.55010360479355, Training Loss 0.2307862639427185 \t Training Accuracy 95.70000457763672\n",
      "Epoch 13-Waiting.:\t Training Loss 0.040553338032415405 \t Training Accuracy 98.73956246035439, Training Loss 0.31294599175453186 \t Training Accuracy 93.30000305175781\n",
      "Epoch 14-Waiting.:\t Training Loss 0.06664801144423628 \t Training Accuracy 98.07968480246407, Training Loss 0.33040717244148254 \t Training Accuracy 92.79999542236328\n",
      "Epoch 15-Waiting.:\t Training Loss 0.042645458773144386 \t Training Accuracy 98.59583007437843, Training Loss 0.2331356555223465 \t Training Accuracy 94.5999984741211\n",
      "Epoch 16-Waiting.:\t Training Loss 0.03725788651749359 \t Training Accuracy 98.8623223560197, Training Loss 0.24184511601924896 \t Training Accuracy 95.0\n",
      "Epoch 17-Waiting.:\t Training Loss 0.03148870356256209 \t Training Accuracy 99.1015670980726, Training Loss 0.236114501953125 \t Training Accuracy 95.4000015258789\n",
      "Epoch 18-Waiting.:\t Training Loss 0.036481272757269576 \t Training Accuracy 98.80182951688766, Training Loss 0.2589383125305176 \t Training Accuracy 94.5999984741211\n",
      "Epoch 19-Waiting.:\t Training Loss 0.0197914383690139 \t Training Accuracy 99.39960254090172, Training Loss 0.233365997672081 \t Training Accuracy 95.80000305175781\n",
      "Epoch 20-Waiting.:\t Training Loss 0.02595661148911209 \t Training Accuracy 99.2660642521722, Training Loss 0.2584141194820404 \t Training Accuracy 95.5\n",
      "Epoch 21-Waiting.:\t Training Loss 0.028317676840898847 \t Training Accuracy 99.116590150765, Training Loss 0.26564568281173706 \t Training Accuracy 95.5999984741211\n",
      "Epoch 22-Waiting.:\t Training Loss 0.022179581795561325 \t Training Accuracy 99.37698636736188, Training Loss 0.25473371148109436 \t Training Accuracy 95.30000305175781\n",
      "Epoch 23-Waiting.:\t Training Loss 0.02805358790626217 \t Training Accuracy 99.01897149426597, Training Loss 0.27344754338264465 \t Training Accuracy 95.0\n",
      "Epoch 24-Waiting.:\t Training Loss 0.06551645663067965 \t Training Accuracy 98.09386798313686, Training Loss 0.2519233524799347 \t Training Accuracy 95.30000305175781\n",
      "Epoch 25-Waiting.:\t Training Loss 0.03181190663308371 \t Training Accuracy 98.99786583014897, Training Loss 0.2427627444267273 \t Training Accuracy 95.5999984741211\n",
      "Epoch 26-Waiting.:\t Training Loss 0.012622110008253782 \t Training Accuracy 99.6018528512546, Training Loss 0.2544326186180115 \t Training Accuracy 95.20000457763672\n",
      "Epoch 27-Learning:\t Training Loss 0.00342285191249435 \t Training Accuracy 99.9230159180505, Training Loss 0.22954705357551575 \t Training Accuracy 95.5999984741211\n",
      "Epoch 28-Waiting.:\t Training Loss 0.0012879105146566872 \t Training Accuracy 99.9880952494485, Training Loss 0.23649898171424866 \t Training Accuracy 95.5999984741211\n",
      "Epoch 29-Waiting.:\t Training Loss 0.0008688440054746544 \t Training Accuracy 99.9880952494485, Training Loss 0.24062223732471466 \t Training Accuracy 95.5999984741211\n",
      "Epoch 30-Waiting.:\t Training Loss 0.0006931640058610355 \t Training Accuracy 99.9880952494485, Training Loss 0.24414633214473724 \t Training Accuracy 95.5999984741211\n",
      "Epoch 31-Waiting.:\t Training Loss 0.0005558176568748812 \t Training Accuracy 99.9880952494485, Training Loss 0.24715280532836914 \t Training Accuracy 95.5999984741211\n",
      "Epoch 32-Waiting.:\t Training Loss 0.0004256130891527781 \t Training Accuracy 99.9880952494485, Training Loss 0.24963133037090302 \t Training Accuracy 95.5999984741211\n",
      "Epoch 33-Waiting.:\t Training Loss 0.0003158091827052496 \t Training Accuracy 100.0, Training Loss 0.25217387080192566 \t Training Accuracy 95.70000457763672\n",
      "Epoch 34-Waiting.:\t Training Loss 0.00024563343740737766 \t Training Accuracy 100.0, Training Loss 0.25461292266845703 \t Training Accuracy 95.5999984741211\n",
      "Epoch 35-Waiting.:\t Training Loss 0.0002062149514261234 \t Training Accuracy 100.0, Training Loss 0.25693389773368835 \t Training Accuracy 95.5999984741211\n",
      "Epoch 36-Waiting.:\t Training Loss 0.00017925518516546748 \t Training Accuracy 100.0, Training Loss 0.25890183448791504 \t Training Accuracy 95.70000457763672\n",
      "Epoch 37-Waiting.:\t Training Loss 0.00016047589545321118 \t Training Accuracy 100.0, Training Loss 0.26085227727890015 \t Training Accuracy 95.70000457763672\n",
      "Epoch 38-Waiting.:\t Training Loss 0.00014447805137284117 \t Training Accuracy 100.0, Training Loss 0.26276102662086487 \t Training Accuracy 95.70000457763672\n",
      "Epoch 39-Waiting.:\t Training Loss 0.00013078118152926827 \t Training Accuracy 100.0, Training Loss 0.2646198868751526 \t Training Accuracy 95.70000457763672\n",
      "Epoch 40-Waiting.:\t Training Loss 0.00011894114555356541 \t Training Accuracy 100.0, Training Loss 0.26642945408821106 \t Training Accuracy 95.70000457763672\n",
      "Epoch 41-Waiting.:\t Training Loss 0.00010876000198030461 \t Training Accuracy 100.0, Training Loss 0.268014520406723 \t Training Accuracy 95.70000457763672\n",
      "Epoch 42-Waiting.:\t Training Loss 0.00010049843497524437 \t Training Accuracy 100.0, Training Loss 0.26958176493644714 \t Training Accuracy 95.70000457763672\n",
      "Epoch 43-Waiting.:\t Training Loss 9.300495594288805e-05 \t Training Accuracy 100.0, Training Loss 0.2711329460144043 \t Training Accuracy 95.70000457763672\n",
      "Epoch 44-Waiting.:\t Training Loss 8.616362370698231e-05 \t Training Accuracy 100.0, Training Loss 0.27266907691955566 \t Training Accuracy 95.70000457763672\n",
      "Epoch 45-Waiting.:\t Training Loss 7.989057490444143e-05 \t Training Accuracy 100.0, Training Loss 0.2741912603378296 \t Training Accuracy 95.70000457763672\n",
      "Epoch 46-Waiting.:\t Training Loss 7.420343326884904e-05 \t Training Accuracy 100.0, Training Loss 0.2755469083786011 \t Training Accuracy 95.70000457763672\n",
      "Epoch 47-Waiting.:\t Training Loss 6.937106155159459e-05 \t Training Accuracy 100.0, Training Loss 0.27690503001213074 \t Training Accuracy 95.70000457763672\n",
      "Epoch 48-Waiting.:\t Training Loss 6.483505877180765e-05 \t Training Accuracy 100.0, Training Loss 0.2782655358314514 \t Training Accuracy 95.70000457763672\n",
      "Epoch 49-Waiting.:\t Training Loss 6.057511112495766e-05 \t Training Accuracy 100.0, Training Loss 0.2796289920806885 \t Training Accuracy 95.70000457763672\n",
      "Epoch 50-Waiting.:\t Training Loss 5.657165259955426e-05 \t Training Accuracy 100.0, Training Loss 0.2809956669807434 \t Training Accuracy 95.70000457763672\n",
      "Epoch 51-Waiting.:\t Training Loss 5.2871687928148144e-05 \t Training Accuracy 100.0, Training Loss 0.282226026058197 \t Training Accuracy 95.70000457763672\n"
     ]
    }
   ],
   "source": [
    "for epoch_i in range(500):\n",
    "    batch_acc  = []\n",
    "    batch_loss = []\n",
    "    model.train()\n",
    "\n",
    "    # Training batches\n",
    "    for idx, (data,label) in enumerate(balanced_batches):\n",
    "        # Flatten data\n",
    "        data_flatten = data\n",
    "\n",
    "        # Forward\n",
    "        yHat = model(data_flatten)\n",
    "\n",
    "        # Batch loss\n",
    "        loss = criterion(yHat,label)\n",
    "        batch_loss.append(loss.item())\n",
    "\n",
    "        # Accuracy\n",
    "        TP = (torch.argmax(yHat, axis=1) == label).float()\n",
    "        batch_acc.append( torch.mean( TP ).item() * 100 )\n",
    "\n",
    "        # Backward\n",
    "        optimizer.zero_grad()\n",
    "        loss.backward()\n",
    "        optimizer.step()\n",
    "    # End of batches\n",
    "\n",
    "    # Learning Rate scheduler\n",
    "    lr_sched.step()\n",
    "\n",
    "    # Training Loss and accuracy\n",
    "    train_loss_hist.append( np.mean(batch_loss) )\n",
    "    train_accuracy_hist.append( np.mean(batch_acc) )\n",
    "\n",
    "    # Testing Accuracy\n",
    "    model.eval()\n",
    "    _data, _label = next(iter(test_loader))\n",
    "    data_flatten = _data.view(len(_data) ,-1)\n",
    "    _yHat = model(data_flatten)\n",
    "    val_loss = criterion(_yHat,_label)\n",
    "\n",
    "    # Validation Loss and accuracy\n",
    "    TP = (torch.argmax(_yHat,axis=1) == _label).float()\n",
    "    valid_accuracy_hist.append( torch.mean(TP)*100 )\n",
    "    valid_loss_hist.append(val_loss.item())\n",
    "\n",
    "    if es(model,val_loss,epoch_i):\n",
    "        break\n",
    "\n",
    "    # Report\n",
    "    print(f'Epoch {epoch_i+1}-{es.status}:\\t Training Loss {train_loss_hist[-1]} \\t Training Accuracy {train_accuracy_hist[-1]}, Training Loss {valid_loss_hist[-1]} \\t Training Accuracy {valid_accuracy_hist[-1]}')"
   ],
   "metadata": {
    "collapsed": false,
    "ExecuteTime": {
     "end_time": "2023-10-19T20:30:16.311396300Z",
     "start_time": "2023-10-19T20:29:40.559424700Z"
    }
   }
  },
  {
   "cell_type": "markdown",
   "source": [
    "# results visualization"
   ],
   "metadata": {
    "collapsed": false
   }
  },
  {
   "cell_type": "code",
   "execution_count": 17,
   "outputs": [
    {
     "data": {
      "text/plain": "<Figure size 1500x500 with 2 Axes>",
      "image/png": "[encoded data removed]"
     },
     "metadata": {},
     "output_type": "display_data"
    }
   ],
   "source": [
    "plt.figure(figsize=(15,5))\n",
    "\n",
    "# Loss Graph\n",
    "plt.subplot(2,1,1)\n",
    "plt.plot(train_loss_hist,'-r')\n",
    "plt.plot(valid_loss_hist,'-g')\n",
    "plt.bar(es.best_epoch,np.max(train_loss_hist),width=0.1)\n",
    "plt.xlabel('Epochs')\n",
    "plt.ylabel('Loss/Error')\n",
    "plt.title('Loss Graph')\n",
    "plt.legend([f'Training Loss {np.min(train_loss_hist):.2f}',f'Validation Loss {np.min(valid_loss_hist):.2f}', 'Best Performance'])\n",
    "\n",
    "# Accuracy Graph\n",
    "plt.subplot(2,1,2)\n",
    "plt.plot(train_accuracy_hist,'-r')\n",
    "plt.plot(valid_accuracy_hist,'-g')\n",
    "plt.bar(es.best_epoch,100,width=0.1)\n",
    "plt.xlabel('Epochs')\n",
    "plt.ylabel('Accuracy')\n",
    "plt.title('Accuracy Graph')\n",
    "plt.legend([f'Training Accuracy {np.max(train_accuracy_hist):.2f}%',f'Validation Accuracy {np.max(valid_accuracy_hist):.2f}%','Best Performance'])\n",
    "\n",
    "plt.tight_layout()\n",
    "plt.show()"
   ],
   "metadata": {
    "collapsed": false,
    "ExecuteTime": {
     "end_time": "2023-10-19T20:30:16.865681200Z",
     "start_time": "2023-10-19T20:30:16.315899900Z"
    }
   }
  },
  {
   "cell_type": "markdown",
   "source": [
    "## Visualize a random prediction"
   ],
   "metadata": {
    "collapsed": false
   }
  },
  {
   "cell_type": "code",
   "execution_count": 18,
   "outputs": [
    {
     "data": {
      "text/plain": "<Figure size 1500x500 with 3 Axes>",
      "image/png": "[encoded data removed]"
     },
     "metadata": {},
     "output_type": "display_data"
    }
   ],
   "source": [
    "ch = np.random.choice(len(X_test))\n",
    "\n",
    "prediction = model(X_test[ch].view(1,-1))\n",
    "\n",
    "plt.figure(figsize=(15,5))\n",
    "\n",
    "plt.subplot(1,3,1)\n",
    "plt.title(f'Log Prediction of number {y_test[ch]}')\n",
    "plt.bar(range(10), prediction.detach().flatten())\n",
    "plt.xticks(range(10))\n",
    "\n",
    "plt.subplot(1,3,2)\n",
    "plt.title(f'Normal Prediction of number {y_test[ch]}')\n",
    "plt.bar(range(10), torch.exp(prediction.detach().flatten()))\n",
    "plt.xticks(range(10))\n",
    "\n",
    "plt.subplot(1,3,3)\n",
    "plt.title(f'number {y_test[ch]}')\n",
    "plt.imshow(X_test[ch],cmap='gray')\n",
    "\n",
    "plt.show()"
   ],
   "metadata": {
    "collapsed": false,
    "ExecuteTime": {
     "end_time": "2023-10-19T20:30:17.700162200Z",
     "start_time": "2023-10-19T20:30:16.870183700Z"
    }
   }
  },
  {
   "cell_type": "markdown",
   "source": [
    "## Visualize a mistake"
   ],
   "metadata": {
    "collapsed": false
   }
  },
  {
   "cell_type": "code",
   "execution_count": 19,
   "outputs": [
    {
     "data": {
      "text/plain": "<Figure size 1500x500 with 3 Axes>",
      "image/png": "[encoded data removed]"
     },
     "metadata": {},
     "output_type": "display_data"
    }
   ],
   "source": [
    "prediction = model(X_test.view(len(X_test),-1))\n",
    "prediction_labels = np.argmax(prediction.detach(),axis=1)\n",
    "miss_predictions = np.argwhere( prediction_labels != y_test)[0]\n",
    "\n",
    "ch = np.random.choice(miss_predictions)\n",
    "\n",
    "plt.figure(figsize=(15,5))\n",
    "\n",
    "plt.subplot(1,3,1)\n",
    "plt.title(f'{y_test[ch]} miss predicted with {prediction_labels[ch]}')\n",
    "plt.bar(range(10), prediction[ch].detach().flatten())\n",
    "plt.xticks(range(10))\n",
    "\n",
    "plt.subplot(1,3,2)\n",
    "plt.title(f'{y_test[ch]} miss predicted with {prediction_labels[ch]}')\n",
    "plt.bar(range(10), torch.exp(prediction[ch].detach().flatten()))\n",
    "plt.xticks(range(10))\n",
    "\n",
    "plt.subplot(1,3,3)\n",
    "plt.title(f'number {y_test[ch]}')\n",
    "plt.imshow(X_test[ch],cmap='gray')\n",
    "\n",
    "plt.show()"
   ],
   "metadata": {
    "collapsed": false,
    "ExecuteTime": {
     "end_time": "2023-10-19T20:30:18.292558200Z",
     "start_time": "2023-10-19T20:30:17.703666500Z"
    }
   }
  },
  {
   "cell_type": "code",
   "execution_count": 19,
   "outputs": [],
   "source": [],
   "metadata": {
    "collapsed": false,
    "ExecuteTime": {
     "end_time": "2023-10-19T20:30:18.294561800Z",
     "start_time": "2023-10-19T20:30:18.292558200Z"
    }
   }
  }
 ],
 "metadata": {
  "kernelspec": {
   "display_name": "Python 3",
   "language": "python",
   "name": "python3"
  },
  "language_info": {
   "codemirror_mode": {
    "name": "ipython",
    "version": 2
   },
   "file_extension": ".py",
   "mimetype": "text/x-python",
   "name": "python",
   "nbconvert_exporter": "python",
   "pygments_lexer": "ipython2",
   "version": "2.7.6"
  }
 },
 "nbformat": 4,
 "nbformat_minor": 0
}
