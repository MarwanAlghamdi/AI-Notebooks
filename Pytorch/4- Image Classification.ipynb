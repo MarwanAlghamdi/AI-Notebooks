{
 "cells": [
  {
   "cell_type": "code",
   "execution_count": 439,
   "metadata": {
    "collapsed": true,
    "ExecuteTime": {
     "end_time": "2023-09-23T18:25:49.641066600Z",
     "start_time": "2023-09-23T18:25:49.483214600Z"
    }
   },
   "outputs": [],
   "source": [
    "import numpy as np\n",
    "import matplotlib.pyplot as plt\n",
    "import pandas as pd\n",
    "import scipy.stats as stats\n",
    "import seaborn as sns\n",
    "import torchvision.datasets as datasets\n",
    "import torchvision.transforms as transforms\n",
    "\n",
    "import torch\n",
    "import torch.nn as nn\n",
    "import torch.nn.functional as F\n",
    "\n",
    "from torch.utils.data import DataLoader\n",
    "from torch.utils.data import TensorDataset\n",
    "\n",
    "from sklearn.model_selection import train_test_split\n",
    "\n",
    "plt.style.use('seaborn-v0_8-ticks')\n",
    "%config InlineBackend.figure_formats =['svg']"
   ]
  },
  {
   "cell_type": "code",
   "execution_count": 440,
   "outputs": [],
   "source": [
    "import copy\n",
    "class EarlyStopping:\n",
    "    \"\"\"\n",
    "    Parameters\n",
    "    ----------\n",
    "    patience : float\n",
    "        How long should we wait until there are no improvements\n",
    "    minDelta : float\n",
    "        Small values, The minimum change that should be considered as an improvement.\n",
    "    restoreBestWeights : bool\n",
    "        Restore the best weight settings, when there is no overfitting!\n",
    "    \"\"\"\n",
    "\n",
    "    def __init__(self,patience=5, minDelta=0, restoreBestWeights=True):\n",
    "        # EarlyParams\n",
    "        self.patience = patience\n",
    "        self.minDelta = minDelta\n",
    "        self.restoreBestWeights = restoreBestWeights\n",
    "        # Restore Options\n",
    "        self.bestModel  = None\n",
    "        self.bestLoss   = None\n",
    "        self.counter    = 0\n",
    "        self.status     = 'Learning'\n",
    "\n",
    "    def __call__(self, model, val_loss):\n",
    "\n",
    "        if self.bestLoss is None: # First Visit\n",
    "            self.bestModel = copy.deepcopy(model.state_dict())\n",
    "            self.bestLoss = val_loss\n",
    "\n",
    "        elif self.bestLoss - val_loss >= self.minDelta: # check if there is any improvement\n",
    "            self.bestModel   = copy.deepcopy(model.state_dict())\n",
    "            self.bestLoss   = val_loss\n",
    "            self.counter    = 0 # reset counting\n",
    "            self.status     = f'Learning'\n",
    "\n",
    "        else: # Means there are no improvements\n",
    "            self.counter   += 1\n",
    "            self.status     = f'Waiting.'\n",
    "            if self.counter >= self.patience: # Have we waited enough ?\n",
    "                self.status     = f'*Finished due to no improvements on validation for {self.counter} epochs.'\n",
    "                if self.restoreBestWeights: # Restore Best weights ?\n",
    "                    model.load_state_dict(self.bestModel)\n",
    "                return True\n",
    "        return False"
   ],
   "metadata": {
    "collapsed": false,
    "ExecuteTime": {
     "end_time": "2023-09-23T18:25:49.657628900Z",
     "start_time": "2023-09-23T18:25:49.492508800Z"
    }
   }
  },
  {
   "cell_type": "markdown",
   "source": [
    "# Data"
   ],
   "metadata": {
    "collapsed": false
   }
  },
  {
   "cell_type": "code",
   "execution_count": 441,
   "outputs": [],
   "source": [
    "transform = transforms.Compose([\n",
    "    transforms.ToTensor(),\n",
    "    transforms.Normalize(mean=0,std=1/255),\n",
    "])"
   ],
   "metadata": {
    "collapsed": false,
    "ExecuteTime": {
     "end_time": "2023-09-23T18:25:49.657628900Z",
     "start_time": "2023-09-23T18:25:49.496980Z"
    }
   }
  },
  {
   "cell_type": "code",
   "execution_count": 442,
   "outputs": [],
   "source": [
    "train_df = datasets.MNIST(root='./data', train=False,  transform=transform, download=False)"
   ],
   "metadata": {
    "collapsed": false,
    "ExecuteTime": {
     "end_time": "2023-09-23T18:25:49.747199900Z",
     "start_time": "2023-09-23T18:25:49.501624900Z"
    }
   }
  },
  {
   "cell_type": "code",
   "execution_count": 443,
   "outputs": [],
   "source": [
    "num_samples = 10000\n",
    "random_samples = np.random.choice(len(train_df.data),size=(num_samples,), replace=False) # Replace -> False: means no duplicates"
   ],
   "metadata": {
    "collapsed": false,
    "ExecuteTime": {
     "end_time": "2023-09-23T18:25:49.748701500Z",
     "start_time": "2023-09-23T18:25:49.514808200Z"
    }
   }
  },
  {
   "cell_type": "code",
   "execution_count": 444,
   "outputs": [],
   "source": [
    "train_X = train_df.data[random_samples]\n",
    "train_y = train_df.targets[random_samples]"
   ],
   "metadata": {
    "collapsed": false,
    "ExecuteTime": {
     "end_time": "2023-09-23T18:25:49.749701900Z",
     "start_time": "2023-09-23T18:25:49.518319700Z"
    }
   }
  },
  {
   "cell_type": "markdown",
   "source": [
    "# Exploring Data\n",
    "Imbalance Data"
   ],
   "metadata": {
    "collapsed": false
   }
  },
  {
   "cell_type": "code",
   "execution_count": 445,
   "outputs": [
    {
     "data": {
      "text/plain": "tensor([ 980, 1135, 1032, 1010,  982,  892,  958, 1028,  974, 1009])"
     },
     "execution_count": 445,
     "metadata": {},
     "output_type": "execute_result"
    }
   ],
   "source": [
    "uniques,counts = train_y.unique(return_counts=True)\n",
    "counts"
   ],
   "metadata": {
    "collapsed": false,
    "ExecuteTime": {
     "end_time": "2023-09-23T18:25:49.750202700Z",
     "start_time": "2023-09-23T18:25:49.529098100Z"
    }
   }
  },
  {
   "cell_type": "markdown",
   "source": [
    "# Normalizing Dataset"
   ],
   "metadata": {
    "collapsed": false
   }
  },
  {
   "cell_type": "code",
   "execution_count": 446,
   "outputs": [],
   "source": [
    "train_X = train_X / torch.max(train_X)"
   ],
   "metadata": {
    "collapsed": false,
    "ExecuteTime": {
     "end_time": "2023-09-23T18:25:49.751703900Z",
     "start_time": "2023-09-23T18:25:49.536231900Z"
    }
   }
  },
  {
   "cell_type": "markdown",
   "source": [
    "# Datasets"
   ],
   "metadata": {
    "collapsed": false
   }
  },
  {
   "cell_type": "code",
   "execution_count": 447,
   "outputs": [],
   "source": [
    "X_train, X_test, y_train, y_test = train_test_split(train_X,train_y, train_size=.8)"
   ],
   "metadata": {
    "collapsed": false,
    "ExecuteTime": {
     "end_time": "2023-09-23T18:25:49.753235300Z",
     "start_time": "2023-09-23T18:25:49.550406800Z"
    }
   }
  },
  {
   "cell_type": "markdown",
   "source": [
    "## Fixing imbalance data"
   ],
   "metadata": {
    "collapsed": false
   }
  },
  {
   "cell_type": "code",
   "execution_count": 448,
   "outputs": [],
   "source": [
    "from torch.utils.data import WeightedRandomSampler\n",
    "\n",
    "# Get classes count\n",
    "class_counts  = torch.bincount(y_train).float()\n",
    "class_weights = 1. / class_counts\n",
    "weights = class_weights[y_train]\n",
    "\n",
    "# Sampler\n",
    "sampler = WeightedRandomSampler(weights=weights,num_samples=len(weights),replacement=True)\n",
    "\n",
    "# DataSet\n",
    "train_dataset = TensorDataset(X_train,y_train)\n",
    "test_dataset = TensorDataset(X_test,y_test)\n",
    "\n",
    "# Train and Test batches\n",
    "train_loader = DataLoader(train_dataset, batch_size=128, drop_last=True)\n",
    "test_loader = DataLoader(test_dataset, batch_size=len(test_dataset), shuffle=False)"
   ],
   "metadata": {
    "collapsed": false,
    "ExecuteTime": {
     "end_time": "2023-09-23T18:25:49.753235300Z",
     "start_time": "2023-09-23T18:25:49.561921300Z"
    }
   }
  },
  {
   "cell_type": "code",
   "execution_count": 449,
   "outputs": [
    {
     "name": "stdout",
     "output_type": "stream",
     "text": [
      "========= DataLoader =========\n",
      "Training DataLoader = Elements per batch 128, Batches = 62\n",
      "Testing DataLoader = Elements per batch 2000, Batches = 1\n"
     ]
    }
   ],
   "source": [
    "print('========= DataLoader =========')\n",
    "print(f'Training DataLoader = Elements per batch {train_loader.batch_size}, Batches = {len(train_loader)}')\n",
    "print(f'Testing DataLoader = Elements per batch {test_loader.batch_size}, Batches = {len(test_loader)}')"
   ],
   "metadata": {
    "collapsed": false,
    "ExecuteTime": {
     "end_time": "2023-09-23T18:25:49.763334500Z",
     "start_time": "2023-09-23T18:25:49.567504800Z"
    }
   }
  },
  {
   "cell_type": "markdown",
   "source": [
    "# Fixing Balancing Batches"
   ],
   "metadata": {
    "collapsed": false
   }
  },
  {
   "cell_type": "code",
   "execution_count": 450,
   "outputs": [
    {
     "name": "stdout",
     "output_type": "stream",
     "text": [
      "[20 20 20 20 20 20 20 20 20 20]\n",
      "[17 17 17 17 17 17 17 17 17 17]\n",
      "[18 18 18 18 18 18 18 18 18 18]\n",
      "[18 18 18 18 18 18 18 18 18 18]\n",
      "[19 19 19 19 19 19 19 19 19 19]\n",
      "[16 16 16 16 16 16 16 16 16 16]\n",
      "[16 16 16 16 16 16 16 16 16 16]\n",
      "[20 20 20 20 20 20 20 20 20 20]\n",
      "[21 21 21 21 21 21 21 21 21 21]\n",
      "[20 20 20 20 20 20 20 20 20 20]\n",
      "[18 18 18 18 18 18 18 18 18 18]\n",
      "[17 17 17 17 17 17 17 17 17 17]\n",
      "[16 16 16 16 16 16 16 16 16 16]\n",
      "[16 16 16 16 16 16 16 16 16 16]\n",
      "[18 18 18 18 18 18 18 18 18 18]\n",
      "[17 17 17 17 17 17 17 17 17 17]\n",
      "[17 17 17 17 17 17 17 17 17 17]\n",
      "[17 17 17 17 17 17 17 17 17 17]\n",
      "[18 18 18 18 18 18 18 18 18 18]\n",
      "[18 18 18 18 18 18 18 18 18 18]\n",
      "[17 17 17 17 17 17 17 17 17 17]\n",
      "[18 18 18 18 18 18 18 18 18 18]\n",
      "[17 17 17 17 17 17 17 17 17 17]\n",
      "[21 21 21 21 21 21 21 21 21 21]\n",
      "[19 19 19 19 19 19 19 19 19 19]\n",
      "[22 22 22 22 22 22 22 22 22 22]\n",
      "[17 17 17 17 17 17 17 17 17 17]\n",
      "[19 19 19 19 19 19 19 19 19 19]\n",
      "[17 17 17 17 17 17 17 17 17 17]\n",
      "[21 21 21 21 21 21 21 21 21 21]\n",
      "[19 19 19 19 19 19 19 19 19 19]\n",
      "[19 19 19 19 19 19 19 19 19 19]\n",
      "[17 17 17 17 17 17 17 17 17 17]\n",
      "[22 22 22 22 22 22 22 22 22 22]\n",
      "[18 18 18 18 18 18 18 18 18 18]\n",
      "[21 21 21 21 21 21 21 21 21 21]\n",
      "[22 22 22 22 22 22 22 22 22 22]\n",
      "[19 19 19 19 19 19 19 19 19 19]\n",
      "[20 20 20 20 20 20 20 20 20 20]\n",
      "[18 18 18 18 18 18 18 18 18 18]\n",
      "[18 18 18 18 18 18 18 18 18 18]\n",
      "[18 18 18 18 18 18 18 18 18 18]\n",
      "[17 17 17 17 17 17 17 17 17 17]\n",
      "[19 19 19 19 19 19 19 19 19 19]\n",
      "[16 16 16 16 16 16 16 16 16 16]\n",
      "[18 18 18 18 18 18 18 18 18 18]\n",
      "[21 21 21 21 21 21 21 21 21 21]\n",
      "[20 20 20 20 20 20 20 20 20 20]\n",
      "[18 18 18 18 18 18 18 18 18 18]\n",
      "[20 20 20 20 20 20 20 20 20 20]\n",
      "[18 18 18 18 18 18 18 18 18 18]\n",
      "[17 17 17 17 17 17 17 17 17 17]\n",
      "[20 20 20 20 20 20 20 20 20 20]\n",
      "[19 19 19 19 19 19 19 19 19 19]\n",
      "[19 19 19 19 19 19 19 19 19 19]\n",
      "[18 18 18 18 18 18 18 18 18 18]\n",
      "[18 18 18 18 18 18 18 18 18 18]\n",
      "[21 21 21 21 21 21 21 21 21 21]\n",
      "[17 17 17 17 17 17 17 17 17 17]\n",
      "[19 19 19 19 19 19 19 19 19 19]\n",
      "[20 20 20 20 20 20 20 20 20 20]\n",
      "[17 17 17 17 17 17 17 17 17 17]\n"
     ]
    }
   ],
   "source": [
    "from imblearn.over_sampling import RandomOverSampler\n",
    "\n",
    "balanced_batches = []\n",
    "sampler = RandomOverSampler()\n",
    "\n",
    "for idx,(data,label) in enumerate(train_loader):\n",
    "\n",
    "    # Convert images from shape [64,1,28,28] to [64,784]. and flatten targets\n",
    "    feature = data.view(data.size(0), -1)\n",
    "    target  = label.flatten()\n",
    "\n",
    "    feature_oversample, target_oversample = sampler.fit_resample(feature, target)\n",
    "\n",
    "    print(np.bincount(target_oversample))\n",
    "    balanced_batches.append(( torch.tensor(feature_oversample).float(), torch.tensor(target_oversample) ))"
   ],
   "metadata": {
    "collapsed": false,
    "ExecuteTime": {
     "end_time": "2023-09-23T18:25:49.782755900Z",
     "start_time": "2023-09-23T18:25:49.572476900Z"
    }
   }
  },
  {
   "cell_type": "markdown",
   "source": [
    "# Model"
   ],
   "metadata": {
    "collapsed": false
   }
  },
  {
   "cell_type": "code",
   "execution_count": 451,
   "outputs": [],
   "source": [
    "input_sz  = X_train[0].flatten().shape[0]\n",
    "output_sz = 10"
   ],
   "metadata": {
    "collapsed": false,
    "ExecuteTime": {
     "end_time": "2023-09-23T18:25:49.782755900Z",
     "start_time": "2023-09-23T18:25:49.729909500Z"
    }
   }
  },
  {
   "cell_type": "code",
   "execution_count": 452,
   "outputs": [],
   "source": [
    "model = nn.Sequential(\n",
    "    # Input\n",
    "    nn.Linear(in_features=input_sz, out_features=128), # Input Gray scaled image\n",
    "    nn.Tanh(),\n",
    "\n",
    "    # Hidden Layers\n",
    "    nn.Linear(in_features=128, out_features=128),\n",
    "    nn.Tanh(),\n",
    "    nn.Linear(in_features=128, out_features=128),\n",
    "    nn.Tanh(),\n",
    "    nn.Linear(in_features=128, out_features=128),\n",
    "    nn.Tanh(),\n",
    "\n",
    "    # Output\n",
    "    nn.Linear(in_features=128, out_features=output_sz),\n",
    "    nn.LogSoftmax(dim=1) # IMPORTANT: We must use NLLoss with Log softmax\n",
    ")\n",
    "\n",
    "criterion = nn.NLLLoss()\n",
    "optimizer = torch.optim.Adam(model.parameters(), lr= .001, )\n",
    "lr_sched  = torch.optim.lr_scheduler.StepLR(optimizer, gamma=0.9 ,step_size=5)\n",
    "\n",
    "es = EarlyStopping(patience=50)"
   ],
   "metadata": {
    "collapsed": false,
    "ExecuteTime": {
     "end_time": "2023-09-23T18:25:49.782755900Z",
     "start_time": "2023-09-23T18:25:49.734951400Z"
    }
   }
  },
  {
   "cell_type": "markdown",
   "source": [
    "## Training"
   ],
   "metadata": {
    "collapsed": false
   }
  },
  {
   "cell_type": "code",
   "execution_count": 453,
   "outputs": [],
   "source": [
    "train_loss_hist = []\n",
    "valid_loss_hist  = []\n",
    "train_accuracy_hist  = []\n",
    "valid_accuracy_hist  = []"
   ],
   "metadata": {
    "collapsed": false,
    "ExecuteTime": {
     "end_time": "2023-09-23T18:25:49.782755900Z",
     "start_time": "2023-09-23T18:25:49.742835600Z"
    }
   }
  },
  {
   "cell_type": "code",
   "execution_count": 454,
   "outputs": [
    {
     "name": "stdout",
     "output_type": "stream",
     "text": [
      "Epoch 1-Learning:\t Training Loss 0.9663544470264066 \t Training Accuracy 75.35607573245802, Training Loss 0.46317726373672485 \t Training Accuracy 85.9000015258789\n",
      "Epoch 2-Learning:\t Training Loss 0.38757685235431116 \t Training Accuracy 88.61322460636016, Training Loss 0.3377162516117096 \t Training Accuracy 89.60000610351562\n",
      "Epoch 3-Learning:\t Training Loss 0.28213606870943503 \t Training Accuracy 91.81317946603221, Training Loss 0.28219687938690186 \t Training Accuracy 91.0999984741211\n",
      "Epoch 4-Learning:\t Training Loss 0.22063004898448144 \t Training Accuracy 93.72320319375685, Training Loss 0.2500653862953186 \t Training Accuracy 92.0999984741211\n",
      "Epoch 5-Learning:\t Training Loss 0.17665122641671088 \t Training Accuracy 95.07669498843532, Training Loss 0.23776936531066895 \t Training Accuracy 92.69999694824219\n",
      "Epoch 6-Waiting.:\t Training Loss 0.1462021864229633 \t Training Accuracy 95.91518313654008, Training Loss 0.23979757726192474 \t Training Accuracy 92.29999542236328\n",
      "Epoch 7-Waiting.:\t Training Loss 0.12273270865121196 \t Training Accuracy 96.58613868298069, Training Loss 0.24160175025463104 \t Training Accuracy 92.54999542236328\n",
      "Epoch 8-Learning:\t Training Loss 0.10760746794121881 \t Training Accuracy 97.20482778164649, Training Loss 0.22806663811206818 \t Training Accuracy 93.30000305175781\n",
      "Epoch 9-Waiting.:\t Training Loss 0.09735795999726941 \t Training Accuracy 97.21448594524014, Training Loss 0.24414445459842682 \t Training Accuracy 93.25\n",
      "Epoch 10-Waiting.:\t Training Loss 0.08221954615005563 \t Training Accuracy 97.80507674140316, Training Loss 0.26431727409362793 \t Training Accuracy 92.8499984741211\n",
      "Epoch 11-Learning:\t Training Loss 0.06950943045798809 \t Training Accuracy 97.98862626475673, Training Loss 0.21351121366024017 \t Training Accuracy 94.19999694824219\n",
      "Epoch 12-Waiting.:\t Training Loss 0.06861480160225783 \t Training Accuracy 98.18821789756898, Training Loss 0.25237196683883667 \t Training Accuracy 92.79999542236328\n",
      "Epoch 13-Learning:\t Training Loss 0.06787167126012425 \t Training Accuracy 98.16825976294857, Training Loss 0.21169106662273407 \t Training Accuracy 94.1500015258789\n",
      "Epoch 14-Waiting.:\t Training Loss 0.04328879315946852 \t Training Accuracy 98.87965484972923, Training Loss 0.22800779342651367 \t Training Accuracy 93.80000305175781\n",
      "Epoch 15-Waiting.:\t Training Loss 0.033617342476763075 \t Training Accuracy 99.20433615484545, Training Loss 0.2197907269001007 \t Training Accuracy 94.4000015258789\n",
      "Epoch 16-Learning:\t Training Loss 0.027999021871496114 \t Training Accuracy 99.34869139425216, Training Loss 0.2034280151128769 \t Training Accuracy 95.0\n",
      "Epoch 17-Learning:\t Training Loss 0.023358872363103494 \t Training Accuracy 99.52204362038643, Training Loss 0.19745860993862152 \t Training Accuracy 94.70000457763672\n",
      "Epoch 18-Waiting.:\t Training Loss 0.019594740118801354 \t Training Accuracy 99.61986541748047, Training Loss 0.20244868099689484 \t Training Accuracy 94.95000457763672\n",
      "Epoch 19-Waiting.:\t Training Loss 0.018806604364316068 \t Training Accuracy 99.58544613853577, Training Loss 0.1985129863023758 \t Training Accuracy 95.25\n",
      "Epoch 20-Waiting.:\t Training Loss 0.014588148449547589 \t Training Accuracy 99.67033142043698, Training Loss 0.2036747932434082 \t Training Accuracy 94.80000305175781\n",
      "Epoch 21-Waiting.:\t Training Loss 0.012143694025824868 \t Training Accuracy 99.76148941824513, Training Loss 0.20537716150283813 \t Training Accuracy 95.0999984741211\n",
      "Epoch 22-Waiting.:\t Training Loss 0.0109049474722856 \t Training Accuracy 99.76465192533308, Training Loss 0.20499461889266968 \t Training Accuracy 94.80000305175781\n",
      "Epoch 23-Waiting.:\t Training Loss 0.008440374299102733 \t Training Accuracy 99.86405882143205, Training Loss 0.19797128438949585 \t Training Accuracy 95.3499984741211\n",
      "Epoch 24-Waiting.:\t Training Loss 0.007155440473598579 \t Training Accuracy 99.91003726759264, Training Loss 0.2032766193151474 \t Training Accuracy 95.1500015258789\n",
      "Epoch 25-Waiting.:\t Training Loss 0.0059177036746405065 \t Training Accuracy 99.94565383080513, Training Loss 0.2093149721622467 \t Training Accuracy 95.20000457763672\n",
      "Epoch 26-Waiting.:\t Training Loss 0.005208362419638903 \t Training Accuracy 99.95514154434204, Training Loss 0.210788294672966 \t Training Accuracy 95.0\n",
      "Epoch 27-Waiting.:\t Training Loss 0.004995726709884982 \t Training Accuracy 99.93019027094687, Training Loss 0.2132369577884674 \t Training Accuracy 94.9000015258789\n",
      "Epoch 28-Waiting.:\t Training Loss 0.004078369336052527 \t Training Accuracy 99.98155168948635, Training Loss 0.21290332078933716 \t Training Accuracy 95.05000305175781\n",
      "Epoch 29-Waiting.:\t Training Loss 0.003463265235393098 \t Training Accuracy 99.98155168948635, Training Loss 0.2033786028623581 \t Training Accuracy 95.4000015258789\n",
      "Epoch 30-Waiting.:\t Training Loss 0.0028103777374546496 \t Training Accuracy 99.98155168948635, Training Loss 0.2018355429172516 \t Training Accuracy 95.5\n",
      "Epoch 31-Waiting.:\t Training Loss 0.002398021634660601 \t Training Accuracy 99.98155168948635, Training Loss 0.20238426327705383 \t Training Accuracy 95.5\n",
      "Epoch 32-Waiting.:\t Training Loss 0.002111053424737146 \t Training Accuracy 99.99051228646309, Training Loss 0.2026042938232422 \t Training Accuracy 95.55000305175781\n",
      "Epoch 33-Waiting.:\t Training Loss 0.0019095007793962836 \t Training Accuracy 99.99051228646309, Training Loss 0.20301774144172668 \t Training Accuracy 95.55000305175781\n",
      "Epoch 34-Waiting.:\t Training Loss 0.0017426724502471306 \t Training Accuracy 99.99051228646309, Training Loss 0.20361950993537903 \t Training Accuracy 95.5999984741211\n",
      "Epoch 35-Waiting.:\t Training Loss 0.0015973439045821227 \t Training Accuracy 99.99051228646309, Training Loss 0.2043439745903015 \t Training Accuracy 95.55000305175781\n",
      "Epoch 36-Waiting.:\t Training Loss 0.0014713906594777419 \t Training Accuracy 100.0, Training Loss 0.20490504801273346 \t Training Accuracy 95.5\n",
      "Epoch 37-Waiting.:\t Training Loss 0.001371930711508368 \t Training Accuracy 100.0, Training Loss 0.20577087998390198 \t Training Accuracy 95.5\n",
      "Epoch 38-Waiting.:\t Training Loss 0.0012792943504586396 \t Training Accuracy 100.0, Training Loss 0.20670031011104584 \t Training Accuracy 95.55000305175781\n",
      "Epoch 39-Waiting.:\t Training Loss 0.0011954196722194132 \t Training Accuracy 100.0, Training Loss 0.20766693353652954 \t Training Accuracy 95.5999984741211\n",
      "Epoch 40-Waiting.:\t Training Loss 0.0011189803391912832 \t Training Accuracy 100.0, Training Loss 0.2086571604013443 \t Training Accuracy 95.55000305175781\n",
      "Epoch 41-Waiting.:\t Training Loss 0.0010500487847058403 \t Training Accuracy 100.0, Training Loss 0.20953577756881714 \t Training Accuracy 95.5\n",
      "Epoch 42-Waiting.:\t Training Loss 0.0009929556587350466 \t Training Accuracy 100.0, Training Loss 0.21047265827655792 \t Training Accuracy 95.5\n",
      "Epoch 43-Waiting.:\t Training Loss 0.0009381099526147027 \t Training Accuracy 100.0, Training Loss 0.2114277333021164 \t Training Accuracy 95.5\n",
      "Epoch 44-Waiting.:\t Training Loss 0.0008871896364237933 \t Training Accuracy 100.0, Training Loss 0.21238206326961517 \t Training Accuracy 95.45000457763672\n",
      "Epoch 45-Waiting.:\t Training Loss 0.0008398111869258085 \t Training Accuracy 100.0, Training Loss 0.21333357691764832 \t Training Accuracy 95.5\n",
      "Epoch 46-Waiting.:\t Training Loss 0.000796065863405895 \t Training Accuracy 100.0, Training Loss 0.21425367891788483 \t Training Accuracy 95.5\n",
      "Epoch 47-Waiting.:\t Training Loss 0.0007588362378526419 \t Training Accuracy 100.0, Training Loss 0.21511608362197876 \t Training Accuracy 95.5\n",
      "Epoch 48-Waiting.:\t Training Loss 0.0007230889642678742 \t Training Accuracy 100.0, Training Loss 0.21598288416862488 \t Training Accuracy 95.5\n",
      "Epoch 49-Waiting.:\t Training Loss 0.0006894523455318244 \t Training Accuracy 100.0, Training Loss 0.21684257686138153 \t Training Accuracy 95.5\n",
      "Epoch 50-Waiting.:\t Training Loss 0.0006577656609043779 \t Training Accuracy 100.0, Training Loss 0.21769504249095917 \t Training Accuracy 95.45000457763672\n",
      "Epoch 51-Waiting.:\t Training Loss 0.000627782951567262 \t Training Accuracy 100.0, Training Loss 0.21856385469436646 \t Training Accuracy 95.45000457763672\n",
      "Epoch 52-Waiting.:\t Training Loss 0.0006020240703477494 \t Training Accuracy 100.0, Training Loss 0.21932221949100494 \t Training Accuracy 95.4000015258789\n",
      "Epoch 53-Waiting.:\t Training Loss 0.0005774447847450633 \t Training Accuracy 100.0, Training Loss 0.22007939219474792 \t Training Accuracy 95.45000457763672\n",
      "Epoch 54-Waiting.:\t Training Loss 0.0005540822856991942 \t Training Accuracy 100.0, Training Loss 0.2208324372768402 \t Training Accuracy 95.5\n",
      "Epoch 55-Waiting.:\t Training Loss 0.0005318326518810805 \t Training Accuracy 100.0, Training Loss 0.22158180177211761 \t Training Accuracy 95.55000305175781\n",
      "Epoch 56-Waiting.:\t Training Loss 0.0005103270788470493 \t Training Accuracy 100.0, Training Loss 0.22236450016498566 \t Training Accuracy 95.5\n",
      "Epoch 57-Waiting.:\t Training Loss 0.0004917970978684964 \t Training Accuracy 100.0, Training Loss 0.2230287790298462 \t Training Accuracy 95.5\n",
      "Epoch 58-Waiting.:\t Training Loss 0.0004741198356514947 \t Training Accuracy 100.0, Training Loss 0.22369374334812164 \t Training Accuracy 95.5\n",
      "Epoch 59-Waiting.:\t Training Loss 0.00045715357977784267 \t Training Accuracy 100.0, Training Loss 0.2243594527244568 \t Training Accuracy 95.5\n",
      "Epoch 60-Waiting.:\t Training Loss 0.0004408368481709922 \t Training Accuracy 100.0, Training Loss 0.22502584755420685 \t Training Accuracy 95.45000457763672\n",
      "Epoch 61-Waiting.:\t Training Loss 0.00042482061783835715 \t Training Accuracy 100.0, Training Loss 0.22572767734527588 \t Training Accuracy 95.45000457763672\n",
      "Epoch 62-Waiting.:\t Training Loss 0.0004109872245481388 \t Training Accuracy 100.0, Training Loss 0.22632046043872833 \t Training Accuracy 95.45000457763672\n",
      "Epoch 63-Waiting.:\t Training Loss 0.0003977396535769766 \t Training Accuracy 100.0, Training Loss 0.2269173115491867 \t Training Accuracy 95.45000457763672\n",
      "Epoch 64-Waiting.:\t Training Loss 0.0003849195502792305 \t Training Accuracy 100.0, Training Loss 0.2275179624557495 \t Training Accuracy 95.45000457763672\n",
      "Epoch 65-Waiting.:\t Training Loss 0.0003724977979154867 \t Training Accuracy 100.0, Training Loss 0.2281220704317093 \t Training Accuracy 95.45000457763672\n",
      "Epoch 66-Waiting.:\t Training Loss 0.00036017435171919305 \t Training Accuracy 100.0, Training Loss 0.22875827550888062 \t Training Accuracy 95.3499984741211\n"
     ]
    }
   ],
   "source": [
    "from sklearn.metrics import accuracy_score, confusion_matrix\n",
    "\n",
    "for epoch_i in range(500):\n",
    "    batch_acc  = []\n",
    "    batch_loss = []\n",
    "    model.train()\n",
    "\n",
    "    # Training batches\n",
    "    for idx, (data,label) in enumerate(balanced_batches):\n",
    "        # Flatten data\n",
    "        data_flatten = data\n",
    "\n",
    "        # Forward\n",
    "        yHat = model(data_flatten)\n",
    "\n",
    "        # Batch loss\n",
    "        loss = criterion(yHat,label)\n",
    "        batch_loss.append(loss.item())\n",
    "\n",
    "        # Accuracy\n",
    "        TP = (torch.argmax(yHat, axis=1) == label).float()\n",
    "        batch_acc.append( torch.mean( TP ).item() * 100 )\n",
    "\n",
    "        # Backward\n",
    "        optimizer.zero_grad()\n",
    "        loss.backward()\n",
    "        optimizer.step()\n",
    "    # End of batches\n",
    "\n",
    "    # Learning Rate scheduler\n",
    "    lr_sched.step()\n",
    "\n",
    "    # Training Loss and accuracy\n",
    "    train_loss_hist.append( np.mean(batch_loss) )\n",
    "    train_accuracy_hist.append( np.mean(batch_acc) )\n",
    "\n",
    "    # Testing Accuracy\n",
    "    model.eval()\n",
    "    _data, _label = next(iter(test_loader))\n",
    "    data_flatten = _data.view(len(_data) ,-1)\n",
    "    _yHat = model(data_flatten)\n",
    "    val_loss = criterion(_yHat,_label)\n",
    "\n",
    "    # Validation Loss and accuracy\n",
    "    TP = (torch.argmax(_yHat,axis=1) == _label).float()\n",
    "    valid_accuracy_hist.append( torch.mean(TP)*100 )\n",
    "    valid_loss_hist.append(val_loss.item())\n",
    "\n",
    "    if es(model,val_loss):\n",
    "        break\n",
    "\n",
    "    # Report\n",
    "    print(f'Epoch {epoch_i+1}-{es.status}:\\t Training Loss {train_loss_hist[-1]} \\t Training Accuracy {train_accuracy_hist[-1]}, Training Loss {valid_loss_hist[-1]} \\t Training Accuracy {valid_accuracy_hist[-1]}')"
   ],
   "metadata": {
    "collapsed": false,
    "ExecuteTime": {
     "end_time": "2023-09-23T18:26:10.366173300Z",
     "start_time": "2023-09-23T18:25:49.752708400Z"
    }
   }
  },
  {
   "cell_type": "markdown",
   "source": [
    "# results visualization"
   ],
   "metadata": {
    "collapsed": false
   }
  },
  {
   "cell_type": "code",
   "execution_count": 464,
   "outputs": [
    {
     "data": {
      "text/plain": "<Figure size 1500x500 with 2 Axes>",
      "image/svg+xml": "<?xml version=\"1.0\" encoding=\"utf-8\" standalone=\"no\"?>\n<!DOCTYPE svg PUBLIC \"-//W3C//DTD SVG 1.1//EN\"\n  \"http://www.w3.org/Graphics/SVG/1.1/DTD/svg11.dtd\">\n<svg xmlns:xlink=\"http://www.w3.org/1999/xlink\" width=\"1076.02625pt\" height=\"353.90625pt\" viewBox=\"0 0 1076.02625 353.90625\" xmlns=\"http://www.w3.org/2000/svg\" version=\"1.1\">\n <metadata>\n  <rdf:RDF xmlns:dc=\"http://purl.org/dc/elements/1.1/\" xmlns:cc=\"http://creativecommons.org/ns#\" xmlns:rdf=\"http://www.w3.org/1999/02/22-rdf-syntax-ns#\">\n   <cc:Work>\n    <dc:type rdf:resource=\"http://purl.org/dc/dcmitype/StillImage\"/>\n    <dc:date>2023-09-23T21:30:21.868167</dc:date>\n    <dc:format>image/svg+xml</dc:format>\n    <dc:creator>\n     <cc:Agent>\n      <dc:title>Matplotlib v3.7.1, https://matplotlib.org/</dc:title>\n     </cc:Agent>\n    </dc:creator>\n   </cc:Work>\n  </rdf:RDF>\n </metadata>\n <defs>\n  <style type=\"text/css\">*{stroke-linejoin: round; stroke-linecap: butt}</style>\n </defs>\n <g id=\"figure_1\">\n  <g id=\"patch_1\">\n   <path d=\"M 0 353.90625 \nL 1076.02625 353.90625 \nL 1076.02625 0 \nL 0 0 \nz\n\" style=\"fill: #ffffff\"/>\n  </g>\n  <g id=\"axes_1\">\n   <g id=\"patch_2\">\n    <path d=\"M 49.30625 140.315625 \nL 1068.82625 140.315625 \nL 1068.82625 21.935625 \nL 49.30625 21.935625 \nz\n\" style=\"fill: #ffffff\"/>\n   </g>\n   <g id=\"matplotlib.axis_1\">\n    <g id=\"xtick_1\">\n     <g id=\"text_1\">\n      <!-- 0 -->\n      <g style=\"fill: #262626\" transform=\"translate(92.867599 156.973438) scale(0.1 -0.1)\">\n       <defs>\n        <path id=\"ArialMT-30\" d=\"M 266 2259 \nQ 266 3072 433 3567 \nQ 600 4063 929 4331 \nQ 1259 4600 1759 4600 \nQ 2128 4600 2406 4451 \nQ 2684 4303 2865 4023 \nQ 3047 3744 3150 3342 \nQ 3253 2941 3253 2259 \nQ 3253 1453 3087 958 \nQ 2922 463 2592 192 \nQ 2263 -78 1759 -78 \nQ 1097 -78 719 397 \nQ 266 969 266 2259 \nz\nM 844 2259 \nQ 844 1131 1108 757 \nQ 1372 384 1759 384 \nQ 2147 384 2411 759 \nQ 2675 1134 2675 2259 \nQ 2675 3391 2411 3762 \nQ 2147 4134 1753 4134 \nQ 1366 4134 1134 3806 \nQ 844 3388 844 2259 \nz\n\" transform=\"scale(0.015625)\"/>\n       </defs>\n       <use xlink:href=\"#ArialMT-30\"/>\n      </g>\n     </g>\n    </g>\n    <g id=\"xtick_2\">\n     <g id=\"text_2\">\n      <!-- 10 -->\n      <g style=\"fill: #262626\" transform=\"translate(230.516883 156.973438) scale(0.1 -0.1)\">\n       <defs>\n        <path id=\"ArialMT-31\" d=\"M 2384 0 \nL 1822 0 \nL 1822 3584 \nQ 1619 3391 1289 3197 \nQ 959 3003 697 2906 \nL 697 3450 \nQ 1169 3672 1522 3987 \nQ 1875 4303 2022 4600 \nL 2384 4600 \nL 2384 0 \nz\n\" transform=\"scale(0.015625)\"/>\n       </defs>\n       <use xlink:href=\"#ArialMT-31\"/>\n       <use xlink:href=\"#ArialMT-30\" x=\"55.615234\"/>\n      </g>\n     </g>\n    </g>\n    <g id=\"xtick_3\">\n     <g id=\"text_3\">\n      <!-- 20 -->\n      <g style=\"fill: #262626\" transform=\"translate(370.946635 156.973438) scale(0.1 -0.1)\">\n       <defs>\n        <path id=\"ArialMT-32\" d=\"M 3222 541 \nL 3222 0 \nL 194 0 \nQ 188 203 259 391 \nQ 375 700 629 1000 \nQ 884 1300 1366 1694 \nQ 2113 2306 2375 2664 \nQ 2638 3022 2638 3341 \nQ 2638 3675 2398 3904 \nQ 2159 4134 1775 4134 \nQ 1369 4134 1125 3890 \nQ 881 3647 878 3216 \nL 300 3275 \nQ 359 3922 746 4261 \nQ 1134 4600 1788 4600 \nQ 2447 4600 2831 4234 \nQ 3216 3869 3216 3328 \nQ 3216 3053 3103 2787 \nQ 2991 2522 2730 2228 \nQ 2469 1934 1863 1422 \nQ 1356 997 1212 845 \nQ 1069 694 975 541 \nL 3222 541 \nz\n\" transform=\"scale(0.015625)\"/>\n       </defs>\n       <use xlink:href=\"#ArialMT-32\"/>\n       <use xlink:href=\"#ArialMT-30\" x=\"55.615234\"/>\n      </g>\n     </g>\n    </g>\n    <g id=\"xtick_4\">\n     <g id=\"text_4\">\n      <!-- 30 -->\n      <g style=\"fill: #262626\" transform=\"translate(511.376387 156.973438) scale(0.1 -0.1)\">\n       <defs>\n        <path id=\"ArialMT-33\" d=\"M 269 1209 \nL 831 1284 \nQ 928 806 1161 595 \nQ 1394 384 1728 384 \nQ 2125 384 2398 659 \nQ 2672 934 2672 1341 \nQ 2672 1728 2419 1979 \nQ 2166 2231 1775 2231 \nQ 1616 2231 1378 2169 \nL 1441 2663 \nQ 1497 2656 1531 2656 \nQ 1891 2656 2178 2843 \nQ 2466 3031 2466 3422 \nQ 2466 3731 2256 3934 \nQ 2047 4138 1716 4138 \nQ 1388 4138 1169 3931 \nQ 950 3725 888 3313 \nL 325 3413 \nQ 428 3978 793 4289 \nQ 1159 4600 1703 4600 \nQ 2078 4600 2393 4439 \nQ 2709 4278 2876 4000 \nQ 3044 3722 3044 3409 \nQ 3044 3113 2884 2869 \nQ 2725 2625 2413 2481 \nQ 2819 2388 3044 2092 \nQ 3269 1797 3269 1353 \nQ 3269 753 2831 336 \nQ 2394 -81 1725 -81 \nQ 1122 -81 723 278 \nQ 325 638 269 1209 \nz\n\" transform=\"scale(0.015625)\"/>\n       </defs>\n       <use xlink:href=\"#ArialMT-33\"/>\n       <use xlink:href=\"#ArialMT-30\" x=\"55.615234\"/>\n      </g>\n     </g>\n    </g>\n    <g id=\"xtick_5\">\n     <g id=\"text_5\">\n      <!-- 40 -->\n      <g style=\"fill: #262626\" transform=\"translate(651.806139 156.973438) scale(0.1 -0.1)\">\n       <defs>\n        <path id=\"ArialMT-34\" d=\"M 2069 0 \nL 2069 1097 \nL 81 1097 \nL 81 1613 \nL 2172 4581 \nL 2631 4581 \nL 2631 1613 \nL 3250 1613 \nL 3250 1097 \nL 2631 1097 \nL 2631 0 \nL 2069 0 \nz\nM 2069 1613 \nL 2069 3678 \nL 634 1613 \nL 2069 1613 \nz\n\" transform=\"scale(0.015625)\"/>\n       </defs>\n       <use xlink:href=\"#ArialMT-34\"/>\n       <use xlink:href=\"#ArialMT-30\" x=\"55.615234\"/>\n      </g>\n     </g>\n    </g>\n    <g id=\"xtick_6\">\n     <g id=\"text_6\">\n      <!-- 50 -->\n      <g style=\"fill: #262626\" transform=\"translate(792.235891 156.973438) scale(0.1 -0.1)\">\n       <defs>\n        <path id=\"ArialMT-35\" d=\"M 266 1200 \nL 856 1250 \nQ 922 819 1161 601 \nQ 1400 384 1738 384 \nQ 2144 384 2425 690 \nQ 2706 997 2706 1503 \nQ 2706 1984 2436 2262 \nQ 2166 2541 1728 2541 \nQ 1456 2541 1237 2417 \nQ 1019 2294 894 2097 \nL 366 2166 \nL 809 4519 \nL 3088 4519 \nL 3088 3981 \nL 1259 3981 \nL 1013 2750 \nQ 1425 3038 1878 3038 \nQ 2478 3038 2890 2622 \nQ 3303 2206 3303 1553 \nQ 3303 931 2941 478 \nQ 2500 -78 1738 -78 \nQ 1113 -78 717 272 \nQ 322 622 266 1200 \nz\n\" transform=\"scale(0.015625)\"/>\n       </defs>\n       <use xlink:href=\"#ArialMT-35\"/>\n       <use xlink:href=\"#ArialMT-30\" x=\"55.615234\"/>\n      </g>\n     </g>\n    </g>\n    <g id=\"xtick_7\">\n     <g id=\"text_7\">\n      <!-- 60 -->\n      <g style=\"fill: #262626\" transform=\"translate(932.665643 156.973438) scale(0.1 -0.1)\">\n       <defs>\n        <path id=\"ArialMT-36\" d=\"M 3184 3459 \nL 2625 3416 \nQ 2550 3747 2413 3897 \nQ 2184 4138 1850 4138 \nQ 1581 4138 1378 3988 \nQ 1113 3794 959 3422 \nQ 806 3050 800 2363 \nQ 1003 2672 1297 2822 \nQ 1591 2972 1913 2972 \nQ 2475 2972 2870 2558 \nQ 3266 2144 3266 1488 \nQ 3266 1056 3080 686 \nQ 2894 316 2569 119 \nQ 2244 -78 1831 -78 \nQ 1128 -78 684 439 \nQ 241 956 241 2144 \nQ 241 3472 731 4075 \nQ 1159 4600 1884 4600 \nQ 2425 4600 2770 4297 \nQ 3116 3994 3184 3459 \nz\nM 888 1484 \nQ 888 1194 1011 928 \nQ 1134 663 1356 523 \nQ 1578 384 1822 384 \nQ 2178 384 2434 671 \nQ 2691 959 2691 1453 \nQ 2691 1928 2437 2201 \nQ 2184 2475 1800 2475 \nQ 1419 2475 1153 2201 \nQ 888 1928 888 1484 \nz\n\" transform=\"scale(0.015625)\"/>\n       </defs>\n       <use xlink:href=\"#ArialMT-36\"/>\n       <use xlink:href=\"#ArialMT-30\" x=\"55.615234\"/>\n      </g>\n     </g>\n    </g>\n    <g id=\"text_8\">\n     <!-- Epochs -->\n     <g style=\"fill: #262626\" transform=\"translate(542.389688 170.11875) scale(0.1 -0.1)\">\n      <defs>\n       <path id=\"ArialMT-45\" d=\"M 506 0 \nL 506 4581 \nL 3819 4581 \nL 3819 4041 \nL 1113 4041 \nL 1113 2638 \nL 3647 2638 \nL 3647 2100 \nL 1113 2100 \nL 1113 541 \nL 3925 541 \nL 3925 0 \nL 506 0 \nz\n\" transform=\"scale(0.015625)\"/>\n       <path id=\"ArialMT-70\" d=\"M 422 -1272 \nL 422 3319 \nL 934 3319 \nL 934 2888 \nQ 1116 3141 1344 3267 \nQ 1572 3394 1897 3394 \nQ 2322 3394 2647 3175 \nQ 2972 2956 3137 2557 \nQ 3303 2159 3303 1684 \nQ 3303 1175 3120 767 \nQ 2938 359 2589 142 \nQ 2241 -75 1856 -75 \nQ 1575 -75 1351 44 \nQ 1128 163 984 344 \nL 984 -1272 \nL 422 -1272 \nz\nM 931 1641 \nQ 931 1000 1190 694 \nQ 1450 388 1819 388 \nQ 2194 388 2461 705 \nQ 2728 1022 2728 1688 \nQ 2728 2322 2467 2637 \nQ 2206 2953 1844 2953 \nQ 1484 2953 1207 2617 \nQ 931 2281 931 1641 \nz\n\" transform=\"scale(0.015625)\"/>\n       <path id=\"ArialMT-6f\" d=\"M 213 1659 \nQ 213 2581 725 3025 \nQ 1153 3394 1769 3394 \nQ 2453 3394 2887 2945 \nQ 3322 2497 3322 1706 \nQ 3322 1066 3130 698 \nQ 2938 331 2570 128 \nQ 2203 -75 1769 -75 \nQ 1072 -75 642 372 \nQ 213 819 213 1659 \nz\nM 791 1659 \nQ 791 1022 1069 705 \nQ 1347 388 1769 388 \nQ 2188 388 2466 706 \nQ 2744 1025 2744 1678 \nQ 2744 2294 2464 2611 \nQ 2184 2928 1769 2928 \nQ 1347 2928 1069 2612 \nQ 791 2297 791 1659 \nz\n\" transform=\"scale(0.015625)\"/>\n       <path id=\"ArialMT-63\" d=\"M 2588 1216 \nL 3141 1144 \nQ 3050 572 2676 248 \nQ 2303 -75 1759 -75 \nQ 1078 -75 664 370 \nQ 250 816 250 1647 \nQ 250 2184 428 2587 \nQ 606 2991 970 3192 \nQ 1334 3394 1763 3394 \nQ 2303 3394 2647 3120 \nQ 2991 2847 3088 2344 \nL 2541 2259 \nQ 2463 2594 2264 2762 \nQ 2066 2931 1784 2931 \nQ 1359 2931 1093 2626 \nQ 828 2322 828 1663 \nQ 828 994 1084 691 \nQ 1341 388 1753 388 \nQ 2084 388 2306 591 \nQ 2528 794 2588 1216 \nz\n\" transform=\"scale(0.015625)\"/>\n       <path id=\"ArialMT-68\" d=\"M 422 0 \nL 422 4581 \nL 984 4581 \nL 984 2938 \nQ 1378 3394 1978 3394 \nQ 2347 3394 2619 3248 \nQ 2891 3103 3008 2847 \nQ 3125 2591 3125 2103 \nL 3125 0 \nL 2563 0 \nL 2563 2103 \nQ 2563 2525 2380 2717 \nQ 2197 2909 1863 2909 \nQ 1613 2909 1392 2779 \nQ 1172 2650 1078 2428 \nQ 984 2206 984 1816 \nL 984 0 \nL 422 0 \nz\n\" transform=\"scale(0.015625)\"/>\n       <path id=\"ArialMT-73\" d=\"M 197 991 \nL 753 1078 \nQ 800 744 1014 566 \nQ 1228 388 1613 388 \nQ 2000 388 2187 545 \nQ 2375 703 2375 916 \nQ 2375 1106 2209 1216 \nQ 2094 1291 1634 1406 \nQ 1016 1563 777 1677 \nQ 538 1791 414 1992 \nQ 291 2194 291 2438 \nQ 291 2659 392 2848 \nQ 494 3038 669 3163 \nQ 800 3259 1026 3326 \nQ 1253 3394 1513 3394 \nQ 1903 3394 2198 3281 \nQ 2494 3169 2634 2976 \nQ 2775 2784 2828 2463 \nL 2278 2388 \nQ 2241 2644 2061 2787 \nQ 1881 2931 1553 2931 \nQ 1166 2931 1000 2803 \nQ 834 2675 834 2503 \nQ 834 2394 903 2306 \nQ 972 2216 1119 2156 \nQ 1203 2125 1616 2013 \nQ 2213 1853 2448 1751 \nQ 2684 1650 2818 1456 \nQ 2953 1263 2953 975 \nQ 2953 694 2789 445 \nQ 2625 197 2315 61 \nQ 2006 -75 1616 -75 \nQ 969 -75 630 194 \nQ 291 463 197 991 \nz\n\" transform=\"scale(0.015625)\"/>\n      </defs>\n      <use xlink:href=\"#ArialMT-45\"/>\n      <use xlink:href=\"#ArialMT-70\" x=\"66.699219\"/>\n      <use xlink:href=\"#ArialMT-6f\" x=\"122.314453\"/>\n      <use xlink:href=\"#ArialMT-63\" x=\"177.929688\"/>\n      <use xlink:href=\"#ArialMT-68\" x=\"227.929688\"/>\n      <use xlink:href=\"#ArialMT-73\" x=\"283.544922\"/>\n     </g>\n    </g>\n   </g>\n   <g id=\"matplotlib.axis_2\">\n    <g id=\"ytick_1\">\n     <g id=\"text_9\">\n      <!-- 0.00 -->\n      <g style=\"fill: #262626\" transform=\"translate(20.345313 138.552559) scale(0.1 -0.1)\">\n       <defs>\n        <path id=\"ArialMT-2e\" d=\"M 581 0 \nL 581 641 \nL 1222 641 \nL 1222 0 \nL 581 0 \nz\n\" transform=\"scale(0.015625)\"/>\n       </defs>\n       <use xlink:href=\"#ArialMT-30\"/>\n       <use xlink:href=\"#ArialMT-2e\" x=\"55.615234\"/>\n       <use xlink:href=\"#ArialMT-30\" x=\"83.398438\"/>\n       <use xlink:href=\"#ArialMT-30\" x=\"139.013672\"/>\n      </g>\n     </g>\n    </g>\n    <g id=\"ytick_2\">\n     <g id=\"text_10\">\n      <!-- 0.25 -->\n      <g style=\"fill: #262626\" transform=\"translate(20.345313 110.701205) scale(0.1 -0.1)\">\n       <use xlink:href=\"#ArialMT-30\"/>\n       <use xlink:href=\"#ArialMT-2e\" x=\"55.615234\"/>\n       <use xlink:href=\"#ArialMT-32\" x=\"83.398438\"/>\n       <use xlink:href=\"#ArialMT-35\" x=\"139.013672\"/>\n      </g>\n     </g>\n    </g>\n    <g id=\"ytick_3\">\n     <g id=\"text_11\">\n      <!-- 0.50 -->\n      <g style=\"fill: #262626\" transform=\"translate(20.345313 82.849851) scale(0.1 -0.1)\">\n       <use xlink:href=\"#ArialMT-30\"/>\n       <use xlink:href=\"#ArialMT-2e\" x=\"55.615234\"/>\n       <use xlink:href=\"#ArialMT-35\" x=\"83.398438\"/>\n       <use xlink:href=\"#ArialMT-30\" x=\"139.013672\"/>\n      </g>\n     </g>\n    </g>\n    <g id=\"ytick_4\">\n     <g id=\"text_12\">\n      <!-- 0.75 -->\n      <g style=\"fill: #262626\" transform=\"translate(20.345313 54.998497) scale(0.1 -0.1)\">\n       <defs>\n        <path id=\"ArialMT-37\" d=\"M 303 3981 \nL 303 4522 \nL 3269 4522 \nL 3269 4084 \nQ 2831 3619 2401 2847 \nQ 1972 2075 1738 1259 \nQ 1569 684 1522 0 \nL 944 0 \nQ 953 541 1156 1306 \nQ 1359 2072 1739 2783 \nQ 2119 3494 2547 3981 \nL 303 3981 \nz\n\" transform=\"scale(0.015625)\"/>\n       </defs>\n       <use xlink:href=\"#ArialMT-30\"/>\n       <use xlink:href=\"#ArialMT-2e\" x=\"55.615234\"/>\n       <use xlink:href=\"#ArialMT-37\" x=\"83.398438\"/>\n       <use xlink:href=\"#ArialMT-35\" x=\"139.013672\"/>\n      </g>\n     </g>\n    </g>\n    <g id=\"ytick_5\">\n     <g id=\"text_13\">\n      <!-- 1.00 -->\n      <g style=\"fill: #262626\" transform=\"translate(20.345313 27.147144) scale(0.1 -0.1)\">\n       <use xlink:href=\"#ArialMT-31\"/>\n       <use xlink:href=\"#ArialMT-2e\" x=\"55.615234\"/>\n       <use xlink:href=\"#ArialMT-30\" x=\"83.398438\"/>\n       <use xlink:href=\"#ArialMT-30\" x=\"139.013672\"/>\n      </g>\n     </g>\n    </g>\n    <g id=\"text_14\">\n     <!-- Loss/Error -->\n     <g style=\"fill: #262626\" transform=\"translate(14.357813 104.185781) rotate(-90) scale(0.1 -0.1)\">\n      <defs>\n       <path id=\"ArialMT-4c\" d=\"M 469 0 \nL 469 4581 \nL 1075 4581 \nL 1075 541 \nL 3331 541 \nL 3331 0 \nL 469 0 \nz\n\" transform=\"scale(0.015625)\"/>\n       <path id=\"ArialMT-2f\" d=\"M 0 -78 \nL 1328 4659 \nL 1778 4659 \nL 453 -78 \nL 0 -78 \nz\n\" transform=\"scale(0.015625)\"/>\n       <path id=\"ArialMT-72\" d=\"M 416 0 \nL 416 3319 \nL 922 3319 \nL 922 2816 \nQ 1116 3169 1280 3281 \nQ 1444 3394 1641 3394 \nQ 1925 3394 2219 3213 \nL 2025 2691 \nQ 1819 2813 1613 2813 \nQ 1428 2813 1281 2702 \nQ 1134 2591 1072 2394 \nQ 978 2094 978 1738 \nL 978 0 \nL 416 0 \nz\n\" transform=\"scale(0.015625)\"/>\n      </defs>\n      <use xlink:href=\"#ArialMT-4c\"/>\n      <use xlink:href=\"#ArialMT-6f\" x=\"55.615234\"/>\n      <use xlink:href=\"#ArialMT-73\" x=\"111.230469\"/>\n      <use xlink:href=\"#ArialMT-73\" x=\"161.230469\"/>\n      <use xlink:href=\"#ArialMT-2f\" x=\"211.230469\"/>\n      <use xlink:href=\"#ArialMT-45\" x=\"239.013672\"/>\n      <use xlink:href=\"#ArialMT-72\" x=\"305.712891\"/>\n      <use xlink:href=\"#ArialMT-72\" x=\"339.013672\"/>\n      <use xlink:href=\"#ArialMT-6f\" x=\"372.314453\"/>\n      <use xlink:href=\"#ArialMT-72\" x=\"427.929688\"/>\n     </g>\n    </g>\n   </g>\n   <g id=\"line2d_1\">\n    <path d=\"M 95.648068 27.316534 \nL 109.691043 91.795493 \nL 123.734019 103.542167 \nL 137.776994 110.394271 \nL 151.819969 115.29375 \nL 165.862944 118.685938 \nL 179.905919 121.300565 \nL 193.948895 122.985598 \nL 207.99187 124.127449 \nL 222.034845 125.81395 \nL 236.07782 127.229926 \nL 250.120795 127.329593 \nL 264.163771 127.412381 \nL 278.206746 130.151047 \nL 292.249721 131.228499 \nL 306.292696 131.85441 \nL 320.335671 132.371348 \nL 334.378647 132.790693 \nL 348.421622 132.878495 \nL 362.464597 133.348454 \nL 376.507572 133.62078 \nL 390.550548 133.758783 \nL 404.593523 134.03335 \nL 418.636498 134.176498 \nL 432.679473 134.314389 \nL 446.722448 134.393413 \nL 460.765424 134.417102 \nL 474.808399 134.519301 \nL 488.851374 134.587827 \nL 502.894349 134.660562 \nL 516.937324 134.7065 \nL 530.9803 134.73847 \nL 545.023275 134.760924 \nL 559.06625 134.77951 \nL 573.109225 134.7957 \nL 587.1522 134.809732 \nL 601.195176 134.820813 \nL 615.238151 134.831133 \nL 629.281126 134.840477 \nL 643.324101 134.848993 \nL 657.367076 134.856672 \nL 671.410052 134.863032 \nL 685.453027 134.869143 \nL 699.496002 134.874815 \nL 713.538977 134.880094 \nL 727.581952 134.884967 \nL 741.624928 134.889115 \nL 755.667903 134.893097 \nL 769.710878 134.896844 \nL 783.753853 134.900374 \nL 797.796829 134.903715 \nL 811.839804 134.906584 \nL 825.882779 134.909323 \nL 839.925754 134.911925 \nL 853.968729 134.914404 \nL 868.011705 134.9168 \nL 882.05468 134.918864 \nL 896.097655 134.920834 \nL 910.14063 134.922724 \nL 924.183605 134.924541 \nL 938.226581 134.926326 \nL 952.269556 134.927867 \nL 966.312531 134.929343 \nL 980.355506 134.930771 \nL 994.398481 134.932155 \nL 1008.441457 134.933528 \nL 1022.484432 134.934716 \n\" clip-path=\"url(#pb6fa23621e)\" style=\"fill: none; stroke: #ff0000; stroke-width: 1.5; stroke-linecap: round\"/>\n   </g>\n   <g id=\"line2d_2\">\n    <path d=\"M 95.648068 83.373197 \nL 109.691043 97.350234 \nL 123.734019 103.535392 \nL 137.776994 107.115015 \nL 151.819969 108.484858 \nL 165.862944 108.258904 \nL 179.905919 108.05791 \nL 193.948895 109.565794 \nL 207.99187 107.774639 \nL 222.034845 105.527277 \nL 236.07782 111.187348 \nL 250.120795 106.858049 \nL 264.163771 111.390122 \nL 278.206746 109.57235 \nL 292.249721 110.487776 \nL 306.292696 112.31067 \nL 320.335671 112.975695 \nL 334.378647 112.419774 \nL 348.421622 112.858231 \nL 362.464597 112.283178 \nL 376.507572 112.093525 \nL 390.550548 112.136142 \nL 404.593523 112.91858 \nL 418.636498 112.327537 \nL 432.679473 111.654832 \nL 446.722448 111.490695 \nL 460.765424 111.217901 \nL 474.808399 111.25507 \nL 488.851374 112.316175 \nL 502.894349 112.48808 \nL 516.937324 112.42695 \nL 530.9803 112.402437 \nL 545.023275 112.356377 \nL 559.06625 112.289337 \nL 573.109225 112.208628 \nL 587.1522 112.146121 \nL 601.195176 112.049663 \nL 615.238151 111.946119 \nL 629.281126 111.838432 \nL 643.324101 111.728115 \nL 657.367076 111.630233 \nL 671.410052 111.525859 \nL 685.453027 111.419459 \nL 699.496002 111.313141 \nL 713.538977 111.207137 \nL 727.581952 111.104633 \nL 741.624928 111.008556 \nL 755.667903 110.91199 \nL 769.710878 110.816216 \nL 783.753853 110.721246 \nL 797.796829 110.624456 \nL 811.839804 110.53997 \nL 825.882779 110.455617 \nL 839.925754 110.371724 \nL 853.968729 110.28824 \nL 868.011705 110.201043 \nL 882.05468 110.127039 \nL 896.097655 110.052959 \nL 910.14063 109.978795 \nL 924.183605 109.904555 \nL 938.226581 109.826367 \nL 952.269556 109.760328 \nL 966.312531 109.693836 \nL 980.355506 109.62692 \nL 994.398481 109.559619 \nL 1008.441457 109.488742 \nL 1022.484432 109.428623 \n\" clip-path=\"url(#pb6fa23621e)\" style=\"fill: none; stroke: #008000; stroke-width: 1.5; stroke-linecap: round\"/>\n   </g>\n   <g id=\"patch_3\">\n    <path d=\"M 49.30625 140.315625 \nL 49.30625 21.935625 \n\" style=\"fill: none; stroke: #262626; stroke-width: 1.25; stroke-linejoin: miter; stroke-linecap: square\"/>\n   </g>\n   <g id=\"patch_4\">\n    <path d=\"M 1068.82625 140.315625 \nL 1068.82625 21.935625 \n\" style=\"fill: none; stroke: #262626; stroke-width: 1.25; stroke-linejoin: miter; stroke-linecap: square\"/>\n   </g>\n   <g id=\"patch_5\">\n    <path d=\"M 49.30625 140.315625 \nL 1068.82625 140.315625 \n\" style=\"fill: none; stroke: #262626; stroke-width: 1.25; stroke-linejoin: miter; stroke-linecap: square\"/>\n   </g>\n   <g id=\"patch_6\">\n    <path d=\"M 49.30625 21.935625 \nL 1068.82625 21.935625 \n\" style=\"fill: none; stroke: #262626; stroke-width: 1.25; stroke-linejoin: miter; stroke-linecap: square\"/>\n   </g>\n   <g id=\"text_15\">\n    <!-- Loss Graph -->\n    <g style=\"fill: #262626\" transform=\"translate(528.051875 15.935625) scale(0.12 -0.12)\">\n     <defs>\n      <path id=\"ArialMT-20\" transform=\"scale(0.015625)\"/>\n      <path id=\"ArialMT-47\" d=\"M 2638 1797 \nL 2638 2334 \nL 4578 2338 \nL 4578 638 \nQ 4131 281 3656 101 \nQ 3181 -78 2681 -78 \nQ 2006 -78 1454 211 \nQ 903 500 622 1047 \nQ 341 1594 341 2269 \nQ 341 2938 620 3517 \nQ 900 4097 1425 4378 \nQ 1950 4659 2634 4659 \nQ 3131 4659 3532 4498 \nQ 3934 4338 4162 4050 \nQ 4391 3763 4509 3300 \nL 3963 3150 \nQ 3859 3500 3706 3700 \nQ 3553 3900 3268 4020 \nQ 2984 4141 2638 4141 \nQ 2222 4141 1919 4014 \nQ 1616 3888 1430 3681 \nQ 1244 3475 1141 3228 \nQ 966 2803 966 2306 \nQ 966 1694 1177 1281 \nQ 1388 869 1791 669 \nQ 2194 469 2647 469 \nQ 3041 469 3416 620 \nQ 3791 772 3984 944 \nL 3984 1797 \nL 2638 1797 \nz\n\" transform=\"scale(0.015625)\"/>\n      <path id=\"ArialMT-61\" d=\"M 2588 409 \nQ 2275 144 1986 34 \nQ 1697 -75 1366 -75 \nQ 819 -75 525 192 \nQ 231 459 231 875 \nQ 231 1119 342 1320 \nQ 453 1522 633 1644 \nQ 813 1766 1038 1828 \nQ 1203 1872 1538 1913 \nQ 2219 1994 2541 2106 \nQ 2544 2222 2544 2253 \nQ 2544 2597 2384 2738 \nQ 2169 2928 1744 2928 \nQ 1347 2928 1158 2789 \nQ 969 2650 878 2297 \nL 328 2372 \nQ 403 2725 575 2942 \nQ 747 3159 1072 3276 \nQ 1397 3394 1825 3394 \nQ 2250 3394 2515 3294 \nQ 2781 3194 2906 3042 \nQ 3031 2891 3081 2659 \nQ 3109 2516 3109 2141 \nL 3109 1391 \nQ 3109 606 3145 398 \nQ 3181 191 3288 0 \nL 2700 0 \nQ 2613 175 2588 409 \nz\nM 2541 1666 \nQ 2234 1541 1622 1453 \nQ 1275 1403 1131 1340 \nQ 988 1278 909 1158 \nQ 831 1038 831 891 \nQ 831 666 1001 516 \nQ 1172 366 1500 366 \nQ 1825 366 2078 508 \nQ 2331 650 2450 897 \nQ 2541 1088 2541 1459 \nL 2541 1666 \nz\n\" transform=\"scale(0.015625)\"/>\n     </defs>\n     <use xlink:href=\"#ArialMT-4c\"/>\n     <use xlink:href=\"#ArialMT-6f\" x=\"55.615234\"/>\n     <use xlink:href=\"#ArialMT-73\" x=\"111.230469\"/>\n     <use xlink:href=\"#ArialMT-73\" x=\"161.230469\"/>\n     <use xlink:href=\"#ArialMT-20\" x=\"211.230469\"/>\n     <use xlink:href=\"#ArialMT-47\" x=\"239.013672\"/>\n     <use xlink:href=\"#ArialMT-72\" x=\"316.796875\"/>\n     <use xlink:href=\"#ArialMT-61\" x=\"350.097656\"/>\n     <use xlink:href=\"#ArialMT-70\" x=\"405.712891\"/>\n     <use xlink:href=\"#ArialMT-68\" x=\"461.328125\"/>\n    </g>\n   </g>\n   <g id=\"legend_1\">\n    <g id=\"line2d_3\">\n     <path d=\"M 942.505938 34.623125 \nL 952.505938 34.623125 \nL 962.505938 34.623125 \n\" style=\"fill: none; stroke: #ff0000; stroke-width: 1.5; stroke-linecap: round\"/>\n    </g>\n    <g id=\"text_16\">\n     <!-- Training Loss 0.00 -->\n     <g style=\"fill: #262626\" transform=\"translate(970.505938 38.123125) scale(0.1 -0.1)\">\n      <defs>\n       <path id=\"ArialMT-54\" d=\"M 1659 0 \nL 1659 4041 \nL 150 4041 \nL 150 4581 \nL 3781 4581 \nL 3781 4041 \nL 2266 4041 \nL 2266 0 \nL 1659 0 \nz\n\" transform=\"scale(0.015625)\"/>\n       <path id=\"ArialMT-69\" d=\"M 425 3934 \nL 425 4581 \nL 988 4581 \nL 988 3934 \nL 425 3934 \nz\nM 425 0 \nL 425 3319 \nL 988 3319 \nL 988 0 \nL 425 0 \nz\n\" transform=\"scale(0.015625)\"/>\n       <path id=\"ArialMT-6e\" d=\"M 422 0 \nL 422 3319 \nL 928 3319 \nL 928 2847 \nQ 1294 3394 1984 3394 \nQ 2284 3394 2536 3286 \nQ 2788 3178 2913 3003 \nQ 3038 2828 3088 2588 \nQ 3119 2431 3119 2041 \nL 3119 0 \nL 2556 0 \nL 2556 2019 \nQ 2556 2363 2490 2533 \nQ 2425 2703 2258 2804 \nQ 2091 2906 1866 2906 \nQ 1506 2906 1245 2678 \nQ 984 2450 984 1813 \nL 984 0 \nL 422 0 \nz\n\" transform=\"scale(0.015625)\"/>\n       <path id=\"ArialMT-67\" d=\"M 319 -275 \nL 866 -356 \nQ 900 -609 1056 -725 \nQ 1266 -881 1628 -881 \nQ 2019 -881 2231 -725 \nQ 2444 -569 2519 -288 \nQ 2563 -116 2559 434 \nQ 2191 0 1641 0 \nQ 956 0 581 494 \nQ 206 988 206 1678 \nQ 206 2153 378 2554 \nQ 550 2956 876 3175 \nQ 1203 3394 1644 3394 \nQ 2231 3394 2613 2919 \nL 2613 3319 \nL 3131 3319 \nL 3131 450 \nQ 3131 -325 2973 -648 \nQ 2816 -972 2473 -1159 \nQ 2131 -1347 1631 -1347 \nQ 1038 -1347 672 -1080 \nQ 306 -813 319 -275 \nz\nM 784 1719 \nQ 784 1066 1043 766 \nQ 1303 466 1694 466 \nQ 2081 466 2343 764 \nQ 2606 1063 2606 1700 \nQ 2606 2309 2336 2618 \nQ 2066 2928 1684 2928 \nQ 1309 2928 1046 2623 \nQ 784 2319 784 1719 \nz\n\" transform=\"scale(0.015625)\"/>\n      </defs>\n      <use xlink:href=\"#ArialMT-54\"/>\n      <use xlink:href=\"#ArialMT-72\" x=\"57.333984\"/>\n      <use xlink:href=\"#ArialMT-61\" x=\"90.634766\"/>\n      <use xlink:href=\"#ArialMT-69\" x=\"146.25\"/>\n      <use xlink:href=\"#ArialMT-6e\" x=\"168.466797\"/>\n      <use xlink:href=\"#ArialMT-69\" x=\"224.082031\"/>\n      <use xlink:href=\"#ArialMT-6e\" x=\"246.298828\"/>\n      <use xlink:href=\"#ArialMT-67\" x=\"301.914062\"/>\n      <use xlink:href=\"#ArialMT-20\" x=\"357.529297\"/>\n      <use xlink:href=\"#ArialMT-4c\" x=\"385.3125\"/>\n      <use xlink:href=\"#ArialMT-6f\" x=\"440.927734\"/>\n      <use xlink:href=\"#ArialMT-73\" x=\"496.542969\"/>\n      <use xlink:href=\"#ArialMT-73\" x=\"546.542969\"/>\n      <use xlink:href=\"#ArialMT-20\" x=\"596.542969\"/>\n      <use xlink:href=\"#ArialMT-30\" x=\"624.326172\"/>\n      <use xlink:href=\"#ArialMT-2e\" x=\"679.941406\"/>\n      <use xlink:href=\"#ArialMT-30\" x=\"707.724609\"/>\n      <use xlink:href=\"#ArialMT-30\" x=\"763.339844\"/>\n     </g>\n    </g>\n    <g id=\"line2d_4\">\n     <path d=\"M 942.505938 48.885625 \nL 952.505938 48.885625 \nL 962.505938 48.885625 \n\" style=\"fill: none; stroke: #008000; stroke-width: 1.5; stroke-linecap: round\"/>\n    </g>\n    <g id=\"text_17\">\n     <!-- Validation Loss 0.23 -->\n     <g style=\"fill: #262626\" transform=\"translate(970.505938 52.385625) scale(0.1 -0.1)\">\n      <defs>\n       <path id=\"ArialMT-56\" d=\"M 1803 0 \nL 28 4581 \nL 684 4581 \nL 1875 1253 \nQ 2019 853 2116 503 \nQ 2222 878 2363 1253 \nL 3600 4581 \nL 4219 4581 \nL 2425 0 \nL 1803 0 \nz\n\" transform=\"scale(0.015625)\"/>\n       <path id=\"ArialMT-6c\" d=\"M 409 0 \nL 409 4581 \nL 972 4581 \nL 972 0 \nL 409 0 \nz\n\" transform=\"scale(0.015625)\"/>\n       <path id=\"ArialMT-64\" d=\"M 2575 0 \nL 2575 419 \nQ 2259 -75 1647 -75 \nQ 1250 -75 917 144 \nQ 584 363 401 755 \nQ 219 1147 219 1656 \nQ 219 2153 384 2558 \nQ 550 2963 881 3178 \nQ 1213 3394 1622 3394 \nQ 1922 3394 2156 3267 \nQ 2391 3141 2538 2938 \nL 2538 4581 \nL 3097 4581 \nL 3097 0 \nL 2575 0 \nz\nM 797 1656 \nQ 797 1019 1065 703 \nQ 1334 388 1700 388 \nQ 2069 388 2326 689 \nQ 2584 991 2584 1609 \nQ 2584 2291 2321 2609 \nQ 2059 2928 1675 2928 \nQ 1300 2928 1048 2622 \nQ 797 2316 797 1656 \nz\n\" transform=\"scale(0.015625)\"/>\n       <path id=\"ArialMT-74\" d=\"M 1650 503 \nL 1731 6 \nQ 1494 -44 1306 -44 \nQ 1000 -44 831 53 \nQ 663 150 594 308 \nQ 525 466 525 972 \nL 525 2881 \nL 113 2881 \nL 113 3319 \nL 525 3319 \nL 525 4141 \nL 1084 4478 \nL 1084 3319 \nL 1650 3319 \nL 1650 2881 \nL 1084 2881 \nL 1084 941 \nQ 1084 700 1114 631 \nQ 1144 563 1211 522 \nQ 1278 481 1403 481 \nQ 1497 481 1650 503 \nz\n\" transform=\"scale(0.015625)\"/>\n      </defs>\n      <use xlink:href=\"#ArialMT-56\"/>\n      <use xlink:href=\"#ArialMT-61\" x=\"59.324219\"/>\n      <use xlink:href=\"#ArialMT-6c\" x=\"114.939453\"/>\n      <use xlink:href=\"#ArialMT-69\" x=\"137.15625\"/>\n      <use xlink:href=\"#ArialMT-64\" x=\"159.373047\"/>\n      <use xlink:href=\"#ArialMT-61\" x=\"214.988281\"/>\n      <use xlink:href=\"#ArialMT-74\" x=\"270.603516\"/>\n      <use xlink:href=\"#ArialMT-69\" x=\"298.386719\"/>\n      <use xlink:href=\"#ArialMT-6f\" x=\"320.603516\"/>\n      <use xlink:href=\"#ArialMT-6e\" x=\"376.21875\"/>\n      <use xlink:href=\"#ArialMT-20\" x=\"431.833984\"/>\n      <use xlink:href=\"#ArialMT-4c\" x=\"459.617188\"/>\n      <use xlink:href=\"#ArialMT-6f\" x=\"515.232422\"/>\n      <use xlink:href=\"#ArialMT-73\" x=\"570.847656\"/>\n      <use xlink:href=\"#ArialMT-73\" x=\"620.847656\"/>\n      <use xlink:href=\"#ArialMT-20\" x=\"670.847656\"/>\n      <use xlink:href=\"#ArialMT-30\" x=\"698.630859\"/>\n      <use xlink:href=\"#ArialMT-2e\" x=\"754.246094\"/>\n      <use xlink:href=\"#ArialMT-32\" x=\"782.029297\"/>\n      <use xlink:href=\"#ArialMT-33\" x=\"837.644531\"/>\n     </g>\n    </g>\n   </g>\n  </g>\n  <g id=\"axes_2\">\n   <g id=\"patch_7\">\n    <path d=\"M 49.30625 314.915625 \nL 1068.82625 314.915625 \nL 1068.82625 196.535625 \nL 49.30625 196.535625 \nz\n\" style=\"fill: #ffffff\"/>\n   </g>\n   <g id=\"matplotlib.axis_3\">\n    <g id=\"xtick_8\">\n     <g id=\"text_18\">\n      <!-- 0 -->\n      <g style=\"fill: #262626\" transform=\"translate(92.867599 331.573438) scale(0.1 -0.1)\">\n       <use xlink:href=\"#ArialMT-30\"/>\n      </g>\n     </g>\n    </g>\n    <g id=\"xtick_9\">\n     <g id=\"text_19\">\n      <!-- 10 -->\n      <g style=\"fill: #262626\" transform=\"translate(230.516883 331.573438) scale(0.1 -0.1)\">\n       <use xlink:href=\"#ArialMT-31\"/>\n       <use xlink:href=\"#ArialMT-30\" x=\"55.615234\"/>\n      </g>\n     </g>\n    </g>\n    <g id=\"xtick_10\">\n     <g id=\"text_20\">\n      <!-- 20 -->\n      <g style=\"fill: #262626\" transform=\"translate(370.946635 331.573438) scale(0.1 -0.1)\">\n       <use xlink:href=\"#ArialMT-32\"/>\n       <use xlink:href=\"#ArialMT-30\" x=\"55.615234\"/>\n      </g>\n     </g>\n    </g>\n    <g id=\"xtick_11\">\n     <g id=\"text_21\">\n      <!-- 30 -->\n      <g style=\"fill: #262626\" transform=\"translate(511.376387 331.573438) scale(0.1 -0.1)\">\n       <use xlink:href=\"#ArialMT-33\"/>\n       <use xlink:href=\"#ArialMT-30\" x=\"55.615234\"/>\n      </g>\n     </g>\n    </g>\n    <g id=\"xtick_12\">\n     <g id=\"text_22\">\n      <!-- 40 -->\n      <g style=\"fill: #262626\" transform=\"translate(651.806139 331.573438) scale(0.1 -0.1)\">\n       <use xlink:href=\"#ArialMT-34\"/>\n       <use xlink:href=\"#ArialMT-30\" x=\"55.615234\"/>\n      </g>\n     </g>\n    </g>\n    <g id=\"xtick_13\">\n     <g id=\"text_23\">\n      <!-- 50 -->\n      <g style=\"fill: #262626\" transform=\"translate(792.235891 331.573438) scale(0.1 -0.1)\">\n       <use xlink:href=\"#ArialMT-35\"/>\n       <use xlink:href=\"#ArialMT-30\" x=\"55.615234\"/>\n      </g>\n     </g>\n    </g>\n    <g id=\"xtick_14\">\n     <g id=\"text_24\">\n      <!-- 60 -->\n      <g style=\"fill: #262626\" transform=\"translate(932.665643 331.573438) scale(0.1 -0.1)\">\n       <use xlink:href=\"#ArialMT-36\"/>\n       <use xlink:href=\"#ArialMT-30\" x=\"55.615234\"/>\n      </g>\n     </g>\n    </g>\n    <g id=\"text_25\">\n     <!-- Epochs -->\n     <g style=\"fill: #262626\" transform=\"translate(542.389688 344.71875) scale(0.1 -0.1)\">\n      <use xlink:href=\"#ArialMT-45\"/>\n      <use xlink:href=\"#ArialMT-70\" x=\"66.699219\"/>\n      <use xlink:href=\"#ArialMT-6f\" x=\"122.314453\"/>\n      <use xlink:href=\"#ArialMT-63\" x=\"177.929688\"/>\n      <use xlink:href=\"#ArialMT-68\" x=\"227.929688\"/>\n      <use xlink:href=\"#ArialMT-73\" x=\"283.544922\"/>\n     </g>\n    </g>\n   </g>\n   <g id=\"matplotlib.axis_4\">\n    <g id=\"ytick_6\">\n     <g id=\"text_26\">\n      <!-- 80 -->\n      <g style=\"fill: #262626\" transform=\"translate(28.684375 292.833951) scale(0.1 -0.1)\">\n       <defs>\n        <path id=\"ArialMT-38\" d=\"M 1131 2484 \nQ 781 2613 612 2850 \nQ 444 3088 444 3419 \nQ 444 3919 803 4259 \nQ 1163 4600 1759 4600 \nQ 2359 4600 2725 4251 \nQ 3091 3903 3091 3403 \nQ 3091 3084 2923 2848 \nQ 2756 2613 2416 2484 \nQ 2838 2347 3058 2040 \nQ 3278 1734 3278 1309 \nQ 3278 722 2862 322 \nQ 2447 -78 1769 -78 \nQ 1091 -78 675 323 \nQ 259 725 259 1325 \nQ 259 1772 486 2073 \nQ 713 2375 1131 2484 \nz\nM 1019 3438 \nQ 1019 3113 1228 2906 \nQ 1438 2700 1772 2700 \nQ 2097 2700 2305 2904 \nQ 2513 3109 2513 3406 \nQ 2513 3716 2298 3927 \nQ 2084 4138 1766 4138 \nQ 1444 4138 1231 3931 \nQ 1019 3725 1019 3438 \nz\nM 838 1322 \nQ 838 1081 952 856 \nQ 1066 631 1291 507 \nQ 1516 384 1775 384 \nQ 2178 384 2440 643 \nQ 2703 903 2703 1303 \nQ 2703 1709 2433 1975 \nQ 2163 2241 1756 2241 \nQ 1359 2241 1098 1978 \nQ 838 1716 838 1322 \nz\n\" transform=\"scale(0.015625)\"/>\n       </defs>\n       <use xlink:href=\"#ArialMT-38\"/>\n       <use xlink:href=\"#ArialMT-30\" x=\"55.615234\"/>\n      </g>\n     </g>\n    </g>\n    <g id=\"ytick_7\">\n     <g id=\"text_27\">\n      <!-- 90 -->\n      <g style=\"fill: #262626\" transform=\"translate(28.684375 249.164696) scale(0.1 -0.1)\">\n       <defs>\n        <path id=\"ArialMT-39\" d=\"M 350 1059 \nL 891 1109 \nQ 959 728 1153 556 \nQ 1347 384 1650 384 \nQ 1909 384 2104 503 \nQ 2300 622 2425 820 \nQ 2550 1019 2634 1356 \nQ 2719 1694 2719 2044 \nQ 2719 2081 2716 2156 \nQ 2547 1888 2255 1720 \nQ 1963 1553 1622 1553 \nQ 1053 1553 659 1965 \nQ 266 2378 266 3053 \nQ 266 3750 677 4175 \nQ 1088 4600 1706 4600 \nQ 2153 4600 2523 4359 \nQ 2894 4119 3086 3673 \nQ 3278 3228 3278 2384 \nQ 3278 1506 3087 986 \nQ 2897 466 2520 194 \nQ 2144 -78 1638 -78 \nQ 1100 -78 759 220 \nQ 419 519 350 1059 \nz\nM 2653 3081 \nQ 2653 3566 2395 3850 \nQ 2138 4134 1775 4134 \nQ 1400 4134 1122 3828 \nQ 844 3522 844 3034 \nQ 844 2597 1108 2323 \nQ 1372 2050 1759 2050 \nQ 2150 2050 2401 2323 \nQ 2653 2597 2653 3081 \nz\n\" transform=\"scale(0.015625)\"/>\n       </defs>\n       <use xlink:href=\"#ArialMT-39\"/>\n       <use xlink:href=\"#ArialMT-30\" x=\"55.615234\"/>\n      </g>\n     </g>\n    </g>\n    <g id=\"ytick_8\">\n     <g id=\"text_28\">\n      <!-- 100 -->\n      <g style=\"fill: #262626\" transform=\"translate(23.123438 205.49544) scale(0.1 -0.1)\">\n       <use xlink:href=\"#ArialMT-31\"/>\n       <use xlink:href=\"#ArialMT-30\" x=\"55.615234\"/>\n       <use xlink:href=\"#ArialMT-30\" x=\"111.230469\"/>\n      </g>\n     </g>\n    </g>\n    <g id=\"text_29\">\n     <!-- Accuracy -->\n     <g style=\"fill: #262626\" transform=\"translate(17.01875 276.286562) rotate(-90) scale(0.1 -0.1)\">\n      <defs>\n       <path id=\"ArialMT-41\" d=\"M -9 0 \nL 1750 4581 \nL 2403 4581 \nL 4278 0 \nL 3588 0 \nL 3053 1388 \nL 1138 1388 \nL 634 0 \nL -9 0 \nz\nM 1313 1881 \nL 2866 1881 \nL 2388 3150 \nQ 2169 3728 2063 4100 \nQ 1975 3659 1816 3225 \nL 1313 1881 \nz\n\" transform=\"scale(0.015625)\"/>\n       <path id=\"ArialMT-75\" d=\"M 2597 0 \nL 2597 488 \nQ 2209 -75 1544 -75 \nQ 1250 -75 995 37 \nQ 741 150 617 320 \nQ 494 491 444 738 \nQ 409 903 409 1263 \nL 409 3319 \nL 972 3319 \nL 972 1478 \nQ 972 1038 1006 884 \nQ 1059 663 1231 536 \nQ 1403 409 1656 409 \nQ 1909 409 2131 539 \nQ 2353 669 2445 892 \nQ 2538 1116 2538 1541 \nL 2538 3319 \nL 3100 3319 \nL 3100 0 \nL 2597 0 \nz\n\" transform=\"scale(0.015625)\"/>\n       <path id=\"ArialMT-79\" d=\"M 397 -1278 \nL 334 -750 \nQ 519 -800 656 -800 \nQ 844 -800 956 -737 \nQ 1069 -675 1141 -563 \nQ 1194 -478 1313 -144 \nQ 1328 -97 1363 -6 \nL 103 3319 \nL 709 3319 \nL 1400 1397 \nQ 1534 1031 1641 628 \nQ 1738 1016 1872 1384 \nL 2581 3319 \nL 3144 3319 \nL 1881 -56 \nQ 1678 -603 1566 -809 \nQ 1416 -1088 1222 -1217 \nQ 1028 -1347 759 -1347 \nQ 597 -1347 397 -1278 \nz\n\" transform=\"scale(0.015625)\"/>\n      </defs>\n      <use xlink:href=\"#ArialMT-41\"/>\n      <use xlink:href=\"#ArialMT-63\" x=\"66.699219\"/>\n      <use xlink:href=\"#ArialMT-63\" x=\"116.699219\"/>\n      <use xlink:href=\"#ArialMT-75\" x=\"166.699219\"/>\n      <use xlink:href=\"#ArialMT-72\" x=\"222.314453\"/>\n      <use xlink:href=\"#ArialMT-61\" x=\"255.615234\"/>\n      <use xlink:href=\"#ArialMT-63\" x=\"311.230469\"/>\n      <use xlink:href=\"#ArialMT-79\" x=\"361.230469\"/>\n     </g>\n    </g>\n   </g>\n   <g id=\"line2d_5\">\n    <path d=\"M 95.648068 309.534716 \nL 109.691043 251.641734 \nL 123.734019 237.66777 \nL 137.776994 229.326838 \nL 151.819969 223.41624 \nL 165.862944 219.754625 \nL 179.905919 216.824612 \nL 193.948895 214.122843 \nL 207.99187 214.080667 \nL 222.034845 211.5016 \nL 236.07782 210.700053 \nL 250.120795 209.828452 \nL 264.163771 209.915607 \nL 278.206746 206.808998 \nL 292.249721 205.391139 \nL 306.292696 204.76075 \nL 320.335671 204.003734 \nL 334.378647 203.576554 \nL 348.421622 203.72686 \nL 362.464597 203.356172 \nL 376.507572 202.958092 \nL 390.550548 202.944282 \nL 404.593523 202.510179 \nL 418.636498 202.309395 \nL 432.679473 202.15386 \nL 446.722448 202.112428 \nL 460.765424 202.221388 \nL 474.808399 201.997096 \nL 488.851374 201.997096 \nL 502.894349 201.997096 \nL 516.937324 201.997096 \nL 530.9803 201.957966 \nL 545.023275 201.957966 \nL 559.06625 201.957966 \nL 573.109225 201.957966 \nL 587.1522 201.916534 \nL 601.195176 201.916534 \nL 615.238151 201.916534 \nL 629.281126 201.916534 \nL 643.324101 201.916534 \nL 657.367076 201.916534 \nL 671.410052 201.916534 \nL 685.453027 201.916534 \nL 699.496002 201.916534 \nL 713.538977 201.916534 \nL 727.581952 201.916534 \nL 741.624928 201.916534 \nL 755.667903 201.916534 \nL 769.710878 201.916534 \nL 783.753853 201.916534 \nL 797.796829 201.916534 \nL 811.839804 201.916534 \nL 825.882779 201.916534 \nL 839.925754 201.916534 \nL 853.968729 201.916534 \nL 868.011705 201.916534 \nL 882.05468 201.916534 \nL 896.097655 201.916534 \nL 910.14063 201.916534 \nL 924.183605 201.916534 \nL 938.226581 201.916534 \nL 952.269556 201.916534 \nL 966.312531 201.916534 \nL 980.355506 201.916534 \nL 994.398481 201.916534 \nL 1008.441457 201.916534 \nL 1022.484432 201.916534 \n\" clip-path=\"url(#p04ac61cbd3)\" style=\"fill: none; stroke: #ff0000; stroke-width: 1.5; stroke-linecap: round\"/>\n   </g>\n   <g id=\"line2d_6\">\n    <path d=\"M 95.648068 263.490177 \nL 109.691043 247.332533 \nL 123.734019 240.782178 \nL 137.776994 236.415252 \nL 151.819969 233.795104 \nL 165.862944 235.541881 \nL 179.905919 234.450149 \nL 193.948895 231.174922 \nL 207.99187 231.393281 \nL 222.034845 233.140058 \nL 236.07782 227.244715 \nL 250.120795 233.358418 \nL 264.163771 227.463042 \nL 278.206746 228.991459 \nL 292.249721 226.37131 \nL 306.292696 223.751162 \nL 320.335671 225.061219 \nL 334.378647 223.969488 \nL 348.421622 222.65943 \nL 362.464597 224.624533 \nL 376.507572 223.314476 \nL 390.550548 224.624533 \nL 404.593523 222.222744 \nL 418.636498 223.096116 \nL 432.679473 222.877757 \nL 446.722448 223.751162 \nL 460.765424 224.187848 \nL 474.808399 223.532802 \nL 488.851374 222.004385 \nL 502.894349 221.567699 \nL 516.937324 221.567699 \nL 530.9803 221.349339 \nL 545.023275 221.349339 \nL 559.06625 221.131013 \nL 573.109225 221.349339 \nL 587.1522 221.567699 \nL 601.195176 221.567699 \nL 615.238151 221.349339 \nL 629.281126 221.131013 \nL 643.324101 221.349339 \nL 657.367076 221.567699 \nL 671.410052 221.567699 \nL 685.453027 221.567699 \nL 699.496002 221.786025 \nL 713.538977 221.567699 \nL 727.581952 221.567699 \nL 741.624928 221.567699 \nL 755.667903 221.567699 \nL 769.710878 221.567699 \nL 783.753853 221.786025 \nL 797.796829 221.786025 \nL 811.839804 222.004385 \nL 825.882779 221.786025 \nL 839.925754 221.567699 \nL 853.968729 221.349339 \nL 868.011705 221.567699 \nL 882.05468 221.567699 \nL 896.097655 221.567699 \nL 910.14063 221.567699 \nL 924.183605 221.786025 \nL 938.226581 221.786025 \nL 952.269556 221.786025 \nL 966.312531 221.786025 \nL 980.355506 221.786025 \nL 994.398481 221.786025 \nL 1008.441457 222.222744 \nL 1022.484432 222.222744 \n\" clip-path=\"url(#p04ac61cbd3)\" style=\"fill: none; stroke: #008000; stroke-width: 1.5; stroke-linecap: round\"/>\n   </g>\n   <g id=\"patch_8\">\n    <path d=\"M 49.30625 314.915625 \nL 49.30625 196.535625 \n\" style=\"fill: none; stroke: #262626; stroke-width: 1.25; stroke-linejoin: miter; stroke-linecap: square\"/>\n   </g>\n   <g id=\"patch_9\">\n    <path d=\"M 1068.82625 314.915625 \nL 1068.82625 196.535625 \n\" style=\"fill: none; stroke: #262626; stroke-width: 1.25; stroke-linejoin: miter; stroke-linecap: square\"/>\n   </g>\n   <g id=\"patch_10\">\n    <path d=\"M 49.30625 314.915625 \nL 1068.82625 314.915625 \n\" style=\"fill: none; stroke: #262626; stroke-width: 1.25; stroke-linejoin: miter; stroke-linecap: square\"/>\n   </g>\n   <g id=\"patch_11\">\n    <path d=\"M 49.30625 196.535625 \nL 1068.82625 196.535625 \n\" style=\"fill: none; stroke: #262626; stroke-width: 1.25; stroke-linejoin: miter; stroke-linecap: square\"/>\n   </g>\n   <g id=\"text_30\">\n    <!-- Accuracy Graph -->\n    <g style=\"fill: #262626\" transform=\"translate(516.051875 190.535625) scale(0.12 -0.12)\">\n     <use xlink:href=\"#ArialMT-41\"/>\n     <use xlink:href=\"#ArialMT-63\" x=\"66.699219\"/>\n     <use xlink:href=\"#ArialMT-63\" x=\"116.699219\"/>\n     <use xlink:href=\"#ArialMT-75\" x=\"166.699219\"/>\n     <use xlink:href=\"#ArialMT-72\" x=\"222.314453\"/>\n     <use xlink:href=\"#ArialMT-61\" x=\"255.615234\"/>\n     <use xlink:href=\"#ArialMT-63\" x=\"311.230469\"/>\n     <use xlink:href=\"#ArialMT-79\" x=\"361.230469\"/>\n     <use xlink:href=\"#ArialMT-20\" x=\"411.230469\"/>\n     <use xlink:href=\"#ArialMT-47\" x=\"439.013672\"/>\n     <use xlink:href=\"#ArialMT-72\" x=\"516.796875\"/>\n     <use xlink:href=\"#ArialMT-61\" x=\"550.097656\"/>\n     <use xlink:href=\"#ArialMT-70\" x=\"605.712891\"/>\n     <use xlink:href=\"#ArialMT-68\" x=\"661.328125\"/>\n    </g>\n   </g>\n   <g id=\"legend_2\">\n    <g id=\"line2d_7\">\n     <path d=\"M 908.602813 285.926562 \nL 918.602813 285.926562 \nL 928.602813 285.926562 \n\" style=\"fill: none; stroke: #ff0000; stroke-width: 1.5; stroke-linecap: round\"/>\n    </g>\n    <g id=\"text_31\">\n     <!-- Training Accuracy 100.00% -->\n     <g style=\"fill: #262626\" transform=\"translate(936.602813 289.426562) scale(0.1 -0.1)\">\n      <defs>\n       <path id=\"ArialMT-25\" d=\"M 372 3481 \nQ 372 3972 619 4315 \nQ 866 4659 1334 4659 \nQ 1766 4659 2048 4351 \nQ 2331 4044 2331 3447 \nQ 2331 2866 2045 2552 \nQ 1759 2238 1341 2238 \nQ 925 2238 648 2547 \nQ 372 2856 372 3481 \nz\nM 1350 4272 \nQ 1141 4272 1002 4090 \nQ 863 3909 863 3425 \nQ 863 2984 1003 2804 \nQ 1144 2625 1350 2625 \nQ 1563 2625 1702 2806 \nQ 1841 2988 1841 3469 \nQ 1841 3913 1700 4092 \nQ 1559 4272 1350 4272 \nz\nM 1353 -169 \nL 3859 4659 \nL 4316 4659 \nL 1819 -169 \nL 1353 -169 \nz\nM 3334 1075 \nQ 3334 1569 3581 1911 \nQ 3828 2253 4300 2253 \nQ 4731 2253 5014 1945 \nQ 5297 1638 5297 1041 \nQ 5297 459 5011 145 \nQ 4725 -169 4303 -169 \nQ 3888 -169 3611 142 \nQ 3334 453 3334 1075 \nz\nM 4316 1866 \nQ 4103 1866 3964 1684 \nQ 3825 1503 3825 1019 \nQ 3825 581 3965 400 \nQ 4106 219 4313 219 \nQ 4528 219 4667 400 \nQ 4806 581 4806 1063 \nQ 4806 1506 4665 1686 \nQ 4525 1866 4316 1866 \nz\n\" transform=\"scale(0.015625)\"/>\n      </defs>\n      <use xlink:href=\"#ArialMT-54\"/>\n      <use xlink:href=\"#ArialMT-72\" x=\"57.333984\"/>\n      <use xlink:href=\"#ArialMT-61\" x=\"90.634766\"/>\n      <use xlink:href=\"#ArialMT-69\" x=\"146.25\"/>\n      <use xlink:href=\"#ArialMT-6e\" x=\"168.466797\"/>\n      <use xlink:href=\"#ArialMT-69\" x=\"224.082031\"/>\n      <use xlink:href=\"#ArialMT-6e\" x=\"246.298828\"/>\n      <use xlink:href=\"#ArialMT-67\" x=\"301.914062\"/>\n      <use xlink:href=\"#ArialMT-20\" x=\"357.529297\"/>\n      <use xlink:href=\"#ArialMT-41\" x=\"379.8125\"/>\n      <use xlink:href=\"#ArialMT-63\" x=\"446.511719\"/>\n      <use xlink:href=\"#ArialMT-63\" x=\"496.511719\"/>\n      <use xlink:href=\"#ArialMT-75\" x=\"546.511719\"/>\n      <use xlink:href=\"#ArialMT-72\" x=\"602.126953\"/>\n      <use xlink:href=\"#ArialMT-61\" x=\"635.427734\"/>\n      <use xlink:href=\"#ArialMT-63\" x=\"691.042969\"/>\n      <use xlink:href=\"#ArialMT-79\" x=\"741.042969\"/>\n      <use xlink:href=\"#ArialMT-20\" x=\"791.042969\"/>\n      <use xlink:href=\"#ArialMT-31\" x=\"818.826172\"/>\n      <use xlink:href=\"#ArialMT-30\" x=\"874.441406\"/>\n      <use xlink:href=\"#ArialMT-30\" x=\"930.056641\"/>\n      <use xlink:href=\"#ArialMT-2e\" x=\"985.671875\"/>\n      <use xlink:href=\"#ArialMT-30\" x=\"1013.455078\"/>\n      <use xlink:href=\"#ArialMT-30\" x=\"1069.070312\"/>\n      <use xlink:href=\"#ArialMT-25\" x=\"1124.685547\"/>\n     </g>\n    </g>\n    <g id=\"line2d_8\">\n     <path d=\"M 908.602813 300.310938 \nL 918.602813 300.310938 \nL 928.602813 300.310938 \n\" style=\"fill: none; stroke: #008000; stroke-width: 1.5; stroke-linecap: round\"/>\n    </g>\n    <g id=\"text_32\">\n     <!-- Validation Accuracy 95.35% -->\n     <g style=\"fill: #262626\" transform=\"translate(936.602813 303.810938) scale(0.1 -0.1)\">\n      <use xlink:href=\"#ArialMT-56\"/>\n      <use xlink:href=\"#ArialMT-61\" x=\"59.324219\"/>\n      <use xlink:href=\"#ArialMT-6c\" x=\"114.939453\"/>\n      <use xlink:href=\"#ArialMT-69\" x=\"137.15625\"/>\n      <use xlink:href=\"#ArialMT-64\" x=\"159.373047\"/>\n      <use xlink:href=\"#ArialMT-61\" x=\"214.988281\"/>\n      <use xlink:href=\"#ArialMT-74\" x=\"270.603516\"/>\n      <use xlink:href=\"#ArialMT-69\" x=\"298.386719\"/>\n      <use xlink:href=\"#ArialMT-6f\" x=\"320.603516\"/>\n      <use xlink:href=\"#ArialMT-6e\" x=\"376.21875\"/>\n      <use xlink:href=\"#ArialMT-20\" x=\"431.833984\"/>\n      <use xlink:href=\"#ArialMT-41\" x=\"454.117188\"/>\n      <use xlink:href=\"#ArialMT-63\" x=\"520.816406\"/>\n      <use xlink:href=\"#ArialMT-63\" x=\"570.816406\"/>\n      <use xlink:href=\"#ArialMT-75\" x=\"620.816406\"/>\n      <use xlink:href=\"#ArialMT-72\" x=\"676.431641\"/>\n      <use xlink:href=\"#ArialMT-61\" x=\"709.732422\"/>\n      <use xlink:href=\"#ArialMT-63\" x=\"765.347656\"/>\n      <use xlink:href=\"#ArialMT-79\" x=\"815.347656\"/>\n      <use xlink:href=\"#ArialMT-20\" x=\"865.347656\"/>\n      <use xlink:href=\"#ArialMT-39\" x=\"893.130859\"/>\n      <use xlink:href=\"#ArialMT-35\" x=\"948.746094\"/>\n      <use xlink:href=\"#ArialMT-2e\" x=\"1004.361328\"/>\n      <use xlink:href=\"#ArialMT-33\" x=\"1032.144531\"/>\n      <use xlink:href=\"#ArialMT-35\" x=\"1087.759766\"/>\n      <use xlink:href=\"#ArialMT-25\" x=\"1143.375\"/>\n     </g>\n    </g>\n   </g>\n  </g>\n </g>\n <defs>\n  <clipPath id=\"pb6fa23621e\">\n   <rect x=\"49.30625\" y=\"21.935625\" width=\"1019.52\" height=\"118.38\"/>\n  </clipPath>\n  <clipPath id=\"p04ac61cbd3\">\n   <rect x=\"49.30625\" y=\"196.535625\" width=\"1019.52\" height=\"118.38\"/>\n  </clipPath>\n </defs>\n</svg>\n"
     },
     "metadata": {},
     "output_type": "display_data"
    }
   ],
   "source": [
    "plt.figure(figsize=(15,5))\n",
    "\n",
    "# Loss Graph\n",
    "plt.subplot(2,1,1)\n",
    "plt.plot(train_loss_hist,'-r')\n",
    "plt.plot(valid_loss_hist,'-g')\n",
    "plt.xlabel('Epochs')\n",
    "plt.ylabel('Loss/Error')\n",
    "plt.title('Loss Graph')\n",
    "plt.legend([f'Training Loss {train_loss_hist[-1]:.2f}',f'Validation Loss {valid_loss_hist[-1]:.2f}'])\n",
    "\n",
    "# Accuracy Graph\n",
    "plt.subplot(2,1,2)\n",
    "plt.plot(train_accuracy_hist,'-r')\n",
    "plt.plot(valid_accuracy_hist,'-g')\n",
    "plt.xlabel('Epochs')\n",
    "plt.ylabel('Accuracy')\n",
    "plt.title('Accuracy Graph')\n",
    "plt.legend([f'Training Accuracy {train_accuracy_hist[-1]:.2f}%',f'Validation Accuracy {valid_accuracy_hist[-1]:.2f}%'])\n",
    "\n",
    "plt.tight_layout()\n",
    "plt.show()"
   ],
   "metadata": {
    "collapsed": false,
    "ExecuteTime": {
     "end_time": "2023-09-23T18:30:22.095113700Z",
     "start_time": "2023-09-23T18:30:21.550293400Z"
    }
   }
  },
  {
   "cell_type": "markdown",
   "source": [
    "## Visualize a random number"
   ],
   "metadata": {
    "collapsed": false
   }
  },
  {
   "cell_type": "code",
   "execution_count": 465,
   "outputs": [
    {
     "data": {
      "text/plain": "<Figure size 1500x500 with 3 Axes>",
      "image/svg+xml": "<?xml version=\"1.0\" encoding=\"utf-8\" standalone=\"no\"?>\n<!DOCTYPE svg PUBLIC \"-//W3C//DTD SVG 1.1//EN\"\n  \"http://www.w3.org/Graphics/SVG/1.1/DTD/svg11.dtd\">\n<svg xmlns:xlink=\"http://www.w3.org/1999/xlink\" width=\"877.8625pt\" height=\"324.980938pt\" viewBox=\"0 0 877.8625 324.980938\" xmlns=\"http://www.w3.org/2000/svg\" version=\"1.1\">\n <metadata>\n  <rdf:RDF xmlns:dc=\"http://purl.org/dc/elements/1.1/\" xmlns:cc=\"http://creativecommons.org/ns#\" xmlns:rdf=\"http://www.w3.org/1999/02/22-rdf-syntax-ns#\">\n   <cc:Work>\n    <dc:type rdf:resource=\"http://purl.org/dc/dcmitype/StillImage\"/>\n    <dc:date>2023-09-23T21:30:49.855173</dc:date>\n    <dc:format>image/svg+xml</dc:format>\n    <dc:creator>\n     <cc:Agent>\n      <dc:title>Matplotlib v3.7.1, https://matplotlib.org/</dc:title>\n     </cc:Agent>\n    </dc:creator>\n   </cc:Work>\n  </rdf:RDF>\n </metadata>\n <defs>\n  <style type=\"text/css\">*{stroke-linejoin: round; stroke-linecap: butt}</style>\n </defs>\n <g id=\"figure_1\">\n  <g id=\"patch_1\">\n   <path d=\"M 0 324.980938 \nL 877.8625 324.980938 \nL 877.8625 0 \nL 0 0 \nz\n\" style=\"fill: #ffffff\"/>\n  </g>\n  <g id=\"axes_1\">\n   <g id=\"patch_2\">\n    <path d=\"M 33.6625 299.135625 \nL 279.838971 299.135625 \nL 279.838971 21.935625 \nL 33.6625 21.935625 \nz\n\" style=\"fill: #ffffff\"/>\n   </g>\n   <g id=\"matplotlib.axis_1\">\n    <g id=\"xtick_1\">\n     <g id=\"text_1\">\n      <!-- 0 -->\n      <g style=\"fill: #262626\" transform=\"translate(51.206434 315.793438) scale(0.1 -0.1)\">\n       <defs>\n        <path id=\"ArialMT-30\" d=\"M 266 2259 \nQ 266 3072 433 3567 \nQ 600 4063 929 4331 \nQ 1259 4600 1759 4600 \nQ 2128 4600 2406 4451 \nQ 2684 4303 2865 4023 \nQ 3047 3744 3150 3342 \nQ 3253 2941 3253 2259 \nQ 3253 1453 3087 958 \nQ 2922 463 2592 192 \nQ 2263 -78 1759 -78 \nQ 1097 -78 719 397 \nQ 266 969 266 2259 \nz\nM 844 2259 \nQ 844 1131 1108 757 \nQ 1372 384 1759 384 \nQ 2147 384 2411 759 \nQ 2675 1134 2675 2259 \nQ 2675 3391 2411 3762 \nQ 2147 4134 1753 4134 \nQ 1366 4134 1134 3806 \nQ 844 3388 844 2259 \nz\n\" transform=\"scale(0.015625)\"/>\n       </defs>\n       <use xlink:href=\"#ArialMT-30\"/>\n      </g>\n     </g>\n    </g>\n    <g id=\"xtick_2\">\n     <g id=\"text_2\">\n      <!-- 1 -->\n      <g style=\"fill: #262626\" transform=\"translate(74.042841 315.793438) scale(0.1 -0.1)\">\n       <defs>\n        <path id=\"ArialMT-31\" d=\"M 2384 0 \nL 1822 0 \nL 1822 3584 \nQ 1619 3391 1289 3197 \nQ 959 3003 697 2906 \nL 697 3450 \nQ 1169 3672 1522 3987 \nQ 1875 4303 2022 4600 \nL 2384 4600 \nL 2384 0 \nz\n\" transform=\"scale(0.015625)\"/>\n       </defs>\n       <use xlink:href=\"#ArialMT-31\"/>\n      </g>\n     </g>\n    </g>\n    <g id=\"xtick_3\">\n     <g id=\"text_3\">\n      <!-- 2 -->\n      <g style=\"fill: #262626\" transform=\"translate(96.879248 315.793438) scale(0.1 -0.1)\">\n       <defs>\n        <path id=\"ArialMT-32\" d=\"M 3222 541 \nL 3222 0 \nL 194 0 \nQ 188 203 259 391 \nQ 375 700 629 1000 \nQ 884 1300 1366 1694 \nQ 2113 2306 2375 2664 \nQ 2638 3022 2638 3341 \nQ 2638 3675 2398 3904 \nQ 2159 4134 1775 4134 \nQ 1369 4134 1125 3890 \nQ 881 3647 878 3216 \nL 300 3275 \nQ 359 3922 746 4261 \nQ 1134 4600 1788 4600 \nQ 2447 4600 2831 4234 \nQ 3216 3869 3216 3328 \nQ 3216 3053 3103 2787 \nQ 2991 2522 2730 2228 \nQ 2469 1934 1863 1422 \nQ 1356 997 1212 845 \nQ 1069 694 975 541 \nL 3222 541 \nz\n\" transform=\"scale(0.015625)\"/>\n       </defs>\n       <use xlink:href=\"#ArialMT-32\"/>\n      </g>\n     </g>\n    </g>\n    <g id=\"xtick_4\">\n     <g id=\"text_4\">\n      <!-- 3 -->\n      <g style=\"fill: #262626\" transform=\"translate(119.715656 315.793438) scale(0.1 -0.1)\">\n       <defs>\n        <path id=\"ArialMT-33\" d=\"M 269 1209 \nL 831 1284 \nQ 928 806 1161 595 \nQ 1394 384 1728 384 \nQ 2125 384 2398 659 \nQ 2672 934 2672 1341 \nQ 2672 1728 2419 1979 \nQ 2166 2231 1775 2231 \nQ 1616 2231 1378 2169 \nL 1441 2663 \nQ 1497 2656 1531 2656 \nQ 1891 2656 2178 2843 \nQ 2466 3031 2466 3422 \nQ 2466 3731 2256 3934 \nQ 2047 4138 1716 4138 \nQ 1388 4138 1169 3931 \nQ 950 3725 888 3313 \nL 325 3413 \nQ 428 3978 793 4289 \nQ 1159 4600 1703 4600 \nQ 2078 4600 2393 4439 \nQ 2709 4278 2876 4000 \nQ 3044 3722 3044 3409 \nQ 3044 3113 2884 2869 \nQ 2725 2625 2413 2481 \nQ 2819 2388 3044 2092 \nQ 3269 1797 3269 1353 \nQ 3269 753 2831 336 \nQ 2394 -81 1725 -81 \nQ 1122 -81 723 278 \nQ 325 638 269 1209 \nz\n\" transform=\"scale(0.015625)\"/>\n       </defs>\n       <use xlink:href=\"#ArialMT-33\"/>\n      </g>\n     </g>\n    </g>\n    <g id=\"xtick_5\">\n     <g id=\"text_5\">\n      <!-- 4 -->\n      <g style=\"fill: #262626\" transform=\"translate(142.552063 315.793438) scale(0.1 -0.1)\">\n       <defs>\n        <path id=\"ArialMT-34\" d=\"M 2069 0 \nL 2069 1097 \nL 81 1097 \nL 81 1613 \nL 2172 4581 \nL 2631 4581 \nL 2631 1613 \nL 3250 1613 \nL 3250 1097 \nL 2631 1097 \nL 2631 0 \nL 2069 0 \nz\nM 2069 1613 \nL 2069 3678 \nL 634 1613 \nL 2069 1613 \nz\n\" transform=\"scale(0.015625)\"/>\n       </defs>\n       <use xlink:href=\"#ArialMT-34\"/>\n      </g>\n     </g>\n    </g>\n    <g id=\"xtick_6\">\n     <g id=\"text_6\">\n      <!-- 5 -->\n      <g style=\"fill: #262626\" transform=\"translate(165.38847 315.793438) scale(0.1 -0.1)\">\n       <defs>\n        <path id=\"ArialMT-35\" d=\"M 266 1200 \nL 856 1250 \nQ 922 819 1161 601 \nQ 1400 384 1738 384 \nQ 2144 384 2425 690 \nQ 2706 997 2706 1503 \nQ 2706 1984 2436 2262 \nQ 2166 2541 1728 2541 \nQ 1456 2541 1237 2417 \nQ 1019 2294 894 2097 \nL 366 2166 \nL 809 4519 \nL 3088 4519 \nL 3088 3981 \nL 1259 3981 \nL 1013 2750 \nQ 1425 3038 1878 3038 \nQ 2478 3038 2890 2622 \nQ 3303 2206 3303 1553 \nQ 3303 931 2941 478 \nQ 2500 -78 1738 -78 \nQ 1113 -78 717 272 \nQ 322 622 266 1200 \nz\n\" transform=\"scale(0.015625)\"/>\n       </defs>\n       <use xlink:href=\"#ArialMT-35\"/>\n      </g>\n     </g>\n    </g>\n    <g id=\"xtick_7\">\n     <g id=\"text_7\">\n      <!-- 6 -->\n      <g style=\"fill: #262626\" transform=\"translate(188.224877 315.793438) scale(0.1 -0.1)\">\n       <defs>\n        <path id=\"ArialMT-36\" d=\"M 3184 3459 \nL 2625 3416 \nQ 2550 3747 2413 3897 \nQ 2184 4138 1850 4138 \nQ 1581 4138 1378 3988 \nQ 1113 3794 959 3422 \nQ 806 3050 800 2363 \nQ 1003 2672 1297 2822 \nQ 1591 2972 1913 2972 \nQ 2475 2972 2870 2558 \nQ 3266 2144 3266 1488 \nQ 3266 1056 3080 686 \nQ 2894 316 2569 119 \nQ 2244 -78 1831 -78 \nQ 1128 -78 684 439 \nQ 241 956 241 2144 \nQ 241 3472 731 4075 \nQ 1159 4600 1884 4600 \nQ 2425 4600 2770 4297 \nQ 3116 3994 3184 3459 \nz\nM 888 1484 \nQ 888 1194 1011 928 \nQ 1134 663 1356 523 \nQ 1578 384 1822 384 \nQ 2178 384 2434 671 \nQ 2691 959 2691 1453 \nQ 2691 1928 2437 2201 \nQ 2184 2475 1800 2475 \nQ 1419 2475 1153 2201 \nQ 888 1928 888 1484 \nz\n\" transform=\"scale(0.015625)\"/>\n       </defs>\n       <use xlink:href=\"#ArialMT-36\"/>\n      </g>\n     </g>\n    </g>\n    <g id=\"xtick_8\">\n     <g id=\"text_8\">\n      <!-- 7 -->\n      <g style=\"fill: #262626\" transform=\"translate(211.061285 315.793438) scale(0.1 -0.1)\">\n       <defs>\n        <path id=\"ArialMT-37\" d=\"M 303 3981 \nL 303 4522 \nL 3269 4522 \nL 3269 4084 \nQ 2831 3619 2401 2847 \nQ 1972 2075 1738 1259 \nQ 1569 684 1522 0 \nL 944 0 \nQ 953 541 1156 1306 \nQ 1359 2072 1739 2783 \nQ 2119 3494 2547 3981 \nL 303 3981 \nz\n\" transform=\"scale(0.015625)\"/>\n       </defs>\n       <use xlink:href=\"#ArialMT-37\"/>\n      </g>\n     </g>\n    </g>\n    <g id=\"xtick_9\">\n     <g id=\"text_9\">\n      <!-- 8 -->\n      <g style=\"fill: #262626\" transform=\"translate(233.897692 315.793438) scale(0.1 -0.1)\">\n       <defs>\n        <path id=\"ArialMT-38\" d=\"M 1131 2484 \nQ 781 2613 612 2850 \nQ 444 3088 444 3419 \nQ 444 3919 803 4259 \nQ 1163 4600 1759 4600 \nQ 2359 4600 2725 4251 \nQ 3091 3903 3091 3403 \nQ 3091 3084 2923 2848 \nQ 2756 2613 2416 2484 \nQ 2838 2347 3058 2040 \nQ 3278 1734 3278 1309 \nQ 3278 722 2862 322 \nQ 2447 -78 1769 -78 \nQ 1091 -78 675 323 \nQ 259 725 259 1325 \nQ 259 1772 486 2073 \nQ 713 2375 1131 2484 \nz\nM 1019 3438 \nQ 1019 3113 1228 2906 \nQ 1438 2700 1772 2700 \nQ 2097 2700 2305 2904 \nQ 2513 3109 2513 3406 \nQ 2513 3716 2298 3927 \nQ 2084 4138 1766 4138 \nQ 1444 4138 1231 3931 \nQ 1019 3725 1019 3438 \nz\nM 838 1322 \nQ 838 1081 952 856 \nQ 1066 631 1291 507 \nQ 1516 384 1775 384 \nQ 2178 384 2440 643 \nQ 2703 903 2703 1303 \nQ 2703 1709 2433 1975 \nQ 2163 2241 1756 2241 \nQ 1359 2241 1098 1978 \nQ 838 1716 838 1322 \nz\n\" transform=\"scale(0.015625)\"/>\n       </defs>\n       <use xlink:href=\"#ArialMT-38\"/>\n      </g>\n     </g>\n    </g>\n    <g id=\"xtick_10\">\n     <g id=\"text_10\">\n      <!-- 9 -->\n      <g style=\"fill: #262626\" transform=\"translate(256.734099 315.793438) scale(0.1 -0.1)\">\n       <defs>\n        <path id=\"ArialMT-39\" d=\"M 350 1059 \nL 891 1109 \nQ 959 728 1153 556 \nQ 1347 384 1650 384 \nQ 1909 384 2104 503 \nQ 2300 622 2425 820 \nQ 2550 1019 2634 1356 \nQ 2719 1694 2719 2044 \nQ 2719 2081 2716 2156 \nQ 2547 1888 2255 1720 \nQ 1963 1553 1622 1553 \nQ 1053 1553 659 1965 \nQ 266 2378 266 3053 \nQ 266 3750 677 4175 \nQ 1088 4600 1706 4600 \nQ 2153 4600 2523 4359 \nQ 2894 4119 3086 3673 \nQ 3278 3228 3278 2384 \nQ 3278 1506 3087 986 \nQ 2897 466 2520 194 \nQ 2144 -78 1638 -78 \nQ 1100 -78 759 220 \nQ 419 519 350 1059 \nz\nM 2653 3081 \nQ 2653 3566 2395 3850 \nQ 2138 4134 1775 4134 \nQ 1400 4134 1122 3828 \nQ 844 3522 844 3034 \nQ 844 2597 1108 2323 \nQ 1372 2050 1759 2050 \nQ 2150 2050 2401 2323 \nQ 2653 2597 2653 3081 \nz\n\" transform=\"scale(0.015625)\"/>\n       </defs>\n       <use xlink:href=\"#ArialMT-39\"/>\n      </g>\n     </g>\n    </g>\n   </g>\n   <g id=\"matplotlib.axis_2\">\n    <g id=\"ytick_1\">\n     <g id=\"text_11\">\n      <!-- −16 -->\n      <g style=\"fill: #262626\" transform=\"translate(7.2 299.52492) scale(0.1 -0.1)\">\n       <defs>\n        <path id=\"ArialMT-2212\" d=\"M 3381 1997 \nL 356 1997 \nL 356 2522 \nL 3381 2522 \nL 3381 1997 \nz\n\" transform=\"scale(0.015625)\"/>\n       </defs>\n       <use xlink:href=\"#ArialMT-2212\"/>\n       <use xlink:href=\"#ArialMT-31\" x=\"58.398438\"/>\n       <use xlink:href=\"#ArialMT-36\" x=\"114.013672\"/>\n      </g>\n     </g>\n    </g>\n    <g id=\"ytick_2\">\n     <g id=\"text_12\">\n      <!-- −14 -->\n      <g style=\"fill: #262626\" transform=\"translate(7.2 265.273621) scale(0.1 -0.1)\">\n       <use xlink:href=\"#ArialMT-2212\"/>\n       <use xlink:href=\"#ArialMT-31\" x=\"58.398438\"/>\n       <use xlink:href=\"#ArialMT-34\" x=\"114.013672\"/>\n      </g>\n     </g>\n    </g>\n    <g id=\"ytick_3\">\n     <g id=\"text_13\">\n      <!-- −12 -->\n      <g style=\"fill: #262626\" transform=\"translate(7.2 231.022322) scale(0.1 -0.1)\">\n       <use xlink:href=\"#ArialMT-2212\"/>\n       <use xlink:href=\"#ArialMT-31\" x=\"58.398438\"/>\n       <use xlink:href=\"#ArialMT-32\" x=\"114.013672\"/>\n      </g>\n     </g>\n    </g>\n    <g id=\"ytick_4\">\n     <g id=\"text_14\">\n      <!-- −10 -->\n      <g style=\"fill: #262626\" transform=\"translate(7.2 196.771024) scale(0.1 -0.1)\">\n       <use xlink:href=\"#ArialMT-2212\"/>\n       <use xlink:href=\"#ArialMT-31\" x=\"58.398438\"/>\n       <use xlink:href=\"#ArialMT-30\" x=\"114.013672\"/>\n      </g>\n     </g>\n    </g>\n    <g id=\"ytick_5\">\n     <g id=\"text_15\">\n      <!-- −8 -->\n      <g style=\"fill: #262626\" transform=\"translate(12.760938 162.519725) scale(0.1 -0.1)\">\n       <use xlink:href=\"#ArialMT-2212\"/>\n       <use xlink:href=\"#ArialMT-38\" x=\"58.398438\"/>\n      </g>\n     </g>\n    </g>\n    <g id=\"ytick_6\">\n     <g id=\"text_16\">\n      <!-- −6 -->\n      <g style=\"fill: #262626\" transform=\"translate(12.760938 128.268427) scale(0.1 -0.1)\">\n       <use xlink:href=\"#ArialMT-2212\"/>\n       <use xlink:href=\"#ArialMT-36\" x=\"58.398438\"/>\n      </g>\n     </g>\n    </g>\n    <g id=\"ytick_7\">\n     <g id=\"text_17\">\n      <!-- −4 -->\n      <g style=\"fill: #262626\" transform=\"translate(12.760938 94.017128) scale(0.1 -0.1)\">\n       <use xlink:href=\"#ArialMT-2212\"/>\n       <use xlink:href=\"#ArialMT-34\" x=\"58.398438\"/>\n      </g>\n     </g>\n    </g>\n    <g id=\"ytick_8\">\n     <g id=\"text_18\">\n      <!-- −2 -->\n      <g style=\"fill: #262626\" transform=\"translate(12.760938 59.76583) scale(0.1 -0.1)\">\n       <use xlink:href=\"#ArialMT-2212\"/>\n       <use xlink:href=\"#ArialMT-32\" x=\"58.398438\"/>\n      </g>\n     </g>\n    </g>\n    <g id=\"ytick_9\">\n     <g id=\"text_19\">\n      <!-- 0 -->\n      <g style=\"fill: #262626\" transform=\"translate(18.601563 25.514531) scale(0.1 -0.1)\">\n       <use xlink:href=\"#ArialMT-30\"/>\n      </g>\n     </g>\n    </g>\n   </g>\n   <g id=\"patch_3\">\n    <path d=\"M 44.85234 21.935625 \nL 63.121465 21.935625 \nL 63.121465 285.935625 \nL 44.85234 285.935625 \nz\n\" clip-path=\"url(#pc46c319ca3)\" style=\"fill: #1f77b4; stroke: #ffffff; stroke-linejoin: miter\"/>\n   </g>\n   <g id=\"patch_4\">\n    <path d=\"M 67.688747 21.935625 \nL 85.957873 21.935625 \nL 85.957873 21.948233 \nL 67.688747 21.948233 \nz\n\" clip-path=\"url(#pc46c319ca3)\" style=\"fill: #1f77b4; stroke: #ffffff; stroke-linejoin: miter\"/>\n   </g>\n   <g id=\"patch_5\">\n    <path d=\"M 90.525154 21.935625 \nL 108.79428 21.935625 \nL 108.79428 195.384287 \nL 90.525154 195.384287 \nz\n\" clip-path=\"url(#pc46c319ca3)\" style=\"fill: #1f77b4; stroke: #ffffff; stroke-linejoin: miter\"/>\n   </g>\n   <g id=\"patch_6\">\n    <path d=\"M 113.361561 21.935625 \nL 131.630687 21.935625 \nL 131.630687 204.261573 \nL 113.361561 204.261573 \nz\n\" clip-path=\"url(#pc46c319ca3)\" style=\"fill: #1f77b4; stroke: #ffffff; stroke-linejoin: miter\"/>\n   </g>\n   <g id=\"patch_7\">\n    <path d=\"M 136.197969 21.935625 \nL 154.467095 21.935625 \nL 154.467095 233.386705 \nL 136.197969 233.386705 \nz\n\" clip-path=\"url(#pc46c319ca3)\" style=\"fill: #1f77b4; stroke: #ffffff; stroke-linejoin: miter\"/>\n   </g>\n   <g id=\"patch_8\">\n    <path d=\"M 159.034376 21.935625 \nL 177.303502 21.935625 \nL 177.303502 205.731463 \nL 159.034376 205.731463 \nz\n\" clip-path=\"url(#pc46c319ca3)\" style=\"fill: #1f77b4; stroke: #ffffff; stroke-linejoin: miter\"/>\n   </g>\n   <g id=\"patch_9\">\n    <path d=\"M 181.870783 21.935625 \nL 200.139909 21.935625 \nL 200.139909 161.977319 \nL 181.870783 161.977319 \nz\n\" clip-path=\"url(#pc46c319ca3)\" style=\"fill: #1f77b4; stroke: #ffffff; stroke-linejoin: miter\"/>\n   </g>\n   <g id=\"patch_10\">\n    <path d=\"M 204.707191 21.935625 \nL 222.976316 21.935625 \nL 222.976316 241.952828 \nL 204.707191 241.952828 \nz\n\" clip-path=\"url(#pc46c319ca3)\" style=\"fill: #1f77b4; stroke: #ffffff; stroke-linejoin: miter\"/>\n   </g>\n   <g id=\"patch_11\">\n    <path d=\"M 227.543598 21.935625 \nL 245.812724 21.935625 \nL 245.812724 158.282807 \nL 227.543598 158.282807 \nz\n\" clip-path=\"url(#pc46c319ca3)\" style=\"fill: #1f77b4; stroke: #ffffff; stroke-linejoin: miter\"/>\n   </g>\n   <g id=\"patch_12\">\n    <path d=\"M 250.380005 21.935625 \nL 268.649131 21.935625 \nL 268.649131 213.738043 \nL 250.380005 213.738043 \nz\n\" clip-path=\"url(#pc46c319ca3)\" style=\"fill: #1f77b4; stroke: #ffffff; stroke-linejoin: miter\"/>\n   </g>\n   <g id=\"patch_13\">\n    <path d=\"M 33.6625 299.135625 \nL 33.6625 21.935625 \n\" style=\"fill: none; stroke: #262626; stroke-width: 1.25; stroke-linejoin: miter; stroke-linecap: square\"/>\n   </g>\n   <g id=\"patch_14\">\n    <path d=\"M 279.838971 299.135625 \nL 279.838971 21.935625 \n\" style=\"fill: none; stroke: #262626; stroke-width: 1.25; stroke-linejoin: miter; stroke-linecap: square\"/>\n   </g>\n   <g id=\"patch_15\">\n    <path d=\"M 33.6625 299.135625 \nL 279.838971 299.135625 \n\" style=\"fill: none; stroke: #262626; stroke-width: 1.25; stroke-linejoin: miter; stroke-linecap: square\"/>\n   </g>\n   <g id=\"patch_16\">\n    <path d=\"M 33.6625 21.935625 \nL 279.838971 21.935625 \n\" style=\"fill: none; stroke: #262626; stroke-width: 1.25; stroke-linejoin: miter; stroke-linecap: square\"/>\n   </g>\n   <g id=\"text_20\">\n    <!-- Log Prediction of number 1 -->\n    <g style=\"fill: #262626\" transform=\"translate(84.712298 15.935625) scale(0.12 -0.12)\">\n     <defs>\n      <path id=\"ArialMT-4c\" d=\"M 469 0 \nL 469 4581 \nL 1075 4581 \nL 1075 541 \nL 3331 541 \nL 3331 0 \nL 469 0 \nz\n\" transform=\"scale(0.015625)\"/>\n      <path id=\"ArialMT-6f\" d=\"M 213 1659 \nQ 213 2581 725 3025 \nQ 1153 3394 1769 3394 \nQ 2453 3394 2887 2945 \nQ 3322 2497 3322 1706 \nQ 3322 1066 3130 698 \nQ 2938 331 2570 128 \nQ 2203 -75 1769 -75 \nQ 1072 -75 642 372 \nQ 213 819 213 1659 \nz\nM 791 1659 \nQ 791 1022 1069 705 \nQ 1347 388 1769 388 \nQ 2188 388 2466 706 \nQ 2744 1025 2744 1678 \nQ 2744 2294 2464 2611 \nQ 2184 2928 1769 2928 \nQ 1347 2928 1069 2612 \nQ 791 2297 791 1659 \nz\n\" transform=\"scale(0.015625)\"/>\n      <path id=\"ArialMT-67\" d=\"M 319 -275 \nL 866 -356 \nQ 900 -609 1056 -725 \nQ 1266 -881 1628 -881 \nQ 2019 -881 2231 -725 \nQ 2444 -569 2519 -288 \nQ 2563 -116 2559 434 \nQ 2191 0 1641 0 \nQ 956 0 581 494 \nQ 206 988 206 1678 \nQ 206 2153 378 2554 \nQ 550 2956 876 3175 \nQ 1203 3394 1644 3394 \nQ 2231 3394 2613 2919 \nL 2613 3319 \nL 3131 3319 \nL 3131 450 \nQ 3131 -325 2973 -648 \nQ 2816 -972 2473 -1159 \nQ 2131 -1347 1631 -1347 \nQ 1038 -1347 672 -1080 \nQ 306 -813 319 -275 \nz\nM 784 1719 \nQ 784 1066 1043 766 \nQ 1303 466 1694 466 \nQ 2081 466 2343 764 \nQ 2606 1063 2606 1700 \nQ 2606 2309 2336 2618 \nQ 2066 2928 1684 2928 \nQ 1309 2928 1046 2623 \nQ 784 2319 784 1719 \nz\n\" transform=\"scale(0.015625)\"/>\n      <path id=\"ArialMT-20\" transform=\"scale(0.015625)\"/>\n      <path id=\"ArialMT-50\" d=\"M 494 0 \nL 494 4581 \nL 2222 4581 \nQ 2678 4581 2919 4538 \nQ 3256 4481 3484 4323 \nQ 3713 4166 3852 3881 \nQ 3991 3597 3991 3256 \nQ 3991 2672 3619 2267 \nQ 3247 1863 2275 1863 \nL 1100 1863 \nL 1100 0 \nL 494 0 \nz\nM 1100 2403 \nL 2284 2403 \nQ 2872 2403 3119 2622 \nQ 3366 2841 3366 3238 \nQ 3366 3525 3220 3729 \nQ 3075 3934 2838 4000 \nQ 2684 4041 2272 4041 \nL 1100 4041 \nL 1100 2403 \nz\n\" transform=\"scale(0.015625)\"/>\n      <path id=\"ArialMT-72\" d=\"M 416 0 \nL 416 3319 \nL 922 3319 \nL 922 2816 \nQ 1116 3169 1280 3281 \nQ 1444 3394 1641 3394 \nQ 1925 3394 2219 3213 \nL 2025 2691 \nQ 1819 2813 1613 2813 \nQ 1428 2813 1281 2702 \nQ 1134 2591 1072 2394 \nQ 978 2094 978 1738 \nL 978 0 \nL 416 0 \nz\n\" transform=\"scale(0.015625)\"/>\n      <path id=\"ArialMT-65\" d=\"M 2694 1069 \nL 3275 997 \nQ 3138 488 2766 206 \nQ 2394 -75 1816 -75 \nQ 1088 -75 661 373 \nQ 234 822 234 1631 \nQ 234 2469 665 2931 \nQ 1097 3394 1784 3394 \nQ 2450 3394 2872 2941 \nQ 3294 2488 3294 1666 \nQ 3294 1616 3291 1516 \nL 816 1516 \nQ 847 969 1125 678 \nQ 1403 388 1819 388 \nQ 2128 388 2347 550 \nQ 2566 713 2694 1069 \nz\nM 847 1978 \nL 2700 1978 \nQ 2663 2397 2488 2606 \nQ 2219 2931 1791 2931 \nQ 1403 2931 1139 2672 \nQ 875 2413 847 1978 \nz\n\" transform=\"scale(0.015625)\"/>\n      <path id=\"ArialMT-64\" d=\"M 2575 0 \nL 2575 419 \nQ 2259 -75 1647 -75 \nQ 1250 -75 917 144 \nQ 584 363 401 755 \nQ 219 1147 219 1656 \nQ 219 2153 384 2558 \nQ 550 2963 881 3178 \nQ 1213 3394 1622 3394 \nQ 1922 3394 2156 3267 \nQ 2391 3141 2538 2938 \nL 2538 4581 \nL 3097 4581 \nL 3097 0 \nL 2575 0 \nz\nM 797 1656 \nQ 797 1019 1065 703 \nQ 1334 388 1700 388 \nQ 2069 388 2326 689 \nQ 2584 991 2584 1609 \nQ 2584 2291 2321 2609 \nQ 2059 2928 1675 2928 \nQ 1300 2928 1048 2622 \nQ 797 2316 797 1656 \nz\n\" transform=\"scale(0.015625)\"/>\n      <path id=\"ArialMT-69\" d=\"M 425 3934 \nL 425 4581 \nL 988 4581 \nL 988 3934 \nL 425 3934 \nz\nM 425 0 \nL 425 3319 \nL 988 3319 \nL 988 0 \nL 425 0 \nz\n\" transform=\"scale(0.015625)\"/>\n      <path id=\"ArialMT-63\" d=\"M 2588 1216 \nL 3141 1144 \nQ 3050 572 2676 248 \nQ 2303 -75 1759 -75 \nQ 1078 -75 664 370 \nQ 250 816 250 1647 \nQ 250 2184 428 2587 \nQ 606 2991 970 3192 \nQ 1334 3394 1763 3394 \nQ 2303 3394 2647 3120 \nQ 2991 2847 3088 2344 \nL 2541 2259 \nQ 2463 2594 2264 2762 \nQ 2066 2931 1784 2931 \nQ 1359 2931 1093 2626 \nQ 828 2322 828 1663 \nQ 828 994 1084 691 \nQ 1341 388 1753 388 \nQ 2084 388 2306 591 \nQ 2528 794 2588 1216 \nz\n\" transform=\"scale(0.015625)\"/>\n      <path id=\"ArialMT-74\" d=\"M 1650 503 \nL 1731 6 \nQ 1494 -44 1306 -44 \nQ 1000 -44 831 53 \nQ 663 150 594 308 \nQ 525 466 525 972 \nL 525 2881 \nL 113 2881 \nL 113 3319 \nL 525 3319 \nL 525 4141 \nL 1084 4478 \nL 1084 3319 \nL 1650 3319 \nL 1650 2881 \nL 1084 2881 \nL 1084 941 \nQ 1084 700 1114 631 \nQ 1144 563 1211 522 \nQ 1278 481 1403 481 \nQ 1497 481 1650 503 \nz\n\" transform=\"scale(0.015625)\"/>\n      <path id=\"ArialMT-6e\" d=\"M 422 0 \nL 422 3319 \nL 928 3319 \nL 928 2847 \nQ 1294 3394 1984 3394 \nQ 2284 3394 2536 3286 \nQ 2788 3178 2913 3003 \nQ 3038 2828 3088 2588 \nQ 3119 2431 3119 2041 \nL 3119 0 \nL 2556 0 \nL 2556 2019 \nQ 2556 2363 2490 2533 \nQ 2425 2703 2258 2804 \nQ 2091 2906 1866 2906 \nQ 1506 2906 1245 2678 \nQ 984 2450 984 1813 \nL 984 0 \nL 422 0 \nz\n\" transform=\"scale(0.015625)\"/>\n      <path id=\"ArialMT-66\" d=\"M 556 0 \nL 556 2881 \nL 59 2881 \nL 59 3319 \nL 556 3319 \nL 556 3672 \nQ 556 4006 616 4169 \nQ 697 4388 901 4523 \nQ 1106 4659 1475 4659 \nQ 1713 4659 2000 4603 \nL 1916 4113 \nQ 1741 4144 1584 4144 \nQ 1328 4144 1222 4034 \nQ 1116 3925 1116 3625 \nL 1116 3319 \nL 1763 3319 \nL 1763 2881 \nL 1116 2881 \nL 1116 0 \nL 556 0 \nz\n\" transform=\"scale(0.015625)\"/>\n      <path id=\"ArialMT-75\" d=\"M 2597 0 \nL 2597 488 \nQ 2209 -75 1544 -75 \nQ 1250 -75 995 37 \nQ 741 150 617 320 \nQ 494 491 444 738 \nQ 409 903 409 1263 \nL 409 3319 \nL 972 3319 \nL 972 1478 \nQ 972 1038 1006 884 \nQ 1059 663 1231 536 \nQ 1403 409 1656 409 \nQ 1909 409 2131 539 \nQ 2353 669 2445 892 \nQ 2538 1116 2538 1541 \nL 2538 3319 \nL 3100 3319 \nL 3100 0 \nL 2597 0 \nz\n\" transform=\"scale(0.015625)\"/>\n      <path id=\"ArialMT-6d\" d=\"M 422 0 \nL 422 3319 \nL 925 3319 \nL 925 2853 \nQ 1081 3097 1340 3245 \nQ 1600 3394 1931 3394 \nQ 2300 3394 2536 3241 \nQ 2772 3088 2869 2813 \nQ 3263 3394 3894 3394 \nQ 4388 3394 4653 3120 \nQ 4919 2847 4919 2278 \nL 4919 0 \nL 4359 0 \nL 4359 2091 \nQ 4359 2428 4304 2576 \nQ 4250 2725 4106 2815 \nQ 3963 2906 3769 2906 \nQ 3419 2906 3187 2673 \nQ 2956 2441 2956 1928 \nL 2956 0 \nL 2394 0 \nL 2394 2156 \nQ 2394 2531 2256 2718 \nQ 2119 2906 1806 2906 \nQ 1569 2906 1367 2781 \nQ 1166 2656 1075 2415 \nQ 984 2175 984 1722 \nL 984 0 \nL 422 0 \nz\n\" transform=\"scale(0.015625)\"/>\n      <path id=\"ArialMT-62\" d=\"M 941 0 \nL 419 0 \nL 419 4581 \nL 981 4581 \nL 981 2947 \nQ 1338 3394 1891 3394 \nQ 2197 3394 2470 3270 \nQ 2744 3147 2920 2923 \nQ 3097 2700 3197 2384 \nQ 3297 2069 3297 1709 \nQ 3297 856 2875 390 \nQ 2453 -75 1863 -75 \nQ 1275 -75 941 416 \nL 941 0 \nz\nM 934 1684 \nQ 934 1088 1097 822 \nQ 1363 388 1816 388 \nQ 2184 388 2453 708 \nQ 2722 1028 2722 1663 \nQ 2722 2313 2464 2622 \nQ 2206 2931 1841 2931 \nQ 1472 2931 1203 2611 \nQ 934 2291 934 1684 \nz\n\" transform=\"scale(0.015625)\"/>\n     </defs>\n     <use xlink:href=\"#ArialMT-4c\"/>\n     <use xlink:href=\"#ArialMT-6f\" x=\"55.615234\"/>\n     <use xlink:href=\"#ArialMT-67\" x=\"111.230469\"/>\n     <use xlink:href=\"#ArialMT-20\" x=\"166.845703\"/>\n     <use xlink:href=\"#ArialMT-50\" x=\"194.628906\"/>\n     <use xlink:href=\"#ArialMT-72\" x=\"261.328125\"/>\n     <use xlink:href=\"#ArialMT-65\" x=\"294.628906\"/>\n     <use xlink:href=\"#ArialMT-64\" x=\"350.244141\"/>\n     <use xlink:href=\"#ArialMT-69\" x=\"405.859375\"/>\n     <use xlink:href=\"#ArialMT-63\" x=\"428.076172\"/>\n     <use xlink:href=\"#ArialMT-74\" x=\"478.076172\"/>\n     <use xlink:href=\"#ArialMT-69\" x=\"505.859375\"/>\n     <use xlink:href=\"#ArialMT-6f\" x=\"528.076172\"/>\n     <use xlink:href=\"#ArialMT-6e\" x=\"583.691406\"/>\n     <use xlink:href=\"#ArialMT-20\" x=\"639.306641\"/>\n     <use xlink:href=\"#ArialMT-6f\" x=\"667.089844\"/>\n     <use xlink:href=\"#ArialMT-66\" x=\"722.705078\"/>\n     <use xlink:href=\"#ArialMT-20\" x=\"750.488281\"/>\n     <use xlink:href=\"#ArialMT-6e\" x=\"778.271484\"/>\n     <use xlink:href=\"#ArialMT-75\" x=\"833.886719\"/>\n     <use xlink:href=\"#ArialMT-6d\" x=\"889.501953\"/>\n     <use xlink:href=\"#ArialMT-62\" x=\"972.802734\"/>\n     <use xlink:href=\"#ArialMT-65\" x=\"1028.417969\"/>\n     <use xlink:href=\"#ArialMT-72\" x=\"1084.033203\"/>\n     <use xlink:href=\"#ArialMT-20\" x=\"1117.333984\"/>\n     <use xlink:href=\"#ArialMT-31\" x=\"1145.117188\"/>\n    </g>\n   </g>\n  </g>\n  <g id=\"axes_2\">\n   <g id=\"patch_17\">\n    <path d=\"M 329.074265 299.135625 \nL 575.250735 299.135625 \nL 575.250735 21.935625 \nL 329.074265 21.935625 \nz\n\" style=\"fill: #ffffff\"/>\n   </g>\n   <g id=\"matplotlib.axis_3\">\n    <g id=\"xtick_11\">\n     <g id=\"text_21\">\n      <!-- 0 -->\n      <g style=\"fill: #262626\" transform=\"translate(346.618198 315.793438) scale(0.1 -0.1)\">\n       <use xlink:href=\"#ArialMT-30\"/>\n      </g>\n     </g>\n    </g>\n    <g id=\"xtick_12\">\n     <g id=\"text_22\">\n      <!-- 1 -->\n      <g style=\"fill: #262626\" transform=\"translate(369.454606 315.793438) scale(0.1 -0.1)\">\n       <use xlink:href=\"#ArialMT-31\"/>\n      </g>\n     </g>\n    </g>\n    <g id=\"xtick_13\">\n     <g id=\"text_23\">\n      <!-- 2 -->\n      <g style=\"fill: #262626\" transform=\"translate(392.291013 315.793438) scale(0.1 -0.1)\">\n       <use xlink:href=\"#ArialMT-32\"/>\n      </g>\n     </g>\n    </g>\n    <g id=\"xtick_14\">\n     <g id=\"text_24\">\n      <!-- 3 -->\n      <g style=\"fill: #262626\" transform=\"translate(415.12742 315.793438) scale(0.1 -0.1)\">\n       <use xlink:href=\"#ArialMT-33\"/>\n      </g>\n     </g>\n    </g>\n    <g id=\"xtick_15\">\n     <g id=\"text_25\">\n      <!-- 4 -->\n      <g style=\"fill: #262626\" transform=\"translate(437.963828 315.793438) scale(0.1 -0.1)\">\n       <use xlink:href=\"#ArialMT-34\"/>\n      </g>\n     </g>\n    </g>\n    <g id=\"xtick_16\">\n     <g id=\"text_26\">\n      <!-- 5 -->\n      <g style=\"fill: #262626\" transform=\"translate(460.800235 315.793438) scale(0.1 -0.1)\">\n       <use xlink:href=\"#ArialMT-35\"/>\n      </g>\n     </g>\n    </g>\n    <g id=\"xtick_17\">\n     <g id=\"text_27\">\n      <!-- 6 -->\n      <g style=\"fill: #262626\" transform=\"translate(483.636642 315.793438) scale(0.1 -0.1)\">\n       <use xlink:href=\"#ArialMT-36\"/>\n      </g>\n     </g>\n    </g>\n    <g id=\"xtick_18\">\n     <g id=\"text_28\">\n      <!-- 7 -->\n      <g style=\"fill: #262626\" transform=\"translate(506.473049 315.793438) scale(0.1 -0.1)\">\n       <use xlink:href=\"#ArialMT-37\"/>\n      </g>\n     </g>\n    </g>\n    <g id=\"xtick_19\">\n     <g id=\"text_29\">\n      <!-- 8 -->\n      <g style=\"fill: #262626\" transform=\"translate(529.309457 315.793438) scale(0.1 -0.1)\">\n       <use xlink:href=\"#ArialMT-38\"/>\n      </g>\n     </g>\n    </g>\n    <g id=\"xtick_20\">\n     <g id=\"text_30\">\n      <!-- 9 -->\n      <g style=\"fill: #262626\" transform=\"translate(552.145864 315.793438) scale(0.1 -0.1)\">\n       <use xlink:href=\"#ArialMT-39\"/>\n      </g>\n     </g>\n    </g>\n   </g>\n   <g id=\"matplotlib.axis_4\">\n    <g id=\"ytick_10\">\n     <g id=\"text_31\">\n      <!-- 0.0 -->\n      <g style=\"fill: #262626\" transform=\"translate(305.674265 302.714531) scale(0.1 -0.1)\">\n       <defs>\n        <path id=\"ArialMT-2e\" d=\"M 581 0 \nL 581 641 \nL 1222 641 \nL 1222 0 \nL 581 0 \nz\n\" transform=\"scale(0.015625)\"/>\n       </defs>\n       <use xlink:href=\"#ArialMT-30\"/>\n       <use xlink:href=\"#ArialMT-2e\" x=\"55.615234\"/>\n       <use xlink:href=\"#ArialMT-30\" x=\"83.398438\"/>\n      </g>\n     </g>\n    </g>\n    <g id=\"ytick_11\">\n     <g id=\"text_32\">\n      <!-- 0.2 -->\n      <g style=\"fill: #262626\" transform=\"translate(305.674265 249.875645) scale(0.1 -0.1)\">\n       <use xlink:href=\"#ArialMT-30\"/>\n       <use xlink:href=\"#ArialMT-2e\" x=\"55.615234\"/>\n       <use xlink:href=\"#ArialMT-32\" x=\"83.398438\"/>\n      </g>\n     </g>\n    </g>\n    <g id=\"ytick_12\">\n     <g id=\"text_33\">\n      <!-- 0.4 -->\n      <g style=\"fill: #262626\" transform=\"translate(305.674265 197.036759) scale(0.1 -0.1)\">\n       <use xlink:href=\"#ArialMT-30\"/>\n       <use xlink:href=\"#ArialMT-2e\" x=\"55.615234\"/>\n       <use xlink:href=\"#ArialMT-34\" x=\"83.398438\"/>\n      </g>\n     </g>\n    </g>\n    <g id=\"ytick_13\">\n     <g id=\"text_34\">\n      <!-- 0.6 -->\n      <g style=\"fill: #262626\" transform=\"translate(305.674265 144.197873) scale(0.1 -0.1)\">\n       <use xlink:href=\"#ArialMT-30\"/>\n       <use xlink:href=\"#ArialMT-2e\" x=\"55.615234\"/>\n       <use xlink:href=\"#ArialMT-36\" x=\"83.398438\"/>\n      </g>\n     </g>\n    </g>\n    <g id=\"ytick_14\">\n     <g id=\"text_35\">\n      <!-- 0.8 -->\n      <g style=\"fill: #262626\" transform=\"translate(305.674265 91.358987) scale(0.1 -0.1)\">\n       <use xlink:href=\"#ArialMT-30\"/>\n       <use xlink:href=\"#ArialMT-2e\" x=\"55.615234\"/>\n       <use xlink:href=\"#ArialMT-38\" x=\"83.398438\"/>\n      </g>\n     </g>\n    </g>\n    <g id=\"ytick_15\">\n     <g id=\"text_36\">\n      <!-- 1.0 -->\n      <g style=\"fill: #262626\" transform=\"translate(305.674265 38.5201) scale(0.1 -0.1)\">\n       <use xlink:href=\"#ArialMT-31\"/>\n       <use xlink:href=\"#ArialMT-2e\" x=\"55.615234\"/>\n       <use xlink:href=\"#ArialMT-30\" x=\"83.398438\"/>\n      </g>\n     </g>\n    </g>\n   </g>\n   <g id=\"patch_18\">\n    <path d=\"M 340.264104 299.135625 \nL 358.53323 299.135625 \nL 358.53323 299.135572 \nL 340.264104 299.135572 \nz\n\" clip-path=\"url(#p213b3eb4e6)\" style=\"fill: #1f77b4; stroke: #ffffff; stroke-linejoin: miter\"/>\n   </g>\n   <g id=\"patch_19\">\n    <path d=\"M 363.100512 299.135625 \nL 381.369637 299.135625 \nL 381.369637 35.135625 \nL 363.100512 35.135625 \nz\n\" clip-path=\"url(#p213b3eb4e6)\" style=\"fill: #1f77b4; stroke: #ffffff; stroke-linejoin: miter\"/>\n   </g>\n   <g id=\"patch_20\">\n    <path d=\"M 385.936919 299.135625 \nL 404.206045 299.135625 \nL 404.206045 299.125072 \nL 385.936919 299.125072 \nz\n\" clip-path=\"url(#p213b3eb4e6)\" style=\"fill: #1f77b4; stroke: #ffffff; stroke-linejoin: miter\"/>\n   </g>\n   <g id=\"patch_21\">\n    <path d=\"M 408.773326 299.135625 \nL 427.042452 299.135625 \nL 427.042452 299.129341 \nL 408.773326 299.129341 \nz\n\" clip-path=\"url(#p213b3eb4e6)\" style=\"fill: #1f77b4; stroke: #ffffff; stroke-linejoin: miter\"/>\n   </g>\n   <g id=\"patch_22\">\n    <path d=\"M 431.609733 299.135625 \nL 449.878859 299.135625 \nL 449.878859 299.134478 \nL 431.609733 299.134478 \nz\n\" clip-path=\"url(#p213b3eb4e6)\" style=\"fill: #1f77b4; stroke: #ffffff; stroke-linejoin: miter\"/>\n   </g>\n   <g id=\"patch_23\">\n    <path d=\"M 454.446141 299.135625 \nL 472.715267 299.135625 \nL 472.715267 299.129857 \nL 454.446141 299.129857 \nz\n\" clip-path=\"url(#p213b3eb4e6)\" style=\"fill: #1f77b4; stroke: #ffffff; stroke-linejoin: miter\"/>\n   </g>\n   <g id=\"patch_24\">\n    <path d=\"M 477.282548 299.135625 \nL 495.551674 299.135625 \nL 495.551674 299.061398 \nL 477.282548 299.061398 \nz\n\" clip-path=\"url(#p213b3eb4e6)\" style=\"fill: #1f77b4; stroke: #ffffff; stroke-linejoin: miter\"/>\n   </g>\n   <g id=\"patch_25\">\n    <path d=\"M 500.118955 299.135625 \nL 518.388081 299.135625 \nL 518.388081 299.134929 \nL 500.118955 299.134929 \nz\n\" clip-path=\"url(#p213b3eb4e6)\" style=\"fill: #1f77b4; stroke: #ffffff; stroke-linejoin: miter\"/>\n   </g>\n   <g id=\"patch_26\">\n    <path d=\"M 522.955363 299.135625 \nL 541.224488 299.135625 \nL 541.224488 299.043526 \nL 522.955363 299.043526 \nz\n\" clip-path=\"url(#p213b3eb4e6)\" style=\"fill: #1f77b4; stroke: #ffffff; stroke-linejoin: miter\"/>\n   </g>\n   <g id=\"patch_27\">\n    <path d=\"M 545.79177 299.135625 \nL 564.060896 299.135625 \nL 564.060896 299.132011 \nL 545.79177 299.132011 \nz\n\" clip-path=\"url(#p213b3eb4e6)\" style=\"fill: #1f77b4; stroke: #ffffff; stroke-linejoin: miter\"/>\n   </g>\n   <g id=\"patch_28\">\n    <path d=\"M 329.074265 299.135625 \nL 329.074265 21.935625 \n\" style=\"fill: none; stroke: #262626; stroke-width: 1.25; stroke-linejoin: miter; stroke-linecap: square\"/>\n   </g>\n   <g id=\"patch_29\">\n    <path d=\"M 575.250735 299.135625 \nL 575.250735 21.935625 \n\" style=\"fill: none; stroke: #262626; stroke-width: 1.25; stroke-linejoin: miter; stroke-linecap: square\"/>\n   </g>\n   <g id=\"patch_30\">\n    <path d=\"M 329.074265 299.135625 \nL 575.250735 299.135625 \n\" style=\"fill: none; stroke: #262626; stroke-width: 1.25; stroke-linejoin: miter; stroke-linecap: square\"/>\n   </g>\n   <g id=\"patch_31\">\n    <path d=\"M 329.074265 21.935625 \nL 575.250735 21.935625 \n\" style=\"fill: none; stroke: #262626; stroke-width: 1.25; stroke-linejoin: miter; stroke-linecap: square\"/>\n   </g>\n   <g id=\"text_37\">\n    <!-- Normal Prediction of number 1 -->\n    <g style=\"fill: #262626\" transform=\"translate(370.79875 15.935625) scale(0.12 -0.12)\">\n     <defs>\n      <path id=\"ArialMT-4e\" d=\"M 488 0 \nL 488 4581 \nL 1109 4581 \nL 3516 984 \nL 3516 4581 \nL 4097 4581 \nL 4097 0 \nL 3475 0 \nL 1069 3600 \nL 1069 0 \nL 488 0 \nz\n\" transform=\"scale(0.015625)\"/>\n      <path id=\"ArialMT-61\" d=\"M 2588 409 \nQ 2275 144 1986 34 \nQ 1697 -75 1366 -75 \nQ 819 -75 525 192 \nQ 231 459 231 875 \nQ 231 1119 342 1320 \nQ 453 1522 633 1644 \nQ 813 1766 1038 1828 \nQ 1203 1872 1538 1913 \nQ 2219 1994 2541 2106 \nQ 2544 2222 2544 2253 \nQ 2544 2597 2384 2738 \nQ 2169 2928 1744 2928 \nQ 1347 2928 1158 2789 \nQ 969 2650 878 2297 \nL 328 2372 \nQ 403 2725 575 2942 \nQ 747 3159 1072 3276 \nQ 1397 3394 1825 3394 \nQ 2250 3394 2515 3294 \nQ 2781 3194 2906 3042 \nQ 3031 2891 3081 2659 \nQ 3109 2516 3109 2141 \nL 3109 1391 \nQ 3109 606 3145 398 \nQ 3181 191 3288 0 \nL 2700 0 \nQ 2613 175 2588 409 \nz\nM 2541 1666 \nQ 2234 1541 1622 1453 \nQ 1275 1403 1131 1340 \nQ 988 1278 909 1158 \nQ 831 1038 831 891 \nQ 831 666 1001 516 \nQ 1172 366 1500 366 \nQ 1825 366 2078 508 \nQ 2331 650 2450 897 \nQ 2541 1088 2541 1459 \nL 2541 1666 \nz\n\" transform=\"scale(0.015625)\"/>\n      <path id=\"ArialMT-6c\" d=\"M 409 0 \nL 409 4581 \nL 972 4581 \nL 972 0 \nL 409 0 \nz\n\" transform=\"scale(0.015625)\"/>\n     </defs>\n     <use xlink:href=\"#ArialMT-4e\"/>\n     <use xlink:href=\"#ArialMT-6f\" x=\"72.216797\"/>\n     <use xlink:href=\"#ArialMT-72\" x=\"127.832031\"/>\n     <use xlink:href=\"#ArialMT-6d\" x=\"161.132812\"/>\n     <use xlink:href=\"#ArialMT-61\" x=\"244.433594\"/>\n     <use xlink:href=\"#ArialMT-6c\" x=\"300.048828\"/>\n     <use xlink:href=\"#ArialMT-20\" x=\"322.265625\"/>\n     <use xlink:href=\"#ArialMT-50\" x=\"350.048828\"/>\n     <use xlink:href=\"#ArialMT-72\" x=\"416.748047\"/>\n     <use xlink:href=\"#ArialMT-65\" x=\"450.048828\"/>\n     <use xlink:href=\"#ArialMT-64\" x=\"505.664062\"/>\n     <use xlink:href=\"#ArialMT-69\" x=\"561.279297\"/>\n     <use xlink:href=\"#ArialMT-63\" x=\"583.496094\"/>\n     <use xlink:href=\"#ArialMT-74\" x=\"633.496094\"/>\n     <use xlink:href=\"#ArialMT-69\" x=\"661.279297\"/>\n     <use xlink:href=\"#ArialMT-6f\" x=\"683.496094\"/>\n     <use xlink:href=\"#ArialMT-6e\" x=\"739.111328\"/>\n     <use xlink:href=\"#ArialMT-20\" x=\"794.726562\"/>\n     <use xlink:href=\"#ArialMT-6f\" x=\"822.509766\"/>\n     <use xlink:href=\"#ArialMT-66\" x=\"878.125\"/>\n     <use xlink:href=\"#ArialMT-20\" x=\"905.908203\"/>\n     <use xlink:href=\"#ArialMT-6e\" x=\"933.691406\"/>\n     <use xlink:href=\"#ArialMT-75\" x=\"989.306641\"/>\n     <use xlink:href=\"#ArialMT-6d\" x=\"1044.921875\"/>\n     <use xlink:href=\"#ArialMT-62\" x=\"1128.222656\"/>\n     <use xlink:href=\"#ArialMT-65\" x=\"1183.837891\"/>\n     <use xlink:href=\"#ArialMT-72\" x=\"1239.453125\"/>\n     <use xlink:href=\"#ArialMT-20\" x=\"1272.753906\"/>\n     <use xlink:href=\"#ArialMT-31\" x=\"1300.537109\"/>\n    </g>\n   </g>\n  </g>\n  <g id=\"axes_3\">\n   <g id=\"patch_32\">\n    <path d=\"M 624.486029 283.62386 \nL 870.6625 283.62386 \nL 870.6625 37.44739 \nL 624.486029 37.44739 \nz\n\" style=\"fill: #ffffff\"/>\n   </g>\n   <g clip-path=\"url(#pd077738c1c)\">\n    <image xlink:href=\"data:image/png;base64,\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\" id=\"image76333c95e9\" transform=\"scale(1 -1) translate(0 -246.24)\" x=\"624.486029\" y=\"-37.38386\" width=\"246.24\" height=\"246.24\"/>\n   </g>\n   <g id=\"matplotlib.axis_5\">\n    <g id=\"xtick_21\">\n     <g id=\"text_38\">\n      <!-- 0 -->\n      <g style=\"fill: #262626\" transform=\"translate(626.101569 300.281673) scale(0.1 -0.1)\">\n       <use xlink:href=\"#ArialMT-30\"/>\n      </g>\n     </g>\n    </g>\n    <g id=\"xtick_22\">\n     <g id=\"text_39\">\n      <!-- 5 -->\n      <g style=\"fill: #262626\" transform=\"translate(670.061653 300.281673) scale(0.1 -0.1)\">\n       <use xlink:href=\"#ArialMT-35\"/>\n      </g>\n     </g>\n    </g>\n    <g id=\"xtick_23\">\n     <g id=\"text_40\">\n      <!-- 10 -->\n      <g style=\"fill: #262626\" transform=\"translate(711.241268 300.281673) scale(0.1 -0.1)\">\n       <use xlink:href=\"#ArialMT-31\"/>\n       <use xlink:href=\"#ArialMT-30\" x=\"55.615234\"/>\n      </g>\n     </g>\n    </g>\n    <g id=\"xtick_24\">\n     <g id=\"text_41\">\n      <!-- 15 -->\n      <g style=\"fill: #262626\" transform=\"translate(755.201352 300.281673) scale(0.1 -0.1)\">\n       <use xlink:href=\"#ArialMT-31\"/>\n       <use xlink:href=\"#ArialMT-35\" x=\"55.615234\"/>\n      </g>\n     </g>\n    </g>\n    <g id=\"xtick_25\">\n     <g id=\"text_42\">\n      <!-- 20 -->\n      <g style=\"fill: #262626\" transform=\"translate(799.161436 300.281673) scale(0.1 -0.1)\">\n       <use xlink:href=\"#ArialMT-32\"/>\n       <use xlink:href=\"#ArialMT-30\" x=\"55.615234\"/>\n      </g>\n     </g>\n    </g>\n    <g id=\"xtick_26\">\n     <g id=\"text_43\">\n      <!-- 25 -->\n      <g style=\"fill: #262626\" transform=\"translate(843.12152 300.281673) scale(0.1 -0.1)\">\n       <use xlink:href=\"#ArialMT-32\"/>\n       <use xlink:href=\"#ArialMT-35\" x=\"55.615234\"/>\n      </g>\n     </g>\n    </g>\n   </g>\n   <g id=\"matplotlib.axis_6\">\n    <g id=\"ytick_16\">\n     <g id=\"text_44\">\n      <!-- 0 -->\n      <g style=\"fill: #262626\" transform=\"translate(609.425092 45.422304) scale(0.1 -0.1)\">\n       <use xlink:href=\"#ArialMT-30\"/>\n      </g>\n     </g>\n    </g>\n    <g id=\"ytick_17\">\n     <g id=\"text_45\">\n      <!-- 5 -->\n      <g style=\"fill: #262626\" transform=\"translate(609.425092 89.382388) scale(0.1 -0.1)\">\n       <use xlink:href=\"#ArialMT-35\"/>\n      </g>\n     </g>\n    </g>\n    <g id=\"ytick_18\">\n     <g id=\"text_46\">\n      <!-- 10 -->\n      <g style=\"fill: #262626\" transform=\"translate(603.864154 133.342472) scale(0.1 -0.1)\">\n       <use xlink:href=\"#ArialMT-31\"/>\n       <use xlink:href=\"#ArialMT-30\" x=\"55.615234\"/>\n      </g>\n     </g>\n    </g>\n    <g id=\"ytick_19\">\n     <g id=\"text_47\">\n      <!-- 15 -->\n      <g style=\"fill: #262626\" transform=\"translate(603.864154 177.302556) scale(0.1 -0.1)\">\n       <use xlink:href=\"#ArialMT-31\"/>\n       <use xlink:href=\"#ArialMT-35\" x=\"55.615234\"/>\n      </g>\n     </g>\n    </g>\n    <g id=\"ytick_20\">\n     <g id=\"text_48\">\n      <!-- 20 -->\n      <g style=\"fill: #262626\" transform=\"translate(603.864154 221.26264) scale(0.1 -0.1)\">\n       <use xlink:href=\"#ArialMT-32\"/>\n       <use xlink:href=\"#ArialMT-30\" x=\"55.615234\"/>\n      </g>\n     </g>\n    </g>\n    <g id=\"ytick_21\">\n     <g id=\"text_49\">\n      <!-- 25 -->\n      <g style=\"fill: #262626\" transform=\"translate(603.864154 265.222725) scale(0.1 -0.1)\">\n       <use xlink:href=\"#ArialMT-32\"/>\n       <use xlink:href=\"#ArialMT-35\" x=\"55.615234\"/>\n      </g>\n     </g>\n    </g>\n   </g>\n   <g id=\"patch_33\">\n    <path d=\"M 624.486029 283.62386 \nL 624.486029 37.44739 \n\" style=\"fill: none; stroke: #262626; stroke-width: 1.25; stroke-linejoin: miter; stroke-linecap: square\"/>\n   </g>\n   <g id=\"patch_34\">\n    <path d=\"M 870.6625 283.62386 \nL 870.6625 37.44739 \n\" style=\"fill: none; stroke: #262626; stroke-width: 1.25; stroke-linejoin: miter; stroke-linecap: square\"/>\n   </g>\n   <g id=\"patch_35\">\n    <path d=\"M 624.486029 283.62386 \nL 870.6625 283.62386 \n\" style=\"fill: none; stroke: #262626; stroke-width: 1.25; stroke-linejoin: miter; stroke-linecap: square\"/>\n   </g>\n   <g id=\"patch_36\">\n    <path d=\"M 624.486029 37.44739 \nL 870.6625 37.44739 \n\" style=\"fill: none; stroke: #262626; stroke-width: 1.25; stroke-linejoin: miter; stroke-linecap: square\"/>\n   </g>\n   <g id=\"text_50\">\n    <!-- number 1 -->\n    <g style=\"fill: #262626\" transform=\"translate(722.228952 31.44739) scale(0.12 -0.12)\">\n     <use xlink:href=\"#ArialMT-6e\"/>\n     <use xlink:href=\"#ArialMT-75\" x=\"55.615234\"/>\n     <use xlink:href=\"#ArialMT-6d\" x=\"111.230469\"/>\n     <use xlink:href=\"#ArialMT-62\" x=\"194.53125\"/>\n     <use xlink:href=\"#ArialMT-65\" x=\"250.146484\"/>\n     <use xlink:href=\"#ArialMT-72\" x=\"305.761719\"/>\n     <use xlink:href=\"#ArialMT-20\" x=\"339.0625\"/>\n     <use xlink:href=\"#ArialMT-31\" x=\"366.845703\"/>\n    </g>\n   </g>\n  </g>\n </g>\n <defs>\n  <clipPath id=\"pc46c319ca3\">\n   <rect x=\"33.6625\" y=\"21.935625\" width=\"246.176471\" height=\"277.2\"/>\n  </clipPath>\n  <clipPath id=\"p213b3eb4e6\">\n   <rect x=\"329.074265\" y=\"21.935625\" width=\"246.176471\" height=\"277.2\"/>\n  </clipPath>\n  <clipPath id=\"pd077738c1c\">\n   <rect x=\"624.486029\" y=\"37.44739\" width=\"246.176471\" height=\"246.176471\"/>\n  </clipPath>\n </defs>\n</svg>\n"
     },
     "metadata": {},
     "output_type": "display_data"
    }
   ],
   "source": [
    "ch = np.random.choice(len(X_test))\n",
    "\n",
    "prediction = model(X_test[ch].view(1,-1))\n",
    "\n",
    "plt.figure(figsize=(15,5))\n",
    "\n",
    "plt.subplot(1,3,1)\n",
    "plt.title(f'Log Prediction of number {y_test[ch]}')\n",
    "plt.bar(range(10), prediction.detach().flatten())\n",
    "plt.xticks(range(10))\n",
    "\n",
    "plt.subplot(1,3,2)\n",
    "plt.title(f'Normal Prediction of number {y_test[ch]}')\n",
    "plt.bar(range(10), torch.exp(prediction.detach().flatten()))\n",
    "plt.xticks(range(10))\n",
    "\n",
    "plt.subplot(1,3,3)\n",
    "plt.title(f'number {y_test[ch]}')\n",
    "plt.imshow(X_test[ch],cmap='gray')\n",
    "\n",
    "plt.show()"
   ],
   "metadata": {
    "collapsed": false,
    "ExecuteTime": {
     "end_time": "2023-09-23T18:30:49.977436100Z",
     "start_time": "2023-09-23T18:30:49.472663700Z"
    }
   }
  },
  {
   "cell_type": "markdown",
   "source": [
    "## Visualize a mistake"
   ],
   "metadata": {
    "collapsed": false
   }
  },
  {
   "cell_type": "code",
   "execution_count": 467,
   "outputs": [
    {
     "data": {
      "text/plain": "<Figure size 1500x500 with 3 Axes>",
      "image/svg+xml": "<?xml version=\"1.0\" encoding=\"utf-8\" standalone=\"no\"?>\n<!DOCTYPE svg PUBLIC \"-//W3C//DTD SVG 1.1//EN\"\n  \"http://www.w3.org/Graphics/SVG/1.1/DTD/svg11.dtd\">\n<svg xmlns:xlink=\"http://www.w3.org/1999/xlink\" width=\"877.8625pt\" height=\"324.870313pt\" viewBox=\"0 0 877.8625 324.870313\" xmlns=\"http://www.w3.org/2000/svg\" version=\"1.1\">\n <metadata>\n  <rdf:RDF xmlns:dc=\"http://purl.org/dc/elements/1.1/\" xmlns:cc=\"http://creativecommons.org/ns#\" xmlns:rdf=\"http://www.w3.org/1999/02/22-rdf-syntax-ns#\">\n   <cc:Work>\n    <dc:type rdf:resource=\"http://purl.org/dc/dcmitype/StillImage\"/>\n    <dc:date>2023-09-23T21:30:58.402665</dc:date>\n    <dc:format>image/svg+xml</dc:format>\n    <dc:creator>\n     <cc:Agent>\n      <dc:title>Matplotlib v3.7.1, https://matplotlib.org/</dc:title>\n     </cc:Agent>\n    </dc:creator>\n   </cc:Work>\n  </rdf:RDF>\n </metadata>\n <defs>\n  <style type=\"text/css\">*{stroke-linejoin: round; stroke-linecap: butt}</style>\n </defs>\n <g id=\"figure_1\">\n  <g id=\"patch_1\">\n   <path d=\"M 0 324.870313 \nL 877.8625 324.870313 \nL 877.8625 0 \nL 0 0 \nz\n\" style=\"fill: #ffffff\"/>\n  </g>\n  <g id=\"axes_1\">\n   <g id=\"patch_2\">\n    <path d=\"M 33.6625 299.025 \nL 279.838971 299.025 \nL 279.838971 21.825 \nL 33.6625 21.825 \nz\n\" style=\"fill: #ffffff\"/>\n   </g>\n   <g id=\"matplotlib.axis_1\">\n    <g id=\"xtick_1\">\n     <g id=\"text_1\">\n      <!-- 0 -->\n      <g style=\"fill: #262626\" transform=\"translate(51.206434 315.682813) scale(0.1 -0.1)\">\n       <defs>\n        <path id=\"ArialMT-30\" d=\"M 266 2259 \nQ 266 3072 433 3567 \nQ 600 4063 929 4331 \nQ 1259 4600 1759 4600 \nQ 2128 4600 2406 4451 \nQ 2684 4303 2865 4023 \nQ 3047 3744 3150 3342 \nQ 3253 2941 3253 2259 \nQ 3253 1453 3087 958 \nQ 2922 463 2592 192 \nQ 2263 -78 1759 -78 \nQ 1097 -78 719 397 \nQ 266 969 266 2259 \nz\nM 844 2259 \nQ 844 1131 1108 757 \nQ 1372 384 1759 384 \nQ 2147 384 2411 759 \nQ 2675 1134 2675 2259 \nQ 2675 3391 2411 3762 \nQ 2147 4134 1753 4134 \nQ 1366 4134 1134 3806 \nQ 844 3388 844 2259 \nz\n\" transform=\"scale(0.015625)\"/>\n       </defs>\n       <use xlink:href=\"#ArialMT-30\"/>\n      </g>\n     </g>\n    </g>\n    <g id=\"xtick_2\">\n     <g id=\"text_2\">\n      <!-- 1 -->\n      <g style=\"fill: #262626\" transform=\"translate(74.042841 315.682813) scale(0.1 -0.1)\">\n       <defs>\n        <path id=\"ArialMT-31\" d=\"M 2384 0 \nL 1822 0 \nL 1822 3584 \nQ 1619 3391 1289 3197 \nQ 959 3003 697 2906 \nL 697 3450 \nQ 1169 3672 1522 3987 \nQ 1875 4303 2022 4600 \nL 2384 4600 \nL 2384 0 \nz\n\" transform=\"scale(0.015625)\"/>\n       </defs>\n       <use xlink:href=\"#ArialMT-31\"/>\n      </g>\n     </g>\n    </g>\n    <g id=\"xtick_3\">\n     <g id=\"text_3\">\n      <!-- 2 -->\n      <g style=\"fill: #262626\" transform=\"translate(96.879248 315.682813) scale(0.1 -0.1)\">\n       <defs>\n        <path id=\"ArialMT-32\" d=\"M 3222 541 \nL 3222 0 \nL 194 0 \nQ 188 203 259 391 \nQ 375 700 629 1000 \nQ 884 1300 1366 1694 \nQ 2113 2306 2375 2664 \nQ 2638 3022 2638 3341 \nQ 2638 3675 2398 3904 \nQ 2159 4134 1775 4134 \nQ 1369 4134 1125 3890 \nQ 881 3647 878 3216 \nL 300 3275 \nQ 359 3922 746 4261 \nQ 1134 4600 1788 4600 \nQ 2447 4600 2831 4234 \nQ 3216 3869 3216 3328 \nQ 3216 3053 3103 2787 \nQ 2991 2522 2730 2228 \nQ 2469 1934 1863 1422 \nQ 1356 997 1212 845 \nQ 1069 694 975 541 \nL 3222 541 \nz\n\" transform=\"scale(0.015625)\"/>\n       </defs>\n       <use xlink:href=\"#ArialMT-32\"/>\n      </g>\n     </g>\n    </g>\n    <g id=\"xtick_4\">\n     <g id=\"text_4\">\n      <!-- 3 -->\n      <g style=\"fill: #262626\" transform=\"translate(119.715656 315.682813) scale(0.1 -0.1)\">\n       <defs>\n        <path id=\"ArialMT-33\" d=\"M 269 1209 \nL 831 1284 \nQ 928 806 1161 595 \nQ 1394 384 1728 384 \nQ 2125 384 2398 659 \nQ 2672 934 2672 1341 \nQ 2672 1728 2419 1979 \nQ 2166 2231 1775 2231 \nQ 1616 2231 1378 2169 \nL 1441 2663 \nQ 1497 2656 1531 2656 \nQ 1891 2656 2178 2843 \nQ 2466 3031 2466 3422 \nQ 2466 3731 2256 3934 \nQ 2047 4138 1716 4138 \nQ 1388 4138 1169 3931 \nQ 950 3725 888 3313 \nL 325 3413 \nQ 428 3978 793 4289 \nQ 1159 4600 1703 4600 \nQ 2078 4600 2393 4439 \nQ 2709 4278 2876 4000 \nQ 3044 3722 3044 3409 \nQ 3044 3113 2884 2869 \nQ 2725 2625 2413 2481 \nQ 2819 2388 3044 2092 \nQ 3269 1797 3269 1353 \nQ 3269 753 2831 336 \nQ 2394 -81 1725 -81 \nQ 1122 -81 723 278 \nQ 325 638 269 1209 \nz\n\" transform=\"scale(0.015625)\"/>\n       </defs>\n       <use xlink:href=\"#ArialMT-33\"/>\n      </g>\n     </g>\n    </g>\n    <g id=\"xtick_5\">\n     <g id=\"text_5\">\n      <!-- 4 -->\n      <g style=\"fill: #262626\" transform=\"translate(142.552063 315.682813) scale(0.1 -0.1)\">\n       <defs>\n        <path id=\"ArialMT-34\" d=\"M 2069 0 \nL 2069 1097 \nL 81 1097 \nL 81 1613 \nL 2172 4581 \nL 2631 4581 \nL 2631 1613 \nL 3250 1613 \nL 3250 1097 \nL 2631 1097 \nL 2631 0 \nL 2069 0 \nz\nM 2069 1613 \nL 2069 3678 \nL 634 1613 \nL 2069 1613 \nz\n\" transform=\"scale(0.015625)\"/>\n       </defs>\n       <use xlink:href=\"#ArialMT-34\"/>\n      </g>\n     </g>\n    </g>\n    <g id=\"xtick_6\">\n     <g id=\"text_6\">\n      <!-- 5 -->\n      <g style=\"fill: #262626\" transform=\"translate(165.38847 315.682813) scale(0.1 -0.1)\">\n       <defs>\n        <path id=\"ArialMT-35\" d=\"M 266 1200 \nL 856 1250 \nQ 922 819 1161 601 \nQ 1400 384 1738 384 \nQ 2144 384 2425 690 \nQ 2706 997 2706 1503 \nQ 2706 1984 2436 2262 \nQ 2166 2541 1728 2541 \nQ 1456 2541 1237 2417 \nQ 1019 2294 894 2097 \nL 366 2166 \nL 809 4519 \nL 3088 4519 \nL 3088 3981 \nL 1259 3981 \nL 1013 2750 \nQ 1425 3038 1878 3038 \nQ 2478 3038 2890 2622 \nQ 3303 2206 3303 1553 \nQ 3303 931 2941 478 \nQ 2500 -78 1738 -78 \nQ 1113 -78 717 272 \nQ 322 622 266 1200 \nz\n\" transform=\"scale(0.015625)\"/>\n       </defs>\n       <use xlink:href=\"#ArialMT-35\"/>\n      </g>\n     </g>\n    </g>\n    <g id=\"xtick_7\">\n     <g id=\"text_7\">\n      <!-- 6 -->\n      <g style=\"fill: #262626\" transform=\"translate(188.224877 315.682813) scale(0.1 -0.1)\">\n       <defs>\n        <path id=\"ArialMT-36\" d=\"M 3184 3459 \nL 2625 3416 \nQ 2550 3747 2413 3897 \nQ 2184 4138 1850 4138 \nQ 1581 4138 1378 3988 \nQ 1113 3794 959 3422 \nQ 806 3050 800 2363 \nQ 1003 2672 1297 2822 \nQ 1591 2972 1913 2972 \nQ 2475 2972 2870 2558 \nQ 3266 2144 3266 1488 \nQ 3266 1056 3080 686 \nQ 2894 316 2569 119 \nQ 2244 -78 1831 -78 \nQ 1128 -78 684 439 \nQ 241 956 241 2144 \nQ 241 3472 731 4075 \nQ 1159 4600 1884 4600 \nQ 2425 4600 2770 4297 \nQ 3116 3994 3184 3459 \nz\nM 888 1484 \nQ 888 1194 1011 928 \nQ 1134 663 1356 523 \nQ 1578 384 1822 384 \nQ 2178 384 2434 671 \nQ 2691 959 2691 1453 \nQ 2691 1928 2437 2201 \nQ 2184 2475 1800 2475 \nQ 1419 2475 1153 2201 \nQ 888 1928 888 1484 \nz\n\" transform=\"scale(0.015625)\"/>\n       </defs>\n       <use xlink:href=\"#ArialMT-36\"/>\n      </g>\n     </g>\n    </g>\n    <g id=\"xtick_8\">\n     <g id=\"text_8\">\n      <!-- 7 -->\n      <g style=\"fill: #262626\" transform=\"translate(211.061285 315.682813) scale(0.1 -0.1)\">\n       <defs>\n        <path id=\"ArialMT-37\" d=\"M 303 3981 \nL 303 4522 \nL 3269 4522 \nL 3269 4084 \nQ 2831 3619 2401 2847 \nQ 1972 2075 1738 1259 \nQ 1569 684 1522 0 \nL 944 0 \nQ 953 541 1156 1306 \nQ 1359 2072 1739 2783 \nQ 2119 3494 2547 3981 \nL 303 3981 \nz\n\" transform=\"scale(0.015625)\"/>\n       </defs>\n       <use xlink:href=\"#ArialMT-37\"/>\n      </g>\n     </g>\n    </g>\n    <g id=\"xtick_9\">\n     <g id=\"text_9\">\n      <!-- 8 -->\n      <g style=\"fill: #262626\" transform=\"translate(233.897692 315.682813) scale(0.1 -0.1)\">\n       <defs>\n        <path id=\"ArialMT-38\" d=\"M 1131 2484 \nQ 781 2613 612 2850 \nQ 444 3088 444 3419 \nQ 444 3919 803 4259 \nQ 1163 4600 1759 4600 \nQ 2359 4600 2725 4251 \nQ 3091 3903 3091 3403 \nQ 3091 3084 2923 2848 \nQ 2756 2613 2416 2484 \nQ 2838 2347 3058 2040 \nQ 3278 1734 3278 1309 \nQ 3278 722 2862 322 \nQ 2447 -78 1769 -78 \nQ 1091 -78 675 323 \nQ 259 725 259 1325 \nQ 259 1772 486 2073 \nQ 713 2375 1131 2484 \nz\nM 1019 3438 \nQ 1019 3113 1228 2906 \nQ 1438 2700 1772 2700 \nQ 2097 2700 2305 2904 \nQ 2513 3109 2513 3406 \nQ 2513 3716 2298 3927 \nQ 2084 4138 1766 4138 \nQ 1444 4138 1231 3931 \nQ 1019 3725 1019 3438 \nz\nM 838 1322 \nQ 838 1081 952 856 \nQ 1066 631 1291 507 \nQ 1516 384 1775 384 \nQ 2178 384 2440 643 \nQ 2703 903 2703 1303 \nQ 2703 1709 2433 1975 \nQ 2163 2241 1756 2241 \nQ 1359 2241 1098 1978 \nQ 838 1716 838 1322 \nz\n\" transform=\"scale(0.015625)\"/>\n       </defs>\n       <use xlink:href=\"#ArialMT-38\"/>\n      </g>\n     </g>\n    </g>\n    <g id=\"xtick_10\">\n     <g id=\"text_10\">\n      <!-- 9 -->\n      <g style=\"fill: #262626\" transform=\"translate(256.734099 315.682813) scale(0.1 -0.1)\">\n       <defs>\n        <path id=\"ArialMT-39\" d=\"M 350 1059 \nL 891 1109 \nQ 959 728 1153 556 \nQ 1347 384 1650 384 \nQ 1909 384 2104 503 \nQ 2300 622 2425 820 \nQ 2550 1019 2634 1356 \nQ 2719 1694 2719 2044 \nQ 2719 2081 2716 2156 \nQ 2547 1888 2255 1720 \nQ 1963 1553 1622 1553 \nQ 1053 1553 659 1965 \nQ 266 2378 266 3053 \nQ 266 3750 677 4175 \nQ 1088 4600 1706 4600 \nQ 2153 4600 2523 4359 \nQ 2894 4119 3086 3673 \nQ 3278 3228 3278 2384 \nQ 3278 1506 3087 986 \nQ 2897 466 2520 194 \nQ 2144 -78 1638 -78 \nQ 1100 -78 759 220 \nQ 419 519 350 1059 \nz\nM 2653 3081 \nQ 2653 3566 2395 3850 \nQ 2138 4134 1775 4134 \nQ 1400 4134 1122 3828 \nQ 844 3522 844 3034 \nQ 844 2597 1108 2323 \nQ 1372 2050 1759 2050 \nQ 2150 2050 2401 2323 \nQ 2653 2597 2653 3081 \nz\n\" transform=\"scale(0.015625)\"/>\n       </defs>\n       <use xlink:href=\"#ArialMT-39\"/>\n      </g>\n     </g>\n    </g>\n   </g>\n   <g id=\"matplotlib.axis_2\">\n    <g id=\"ytick_1\">\n     <g id=\"text_11\">\n      <!-- −16 -->\n      <g style=\"fill: #262626\" transform=\"translate(7.2 293.680364) scale(0.1 -0.1)\">\n       <defs>\n        <path id=\"ArialMT-2212\" d=\"M 3381 1997 \nL 356 1997 \nL 356 2522 \nL 3381 2522 \nL 3381 1997 \nz\n\" transform=\"scale(0.015625)\"/>\n       </defs>\n       <use xlink:href=\"#ArialMT-2212\"/>\n       <use xlink:href=\"#ArialMT-31\" x=\"58.398438\"/>\n       <use xlink:href=\"#ArialMT-36\" x=\"114.013672\"/>\n      </g>\n     </g>\n    </g>\n    <g id=\"ytick_2\">\n     <g id=\"text_12\">\n      <!-- −14 -->\n      <g style=\"fill: #262626\" transform=\"translate(7.2 260.145807) scale(0.1 -0.1)\">\n       <use xlink:href=\"#ArialMT-2212\"/>\n       <use xlink:href=\"#ArialMT-31\" x=\"58.398438\"/>\n       <use xlink:href=\"#ArialMT-34\" x=\"114.013672\"/>\n      </g>\n     </g>\n    </g>\n    <g id=\"ytick_3\">\n     <g id=\"text_13\">\n      <!-- −12 -->\n      <g style=\"fill: #262626\" transform=\"translate(7.2 226.611249) scale(0.1 -0.1)\">\n       <use xlink:href=\"#ArialMT-2212\"/>\n       <use xlink:href=\"#ArialMT-31\" x=\"58.398438\"/>\n       <use xlink:href=\"#ArialMT-32\" x=\"114.013672\"/>\n      </g>\n     </g>\n    </g>\n    <g id=\"ytick_4\">\n     <g id=\"text_14\">\n      <!-- −10 -->\n      <g style=\"fill: #262626\" transform=\"translate(7.2 193.076692) scale(0.1 -0.1)\">\n       <use xlink:href=\"#ArialMT-2212\"/>\n       <use xlink:href=\"#ArialMT-31\" x=\"58.398438\"/>\n       <use xlink:href=\"#ArialMT-30\" x=\"114.013672\"/>\n      </g>\n     </g>\n    </g>\n    <g id=\"ytick_5\">\n     <g id=\"text_15\">\n      <!-- −8 -->\n      <g style=\"fill: #262626\" transform=\"translate(12.760938 159.542135) scale(0.1 -0.1)\">\n       <use xlink:href=\"#ArialMT-2212\"/>\n       <use xlink:href=\"#ArialMT-38\" x=\"58.398438\"/>\n      </g>\n     </g>\n    </g>\n    <g id=\"ytick_6\">\n     <g id=\"text_16\">\n      <!-- −6 -->\n      <g style=\"fill: #262626\" transform=\"translate(12.760938 126.007578) scale(0.1 -0.1)\">\n       <use xlink:href=\"#ArialMT-2212\"/>\n       <use xlink:href=\"#ArialMT-36\" x=\"58.398438\"/>\n      </g>\n     </g>\n    </g>\n    <g id=\"ytick_7\">\n     <g id=\"text_17\">\n      <!-- −4 -->\n      <g style=\"fill: #262626\" transform=\"translate(12.760938 92.473021) scale(0.1 -0.1)\">\n       <use xlink:href=\"#ArialMT-2212\"/>\n       <use xlink:href=\"#ArialMT-34\" x=\"58.398438\"/>\n      </g>\n     </g>\n    </g>\n    <g id=\"ytick_8\">\n     <g id=\"text_18\">\n      <!-- −2 -->\n      <g style=\"fill: #262626\" transform=\"translate(12.760938 58.938463) scale(0.1 -0.1)\">\n       <use xlink:href=\"#ArialMT-2212\"/>\n       <use xlink:href=\"#ArialMT-32\" x=\"58.398438\"/>\n      </g>\n     </g>\n    </g>\n    <g id=\"ytick_9\">\n     <g id=\"text_19\">\n      <!-- 0 -->\n      <g style=\"fill: #262626\" transform=\"translate(18.601563 25.403906) scale(0.1 -0.1)\">\n       <use xlink:href=\"#ArialMT-30\"/>\n      </g>\n     </g>\n    </g>\n   </g>\n   <g id=\"patch_3\">\n    <path d=\"M 44.85234 21.825 \nL 63.121465 21.825 \nL 63.121465 238.877976 \nL 44.85234 238.877976 \nz\n\" clip-path=\"url(#p35da7e9fdf)\" style=\"fill: #1f77b4; stroke: #ffffff; stroke-linejoin: miter\"/>\n   </g>\n   <g id=\"patch_4\">\n    <path d=\"M 67.688747 21.825 \nL 85.957873 21.825 \nL 85.957873 274.239962 \nL 67.688747 274.239962 \nz\n\" clip-path=\"url(#p35da7e9fdf)\" style=\"fill: #1f77b4; stroke: #ffffff; stroke-linejoin: miter\"/>\n   </g>\n   <g id=\"patch_5\">\n    <path d=\"M 90.525154 21.825 \nL 108.79428 21.825 \nL 108.79428 264.006347 \nL 90.525154 264.006347 \nz\n\" clip-path=\"url(#p35da7e9fdf)\" style=\"fill: #1f77b4; stroke: #ffffff; stroke-linejoin: miter\"/>\n   </g>\n   <g id=\"patch_6\">\n    <path d=\"M 113.361561 21.825 \nL 131.630687 21.825 \nL 131.630687 214.003454 \nL 113.361561 214.003454 \nz\n\" clip-path=\"url(#p35da7e9fdf)\" style=\"fill: #1f77b4; stroke: #ffffff; stroke-linejoin: miter\"/>\n   </g>\n   <g id=\"patch_7\">\n    <path d=\"M 136.197969 21.825 \nL 154.467095 21.825 \nL 154.467095 135.213398 \nL 136.197969 135.213398 \nz\n\" clip-path=\"url(#p35da7e9fdf)\" style=\"fill: #1f77b4; stroke: #ffffff; stroke-linejoin: miter\"/>\n   </g>\n   <g id=\"patch_8\">\n    <path d=\"M 159.034376 21.825 \nL 177.303502 21.825 \nL 177.303502 243.808238 \nL 159.034376 243.808238 \nz\n\" clip-path=\"url(#p35da7e9fdf)\" style=\"fill: #1f77b4; stroke: #ffffff; stroke-linejoin: miter\"/>\n   </g>\n   <g id=\"patch_9\">\n    <path d=\"M 181.870783 21.825 \nL 200.139909 21.825 \nL 200.139909 285.825 \nL 181.870783 285.825 \nz\n\" clip-path=\"url(#p35da7e9fdf)\" style=\"fill: #1f77b4; stroke: #ffffff; stroke-linejoin: miter\"/>\n   </g>\n   <g id=\"patch_10\">\n    <path d=\"M 204.707191 21.825 \nL 222.976316 21.825 \nL 222.976316 152.795594 \nL 204.707191 152.795594 \nz\n\" clip-path=\"url(#p35da7e9fdf)\" style=\"fill: #1f77b4; stroke: #ffffff; stroke-linejoin: miter\"/>\n   </g>\n   <g id=\"patch_11\">\n    <path d=\"M 227.543598 21.825 \nL 245.812724 21.825 \nL 245.812724 186.777142 \nL 227.543598 186.777142 \nz\n\" clip-path=\"url(#p35da7e9fdf)\" style=\"fill: #1f77b4; stroke: #ffffff; stroke-linejoin: miter\"/>\n   </g>\n   <g id=\"patch_12\">\n    <path d=\"M 250.380005 21.825 \nL 268.649131 21.825 \nL 268.649131 21.852361 \nL 250.380005 21.852361 \nz\n\" clip-path=\"url(#p35da7e9fdf)\" style=\"fill: #1f77b4; stroke: #ffffff; stroke-linejoin: miter\"/>\n   </g>\n   <g id=\"patch_13\">\n    <path d=\"M 33.6625 299.025 \nL 33.6625 21.825 \n\" style=\"fill: none; stroke: #262626; stroke-width: 1.25; stroke-linejoin: miter; stroke-linecap: square\"/>\n   </g>\n   <g id=\"patch_14\">\n    <path d=\"M 279.838971 299.025 \nL 279.838971 21.825 \n\" style=\"fill: none; stroke: #262626; stroke-width: 1.25; stroke-linejoin: miter; stroke-linecap: square\"/>\n   </g>\n   <g id=\"patch_15\">\n    <path d=\"M 33.6625 299.025 \nL 279.838971 299.025 \n\" style=\"fill: none; stroke: #262626; stroke-width: 1.25; stroke-linejoin: miter; stroke-linecap: square\"/>\n   </g>\n   <g id=\"patch_16\">\n    <path d=\"M 33.6625 21.825 \nL 279.838971 21.825 \n\" style=\"fill: none; stroke: #262626; stroke-width: 1.25; stroke-linejoin: miter; stroke-linecap: square\"/>\n   </g>\n   <g id=\"text_20\">\n    <!-- Log, 4 miss predicted with 9 -->\n    <g style=\"fill: #262626\" transform=\"translate(82.385423 15.825) scale(0.12 -0.12)\">\n     <defs>\n      <path id=\"ArialMT-4c\" d=\"M 469 0 \nL 469 4581 \nL 1075 4581 \nL 1075 541 \nL 3331 541 \nL 3331 0 \nL 469 0 \nz\n\" transform=\"scale(0.015625)\"/>\n      <path id=\"ArialMT-6f\" d=\"M 213 1659 \nQ 213 2581 725 3025 \nQ 1153 3394 1769 3394 \nQ 2453 3394 2887 2945 \nQ 3322 2497 3322 1706 \nQ 3322 1066 3130 698 \nQ 2938 331 2570 128 \nQ 2203 -75 1769 -75 \nQ 1072 -75 642 372 \nQ 213 819 213 1659 \nz\nM 791 1659 \nQ 791 1022 1069 705 \nQ 1347 388 1769 388 \nQ 2188 388 2466 706 \nQ 2744 1025 2744 1678 \nQ 2744 2294 2464 2611 \nQ 2184 2928 1769 2928 \nQ 1347 2928 1069 2612 \nQ 791 2297 791 1659 \nz\n\" transform=\"scale(0.015625)\"/>\n      <path id=\"ArialMT-67\" d=\"M 319 -275 \nL 866 -356 \nQ 900 -609 1056 -725 \nQ 1266 -881 1628 -881 \nQ 2019 -881 2231 -725 \nQ 2444 -569 2519 -288 \nQ 2563 -116 2559 434 \nQ 2191 0 1641 0 \nQ 956 0 581 494 \nQ 206 988 206 1678 \nQ 206 2153 378 2554 \nQ 550 2956 876 3175 \nQ 1203 3394 1644 3394 \nQ 2231 3394 2613 2919 \nL 2613 3319 \nL 3131 3319 \nL 3131 450 \nQ 3131 -325 2973 -648 \nQ 2816 -972 2473 -1159 \nQ 2131 -1347 1631 -1347 \nQ 1038 -1347 672 -1080 \nQ 306 -813 319 -275 \nz\nM 784 1719 \nQ 784 1066 1043 766 \nQ 1303 466 1694 466 \nQ 2081 466 2343 764 \nQ 2606 1063 2606 1700 \nQ 2606 2309 2336 2618 \nQ 2066 2928 1684 2928 \nQ 1309 2928 1046 2623 \nQ 784 2319 784 1719 \nz\n\" transform=\"scale(0.015625)\"/>\n      <path id=\"ArialMT-2c\" d=\"M 569 0 \nL 569 641 \nL 1209 641 \nL 1209 0 \nQ 1209 -353 1084 -570 \nQ 959 -788 688 -906 \nL 531 -666 \nQ 709 -588 793 -436 \nQ 878 -284 888 0 \nL 569 0 \nz\n\" transform=\"scale(0.015625)\"/>\n      <path id=\"ArialMT-20\" transform=\"scale(0.015625)\"/>\n      <path id=\"ArialMT-6d\" d=\"M 422 0 \nL 422 3319 \nL 925 3319 \nL 925 2853 \nQ 1081 3097 1340 3245 \nQ 1600 3394 1931 3394 \nQ 2300 3394 2536 3241 \nQ 2772 3088 2869 2813 \nQ 3263 3394 3894 3394 \nQ 4388 3394 4653 3120 \nQ 4919 2847 4919 2278 \nL 4919 0 \nL 4359 0 \nL 4359 2091 \nQ 4359 2428 4304 2576 \nQ 4250 2725 4106 2815 \nQ 3963 2906 3769 2906 \nQ 3419 2906 3187 2673 \nQ 2956 2441 2956 1928 \nL 2956 0 \nL 2394 0 \nL 2394 2156 \nQ 2394 2531 2256 2718 \nQ 2119 2906 1806 2906 \nQ 1569 2906 1367 2781 \nQ 1166 2656 1075 2415 \nQ 984 2175 984 1722 \nL 984 0 \nL 422 0 \nz\n\" transform=\"scale(0.015625)\"/>\n      <path id=\"ArialMT-69\" d=\"M 425 3934 \nL 425 4581 \nL 988 4581 \nL 988 3934 \nL 425 3934 \nz\nM 425 0 \nL 425 3319 \nL 988 3319 \nL 988 0 \nL 425 0 \nz\n\" transform=\"scale(0.015625)\"/>\n      <path id=\"ArialMT-73\" d=\"M 197 991 \nL 753 1078 \nQ 800 744 1014 566 \nQ 1228 388 1613 388 \nQ 2000 388 2187 545 \nQ 2375 703 2375 916 \nQ 2375 1106 2209 1216 \nQ 2094 1291 1634 1406 \nQ 1016 1563 777 1677 \nQ 538 1791 414 1992 \nQ 291 2194 291 2438 \nQ 291 2659 392 2848 \nQ 494 3038 669 3163 \nQ 800 3259 1026 3326 \nQ 1253 3394 1513 3394 \nQ 1903 3394 2198 3281 \nQ 2494 3169 2634 2976 \nQ 2775 2784 2828 2463 \nL 2278 2388 \nQ 2241 2644 2061 2787 \nQ 1881 2931 1553 2931 \nQ 1166 2931 1000 2803 \nQ 834 2675 834 2503 \nQ 834 2394 903 2306 \nQ 972 2216 1119 2156 \nQ 1203 2125 1616 2013 \nQ 2213 1853 2448 1751 \nQ 2684 1650 2818 1456 \nQ 2953 1263 2953 975 \nQ 2953 694 2789 445 \nQ 2625 197 2315 61 \nQ 2006 -75 1616 -75 \nQ 969 -75 630 194 \nQ 291 463 197 991 \nz\n\" transform=\"scale(0.015625)\"/>\n      <path id=\"ArialMT-70\" d=\"M 422 -1272 \nL 422 3319 \nL 934 3319 \nL 934 2888 \nQ 1116 3141 1344 3267 \nQ 1572 3394 1897 3394 \nQ 2322 3394 2647 3175 \nQ 2972 2956 3137 2557 \nQ 3303 2159 3303 1684 \nQ 3303 1175 3120 767 \nQ 2938 359 2589 142 \nQ 2241 -75 1856 -75 \nQ 1575 -75 1351 44 \nQ 1128 163 984 344 \nL 984 -1272 \nL 422 -1272 \nz\nM 931 1641 \nQ 931 1000 1190 694 \nQ 1450 388 1819 388 \nQ 2194 388 2461 705 \nQ 2728 1022 2728 1688 \nQ 2728 2322 2467 2637 \nQ 2206 2953 1844 2953 \nQ 1484 2953 1207 2617 \nQ 931 2281 931 1641 \nz\n\" transform=\"scale(0.015625)\"/>\n      <path id=\"ArialMT-72\" d=\"M 416 0 \nL 416 3319 \nL 922 3319 \nL 922 2816 \nQ 1116 3169 1280 3281 \nQ 1444 3394 1641 3394 \nQ 1925 3394 2219 3213 \nL 2025 2691 \nQ 1819 2813 1613 2813 \nQ 1428 2813 1281 2702 \nQ 1134 2591 1072 2394 \nQ 978 2094 978 1738 \nL 978 0 \nL 416 0 \nz\n\" transform=\"scale(0.015625)\"/>\n      <path id=\"ArialMT-65\" d=\"M 2694 1069 \nL 3275 997 \nQ 3138 488 2766 206 \nQ 2394 -75 1816 -75 \nQ 1088 -75 661 373 \nQ 234 822 234 1631 \nQ 234 2469 665 2931 \nQ 1097 3394 1784 3394 \nQ 2450 3394 2872 2941 \nQ 3294 2488 3294 1666 \nQ 3294 1616 3291 1516 \nL 816 1516 \nQ 847 969 1125 678 \nQ 1403 388 1819 388 \nQ 2128 388 2347 550 \nQ 2566 713 2694 1069 \nz\nM 847 1978 \nL 2700 1978 \nQ 2663 2397 2488 2606 \nQ 2219 2931 1791 2931 \nQ 1403 2931 1139 2672 \nQ 875 2413 847 1978 \nz\n\" transform=\"scale(0.015625)\"/>\n      <path id=\"ArialMT-64\" d=\"M 2575 0 \nL 2575 419 \nQ 2259 -75 1647 -75 \nQ 1250 -75 917 144 \nQ 584 363 401 755 \nQ 219 1147 219 1656 \nQ 219 2153 384 2558 \nQ 550 2963 881 3178 \nQ 1213 3394 1622 3394 \nQ 1922 3394 2156 3267 \nQ 2391 3141 2538 2938 \nL 2538 4581 \nL 3097 4581 \nL 3097 0 \nL 2575 0 \nz\nM 797 1656 \nQ 797 1019 1065 703 \nQ 1334 388 1700 388 \nQ 2069 388 2326 689 \nQ 2584 991 2584 1609 \nQ 2584 2291 2321 2609 \nQ 2059 2928 1675 2928 \nQ 1300 2928 1048 2622 \nQ 797 2316 797 1656 \nz\n\" transform=\"scale(0.015625)\"/>\n      <path id=\"ArialMT-63\" d=\"M 2588 1216 \nL 3141 1144 \nQ 3050 572 2676 248 \nQ 2303 -75 1759 -75 \nQ 1078 -75 664 370 \nQ 250 816 250 1647 \nQ 250 2184 428 2587 \nQ 606 2991 970 3192 \nQ 1334 3394 1763 3394 \nQ 2303 3394 2647 3120 \nQ 2991 2847 3088 2344 \nL 2541 2259 \nQ 2463 2594 2264 2762 \nQ 2066 2931 1784 2931 \nQ 1359 2931 1093 2626 \nQ 828 2322 828 1663 \nQ 828 994 1084 691 \nQ 1341 388 1753 388 \nQ 2084 388 2306 591 \nQ 2528 794 2588 1216 \nz\n\" transform=\"scale(0.015625)\"/>\n      <path id=\"ArialMT-74\" d=\"M 1650 503 \nL 1731 6 \nQ 1494 -44 1306 -44 \nQ 1000 -44 831 53 \nQ 663 150 594 308 \nQ 525 466 525 972 \nL 525 2881 \nL 113 2881 \nL 113 3319 \nL 525 3319 \nL 525 4141 \nL 1084 4478 \nL 1084 3319 \nL 1650 3319 \nL 1650 2881 \nL 1084 2881 \nL 1084 941 \nQ 1084 700 1114 631 \nQ 1144 563 1211 522 \nQ 1278 481 1403 481 \nQ 1497 481 1650 503 \nz\n\" transform=\"scale(0.015625)\"/>\n      <path id=\"ArialMT-77\" d=\"M 1034 0 \nL 19 3319 \nL 600 3319 \nL 1128 1403 \nL 1325 691 \nQ 1338 744 1497 1375 \nL 2025 3319 \nL 2603 3319 \nL 3100 1394 \nL 3266 759 \nL 3456 1400 \nL 4025 3319 \nL 4572 3319 \nL 3534 0 \nL 2950 0 \nL 2422 1988 \nL 2294 2553 \nL 1622 0 \nL 1034 0 \nz\n\" transform=\"scale(0.015625)\"/>\n      <path id=\"ArialMT-68\" d=\"M 422 0 \nL 422 4581 \nL 984 4581 \nL 984 2938 \nQ 1378 3394 1978 3394 \nQ 2347 3394 2619 3248 \nQ 2891 3103 3008 2847 \nQ 3125 2591 3125 2103 \nL 3125 0 \nL 2563 0 \nL 2563 2103 \nQ 2563 2525 2380 2717 \nQ 2197 2909 1863 2909 \nQ 1613 2909 1392 2779 \nQ 1172 2650 1078 2428 \nQ 984 2206 984 1816 \nL 984 0 \nL 422 0 \nz\n\" transform=\"scale(0.015625)\"/>\n     </defs>\n     <use xlink:href=\"#ArialMT-4c\"/>\n     <use xlink:href=\"#ArialMT-6f\" x=\"55.615234\"/>\n     <use xlink:href=\"#ArialMT-67\" x=\"111.230469\"/>\n     <use xlink:href=\"#ArialMT-2c\" x=\"166.845703\"/>\n     <use xlink:href=\"#ArialMT-20\" x=\"194.628906\"/>\n     <use xlink:href=\"#ArialMT-34\" x=\"222.412109\"/>\n     <use xlink:href=\"#ArialMT-20\" x=\"278.027344\"/>\n     <use xlink:href=\"#ArialMT-6d\" x=\"305.810547\"/>\n     <use xlink:href=\"#ArialMT-69\" x=\"389.111328\"/>\n     <use xlink:href=\"#ArialMT-73\" x=\"411.328125\"/>\n     <use xlink:href=\"#ArialMT-73\" x=\"461.328125\"/>\n     <use xlink:href=\"#ArialMT-20\" x=\"511.328125\"/>\n     <use xlink:href=\"#ArialMT-70\" x=\"539.111328\"/>\n     <use xlink:href=\"#ArialMT-72\" x=\"594.726562\"/>\n     <use xlink:href=\"#ArialMT-65\" x=\"628.027344\"/>\n     <use xlink:href=\"#ArialMT-64\" x=\"683.642578\"/>\n     <use xlink:href=\"#ArialMT-69\" x=\"739.257812\"/>\n     <use xlink:href=\"#ArialMT-63\" x=\"761.474609\"/>\n     <use xlink:href=\"#ArialMT-74\" x=\"811.474609\"/>\n     <use xlink:href=\"#ArialMT-65\" x=\"839.257812\"/>\n     <use xlink:href=\"#ArialMT-64\" x=\"894.873047\"/>\n     <use xlink:href=\"#ArialMT-20\" x=\"950.488281\"/>\n     <use xlink:href=\"#ArialMT-77\" x=\"978.271484\"/>\n     <use xlink:href=\"#ArialMT-69\" x=\"1050.488281\"/>\n     <use xlink:href=\"#ArialMT-74\" x=\"1072.705078\"/>\n     <use xlink:href=\"#ArialMT-68\" x=\"1100.488281\"/>\n     <use xlink:href=\"#ArialMT-20\" x=\"1156.103516\"/>\n     <use xlink:href=\"#ArialMT-39\" x=\"1183.886719\"/>\n    </g>\n   </g>\n  </g>\n  <g id=\"axes_2\">\n   <g id=\"patch_17\">\n    <path d=\"M 329.074265 299.025 \nL 575.250735 299.025 \nL 575.250735 21.825 \nL 329.074265 21.825 \nz\n\" style=\"fill: #ffffff\"/>\n   </g>\n   <g id=\"matplotlib.axis_3\">\n    <g id=\"xtick_11\">\n     <g id=\"text_21\">\n      <!-- 0 -->\n      <g style=\"fill: #262626\" transform=\"translate(346.618198 315.682813) scale(0.1 -0.1)\">\n       <use xlink:href=\"#ArialMT-30\"/>\n      </g>\n     </g>\n    </g>\n    <g id=\"xtick_12\">\n     <g id=\"text_22\">\n      <!-- 1 -->\n      <g style=\"fill: #262626\" transform=\"translate(369.454606 315.682813) scale(0.1 -0.1)\">\n       <use xlink:href=\"#ArialMT-31\"/>\n      </g>\n     </g>\n    </g>\n    <g id=\"xtick_13\">\n     <g id=\"text_23\">\n      <!-- 2 -->\n      <g style=\"fill: #262626\" transform=\"translate(392.291013 315.682813) scale(0.1 -0.1)\">\n       <use xlink:href=\"#ArialMT-32\"/>\n      </g>\n     </g>\n    </g>\n    <g id=\"xtick_14\">\n     <g id=\"text_24\">\n      <!-- 3 -->\n      <g style=\"fill: #262626\" transform=\"translate(415.12742 315.682813) scale(0.1 -0.1)\">\n       <use xlink:href=\"#ArialMT-33\"/>\n      </g>\n     </g>\n    </g>\n    <g id=\"xtick_15\">\n     <g id=\"text_25\">\n      <!-- 4 -->\n      <g style=\"fill: #262626\" transform=\"translate(437.963828 315.682813) scale(0.1 -0.1)\">\n       <use xlink:href=\"#ArialMT-34\"/>\n      </g>\n     </g>\n    </g>\n    <g id=\"xtick_16\">\n     <g id=\"text_26\">\n      <!-- 5 -->\n      <g style=\"fill: #262626\" transform=\"translate(460.800235 315.682813) scale(0.1 -0.1)\">\n       <use xlink:href=\"#ArialMT-35\"/>\n      </g>\n     </g>\n    </g>\n    <g id=\"xtick_17\">\n     <g id=\"text_27\">\n      <!-- 6 -->\n      <g style=\"fill: #262626\" transform=\"translate(483.636642 315.682813) scale(0.1 -0.1)\">\n       <use xlink:href=\"#ArialMT-36\"/>\n      </g>\n     </g>\n    </g>\n    <g id=\"xtick_18\">\n     <g id=\"text_28\">\n      <!-- 7 -->\n      <g style=\"fill: #262626\" transform=\"translate(506.473049 315.682813) scale(0.1 -0.1)\">\n       <use xlink:href=\"#ArialMT-37\"/>\n      </g>\n     </g>\n    </g>\n    <g id=\"xtick_19\">\n     <g id=\"text_29\">\n      <!-- 8 -->\n      <g style=\"fill: #262626\" transform=\"translate(529.309457 315.682813) scale(0.1 -0.1)\">\n       <use xlink:href=\"#ArialMT-38\"/>\n      </g>\n     </g>\n    </g>\n    <g id=\"xtick_20\">\n     <g id=\"text_30\">\n      <!-- 9 -->\n      <g style=\"fill: #262626\" transform=\"translate(552.145864 315.682813) scale(0.1 -0.1)\">\n       <use xlink:href=\"#ArialMT-39\"/>\n      </g>\n     </g>\n    </g>\n   </g>\n   <g id=\"matplotlib.axis_4\">\n    <g id=\"ytick_10\">\n     <g id=\"text_31\">\n      <!-- 0.0 -->\n      <g style=\"fill: #262626\" transform=\"translate(305.674265 302.603906) scale(0.1 -0.1)\">\n       <defs>\n        <path id=\"ArialMT-2e\" d=\"M 581 0 \nL 581 641 \nL 1222 641 \nL 1222 0 \nL 581 0 \nz\n\" transform=\"scale(0.015625)\"/>\n       </defs>\n       <use xlink:href=\"#ArialMT-30\"/>\n       <use xlink:href=\"#ArialMT-2e\" x=\"55.615234\"/>\n       <use xlink:href=\"#ArialMT-30\" x=\"83.398438\"/>\n      </g>\n     </g>\n    </g>\n    <g id=\"ytick_11\">\n     <g id=\"text_32\">\n      <!-- 0.2 -->\n      <g style=\"fill: #262626\" transform=\"translate(305.674265 249.717676) scale(0.1 -0.1)\">\n       <use xlink:href=\"#ArialMT-30\"/>\n       <use xlink:href=\"#ArialMT-2e\" x=\"55.615234\"/>\n       <use xlink:href=\"#ArialMT-32\" x=\"83.398438\"/>\n      </g>\n     </g>\n    </g>\n    <g id=\"ytick_12\">\n     <g id=\"text_33\">\n      <!-- 0.4 -->\n      <g style=\"fill: #262626\" transform=\"translate(305.674265 196.831446) scale(0.1 -0.1)\">\n       <use xlink:href=\"#ArialMT-30\"/>\n       <use xlink:href=\"#ArialMT-2e\" x=\"55.615234\"/>\n       <use xlink:href=\"#ArialMT-34\" x=\"83.398438\"/>\n      </g>\n     </g>\n    </g>\n    <g id=\"ytick_13\">\n     <g id=\"text_34\">\n      <!-- 0.6 -->\n      <g style=\"fill: #262626\" transform=\"translate(305.674265 143.945216) scale(0.1 -0.1)\">\n       <use xlink:href=\"#ArialMT-30\"/>\n       <use xlink:href=\"#ArialMT-2e\" x=\"55.615234\"/>\n       <use xlink:href=\"#ArialMT-36\" x=\"83.398438\"/>\n      </g>\n     </g>\n    </g>\n    <g id=\"ytick_14\">\n     <g id=\"text_35\">\n      <!-- 0.8 -->\n      <g style=\"fill: #262626\" transform=\"translate(305.674265 91.058985) scale(0.1 -0.1)\">\n       <use xlink:href=\"#ArialMT-30\"/>\n       <use xlink:href=\"#ArialMT-2e\" x=\"55.615234\"/>\n       <use xlink:href=\"#ArialMT-38\" x=\"83.398438\"/>\n      </g>\n     </g>\n    </g>\n    <g id=\"ytick_15\">\n     <g id=\"text_36\">\n      <!-- 1.0 -->\n      <g style=\"fill: #262626\" transform=\"translate(305.674265 38.172755) scale(0.1 -0.1)\">\n       <use xlink:href=\"#ArialMT-31\"/>\n       <use xlink:href=\"#ArialMT-2e\" x=\"55.615234\"/>\n       <use xlink:href=\"#ArialMT-30\" x=\"83.398438\"/>\n      </g>\n     </g>\n    </g>\n   </g>\n   <g id=\"patch_18\">\n    <path d=\"M 340.264104 299.025 \nL 358.53323 299.025 \nL 358.53323 299.024369 \nL 340.264104 299.024369 \nz\n\" clip-path=\"url(#p47fbabb991)\" style=\"fill: #1f77b4; stroke: #ffffff; stroke-linejoin: miter\"/>\n   </g>\n   <g id=\"patch_19\">\n    <path d=\"M 363.100512 299.025 \nL 381.369637 299.025 \nL 381.369637 299.024923 \nL 363.100512 299.024923 \nz\n\" clip-path=\"url(#p47fbabb991)\" style=\"fill: #1f77b4; stroke: #ffffff; stroke-linejoin: miter\"/>\n   </g>\n   <g id=\"patch_20\">\n    <path d=\"M 385.936919 299.025 \nL 404.206045 299.025 \nL 404.206045 299.024859 \nL 385.936919 299.024859 \nz\n\" clip-path=\"url(#p47fbabb991)\" style=\"fill: #1f77b4; stroke: #ffffff; stroke-linejoin: miter\"/>\n   </g>\n   <g id=\"patch_21\">\n    <path d=\"M 408.773326 299.025 \nL 427.042452 299.025 \nL 427.042452 299.022216 \nL 408.773326 299.022216 \nz\n\" clip-path=\"url(#p47fbabb991)\" style=\"fill: #1f77b4; stroke: #ffffff; stroke-linejoin: miter\"/>\n   </g>\n   <g id=\"patch_22\">\n    <path d=\"M 431.609733 299.025 \nL 449.878859 299.025 \nL 449.878859 298.719223 \nL 431.609733 298.719223 \nz\n\" clip-path=\"url(#p47fbabb991)\" style=\"fill: #1f77b4; stroke: #ffffff; stroke-linejoin: miter\"/>\n   </g>\n   <g id=\"patch_23\">\n    <path d=\"M 454.446141 299.025 \nL 472.715267 299.025 \nL 472.715267 299.024529 \nL 454.446141 299.024529 \nz\n\" clip-path=\"url(#p47fbabb991)\" style=\"fill: #1f77b4; stroke: #ffffff; stroke-linejoin: miter\"/>\n   </g>\n   <g id=\"patch_24\">\n    <path d=\"M 477.282548 299.025 \nL 495.551674 299.025 \nL 495.551674 299.024962 \nL 477.282548 299.024962 \nz\n\" clip-path=\"url(#p47fbabb991)\" style=\"fill: #1f77b4; stroke: #ffffff; stroke-linejoin: miter\"/>\n   </g>\n   <g id=\"patch_25\">\n    <path d=\"M 500.118955 299.025 \nL 518.388081 299.025 \nL 518.388081 298.917847 \nL 500.118955 298.917847 \nz\n\" clip-path=\"url(#p47fbabb991)\" style=\"fill: #1f77b4; stroke: #ffffff; stroke-linejoin: miter\"/>\n   </g>\n   <g id=\"patch_26\">\n    <path d=\"M 522.955363 299.025 \nL 541.224488 299.025 \nL 541.224488 299.01088 \nL 522.955363 299.01088 \nz\n\" clip-path=\"url(#p47fbabb991)\" style=\"fill: #1f77b4; stroke: #ffffff; stroke-linejoin: miter\"/>\n   </g>\n   <g id=\"patch_27\">\n    <path d=\"M 545.79177 299.025 \nL 564.060896 299.025 \nL 564.060896 35.025 \nL 545.79177 35.025 \nz\n\" clip-path=\"url(#p47fbabb991)\" style=\"fill: #1f77b4; stroke: #ffffff; stroke-linejoin: miter\"/>\n   </g>\n   <g id=\"patch_28\">\n    <path d=\"M 329.074265 299.025 \nL 329.074265 21.825 \n\" style=\"fill: none; stroke: #262626; stroke-width: 1.25; stroke-linejoin: miter; stroke-linecap: square\"/>\n   </g>\n   <g id=\"patch_29\">\n    <path d=\"M 575.250735 299.025 \nL 575.250735 21.825 \n\" style=\"fill: none; stroke: #262626; stroke-width: 1.25; stroke-linejoin: miter; stroke-linecap: square\"/>\n   </g>\n   <g id=\"patch_30\">\n    <path d=\"M 329.074265 299.025 \nL 575.250735 299.025 \n\" style=\"fill: none; stroke: #262626; stroke-width: 1.25; stroke-linejoin: miter; stroke-linecap: square\"/>\n   </g>\n   <g id=\"patch_31\">\n    <path d=\"M 329.074265 21.825 \nL 575.250735 21.825 \n\" style=\"fill: none; stroke: #262626; stroke-width: 1.25; stroke-linejoin: miter; stroke-linecap: square\"/>\n   </g>\n   <g id=\"text_37\">\n    <!-- Normal, 4 miss predicted with 9 -->\n    <g style=\"fill: #262626\" transform=\"translate(368.471875 15.825) scale(0.12 -0.12)\">\n     <defs>\n      <path id=\"ArialMT-4e\" d=\"M 488 0 \nL 488 4581 \nL 1109 4581 \nL 3516 984 \nL 3516 4581 \nL 4097 4581 \nL 4097 0 \nL 3475 0 \nL 1069 3600 \nL 1069 0 \nL 488 0 \nz\n\" transform=\"scale(0.015625)\"/>\n      <path id=\"ArialMT-61\" d=\"M 2588 409 \nQ 2275 144 1986 34 \nQ 1697 -75 1366 -75 \nQ 819 -75 525 192 \nQ 231 459 231 875 \nQ 231 1119 342 1320 \nQ 453 1522 633 1644 \nQ 813 1766 1038 1828 \nQ 1203 1872 1538 1913 \nQ 2219 1994 2541 2106 \nQ 2544 2222 2544 2253 \nQ 2544 2597 2384 2738 \nQ 2169 2928 1744 2928 \nQ 1347 2928 1158 2789 \nQ 969 2650 878 2297 \nL 328 2372 \nQ 403 2725 575 2942 \nQ 747 3159 1072 3276 \nQ 1397 3394 1825 3394 \nQ 2250 3394 2515 3294 \nQ 2781 3194 2906 3042 \nQ 3031 2891 3081 2659 \nQ 3109 2516 3109 2141 \nL 3109 1391 \nQ 3109 606 3145 398 \nQ 3181 191 3288 0 \nL 2700 0 \nQ 2613 175 2588 409 \nz\nM 2541 1666 \nQ 2234 1541 1622 1453 \nQ 1275 1403 1131 1340 \nQ 988 1278 909 1158 \nQ 831 1038 831 891 \nQ 831 666 1001 516 \nQ 1172 366 1500 366 \nQ 1825 366 2078 508 \nQ 2331 650 2450 897 \nQ 2541 1088 2541 1459 \nL 2541 1666 \nz\n\" transform=\"scale(0.015625)\"/>\n      <path id=\"ArialMT-6c\" d=\"M 409 0 \nL 409 4581 \nL 972 4581 \nL 972 0 \nL 409 0 \nz\n\" transform=\"scale(0.015625)\"/>\n     </defs>\n     <use xlink:href=\"#ArialMT-4e\"/>\n     <use xlink:href=\"#ArialMT-6f\" x=\"72.216797\"/>\n     <use xlink:href=\"#ArialMT-72\" x=\"127.832031\"/>\n     <use xlink:href=\"#ArialMT-6d\" x=\"161.132812\"/>\n     <use xlink:href=\"#ArialMT-61\" x=\"244.433594\"/>\n     <use xlink:href=\"#ArialMT-6c\" x=\"300.048828\"/>\n     <use xlink:href=\"#ArialMT-2c\" x=\"322.265625\"/>\n     <use xlink:href=\"#ArialMT-20\" x=\"350.048828\"/>\n     <use xlink:href=\"#ArialMT-34\" x=\"377.832031\"/>\n     <use xlink:href=\"#ArialMT-20\" x=\"433.447266\"/>\n     <use xlink:href=\"#ArialMT-6d\" x=\"461.230469\"/>\n     <use xlink:href=\"#ArialMT-69\" x=\"544.53125\"/>\n     <use xlink:href=\"#ArialMT-73\" x=\"566.748047\"/>\n     <use xlink:href=\"#ArialMT-73\" x=\"616.748047\"/>\n     <use xlink:href=\"#ArialMT-20\" x=\"666.748047\"/>\n     <use xlink:href=\"#ArialMT-70\" x=\"694.53125\"/>\n     <use xlink:href=\"#ArialMT-72\" x=\"750.146484\"/>\n     <use xlink:href=\"#ArialMT-65\" x=\"783.447266\"/>\n     <use xlink:href=\"#ArialMT-64\" x=\"839.0625\"/>\n     <use xlink:href=\"#ArialMT-69\" x=\"894.677734\"/>\n     <use xlink:href=\"#ArialMT-63\" x=\"916.894531\"/>\n     <use xlink:href=\"#ArialMT-74\" x=\"966.894531\"/>\n     <use xlink:href=\"#ArialMT-65\" x=\"994.677734\"/>\n     <use xlink:href=\"#ArialMT-64\" x=\"1050.292969\"/>\n     <use xlink:href=\"#ArialMT-20\" x=\"1105.908203\"/>\n     <use xlink:href=\"#ArialMT-77\" x=\"1133.691406\"/>\n     <use xlink:href=\"#ArialMT-69\" x=\"1205.908203\"/>\n     <use xlink:href=\"#ArialMT-74\" x=\"1228.125\"/>\n     <use xlink:href=\"#ArialMT-68\" x=\"1255.908203\"/>\n     <use xlink:href=\"#ArialMT-20\" x=\"1311.523438\"/>\n     <use xlink:href=\"#ArialMT-39\" x=\"1339.306641\"/>\n    </g>\n   </g>\n  </g>\n  <g id=\"axes_3\">\n   <g id=\"patch_32\">\n    <path d=\"M 624.486029 283.513235 \nL 870.6625 283.513235 \nL 870.6625 37.336765 \nL 624.486029 37.336765 \nz\n\" style=\"fill: #ffffff\"/>\n   </g>\n   <g clip-path=\"url(#pf703a787e2)\">\n    <image xlink:href=\"data:image/png;base64,\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\" id=\"image21c045e2d7\" transform=\"scale(1 -1) translate(0 -246.24)\" x=\"624.486029\" y=\"-37.273235\" width=\"246.24\" height=\"246.24\"/>\n   </g>\n   <g id=\"matplotlib.axis_5\">\n    <g id=\"xtick_21\">\n     <g id=\"text_38\">\n      <!-- 0 -->\n      <g style=\"fill: #262626\" transform=\"translate(626.101569 300.171048) scale(0.1 -0.1)\">\n       <use xlink:href=\"#ArialMT-30\"/>\n      </g>\n     </g>\n    </g>\n    <g id=\"xtick_22\">\n     <g id=\"text_39\">\n      <!-- 5 -->\n      <g style=\"fill: #262626\" transform=\"translate(670.061653 300.171048) scale(0.1 -0.1)\">\n       <use xlink:href=\"#ArialMT-35\"/>\n      </g>\n     </g>\n    </g>\n    <g id=\"xtick_23\">\n     <g id=\"text_40\">\n      <!-- 10 -->\n      <g style=\"fill: #262626\" transform=\"translate(711.241268 300.171048) scale(0.1 -0.1)\">\n       <use xlink:href=\"#ArialMT-31\"/>\n       <use xlink:href=\"#ArialMT-30\" x=\"55.615234\"/>\n      </g>\n     </g>\n    </g>\n    <g id=\"xtick_24\">\n     <g id=\"text_41\">\n      <!-- 15 -->\n      <g style=\"fill: #262626\" transform=\"translate(755.201352 300.171048) scale(0.1 -0.1)\">\n       <use xlink:href=\"#ArialMT-31\"/>\n       <use xlink:href=\"#ArialMT-35\" x=\"55.615234\"/>\n      </g>\n     </g>\n    </g>\n    <g id=\"xtick_25\">\n     <g id=\"text_42\">\n      <!-- 20 -->\n      <g style=\"fill: #262626\" transform=\"translate(799.161436 300.171048) scale(0.1 -0.1)\">\n       <use xlink:href=\"#ArialMT-32\"/>\n       <use xlink:href=\"#ArialMT-30\" x=\"55.615234\"/>\n      </g>\n     </g>\n    </g>\n    <g id=\"xtick_26\">\n     <g id=\"text_43\">\n      <!-- 25 -->\n      <g style=\"fill: #262626\" transform=\"translate(843.12152 300.171048) scale(0.1 -0.1)\">\n       <use xlink:href=\"#ArialMT-32\"/>\n       <use xlink:href=\"#ArialMT-35\" x=\"55.615234\"/>\n      </g>\n     </g>\n    </g>\n   </g>\n   <g id=\"matplotlib.axis_6\">\n    <g id=\"ytick_16\">\n     <g id=\"text_44\">\n      <!-- 0 -->\n      <g style=\"fill: #262626\" transform=\"translate(609.425092 45.311679) scale(0.1 -0.1)\">\n       <use xlink:href=\"#ArialMT-30\"/>\n      </g>\n     </g>\n    </g>\n    <g id=\"ytick_17\">\n     <g id=\"text_45\">\n      <!-- 5 -->\n      <g style=\"fill: #262626\" transform=\"translate(609.425092 89.271763) scale(0.1 -0.1)\">\n       <use xlink:href=\"#ArialMT-35\"/>\n      </g>\n     </g>\n    </g>\n    <g id=\"ytick_18\">\n     <g id=\"text_46\">\n      <!-- 10 -->\n      <g style=\"fill: #262626\" transform=\"translate(603.864154 133.231847) scale(0.1 -0.1)\">\n       <use xlink:href=\"#ArialMT-31\"/>\n       <use xlink:href=\"#ArialMT-30\" x=\"55.615234\"/>\n      </g>\n     </g>\n    </g>\n    <g id=\"ytick_19\">\n     <g id=\"text_47\">\n      <!-- 15 -->\n      <g style=\"fill: #262626\" transform=\"translate(603.864154 177.191931) scale(0.1 -0.1)\">\n       <use xlink:href=\"#ArialMT-31\"/>\n       <use xlink:href=\"#ArialMT-35\" x=\"55.615234\"/>\n      </g>\n     </g>\n    </g>\n    <g id=\"ytick_20\">\n     <g id=\"text_48\">\n      <!-- 20 -->\n      <g style=\"fill: #262626\" transform=\"translate(603.864154 221.152015) scale(0.1 -0.1)\">\n       <use xlink:href=\"#ArialMT-32\"/>\n       <use xlink:href=\"#ArialMT-30\" x=\"55.615234\"/>\n      </g>\n     </g>\n    </g>\n    <g id=\"ytick_21\">\n     <g id=\"text_49\">\n      <!-- 25 -->\n      <g style=\"fill: #262626\" transform=\"translate(603.864154 265.1121) scale(0.1 -0.1)\">\n       <use xlink:href=\"#ArialMT-32\"/>\n       <use xlink:href=\"#ArialMT-35\" x=\"55.615234\"/>\n      </g>\n     </g>\n    </g>\n   </g>\n   <g id=\"patch_33\">\n    <path d=\"M 624.486029 283.513235 \nL 624.486029 37.336765 \n\" style=\"fill: none; stroke: #262626; stroke-width: 1.25; stroke-linejoin: miter; stroke-linecap: square\"/>\n   </g>\n   <g id=\"patch_34\">\n    <path d=\"M 870.6625 283.513235 \nL 870.6625 37.336765 \n\" style=\"fill: none; stroke: #262626; stroke-width: 1.25; stroke-linejoin: miter; stroke-linecap: square\"/>\n   </g>\n   <g id=\"patch_35\">\n    <path d=\"M 624.486029 283.513235 \nL 870.6625 283.513235 \n\" style=\"fill: none; stroke: #262626; stroke-width: 1.25; stroke-linejoin: miter; stroke-linecap: square\"/>\n   </g>\n   <g id=\"patch_36\">\n    <path d=\"M 624.486029 37.336765 \nL 870.6625 37.336765 \n\" style=\"fill: none; stroke: #262626; stroke-width: 1.25; stroke-linejoin: miter; stroke-linecap: square\"/>\n   </g>\n   <g id=\"text_50\">\n    <!-- number 4 -->\n    <g style=\"fill: #262626\" transform=\"translate(722.228952 31.336765) scale(0.12 -0.12)\">\n     <defs>\n      <path id=\"ArialMT-6e\" d=\"M 422 0 \nL 422 3319 \nL 928 3319 \nL 928 2847 \nQ 1294 3394 1984 3394 \nQ 2284 3394 2536 3286 \nQ 2788 3178 2913 3003 \nQ 3038 2828 3088 2588 \nQ 3119 2431 3119 2041 \nL 3119 0 \nL 2556 0 \nL 2556 2019 \nQ 2556 2363 2490 2533 \nQ 2425 2703 2258 2804 \nQ 2091 2906 1866 2906 \nQ 1506 2906 1245 2678 \nQ 984 2450 984 1813 \nL 984 0 \nL 422 0 \nz\n\" transform=\"scale(0.015625)\"/>\n      <path id=\"ArialMT-75\" d=\"M 2597 0 \nL 2597 488 \nQ 2209 -75 1544 -75 \nQ 1250 -75 995 37 \nQ 741 150 617 320 \nQ 494 491 444 738 \nQ 409 903 409 1263 \nL 409 3319 \nL 972 3319 \nL 972 1478 \nQ 972 1038 1006 884 \nQ 1059 663 1231 536 \nQ 1403 409 1656 409 \nQ 1909 409 2131 539 \nQ 2353 669 2445 892 \nQ 2538 1116 2538 1541 \nL 2538 3319 \nL 3100 3319 \nL 3100 0 \nL 2597 0 \nz\n\" transform=\"scale(0.015625)\"/>\n      <path id=\"ArialMT-62\" d=\"M 941 0 \nL 419 0 \nL 419 4581 \nL 981 4581 \nL 981 2947 \nQ 1338 3394 1891 3394 \nQ 2197 3394 2470 3270 \nQ 2744 3147 2920 2923 \nQ 3097 2700 3197 2384 \nQ 3297 2069 3297 1709 \nQ 3297 856 2875 390 \nQ 2453 -75 1863 -75 \nQ 1275 -75 941 416 \nL 941 0 \nz\nM 934 1684 \nQ 934 1088 1097 822 \nQ 1363 388 1816 388 \nQ 2184 388 2453 708 \nQ 2722 1028 2722 1663 \nQ 2722 2313 2464 2622 \nQ 2206 2931 1841 2931 \nQ 1472 2931 1203 2611 \nQ 934 2291 934 1684 \nz\n\" transform=\"scale(0.015625)\"/>\n     </defs>\n     <use xlink:href=\"#ArialMT-6e\"/>\n     <use xlink:href=\"#ArialMT-75\" x=\"55.615234\"/>\n     <use xlink:href=\"#ArialMT-6d\" x=\"111.230469\"/>\n     <use xlink:href=\"#ArialMT-62\" x=\"194.53125\"/>\n     <use xlink:href=\"#ArialMT-65\" x=\"250.146484\"/>\n     <use xlink:href=\"#ArialMT-72\" x=\"305.761719\"/>\n     <use xlink:href=\"#ArialMT-20\" x=\"339.0625\"/>\n     <use xlink:href=\"#ArialMT-34\" x=\"366.845703\"/>\n    </g>\n   </g>\n  </g>\n </g>\n <defs>\n  <clipPath id=\"p35da7e9fdf\">\n   <rect x=\"33.6625\" y=\"21.825\" width=\"246.176471\" height=\"277.2\"/>\n  </clipPath>\n  <clipPath id=\"p47fbabb991\">\n   <rect x=\"329.074265\" y=\"21.825\" width=\"246.176471\" height=\"277.2\"/>\n  </clipPath>\n  <clipPath id=\"pf703a787e2\">\n   <rect x=\"624.486029\" y=\"37.336765\" width=\"246.176471\" height=\"246.176471\"/>\n  </clipPath>\n </defs>\n</svg>\n"
     },
     "metadata": {},
     "output_type": "display_data"
    }
   ],
   "source": [
    "prediction = model(X_test.view(len(X_test),-1))\n",
    "prediction_labels = np.argmax(prediction.detach(),axis=1)\n",
    "miss_predictions = np.argwhere( prediction_labels != y_test)[0]\n",
    "\n",
    "ch = np.random.choice(miss_predictions)\n",
    "\n",
    "plt.figure(figsize=(15,5))\n",
    "\n",
    "plt.subplot(1,3,1)\n",
    "plt.title(f'Log, {y_test[ch]} miss predicted with {prediction_labels[ch]}')\n",
    "plt.bar(range(10), prediction[ch].detach().flatten())\n",
    "plt.xticks(range(10))\n",
    "\n",
    "plt.subplot(1,3,2)\n",
    "plt.title(f'Normal, {y_test[ch]} miss predicted with {prediction_labels[ch]}')\n",
    "plt.bar(range(10), torch.exp(prediction[ch].detach().flatten()))\n",
    "plt.xticks(range(10))\n",
    "\n",
    "plt.subplot(1,3,3)\n",
    "plt.title(f'number {y_test[ch]}')\n",
    "plt.imshow(X_test[ch],cmap='gray')\n",
    "\n",
    "plt.show()"
   ],
   "metadata": {
    "collapsed": false,
    "ExecuteTime": {
     "end_time": "2023-09-23T18:30:58.526095800Z",
     "start_time": "2023-09-23T18:30:57.848380800Z"
    }
   }
  },
  {
   "cell_type": "code",
   "execution_count": 457,
   "outputs": [],
   "source": [],
   "metadata": {
    "collapsed": false,
    "ExecuteTime": {
     "end_time": "2023-09-23T18:26:11.792719900Z",
     "start_time": "2023-09-23T18:26:11.791203Z"
    }
   }
  }
 ],
 "metadata": {
  "kernelspec": {
   "display_name": "Python 3",
   "language": "python",
   "name": "python3"
  },
  "language_info": {
   "codemirror_mode": {
    "name": "ipython",
    "version": 2
   },
   "file_extension": ".py",
   "mimetype": "text/x-python",
   "name": "python",
   "nbconvert_exporter": "python",
   "pygments_lexer": "ipython2",
   "version": "2.7.6"
  }
 },
 "nbformat": 4,
 "nbformat_minor": 0
}
