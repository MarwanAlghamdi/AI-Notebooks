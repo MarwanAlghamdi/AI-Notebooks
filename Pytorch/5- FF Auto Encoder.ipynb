{
 "cells": [
  {
   "cell_type": "markdown",
   "source": [
    "# Imports"
   ],
   "metadata": {
    "collapsed": false
   }
  },
  {
   "cell_type": "code",
   "execution_count": 1,
   "metadata": {
    "collapsed": true,
    "ExecuteTime": {
     "end_time": "2023-10-19T20:29:25.329829200Z",
     "start_time": "2023-10-19T20:29:22.315328800Z"
    }
   },
   "outputs": [],
   "source": [
    "import numpy as np\n",
    "import matplotlib.pyplot as plt\n",
    "import torchvision.datasets as datasets\n",
    "import torchvision.transforms as transforms\n",
    "\n",
    "import torch\n",
    "import torch.nn as nn\n",
    "import torch.nn.functional as F\n",
    "\n",
    "from torch.utils.data import DataLoader\n",
    "from torch.utils.data import TensorDataset\n",
    "\n",
    "from sklearn.model_selection import train_test_split\n",
    "\n",
    "plt.style.use('seaborn-v0_8-ticks')\n",
    "%config InlineBackend.figure_formats =['png']\n",
    "import copy"
   ]
  },
  {
   "cell_type": "markdown",
   "source": [
    "# Classes\n",
    "- Early Stopper class\n",
    "- Artificial Neural Network ( AutoEncoder )\n",
    "- Data"
   ],
   "metadata": {
    "collapsed": false
   }
  },
  {
   "cell_type": "code",
   "execution_count": 2,
   "outputs": [],
   "source": [
    "class EarlyStopping:\n",
    "    \"\"\"\n",
    "    Parameters\n",
    "    ----------\n",
    "    patience : float\n",
    "        How long should we wait until there are no improvements\n",
    "    minDelta : float\n",
    "        Small values, The minimum change that should be considered as an improvement.\n",
    "    restoreBestWeights : bool\n",
    "        Restore the best weight settings, when there is no overfitting!\n",
    "    \"\"\"\n",
    "\n",
    "    def __init__(self, patience=5, minDelta=0, restoreBestWeights=True):\n",
    "        # EarlyParams\n",
    "        self.patience = patience\n",
    "        self.minDelta = minDelta\n",
    "        self.restoreBestWeights = restoreBestWeights\n",
    "        self.best_epoch = 0\n",
    "        # Restore Options\n",
    "        self.bestModel = None\n",
    "        self.bestLoss = None\n",
    "        self.counter = 0\n",
    "        self.status = 'Learning'\n",
    "\n",
    "    def __call__(self, model, val_loss, epoch):\n",
    "\n",
    "        if self.bestLoss is None:  # First Visit\n",
    "            self.bestModel = copy.deepcopy(model.state_dict())\n",
    "            self.bestLoss = val_loss\n",
    "            self.best_epoch = epoch\n",
    "\n",
    "        elif self.bestLoss - val_loss >= self.minDelta:  # check if there is any improvement\n",
    "            self.bestModel = copy.deepcopy(model.state_dict())\n",
    "            self.bestLoss = val_loss\n",
    "            self.best_epoch = epoch\n",
    "            self.counter = 0  # reset counting\n",
    "            self.status = f'Learning'\n",
    "\n",
    "        else:  # Means there are no improvements\n",
    "            self.counter += 1\n",
    "            self.status = f'Waiting.'\n",
    "            if self.counter >= self.patience:  # Have we waited enough?\n",
    "                self.status = f'*Finished due to no improvements on validation for {self.counter} epochs.'\n",
    "                if self.restoreBestWeights:  # Restore Best weights ?\n",
    "                    model.load_state_dict(self.bestModel)\n",
    "                return True\n",
    "        return False"
   ],
   "metadata": {
    "collapsed": false,
    "ExecuteTime": {
     "end_time": "2023-10-19T20:29:25.336703600Z",
     "start_time": "2023-10-19T20:29:25.334331500Z"
    }
   }
  },
  {
   "cell_type": "code",
   "execution_count": 3,
   "outputs": [],
   "source": [
    "class AutoEncoderNN(nn.Module):\n",
    "    def __init__(self, in_out_size):\n",
    "        super().__init__()\n",
    "\n",
    "        ## Input Size\n",
    "        self.input = nn.Linear(in_features=in_out_size, out_features=200)\n",
    "\n",
    "        ## Encoder\n",
    "        self.encoder1 = nn.Linear(in_features=200, out_features=100)\n",
    "        self.encoder2 = nn.Linear(in_features=100, out_features=80)\n",
    "\n",
    "        ## Bottleneck\n",
    "        self.bottleneck = nn.Linear(in_features=80, out_features=100)\n",
    "\n",
    "        ## Decoder\n",
    "        self.decoder1 = nn.Linear(in_features=100, out_features=200)\n",
    "        self.decoder2 = nn.Linear(in_features=200, out_features=in_out_size)\n",
    "\n",
    "    def forward(self, x):\n",
    "        out = F.tanh(self.input(x))\n",
    "        out = F.tanh(self.encoder1(out))\n",
    "        out = F.tanh(self.encoder2(out))\n",
    "        out = F.tanh(self.bottleneck(out))\n",
    "        out = F.tanh(self.decoder1(out))\n",
    "        out = F.tanh(self.decoder2(out))\n",
    "\n",
    "        ## Because the images are normalized between 0~1.\n",
    "        out = F.sigmoid(out)\n",
    "\n",
    "        return out"
   ],
   "metadata": {
    "collapsed": false,
    "ExecuteTime": {
     "end_time": "2023-10-19T20:29:25.344161900Z",
     "start_time": "2023-10-19T20:29:25.341206300Z"
    }
   }
  },
  {
   "cell_type": "code",
   "execution_count": 4,
   "outputs": [],
   "source": [
    "'''\n",
    "    DONE. - Create Training Batches that includes ( RealImage, TransformImage, Label ) in every batch, so calling Train_set[0] will return them.\n",
    "'''\n",
    "\n",
    "class My_New_MNIST(torch.utils.data.Dataset):\n",
    "    def __init__(self, root, train, transform, download):\n",
    "        self.original_dataset = datasets.MNIST(root=root, train=train, transform=transform, download=download)\n",
    "\n",
    "        ## Making the train set to be flattened and one channel because we are working with black and white images\n",
    "        self.original_imgs = []\n",
    "        self.transformed_imgs = []\n",
    "\n",
    "        for img in self.original_dataset.data:\n",
    "\n",
    "            # - One channel First\n",
    "            ch_originImg = transforms.ToTensor() (torch.squeeze(img).detach().numpy()) # Added transform here to make it from zero to one\n",
    "            ch_transImg  = torch.squeeze(img).detach().numpy()\n",
    "\n",
    "            # - Apply transform on img\n",
    "            if transform:\n",
    "                trans_img = transform(ch_transImg)\n",
    "            else:\n",
    "                print(\"Transform hasn't been set yet\" )\n",
    "\n",
    "            # - Flatten Both images\n",
    "            self.original_imgs.append( ch_originImg.flatten() )\n",
    "            self.transformed_imgs.append( trans_img.flatten() )\n",
    "\n",
    "        # Convert lists to tensors\n",
    "        self.original_imgs = torch.vstack(self.original_imgs)\n",
    "        self.transformed_imgs = torch.vstack(self.transformed_imgs)\n",
    "\n",
    "    def __getitem__(self, index):\n",
    "        return self.original_imgs[index], self.transformed_imgs[index], self.original_dataset.targets[index]\n",
    "\n",
    "    def __len__(self):\n",
    "        return len(self.original_imgs)"
   ],
   "metadata": {
    "collapsed": false,
    "ExecuteTime": {
     "end_time": "2023-10-19T20:29:25.351529400Z",
     "start_time": "2023-10-19T20:29:25.344161900Z"
    }
   }
  },
  {
   "cell_type": "markdown",
   "source": [
    "# Data"
   ],
   "metadata": {
    "collapsed": false
   }
  },
  {
   "cell_type": "code",
   "execution_count": 5,
   "outputs": [],
   "source": [
    "transform = transforms.Compose([\n",
    "    transforms.ToTensor(),\n",
    "    transforms.Grayscale(),\n",
    "    transforms.RandomErasing(p=1 ,ratio=(0.04,0.4), scale=(0.1,0.1))\n",
    "])\n",
    "\n",
    "train_set = My_New_MNIST(root='../data', train=False, transform=transform, download=False)"
   ],
   "metadata": {
    "collapsed": false,
    "ExecuteTime": {
     "end_time": "2023-10-19T20:29:27.884559600Z",
     "start_time": "2023-10-19T20:29:25.352028900Z"
    }
   }
  },
  {
   "cell_type": "markdown",
   "source": [
    "## Visualize a random sample from data"
   ],
   "metadata": {
    "collapsed": false
   }
  },
  {
   "cell_type": "code",
   "execution_count": 6,
   "outputs": [
    {
     "data": {
      "text/plain": "<Figure size 1000x800 with 0 Axes>"
     },
     "metadata": {},
     "output_type": "display_data"
    },
    {
     "data": {
      "text/plain": "<Figure size 640x480 with 2 Axes>",
      "image/png": "[encoded data removed]"
     },
     "metadata": {},
     "output_type": "display_data"
    }
   ],
   "source": [
    "random_idx = np.random.randint(0,len(train_set))\n",
    "\n",
    "plt.figure(figsize=(10,8))\n",
    "fig, ax = plt.subplots(2,1)\n",
    "\n",
    "ax[0].imshow(train_set[random_idx][0].reshape(28,28),cmap='gray')\n",
    "ax[0].set_title('Original Image')\n",
    "ax[0].set_xticks([]), ax[0].set_yticks([])\n",
    "\n",
    "ax[1].imshow(train_set[random_idx][1].reshape(28,28),cmap='gray')\n",
    "ax[1].set_title('transformed Image')\n",
    "ax[1].set_xticks([]), ax[1].set_yticks([])\n",
    "plt.tight_layout()\n",
    "plt.show()"
   ],
   "metadata": {
    "collapsed": false,
    "ExecuteTime": {
     "end_time": "2023-10-19T20:29:28.011025500Z",
     "start_time": "2023-10-19T20:29:27.887561600Z"
    }
   }
  },
  {
   "cell_type": "markdown",
   "source": [
    "# Data Split"
   ],
   "metadata": {
    "collapsed": false
   }
  },
  {
   "cell_type": "code",
   "execution_count": 7,
   "outputs": [
    {
     "name": "stdout",
     "output_type": "stream",
     "text": [
      "TrainLoader has 64 elements and 140 batches\n",
      "TestLoader has 1000 elements and 1 batches\n"
     ]
    }
   ],
   "source": [
    "# Percentage of split\n",
    "train_size = int(0.9 * len(train_set))\n",
    "test_size  = len(train_set) - train_size\n",
    "\n",
    "# Train-Test Splits\n",
    "train_dataset, test_dataset = torch.utils.data.random_split(train_set, [train_size,test_size])\n",
    "\n",
    "# Dataloaders\n",
    "train_loader = DataLoader(train_dataset, batch_size=64, shuffle=True, drop_last=True)\n",
    "test_loader = DataLoader(test_dataset, batch_size=test_size, shuffle=False, drop_last=True)\n",
    "\n",
    "# Print results\n",
    "print(f'TrainLoader has {train_loader.batch_size} elements and {len(train_loader)} batches')\n",
    "print(f'TestLoader has {test_loader.batch_size} elements and {len(test_loader)} batches')"
   ],
   "metadata": {
    "collapsed": false,
    "ExecuteTime": {
     "end_time": "2023-10-19T20:29:28.017411400Z",
     "start_time": "2023-10-19T20:29:28.013026300Z"
    }
   }
  },
  {
   "cell_type": "markdown",
   "source": [
    "# Model"
   ],
   "metadata": {
    "collapsed": false
   }
  },
  {
   "cell_type": "markdown",
   "source": [
    "## Model Preparing"
   ],
   "metadata": {
    "collapsed": false
   }
  },
  {
   "cell_type": "code",
   "execution_count": 8,
   "outputs": [
    {
     "data": {
      "text/plain": "784"
     },
     "execution_count": 8,
     "metadata": {},
     "output_type": "execute_result"
    }
   ],
   "source": [
    "# size of input to the network. which is 28x28 --> 784\n",
    "# Image number 50, original image 0, shape 0\n",
    "img_net_sz = train_set[50][0].shape[0]\n",
    "img_net_sz"
   ],
   "metadata": {
    "collapsed": false,
    "ExecuteTime": {
     "end_time": "2023-10-19T20:29:28.023205400Z",
     "start_time": "2023-10-19T20:29:28.018411600Z"
    }
   }
  },
  {
   "cell_type": "code",
   "execution_count": 9,
   "outputs": [],
   "source": [
    "model = AutoEncoderNN(img_net_sz)\n",
    "loss_func = nn.MSELoss()\n",
    "optimizer = torch.optim.Adam(model.parameters(), lr=0.001)\n",
    "early_stopper = EarlyStopping(50)"
   ],
   "metadata": {
    "collapsed": false,
    "ExecuteTime": {
     "end_time": "2023-10-19T20:29:28.031440400Z",
     "start_time": "2023-10-19T20:29:28.026207500Z"
    }
   }
  },
  {
   "cell_type": "markdown",
   "source": [
    "## Model Training"
   ],
   "metadata": {
    "collapsed": false
   }
  },
  {
   "cell_type": "code",
   "execution_count": 10,
   "outputs": [],
   "source": [
    "training_loss_hist = []\n",
    "testing_loss_hist = []"
   ],
   "metadata": {
    "collapsed": false,
    "ExecuteTime": {
     "end_time": "2023-10-19T20:29:28.062211100Z",
     "start_time": "2023-10-19T20:29:28.032440300Z"
    }
   }
  },
  {
   "cell_type": "code",
   "execution_count": 11,
   "outputs": [
    {
     "name": "stderr",
     "output_type": "stream",
     "text": [
      "Waiting. | Training Loss 0.0696763, Validation Loss 0.0755201:  30%|███       | 150/500 [02:19<05:25,  1.07it/s]\n"
     ]
    }
   ],
   "source": [
    "from tqdm import tqdm\n",
    "\n",
    "# Add progress bar for training epochs\n",
    "epoch_pb = tqdm(range(500),leave=True,position=0)\n",
    "\n",
    "for epoch_i in epoch_pb:\n",
    "    # Reset\n",
    "    batch_loss = []\n",
    "    model.train()\n",
    "\n",
    "    # begin Batch Training\n",
    "    for orig_img, trans_img, _ in train_loader:\n",
    "\n",
    "        # Forward\n",
    "        yHat = model.forward(trans_img)\n",
    "\n",
    "        # Loss calculations\n",
    "        loss = loss_func(yHat, orig_img)\n",
    "        batch_loss.append(loss.item())\n",
    "\n",
    "        # Backprop\n",
    "        optimizer.zero_grad()\n",
    "        loss.backward()\n",
    "        optimizer.step()\n",
    "    # end of batch training\n",
    "\n",
    "    # Store training loss\n",
    "    training_loss_hist.append( np.mean(batch_loss) )\n",
    "\n",
    "    # begin of Evaluation\n",
    "    model.eval()\n",
    "    with torch.no_grad():\n",
    "\n",
    "        # Test data\n",
    "        _orig_img, _trans_img, _ = next(iter(test_loader))\n",
    "\n",
    "        # Test Evaluation\n",
    "        _yHat = model(_trans_img)\n",
    "        _loss = loss_func(_yHat, _orig_img)\n",
    "\n",
    "        # Store\n",
    "        testing_loss_hist.append(_loss.item())\n",
    "    # end of evaluation\n",
    "\n",
    "    # Progress bar\n",
    "    report = f'{early_stopper.status} | Training Loss {training_loss_hist[-1]:.7f}, Validation Loss {testing_loss_hist[-1]:.7f}'\n",
    "\n",
    "    epoch_pb.set_description(report)\n",
    "\n",
    "    # Check for any model improvements\n",
    "    if early_stopper(model, testing_loss_hist[-1], epoch_i):\n",
    "        break"
   ],
   "metadata": {
    "collapsed": false,
    "ExecuteTime": {
     "end_time": "2023-10-19T20:31:47.618541400Z",
     "start_time": "2023-10-19T20:29:28.038192100Z"
    }
   }
  },
  {
   "cell_type": "markdown",
   "source": [
    "# Visualize model's progress"
   ],
   "metadata": {
    "collapsed": false
   }
  },
  {
   "cell_type": "code",
   "execution_count": 12,
   "outputs": [],
   "source": [
    "random_idx = np.random.randint(0,test_size-1, 8)\n",
    "test_loader_sample = next(iter(test_loader))\n",
    "\n",
    "origin_imgs = test_loader_sample[0][random_idx]\n",
    "transform_imgs = test_loader_sample[1][random_idx]\n",
    "\n",
    "predicted_img = model(transform_imgs)"
   ],
   "metadata": {
    "collapsed": false,
    "ExecuteTime": {
     "end_time": "2023-10-19T20:31:47.636245200Z",
     "start_time": "2023-10-19T20:31:47.620042700Z"
    }
   }
  },
  {
   "cell_type": "code",
   "execution_count": 13,
   "outputs": [
    {
     "data": {
      "text/plain": "<Figure size 1200x800 with 24 Axes>",
      "image/png": "[encoded data removed]"
     },
     "metadata": {},
     "output_type": "display_data"
    }
   ],
   "source": [
    "fig = plt.figure(figsize=(12,8))\n",
    "subfigs = fig.subfigures(nrows=3,ncols=1)\n",
    "figs_titles = ['Original Images from Dataset', 'Transformed Images from Dataset', \"Model's Prediction\"]\n",
    "\n",
    "subfigs[0].suptitle('Original Images')\n",
    "for i, ax in enumerate(subfigs[0].subplots(1,8)):\n",
    "    ax.imshow(origin_imgs[i].reshape(28,28),cmap='gray')\n",
    "    ax.set_xticks([]), ax.set_yticks([])\n",
    "\n",
    "subfigs[1].suptitle('Transformed Images')\n",
    "for i, ax in enumerate(subfigs[1].subplots(1,8)):\n",
    "    ax.imshow(transform_imgs[i].reshape(28,28),cmap='gray')\n",
    "    ax.set_xticks([]), ax.set_yticks([])\n",
    "\n",
    "subfigs[2].suptitle('Predicted Images')\n",
    "for i, ax in enumerate(subfigs[2].subplots(1,8)):\n",
    "    ax.imshow(predicted_img[i].detach().reshape(28,28),cmap='gray')\n",
    "    ax.set_xticks([]), ax.set_yticks([])\n",
    "\n",
    "plt.tight_layout()\n",
    "plt.show()"
   ],
   "metadata": {
    "collapsed": false,
    "ExecuteTime": {
     "end_time": "2023-10-19T20:31:48.723577Z",
     "start_time": "2023-10-19T20:31:47.640749500Z"
    }
   }
  },
  {
   "cell_type": "markdown",
   "source": [],
   "metadata": {
    "collapsed": false
   }
  },
  {
   "cell_type": "code",
   "execution_count": 14,
   "outputs": [
    {
     "data": {
      "text/plain": "<Figure size 1500x400 with 1 Axes>",
      "image/png": "[encoded data removed]"
     },
     "metadata": {},
     "output_type": "display_data"
    }
   ],
   "source": [
    "plt.figure(figsize=(15,4))\n",
    "plt.plot(training_loss_hist,'r',label='Train')\n",
    "plt.plot(testing_loss_hist,'g',label='Test')\n",
    "plt.ylabel('Loss')\n",
    "plt.xlabel('Epoch')\n",
    "plt.legend()\n",
    "plt.show()"
   ],
   "metadata": {
    "collapsed": false,
    "ExecuteTime": {
     "end_time": "2023-10-19T20:31:48.912105200Z",
     "start_time": "2023-10-19T20:31:48.725077500Z"
    }
   }
  },
  {
   "cell_type": "code",
   "execution_count": 14,
   "outputs": [],
   "source": [],
   "metadata": {
    "collapsed": false,
    "ExecuteTime": {
     "end_time": "2023-10-19T20:31:48.913490700Z",
     "start_time": "2023-10-19T20:31:48.912484700Z"
    }
   }
  }
 ],
 "metadata": {
  "kernelspec": {
   "display_name": "Python 3",
   "language": "python",
   "name": "python3"
  },
  "language_info": {
   "codemirror_mode": {
    "name": "ipython",
    "version": 2
   },
   "file_extension": ".py",
   "mimetype": "text/x-python",
   "name": "python",
   "nbconvert_exporter": "python",
   "pygments_lexer": "ipython2",
   "version": "2.7.6"
  }
 },
 "nbformat": 4,
 "nbformat_minor": 0
}
