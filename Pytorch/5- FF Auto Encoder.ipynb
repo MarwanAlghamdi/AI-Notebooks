{
 "cells": [
  {
   "cell_type": "markdown",
   "source": [
    "# Imports"
   ],
   "metadata": {
    "collapsed": false
   }
  },
  {
   "cell_type": "code",
   "execution_count": 421,
   "metadata": {
    "collapsed": true,
    "ExecuteTime": {
     "end_time": "2023-10-01T21:50:46.455396200Z",
     "start_time": "2023-10-01T21:50:46.396522700Z"
    }
   },
   "outputs": [],
   "source": [
    "import numpy as np\n",
    "import matplotlib.pyplot as plt\n",
    "import torchvision.datasets as datasets\n",
    "import torchvision.transforms as transforms\n",
    "\n",
    "import torch\n",
    "import torch.nn as nn\n",
    "import torch.nn.functional as F\n",
    "\n",
    "from torch.utils.data import DataLoader\n",
    "from torch.utils.data import TensorDataset\n",
    "\n",
    "from sklearn.model_selection import train_test_split\n",
    "\n",
    "plt.style.use('seaborn-v0_8-ticks')\n",
    "%config InlineBackend.figure_formats =['svg']\n",
    "import copy"
   ]
  },
  {
   "cell_type": "markdown",
   "source": [
    "# Classes\n",
    "- Early Stopper class\n",
    "- Artificial Neural Network ( AutoEncoder )\n",
    "- Data"
   ],
   "metadata": {
    "collapsed": false
   }
  },
  {
   "cell_type": "code",
   "execution_count": 422,
   "outputs": [],
   "source": [
    "class EarlyStopping:\n",
    "    \"\"\"\n",
    "    Parameters\n",
    "    ----------\n",
    "    patience : float\n",
    "        How long should we wait until there are no improvements\n",
    "    minDelta : float\n",
    "        Small values, The minimum change that should be considered as an improvement.\n",
    "    restoreBestWeights : bool\n",
    "        Restore the best weight settings, when there is no overfitting!\n",
    "    \"\"\"\n",
    "\n",
    "    def __init__(self, patience=5, minDelta=0, restoreBestWeights=True):\n",
    "        # EarlyParams\n",
    "        self.patience = patience\n",
    "        self.minDelta = minDelta\n",
    "        self.restoreBestWeights = restoreBestWeights\n",
    "        self.best_epoch = 0\n",
    "        # Restore Options\n",
    "        self.bestModel = None\n",
    "        self.bestLoss = None\n",
    "        self.counter = 0\n",
    "        self.status = 'Learning'\n",
    "\n",
    "    def __call__(self, model, val_loss, epoch):\n",
    "\n",
    "        if self.bestLoss is None:  # First Visit\n",
    "            self.bestModel = copy.deepcopy(model.state_dict())\n",
    "            self.bestLoss = val_loss\n",
    "            self.best_epoch = epoch\n",
    "\n",
    "        elif self.bestLoss - val_loss >= self.minDelta:  # check if there is any improvement\n",
    "            self.bestModel = copy.deepcopy(model.state_dict())\n",
    "            self.bestLoss = val_loss\n",
    "            self.best_epoch = epoch\n",
    "            self.counter = 0  # reset counting\n",
    "            self.status = f'Learning'\n",
    "\n",
    "        else:  # Means there are no improvements\n",
    "            self.counter += 1\n",
    "            self.status = f'Waiting.'\n",
    "            if self.counter >= self.patience:  # Have we waited enough?\n",
    "                self.status = f'*Finished due to no improvements on validation for {self.counter} epochs.'\n",
    "                if self.restoreBestWeights:  # Restore Best weights ?\n",
    "                    model.load_state_dict(self.bestModel)\n",
    "                return True\n",
    "        return False"
   ],
   "metadata": {
    "collapsed": false,
    "ExecuteTime": {
     "end_time": "2023-10-01T21:50:46.455896700Z",
     "start_time": "2023-10-01T21:50:46.403032700Z"
    }
   }
  },
  {
   "cell_type": "code",
   "execution_count": 423,
   "outputs": [],
   "source": [
    "class AutoEncoderNN(nn.Module):\n",
    "    def __init__(self, in_out_size):\n",
    "        super().__init__()\n",
    "\n",
    "        ## Input Size\n",
    "        self.input = nn.Linear(in_features=in_out_size, out_features=200)\n",
    "\n",
    "        ## Encoder\n",
    "        self.encoder1 = nn.Linear(in_features=200, out_features=100)\n",
    "        self.encoder2 = nn.Linear(in_features=100, out_features=80)\n",
    "\n",
    "        ## Bottleneck\n",
    "        self.bottleneck = nn.Linear(in_features=80, out_features=100)\n",
    "\n",
    "        ## Decoder\n",
    "        self.decoder1 = nn.Linear(in_features=100, out_features=200)\n",
    "        self.decoder2 = nn.Linear(in_features=200, out_features=in_out_size)\n",
    "\n",
    "    def forward(self, x):\n",
    "        out = F.tanh(self.input(x))\n",
    "        out = F.tanh(self.encoder1(out))\n",
    "        out = F.tanh(self.encoder2(out))\n",
    "        out = F.tanh(self.bottleneck(out))\n",
    "        out = F.tanh(self.decoder1(out))\n",
    "        out = F.tanh(self.decoder2(out))\n",
    "\n",
    "        ## Because the images are normalized between 0~1.\n",
    "        out = F.sigmoid(out)\n",
    "\n",
    "        return out"
   ],
   "metadata": {
    "collapsed": false,
    "ExecuteTime": {
     "end_time": "2023-10-01T21:50:46.456397400Z",
     "start_time": "2023-10-01T21:50:46.409626400Z"
    }
   }
  },
  {
   "cell_type": "code",
   "execution_count": 424,
   "outputs": [],
   "source": [
    "'''\n",
    "    DONE. - Create Training Batches that includes ( RealImage, TransformImage, Label ) in every batch, so calling Train_set[0] will return them.\n",
    "'''\n",
    "\n",
    "class My_New_MNIST(torch.utils.data.Dataset):\n",
    "    def __init__(self, root, train, transform, download):\n",
    "        self.original_dataset = datasets.MNIST(root=root, train=train, transform=transform, download=download)\n",
    "\n",
    "        ## Making the train set to be flattened and one channel because we are working with black and white images\n",
    "        self.original_imgs = []\n",
    "        self.transformed_imgs = []\n",
    "\n",
    "        for img in self.original_dataset.data:\n",
    "\n",
    "            # - One channel First\n",
    "            ch_originImg = transforms.ToTensor() (torch.squeeze(img).detach().numpy()) # Added transform here to make it from zero to one\n",
    "            ch_transImg  = torch.squeeze(img).detach().numpy()\n",
    "\n",
    "            # - Apply transform on img\n",
    "            if transform:\n",
    "                trans_img = transform(ch_transImg)\n",
    "            else:\n",
    "                print(\"Transform hasn't been set yet\" )\n",
    "\n",
    "            # - Flatten Both images\n",
    "            self.original_imgs.append( ch_originImg.flatten() )\n",
    "            self.transformed_imgs.append( trans_img.flatten() )\n",
    "\n",
    "        # Convert lists to tensors\n",
    "        self.original_imgs = torch.vstack(self.original_imgs)\n",
    "        self.transformed_imgs = torch.vstack(self.transformed_imgs)\n",
    "\n",
    "    def __getitem__(self, index):\n",
    "        return self.original_imgs[index], self.transformed_imgs[index], self.original_dataset.targets[index]\n",
    "\n",
    "    def __len__(self):\n",
    "        return len(self.original_imgs)"
   ],
   "metadata": {
    "collapsed": false,
    "ExecuteTime": {
     "end_time": "2023-10-01T21:50:46.529469600Z",
     "start_time": "2023-10-01T21:50:46.418582200Z"
    }
   }
  },
  {
   "cell_type": "markdown",
   "source": [
    "# Data"
   ],
   "metadata": {
    "collapsed": false
   }
  },
  {
   "cell_type": "code",
   "execution_count": 425,
   "outputs": [],
   "source": [
    "transform = transforms.Compose([\n",
    "    transforms.ToTensor(),\n",
    "    transforms.Grayscale(),\n",
    "    transforms.RandomErasing(p=1 ,ratio=(0.04,0.4), scale=(0.1,0.1))\n",
    "])\n",
    "\n",
    "train_set = My_New_MNIST(root='../data', train=False, transform=transform, download=False)"
   ],
   "metadata": {
    "collapsed": false,
    "ExecuteTime": {
     "end_time": "2023-10-01T21:50:49.099399600Z",
     "start_time": "2023-10-01T21:50:46.423869Z"
    }
   }
  },
  {
   "cell_type": "markdown",
   "source": [
    "## Visualize a random sample from data"
   ],
   "metadata": {
    "collapsed": false
   }
  },
  {
   "cell_type": "code",
   "execution_count": 426,
   "outputs": [
    {
     "data": {
      "text/plain": "<Figure size 1000x800 with 0 Axes>"
     },
     "metadata": {},
     "output_type": "display_data"
    },
    {
     "data": {
      "text/plain": "<Figure size 640x480 with 2 Axes>",
      "image/svg+xml": "<?xml version=\"1.0\" encoding=\"utf-8\" standalone=\"no\"?>\n<!DOCTYPE svg PUBLIC \"-//W3C//DTD SVG 1.1//EN\"\n  \"http://www.w3.org/Graphics/SVG/1.1/DTD/svg11.dtd\">\n<svg xmlns:xlink=\"http://www.w3.org/1999/xlink\" width=\"156.331875pt\" height=\"338.503125pt\" viewBox=\"0 0 156.331875 338.503125\" xmlns=\"http://www.w3.org/2000/svg\" version=\"1.1\">\n <metadata>\n  <rdf:RDF xmlns:dc=\"http://purl.org/dc/elements/1.1/\" xmlns:cc=\"http://creativecommons.org/ns#\" xmlns:rdf=\"http://www.w3.org/1999/02/22-rdf-syntax-ns#\">\n   <cc:Work>\n    <dc:type rdf:resource=\"http://purl.org/dc/dcmitype/StillImage\"/>\n    <dc:date>2023-10-02T00:50:49.163956</dc:date>\n    <dc:format>image/svg+xml</dc:format>\n    <dc:creator>\n     <cc:Agent>\n      <dc:title>Matplotlib v3.7.1, https://matplotlib.org/</dc:title>\n     </cc:Agent>\n    </dc:creator>\n   </cc:Work>\n  </rdf:RDF>\n </metadata>\n <defs>\n  <style type=\"text/css\">*{stroke-linejoin: round; stroke-linecap: butt}</style>\n </defs>\n <g id=\"figure_1\">\n  <g id=\"patch_1\">\n   <path d=\"M 0 338.503125 \nL 156.331875 338.503125 \nL 156.331875 0 \nL 0 0 \nz\n\" style=\"fill: #ffffff\"/>\n  </g>\n  <g id=\"axes_1\">\n   <g id=\"patch_2\">\n    <path d=\"M 7.2 163.875 \nL 149.131875 163.875 \nL 149.131875 21.943125 \nL 7.2 21.943125 \nz\n\" style=\"fill: #ffffff\"/>\n   </g>\n   <g clip-path=\"url(#p94ce1e693a)\">\n    <image xlink:href=\"data:image/png;base64,\niVBORw0KGgoAAAANSUhEUgAAAMYAAADGCAYAAACJm/9dAAAFEklEQVR4nO3dsW+NexzH8VMRCSIhKWIQFUIwVCRKDDp2MSOM2qWbdGGx4R+wGIRFnEZiMPoDhFRMja0Rg6WpgQSR0N753vv5Pmme1nVPn9dr/aSnTyJvv+TXk3OGer3eSg/4m01/+gHg/0gYEAgDAmFAIAwIhAGBMCAQBgTCgEAYEAgDAmFAIAwINv/pB2DtJiYmyu3GjRvlNjMzU25v375d0zMNOicGBMKAQBgQCAMCYUAgDAhc1w6I0dHRcpudnS23HTt2lNuRI0fKzXUt8C/CgEAYEAgDAmFAIAwIXNcOiOHh4XJrupKlHScGBMKAQBgQCAMCYUAgDAiEAYEwIBAGBMKAQBgQCAMCYUDg3bUD4vPnz+X27du3ctu2bVu5NX3mbb/fX92DbVBODAiEAYEwIBAGBMKAQBgQCAMCf8cYEG/evCm39+/fl9uJEyfK7ejRo2t6po3MiQGBMCAQBgTCgEAYEAgDAte1G8Dc3Fy5NV3XPnr06Dc8zcbgxIBAGBAIAwJhQCAMCIQBwVCv11v50w/B2kxOTpbb/fv3y+3169fldu7cuTU906BzYkAgDAiEAYEwIBAGBMKAwLtrGxw+fLjcjh071uo1mz64YH5+vtVrsv6cGBAIAwJhQCAMCIQBgTAg6Px17bNnz8ptfHy83Hbt2tXq93358qXcrl+/Xm4PHz4st6GhoXLbtKn+v6/p57rOiQGBMCAQBgTCgEAYEAgDgk5c146MjJTb2bNny23nzp3ltrS0VG6/fv0qtz179pTbgwcPyu3UqVPl9vHjx3JbXl4ut5UVn4NRcWJAIAwIhAGBMCAQBgTCgKAT17XXrl0rt71795bbjx8/yu306dOtfm5sbKzc7t27V27T09PlxvpzYkAgDAiEAYEwIBAGBMKAoBPXta9evWr1cz9//iy3Dx8+tHrN58+fl9v27dvL7e7du+W2f//+Vs/S9E7fpm1xcbHV7xskTgwIhAGBMCAQBgTCgEAYEHTiuvbTp0+tfq7ps123bt1abt+/f2/1+548eVJuc3Nz5fbixYtyO3DgQLkdPHiw3I4fP15urmuho4QBgTAgEAYEwoBAGBAM9Xq9Df8BpsPDw+X28uXLcjt06FC53bp1q9xu3769ugdbJ03POT8/X25btmwpt36/X25Xr15d3YMNMCcGBMKAQBgQCAMCYUAgDAg68e7apq8Fa3rnbdM16MWLF8vtv76uXVhYKLd3796V28mTJ3/D02wMTgwIhAGBMCAQBgTCgEAYEHTiurZJ0+faNn0t2O7du8vt0qVL5fb06dNyW15eLre2bt68WW5N77z9+vXruj/LIHFiQCAMCIQBgTAgEAYEwoCgEx+G0Nbjx4/L7fLly61ec3Z2ttzu3LnT6jWbPpxgamqq3M6cOVNuTe/Y7QInBgTCgEAYEAgDAmFAIAwIXNc2GBkZKbeZmZlym56ebvX7mr7abGWl3T9T09eC7du3r9VrdoETAwJhQCAMCIQBgTAgEAYEwoDA3zFaavr+uvPnz5fbhQsXym18fLzcRkdHV/dg/3DlypVya/qeva5zYkAgDAiEAYEwIBAGBMKAwHUtBE4MCIQBgTAgEAYEwoBAGBAIAwJhQCAMCIQBgTAgEAYEwoBAGBAIAwJhQCAMCIQBgTAgEAYEwoBAGBAIAwJhQCAMCIQBgTAgEAYEwoBAGBAIAwJhQCAMCIQBgTAgEAYEwoBAGBAIAwJhQCAMCP4CYjm/gK9HBcEAAAAASUVORK5CYII=\" id=\"image06efb2803f\" transform=\"scale(1 -1) translate(0 -142.56)\" x=\"7.2\" y=\"-21.315\" width=\"142.56\" height=\"142.56\"/>\n   </g>\n   <g id=\"matplotlib.axis_1\"/>\n   <g id=\"matplotlib.axis_2\"/>\n   <g id=\"patch_3\">\n    <path d=\"M 7.2 163.875 \nL 7.2 21.943125 \n\" style=\"fill: none; stroke: #262626; stroke-width: 1.25; stroke-linejoin: miter; stroke-linecap: square\"/>\n   </g>\n   <g id=\"patch_4\">\n    <path d=\"M 149.131875 163.875 \nL 149.131875 21.943125 \n\" style=\"fill: none; stroke: #262626; stroke-width: 1.25; stroke-linejoin: miter; stroke-linecap: square\"/>\n   </g>\n   <g id=\"patch_5\">\n    <path d=\"M 7.2 163.875 \nL 149.131875 163.875 \n\" style=\"fill: none; stroke: #262626; stroke-width: 1.25; stroke-linejoin: miter; stroke-linecap: square\"/>\n   </g>\n   <g id=\"patch_6\">\n    <path d=\"M 7.2 21.943125 \nL 149.131875 21.943125 \n\" style=\"fill: none; stroke: #262626; stroke-width: 1.25; stroke-linejoin: miter; stroke-linecap: square\"/>\n   </g>\n   <g id=\"text_1\">\n    <!-- Original Image -->\n    <g style=\"fill: #262626\" transform=\"translate(39.150938 15.943125) scale(0.12 -0.12)\">\n     <defs>\n      <path id=\"ArialMT-4f\" d=\"M 309 2231 \nQ 309 3372 921 4017 \nQ 1534 4663 2503 4663 \nQ 3138 4663 3647 4359 \nQ 4156 4056 4423 3514 \nQ 4691 2972 4691 2284 \nQ 4691 1588 4409 1038 \nQ 4128 488 3612 205 \nQ 3097 -78 2500 -78 \nQ 1853 -78 1343 234 \nQ 834 547 571 1087 \nQ 309 1628 309 2231 \nz\nM 934 2222 \nQ 934 1394 1379 917 \nQ 1825 441 2497 441 \nQ 3181 441 3623 922 \nQ 4066 1403 4066 2288 \nQ 4066 2847 3877 3264 \nQ 3688 3681 3323 3911 \nQ 2959 4141 2506 4141 \nQ 1863 4141 1398 3698 \nQ 934 3256 934 2222 \nz\n\" transform=\"scale(0.015625)\"/>\n      <path id=\"ArialMT-72\" d=\"M 416 0 \nL 416 3319 \nL 922 3319 \nL 922 2816 \nQ 1116 3169 1280 3281 \nQ 1444 3394 1641 3394 \nQ 1925 3394 2219 3213 \nL 2025 2691 \nQ 1819 2813 1613 2813 \nQ 1428 2813 1281 2702 \nQ 1134 2591 1072 2394 \nQ 978 2094 978 1738 \nL 978 0 \nL 416 0 \nz\n\" transform=\"scale(0.015625)\"/>\n      <path id=\"ArialMT-69\" d=\"M 425 3934 \nL 425 4581 \nL 988 4581 \nL 988 3934 \nL 425 3934 \nz\nM 425 0 \nL 425 3319 \nL 988 3319 \nL 988 0 \nL 425 0 \nz\n\" transform=\"scale(0.015625)\"/>\n      <path id=\"ArialMT-67\" d=\"M 319 -275 \nL 866 -356 \nQ 900 -609 1056 -725 \nQ 1266 -881 1628 -881 \nQ 2019 -881 2231 -725 \nQ 2444 -569 2519 -288 \nQ 2563 -116 2559 434 \nQ 2191 0 1641 0 \nQ 956 0 581 494 \nQ 206 988 206 1678 \nQ 206 2153 378 2554 \nQ 550 2956 876 3175 \nQ 1203 3394 1644 3394 \nQ 2231 3394 2613 2919 \nL 2613 3319 \nL 3131 3319 \nL 3131 450 \nQ 3131 -325 2973 -648 \nQ 2816 -972 2473 -1159 \nQ 2131 -1347 1631 -1347 \nQ 1038 -1347 672 -1080 \nQ 306 -813 319 -275 \nz\nM 784 1719 \nQ 784 1066 1043 766 \nQ 1303 466 1694 466 \nQ 2081 466 2343 764 \nQ 2606 1063 2606 1700 \nQ 2606 2309 2336 2618 \nQ 2066 2928 1684 2928 \nQ 1309 2928 1046 2623 \nQ 784 2319 784 1719 \nz\n\" transform=\"scale(0.015625)\"/>\n      <path id=\"ArialMT-6e\" d=\"M 422 0 \nL 422 3319 \nL 928 3319 \nL 928 2847 \nQ 1294 3394 1984 3394 \nQ 2284 3394 2536 3286 \nQ 2788 3178 2913 3003 \nQ 3038 2828 3088 2588 \nQ 3119 2431 3119 2041 \nL 3119 0 \nL 2556 0 \nL 2556 2019 \nQ 2556 2363 2490 2533 \nQ 2425 2703 2258 2804 \nQ 2091 2906 1866 2906 \nQ 1506 2906 1245 2678 \nQ 984 2450 984 1813 \nL 984 0 \nL 422 0 \nz\n\" transform=\"scale(0.015625)\"/>\n      <path id=\"ArialMT-61\" d=\"M 2588 409 \nQ 2275 144 1986 34 \nQ 1697 -75 1366 -75 \nQ 819 -75 525 192 \nQ 231 459 231 875 \nQ 231 1119 342 1320 \nQ 453 1522 633 1644 \nQ 813 1766 1038 1828 \nQ 1203 1872 1538 1913 \nQ 2219 1994 2541 2106 \nQ 2544 2222 2544 2253 \nQ 2544 2597 2384 2738 \nQ 2169 2928 1744 2928 \nQ 1347 2928 1158 2789 \nQ 969 2650 878 2297 \nL 328 2372 \nQ 403 2725 575 2942 \nQ 747 3159 1072 3276 \nQ 1397 3394 1825 3394 \nQ 2250 3394 2515 3294 \nQ 2781 3194 2906 3042 \nQ 3031 2891 3081 2659 \nQ 3109 2516 3109 2141 \nL 3109 1391 \nQ 3109 606 3145 398 \nQ 3181 191 3288 0 \nL 2700 0 \nQ 2613 175 2588 409 \nz\nM 2541 1666 \nQ 2234 1541 1622 1453 \nQ 1275 1403 1131 1340 \nQ 988 1278 909 1158 \nQ 831 1038 831 891 \nQ 831 666 1001 516 \nQ 1172 366 1500 366 \nQ 1825 366 2078 508 \nQ 2331 650 2450 897 \nQ 2541 1088 2541 1459 \nL 2541 1666 \nz\n\" transform=\"scale(0.015625)\"/>\n      <path id=\"ArialMT-6c\" d=\"M 409 0 \nL 409 4581 \nL 972 4581 \nL 972 0 \nL 409 0 \nz\n\" transform=\"scale(0.015625)\"/>\n      <path id=\"ArialMT-20\" transform=\"scale(0.015625)\"/>\n      <path id=\"ArialMT-49\" d=\"M 597 0 \nL 597 4581 \nL 1203 4581 \nL 1203 0 \nL 597 0 \nz\n\" transform=\"scale(0.015625)\"/>\n      <path id=\"ArialMT-6d\" d=\"M 422 0 \nL 422 3319 \nL 925 3319 \nL 925 2853 \nQ 1081 3097 1340 3245 \nQ 1600 3394 1931 3394 \nQ 2300 3394 2536 3241 \nQ 2772 3088 2869 2813 \nQ 3263 3394 3894 3394 \nQ 4388 3394 4653 3120 \nQ 4919 2847 4919 2278 \nL 4919 0 \nL 4359 0 \nL 4359 2091 \nQ 4359 2428 4304 2576 \nQ 4250 2725 4106 2815 \nQ 3963 2906 3769 2906 \nQ 3419 2906 3187 2673 \nQ 2956 2441 2956 1928 \nL 2956 0 \nL 2394 0 \nL 2394 2156 \nQ 2394 2531 2256 2718 \nQ 2119 2906 1806 2906 \nQ 1569 2906 1367 2781 \nQ 1166 2656 1075 2415 \nQ 984 2175 984 1722 \nL 984 0 \nL 422 0 \nz\n\" transform=\"scale(0.015625)\"/>\n      <path id=\"ArialMT-65\" d=\"M 2694 1069 \nL 3275 997 \nQ 3138 488 2766 206 \nQ 2394 -75 1816 -75 \nQ 1088 -75 661 373 \nQ 234 822 234 1631 \nQ 234 2469 665 2931 \nQ 1097 3394 1784 3394 \nQ 2450 3394 2872 2941 \nQ 3294 2488 3294 1666 \nQ 3294 1616 3291 1516 \nL 816 1516 \nQ 847 969 1125 678 \nQ 1403 388 1819 388 \nQ 2128 388 2347 550 \nQ 2566 713 2694 1069 \nz\nM 847 1978 \nL 2700 1978 \nQ 2663 2397 2488 2606 \nQ 2219 2931 1791 2931 \nQ 1403 2931 1139 2672 \nQ 875 2413 847 1978 \nz\n\" transform=\"scale(0.015625)\"/>\n     </defs>\n     <use xlink:href=\"#ArialMT-4f\"/>\n     <use xlink:href=\"#ArialMT-72\" x=\"77.783203\"/>\n     <use xlink:href=\"#ArialMT-69\" x=\"111.083984\"/>\n     <use xlink:href=\"#ArialMT-67\" x=\"133.300781\"/>\n     <use xlink:href=\"#ArialMT-69\" x=\"188.916016\"/>\n     <use xlink:href=\"#ArialMT-6e\" x=\"211.132812\"/>\n     <use xlink:href=\"#ArialMT-61\" x=\"266.748047\"/>\n     <use xlink:href=\"#ArialMT-6c\" x=\"322.363281\"/>\n     <use xlink:href=\"#ArialMT-20\" x=\"344.580078\"/>\n     <use xlink:href=\"#ArialMT-49\" x=\"372.363281\"/>\n     <use xlink:href=\"#ArialMT-6d\" x=\"400.146484\"/>\n     <use xlink:href=\"#ArialMT-61\" x=\"483.447266\"/>\n     <use xlink:href=\"#ArialMT-67\" x=\"539.0625\"/>\n     <use xlink:href=\"#ArialMT-65\" x=\"594.677734\"/>\n    </g>\n   </g>\n  </g>\n  <g id=\"axes_2\">\n   <g id=\"patch_7\">\n    <path d=\"M 7.2 331.303125 \nL 149.131875 331.303125 \nL 149.131875 189.37125 \nL 7.2 189.37125 \nz\n\" style=\"fill: #ffffff\"/>\n   </g>\n   <g clip-path=\"url(#p4b894cc257)\">\n    <image xlink:href=\"data:image/png;base64,\niVBORw0KGgoAAAANSUhEUgAAAMYAAADGCAYAAACJm/9dAAAEzElEQVR4nO3dsUuVexzH8aNEECEkWOIQGUmQixGU0qBji3NFjdXiFi62tFX/gIuDOEVK0ODYHyBF0CRtEQ0toUsQEZTnzvfez/chnrrX7Hm91g+e88Dl3Q9+93DOQK/X6/eAvxnc7weA35EwIBAGBMKAQBgQCAMCYUAgDAiEAYEwIBAGBMKAQBgQHNrvB+DnXblypdyWlpbKbXFxsdxev379U8900DkxIBAGBMKAQBgQCAMCYUDguvaAmJqaKreNjY1yGxoaKrezZ8+Wm+ta4F+EAYEwIBAGBMKAQBgQuK49IEZGRsqt6UqWdpwYEAgDAmFAIAwIhAGBMCAQBgTCgEAYEAgDAmFAIAwIhAHBQK/X6+/3Q8DvxokBgTAgEAYEwoBAGBAIAwJhQCAMCIQBgTAgEAYEwoBAGBAIAwJhQCAMCIQBgTAgEAYEwoBAGBAIAwJhQCAMCIQBgTAgEAYEwoDg0H4/wO9sYmKi3M6dO9fqNd+9e1du29vbrV7z9u3b5bayslJuL1++LLfLly+3epY/hRMDAmFAIAwIhAGBMCAQBgSdv6599uxZuc3NzZXb8PBwq/f79OlTud29e7fc1tbWym1gYKDcBgfrf/ua/q7rnBgQCAMCYUAgDAiEAYEwIOjEde34+Hi5zczMlNuxY8fKbWdnp9y+f/9ebidOnCi31dXVcrtw4UK5ffjwodz29vbKrd/vl1vXOTEgEAYEwoBAGBAIAwJhQNCJ69pbt26V2+joaLl9/fq13C5evNjq7y5dulRuy8vL5bawsFBu/HpODAiEAYEwIBAGBMKAQBgQdOK69sWLF63+7tu3b+X2/v37Vq+5ublZbkePHi23R48eldvJkydbPUvTJ32bto8fP7Z6v4PEiQGBMCAQBgTCgEAYEAgDgk5c1+7u7rb6u6bvdj1y5Ei5ffnypdX7PXnypNxevXpVbs+fPy+3U6dOldvp06fLbXJystxc10JHCQMCYUAgDAiEAYEwIBjo9Xp//BeYjoyMlNvW1la5nTlzptzu379fbg8ePPixB/tFmp5ze3u73A4fPlxu6+vr5Xbz5s0fe7ADzIkBgTAgEAYEwoBAGBAIA4JOfLq26WfBmj5523QNevXq1XL7v69r3759W25v3rwpt/Pnz/8HT/NncGJAIAwIhAGBMCAQBgTCgKAT17VNmr7XtulnwY4fP15u165dK7enT5+W297eXrm1de/evXJr+uTt58+ff/mzHCRODAiEAYEwIBAGBMKAQBgQdOLLENp6/PhxuV2/fr3Va25sbJTbw4cPW71m05cT3Llzp9ymp6fLrekTu13gxIBAGBAIAwJhQCAMCIQBgevaBuPj4+W2uLhYbgsLC63er+mnzfr9dv+Zmn4WbGxsrNVrdoETAwJhQCAMCIQBgTAgEAYEwoDA/8doqen362ZnZ8ttfn6+3Obm5sptamrqxx7sH27cuFFuTb+z13VODAiEAYEwIBAGBMKAQBgQuK6FwIkBgTAgEAYEwoBAGBAIAwJhQCAMCIQBgTAgEAYEwoBAGBAIAwJhQCAMCIQBgTAgEAYEwoBAGBAIAwJhQCAMCIQBgTAgEAYEwoBAGBAIAwJhQCAMCIQBgTAgEAYEwoBAGBAIAwJhQCAMCIQBwV+znKwhfJvebwAAAABJRU5ErkJggg==\" id=\"image75df5e73ea\" transform=\"scale(1 -1) translate(0 -142.56)\" x=\"7.2\" y=\"-188.743125\" width=\"142.56\" height=\"142.56\"/>\n   </g>\n   <g id=\"matplotlib.axis_3\"/>\n   <g id=\"matplotlib.axis_4\"/>\n   <g id=\"patch_8\">\n    <path d=\"M 7.2 331.303125 \nL 7.2 189.37125 \n\" style=\"fill: none; stroke: #262626; stroke-width: 1.25; stroke-linejoin: miter; stroke-linecap: square\"/>\n   </g>\n   <g id=\"patch_9\">\n    <path d=\"M 149.131875 331.303125 \nL 149.131875 189.37125 \n\" style=\"fill: none; stroke: #262626; stroke-width: 1.25; stroke-linejoin: miter; stroke-linecap: square\"/>\n   </g>\n   <g id=\"patch_10\">\n    <path d=\"M 7.2 331.303125 \nL 149.131875 331.303125 \n\" style=\"fill: none; stroke: #262626; stroke-width: 1.25; stroke-linejoin: miter; stroke-linecap: square\"/>\n   </g>\n   <g id=\"patch_11\">\n    <path d=\"M 7.2 189.37125 \nL 149.131875 189.37125 \n\" style=\"fill: none; stroke: #262626; stroke-width: 1.25; stroke-linejoin: miter; stroke-linecap: square\"/>\n   </g>\n   <g id=\"text_2\">\n    <!-- transformed Image -->\n    <g style=\"fill: #262626\" transform=\"translate(27.814688 183.37125) scale(0.12 -0.12)\">\n     <defs>\n      <path id=\"ArialMT-74\" d=\"M 1650 503 \nL 1731 6 \nQ 1494 -44 1306 -44 \nQ 1000 -44 831 53 \nQ 663 150 594 308 \nQ 525 466 525 972 \nL 525 2881 \nL 113 2881 \nL 113 3319 \nL 525 3319 \nL 525 4141 \nL 1084 4478 \nL 1084 3319 \nL 1650 3319 \nL 1650 2881 \nL 1084 2881 \nL 1084 941 \nQ 1084 700 1114 631 \nQ 1144 563 1211 522 \nQ 1278 481 1403 481 \nQ 1497 481 1650 503 \nz\n\" transform=\"scale(0.015625)\"/>\n      <path id=\"ArialMT-73\" d=\"M 197 991 \nL 753 1078 \nQ 800 744 1014 566 \nQ 1228 388 1613 388 \nQ 2000 388 2187 545 \nQ 2375 703 2375 916 \nQ 2375 1106 2209 1216 \nQ 2094 1291 1634 1406 \nQ 1016 1563 777 1677 \nQ 538 1791 414 1992 \nQ 291 2194 291 2438 \nQ 291 2659 392 2848 \nQ 494 3038 669 3163 \nQ 800 3259 1026 3326 \nQ 1253 3394 1513 3394 \nQ 1903 3394 2198 3281 \nQ 2494 3169 2634 2976 \nQ 2775 2784 2828 2463 \nL 2278 2388 \nQ 2241 2644 2061 2787 \nQ 1881 2931 1553 2931 \nQ 1166 2931 1000 2803 \nQ 834 2675 834 2503 \nQ 834 2394 903 2306 \nQ 972 2216 1119 2156 \nQ 1203 2125 1616 2013 \nQ 2213 1853 2448 1751 \nQ 2684 1650 2818 1456 \nQ 2953 1263 2953 975 \nQ 2953 694 2789 445 \nQ 2625 197 2315 61 \nQ 2006 -75 1616 -75 \nQ 969 -75 630 194 \nQ 291 463 197 991 \nz\n\" transform=\"scale(0.015625)\"/>\n      <path id=\"ArialMT-66\" d=\"M 556 0 \nL 556 2881 \nL 59 2881 \nL 59 3319 \nL 556 3319 \nL 556 3672 \nQ 556 4006 616 4169 \nQ 697 4388 901 4523 \nQ 1106 4659 1475 4659 \nQ 1713 4659 2000 4603 \nL 1916 4113 \nQ 1741 4144 1584 4144 \nQ 1328 4144 1222 4034 \nQ 1116 3925 1116 3625 \nL 1116 3319 \nL 1763 3319 \nL 1763 2881 \nL 1116 2881 \nL 1116 0 \nL 556 0 \nz\n\" transform=\"scale(0.015625)\"/>\n      <path id=\"ArialMT-6f\" d=\"M 213 1659 \nQ 213 2581 725 3025 \nQ 1153 3394 1769 3394 \nQ 2453 3394 2887 2945 \nQ 3322 2497 3322 1706 \nQ 3322 1066 3130 698 \nQ 2938 331 2570 128 \nQ 2203 -75 1769 -75 \nQ 1072 -75 642 372 \nQ 213 819 213 1659 \nz\nM 791 1659 \nQ 791 1022 1069 705 \nQ 1347 388 1769 388 \nQ 2188 388 2466 706 \nQ 2744 1025 2744 1678 \nQ 2744 2294 2464 2611 \nQ 2184 2928 1769 2928 \nQ 1347 2928 1069 2612 \nQ 791 2297 791 1659 \nz\n\" transform=\"scale(0.015625)\"/>\n      <path id=\"ArialMT-64\" d=\"M 2575 0 \nL 2575 419 \nQ 2259 -75 1647 -75 \nQ 1250 -75 917 144 \nQ 584 363 401 755 \nQ 219 1147 219 1656 \nQ 219 2153 384 2558 \nQ 550 2963 881 3178 \nQ 1213 3394 1622 3394 \nQ 1922 3394 2156 3267 \nQ 2391 3141 2538 2938 \nL 2538 4581 \nL 3097 4581 \nL 3097 0 \nL 2575 0 \nz\nM 797 1656 \nQ 797 1019 1065 703 \nQ 1334 388 1700 388 \nQ 2069 388 2326 689 \nQ 2584 991 2584 1609 \nQ 2584 2291 2321 2609 \nQ 2059 2928 1675 2928 \nQ 1300 2928 1048 2622 \nQ 797 2316 797 1656 \nz\n\" transform=\"scale(0.015625)\"/>\n     </defs>\n     <use xlink:href=\"#ArialMT-74\"/>\n     <use xlink:href=\"#ArialMT-72\" x=\"27.783203\"/>\n     <use xlink:href=\"#ArialMT-61\" x=\"61.083984\"/>\n     <use xlink:href=\"#ArialMT-6e\" x=\"116.699219\"/>\n     <use xlink:href=\"#ArialMT-73\" x=\"172.314453\"/>\n     <use xlink:href=\"#ArialMT-66\" x=\"222.314453\"/>\n     <use xlink:href=\"#ArialMT-6f\" x=\"250.097656\"/>\n     <use xlink:href=\"#ArialMT-72\" x=\"305.712891\"/>\n     <use xlink:href=\"#ArialMT-6d\" x=\"339.013672\"/>\n     <use xlink:href=\"#ArialMT-65\" x=\"422.314453\"/>\n     <use xlink:href=\"#ArialMT-64\" x=\"477.929688\"/>\n     <use xlink:href=\"#ArialMT-20\" x=\"533.544922\"/>\n     <use xlink:href=\"#ArialMT-49\" x=\"561.328125\"/>\n     <use xlink:href=\"#ArialMT-6d\" x=\"589.111328\"/>\n     <use xlink:href=\"#ArialMT-61\" x=\"672.412109\"/>\n     <use xlink:href=\"#ArialMT-67\" x=\"728.027344\"/>\n     <use xlink:href=\"#ArialMT-65\" x=\"783.642578\"/>\n    </g>\n   </g>\n  </g>\n </g>\n <defs>\n  <clipPath id=\"p94ce1e693a\">\n   <rect x=\"7.2\" y=\"21.943125\" width=\"141.931875\" height=\"141.931875\"/>\n  </clipPath>\n  <clipPath id=\"p4b894cc257\">\n   <rect x=\"7.2\" y=\"189.37125\" width=\"141.931875\" height=\"141.931875\"/>\n  </clipPath>\n </defs>\n</svg>\n"
     },
     "metadata": {},
     "output_type": "display_data"
    }
   ],
   "source": [
    "random_idx = np.random.randint(0,len(train_set))\n",
    "\n",
    "plt.figure(figsize=(10,8))\n",
    "fig, ax = plt.subplots(2,1)\n",
    "\n",
    "ax[0].imshow(train_set[random_idx][0].reshape(28,28),cmap='gray')\n",
    "ax[0].set_title('Original Image')\n",
    "ax[0].set_xticks([]), ax[0].set_yticks([])\n",
    "\n",
    "ax[1].imshow(train_set[random_idx][1].reshape(28,28),cmap='gray')\n",
    "ax[1].set_title('transformed Image')\n",
    "ax[1].set_xticks([]), ax[1].set_yticks([])\n",
    "plt.tight_layout()\n",
    "plt.show()"
   ],
   "metadata": {
    "collapsed": false,
    "ExecuteTime": {
     "end_time": "2023-10-01T21:50:49.221483800Z",
     "start_time": "2023-10-01T21:50:49.101401100Z"
    }
   }
  },
  {
   "cell_type": "markdown",
   "source": [
    "# Data Split"
   ],
   "metadata": {
    "collapsed": false
   }
  },
  {
   "cell_type": "code",
   "execution_count": 427,
   "outputs": [
    {
     "name": "stdout",
     "output_type": "stream",
     "text": [
      "TrainLoader has 64 elements and 140 batches\n",
      "TestLoader has 1000 elements and 1 batches\n"
     ]
    }
   ],
   "source": [
    "# Percentage of split\n",
    "train_size = int(0.9 * len(train_set))\n",
    "test_size  = len(train_set) - train_size\n",
    "\n",
    "# Train-Test Splits\n",
    "train_dataset, test_dataset = torch.utils.data.random_split(train_set, [train_size,test_size])\n",
    "\n",
    "# Dataloaders\n",
    "train_loader = DataLoader(train_dataset, batch_size=64, shuffle=True, drop_last=True)\n",
    "test_loader = DataLoader(test_dataset, batch_size=test_size, shuffle=False, drop_last=True)\n",
    "\n",
    "# Print results\n",
    "print(f'TrainLoader has {train_loader.batch_size} elements and {len(train_loader)} batches')\n",
    "print(f'TestLoader has {test_loader.batch_size} elements and {len(test_loader)} batches')"
   ],
   "metadata": {
    "collapsed": false,
    "ExecuteTime": {
     "end_time": "2023-10-01T21:50:49.222485600Z",
     "start_time": "2023-10-01T21:50:49.187983100Z"
    }
   }
  },
  {
   "cell_type": "markdown",
   "source": [
    "# Model"
   ],
   "metadata": {
    "collapsed": false
   }
  },
  {
   "cell_type": "markdown",
   "source": [
    "## Model Preparing"
   ],
   "metadata": {
    "collapsed": false
   }
  },
  {
   "cell_type": "code",
   "execution_count": 428,
   "outputs": [
    {
     "data": {
      "text/plain": "784"
     },
     "execution_count": 428,
     "metadata": {},
     "output_type": "execute_result"
    }
   ],
   "source": [
    "# size of input to the network. which is 28x28 --> 784\n",
    "# Image number 50, original image 0, shape 0\n",
    "img_net_sz = train_set[50][0].shape[0]\n",
    "img_net_sz"
   ],
   "metadata": {
    "collapsed": false,
    "ExecuteTime": {
     "end_time": "2023-10-01T21:50:49.222485600Z",
     "start_time": "2023-10-01T21:50:49.209969900Z"
    }
   }
  },
  {
   "cell_type": "code",
   "execution_count": 429,
   "outputs": [],
   "source": [
    "model = AutoEncoderNN(img_net_sz)\n",
    "loss_func = nn.MSELoss()\n",
    "optimizer = torch.optim.Adam(model.parameters(), lr=0.001)\n",
    "early_stopper = EarlyStopping(50)"
   ],
   "metadata": {
    "collapsed": false,
    "ExecuteTime": {
     "end_time": "2023-10-01T21:50:49.222485600Z",
     "start_time": "2023-10-01T21:50:49.210473Z"
    }
   }
  },
  {
   "cell_type": "markdown",
   "source": [
    "## Model Training"
   ],
   "metadata": {
    "collapsed": false
   }
  },
  {
   "cell_type": "code",
   "execution_count": 430,
   "outputs": [],
   "source": [
    "training_loss_hist = []\n",
    "testing_loss_hist = []"
   ],
   "metadata": {
    "collapsed": false,
    "ExecuteTime": {
     "end_time": "2023-10-01T21:50:49.222485600Z",
     "start_time": "2023-10-01T21:50:49.210473Z"
    }
   }
  },
  {
   "cell_type": "code",
   "execution_count": 431,
   "outputs": [
    {
     "name": "stderr",
     "output_type": "stream",
     "text": [
      "Waiting. | Training Loss 0.0697518, Validation Loss 0.0756611:  32%|███▏      | 161/500 [02:20<04:56,  1.14it/s]\n"
     ]
    }
   ],
   "source": [
    "from tqdm import tqdm\n",
    "\n",
    "# Add progress bar for training epochs\n",
    "epoch_pb = tqdm(range(500),leave=True,position=0)\n",
    "\n",
    "for epoch_i in epoch_pb:\n",
    "    # Reset\n",
    "    batch_loss = []\n",
    "    model.train()\n",
    "\n",
    "    # begin Batch Training\n",
    "    for orig_img, trans_img, _ in train_loader:\n",
    "\n",
    "        # Forward\n",
    "        yHat = model.forward(trans_img)\n",
    "\n",
    "        # Loss calculations\n",
    "        loss = loss_func(yHat, orig_img)\n",
    "        batch_loss.append(loss.item())\n",
    "\n",
    "        # Backprop\n",
    "        optimizer.zero_grad()\n",
    "        loss.backward()\n",
    "        optimizer.step()\n",
    "    # end of batch training\n",
    "\n",
    "    # Store training loss\n",
    "    training_loss_hist.append( np.mean(batch_loss) )\n",
    "\n",
    "    # begin of Evaluation\n",
    "    model.eval()\n",
    "    with torch.no_grad():\n",
    "\n",
    "        # Test data\n",
    "        _orig_img, _trans_img, _ = next(iter(test_loader))\n",
    "\n",
    "        # Test Evaluation\n",
    "        _yHat = model(_trans_img)\n",
    "        _loss = loss_func(_yHat, _orig_img)\n",
    "\n",
    "        # Store\n",
    "        testing_loss_hist.append(_loss.item())\n",
    "    # end of evaluation\n",
    "\n",
    "    # Progress bar\n",
    "    report = f'{early_stopper.status} | Training Loss {training_loss_hist[-1]:.7f}, Validation Loss {testing_loss_hist[-1]:.7f}'\n",
    "\n",
    "    epoch_pb.set_description(report)\n",
    "\n",
    "    # Check for any model improvements\n",
    "    if early_stopper(model, testing_loss_hist[-1], epoch_i):\n",
    "        break"
   ],
   "metadata": {
    "collapsed": false,
    "ExecuteTime": {
     "end_time": "2023-10-01T21:53:10.215245Z",
     "start_time": "2023-10-01T21:50:49.215479200Z"
    }
   }
  },
  {
   "cell_type": "markdown",
   "source": [
    "# Visualize model's progress"
   ],
   "metadata": {
    "collapsed": false
   }
  },
  {
   "cell_type": "code",
   "execution_count": 435,
   "outputs": [],
   "source": [
    "random_idx = np.random.randint(0,test_size-1, 8)\n",
    "test_loader_sample = next(iter(test_loader))\n",
    "\n",
    "origin_imgs = test_loader_sample[0][random_idx]\n",
    "transform_imgs = test_loader_sample[1][random_idx]\n",
    "\n",
    "predicted_img = model(transform_imgs)"
   ],
   "metadata": {
    "collapsed": false,
    "ExecuteTime": {
     "end_time": "2023-10-01T21:54:36.513028900Z",
     "start_time": "2023-10-01T21:54:36.489575300Z"
    }
   }
  },
  {
   "cell_type": "code",
   "execution_count": 437,
   "outputs": [
    {
     "data": {
      "text/plain": "<Figure size 1200x800 with 24 Axes>",
      "image/svg+xml": "<?xml version=\"1.0\" encoding=\"utf-8\" standalone=\"no\"?>\n<!DOCTYPE svg PUBLIC \"-//W3C//DTD SVG 1.1//EN\"\n  \"http://www.w3.org/Graphics/SVG/1.1/DTD/svg11.dtd\">\n<svg xmlns:xlink=\"http://www.w3.org/1999/xlink\" width=\"856.8pt\" height=\"538.485pt\" viewBox=\"0 0 856.8 538.485\" xmlns=\"http://www.w3.org/2000/svg\" version=\"1.1\">\n <metadata>\n  <rdf:RDF xmlns:dc=\"http://purl.org/dc/elements/1.1/\" xmlns:cc=\"http://creativecommons.org/ns#\" xmlns:rdf=\"http://www.w3.org/1999/02/22-rdf-syntax-ns#\">\n   <cc:Work>\n    <dc:type rdf:resource=\"http://purl.org/dc/dcmitype/StillImage\"/>\n    <dc:date>2023-10-02T00:54:48.987230</dc:date>\n    <dc:format>image/svg+xml</dc:format>\n    <dc:creator>\n     <cc:Agent>\n      <dc:title>Matplotlib v3.7.1, https://matplotlib.org/</dc:title>\n     </cc:Agent>\n    </dc:creator>\n   </cc:Work>\n  </rdf:RDF>\n </metadata>\n <defs>\n  <style type=\"text/css\">*{stroke-linejoin: round; stroke-linecap: butt}</style>\n </defs>\n <g id=\"figure_1\">\n  <g id=\"patch_1\">\n   <path d=\"M 0 538.485 \nL 856.8 538.485 \nL 856.8 -0 \nL 0 -0 \nz\n\" style=\"fill: #ffffff\"/>\n  </g>\n  <g id=\"subfigure_1\">\n   <g id=\"patch_2\">\n    <path d=\"M -3.6 195.36 \nL 860.4 195.36 \nL 860.4 3.36 \nL -3.6 3.36 \nz\n\" style=\"fill: #ffffff\"/>\n   </g>\n   <g id=\"axes_1\">\n    <g id=\"patch_3\">\n     <path d=\"M 7.2 147.285 \nL 103.05 147.285 \nL 103.05 51.435 \nL 7.2 51.435 \nz\n\" style=\"fill: #ffffff\"/>\n    </g>\n    <g clip-path=\"url(#pf5cf62fd44)\">\n     <image xlink:href=\"data:image/png;base64,\niVBORw0KGgoAAAANSUhEUgAAAIYAAACGCAYAAAAYefKRAAAED0lEQVR4nO3czyusURzH8eO6lI1ClGKysEBEKJuxsEGJv8HWgo2UpEjJr//A0s4ahcLGBkUpCxbKjpIF5We6d+uZ7+de5z7meuaZeb92z7eZ4yzenU6YyXPO/XJAih9RbwCZiTAgEQYkwoBEGJAIAxJhQCIMSIQB6WfUG/iqtrY2M9vZ2Qk839zcmNfMzs6a2crKSvo2FnOcGJAIAxJhQIr9HSOZTJpZcXHxX5+dc25mZsbM9vf3zezy8vILu4svTgxIhAGJMCARBqTYXz7DSiQSZtbR0WFmXD6BDwgDEmFAIgxIsb98Xl9fm9nb21vguaCgwGutkZERM9vb2/P6mdmGEwMSYUAiDEiEASnPZeGHmk9PTwPPjY2NoddSf56fnp4OvV5ccGJAIgxIhAGJMCBl5eWztrY28Ly7u2teU1VV5bXWy8uLmRUVFYXbWIxwYkAiDEiEASkr7xipFhYWzGxsbMzrve/v72bW29sbeE79rGw24MSARBiQCAMSYUDKictnXV2dmW1tbZlZdXW113qpF9LS0lLzmoeHB8/dZSZODEiEAYkwIBEGpJy4fCpLS0tmNjo6GmqtxcVFMxsfHw+1VqbgxIBEGJAIAxJhQIr9h5rDmpqaMjP1+ZOenp5P12poaDAz9e9/T09PnruLHicGJMKARBiQcvYXXEpXV5eZhf23vfn5eTObmJgItVYUODEgEQYkwoBEGJBy9hdcysHBgZltb2+bWXd396drNTU1mVlhYaGZvb6+eu7ue3FiQCIMSIQBiTAgcfn84PHx0czOz8/NzOfy2dfXZ2YtLS1mdnh46Le5b8aJAYkwIBEGJMKAxOXzE+ob/4aHhyPYyffixIBEGJAIAxJhQIrk8jkwMBB4rqys9Hrf0dGRmR0fH6dlT3+yubn5X9fPVJwYkAgDEmFAiuSOkfoFJZ2dnV7vu7u7M7OhoSEzW19fDzzH6TOjmYITAxJhQCIMSIQBKZLL59zcXOBZfclIe3u7mamvZl5dXTWzk5OTwPPZ2Zl5zfLyspldXFx4/Uwft7e3ZnZ/fx9qrShwYkAiDEiEAYkwIGXEN+okEgkzU3/VLC8vN7OysrK07SP10uqccyUlJWZWU1Pz6Vr9/f1mtrGxEWpfUeDEgEQYkAgDEmFAyojLp6/W1lYza25uNrPJycnAs7rc5ufnp21fz8/PZlZfX29mV1dXafuZ/xsnBiTCgEQYkAgDUqwun2ENDg6aWUVFhdd71W8wk8lk4Dn1czLOObe2tua3uQzFiQGJMCARBqScuGPg33FiQCIMSIQBiTAgEQYkwoBEGJAIAxJhQCIMSIQBiTAgEQYkwoBEGJAIAxJhQCIMSIQBiTAgEQYkwoBEGJAIAxJhQCIMSIQBiTAg/QavnrGpCbN18AAAAABJRU5ErkJggg==\" id=\"imagefa767b433a\" transform=\"scale(1 -1) translate(0 -96.48)\" x=\"7.2\" y=\"-50.805\" width=\"96.48\" height=\"96.48\"/>\n    </g>\n    <g id=\"matplotlib.axis_1\"/>\n    <g id=\"matplotlib.axis_2\"/>\n    <g id=\"patch_4\">\n     <path d=\"M 7.2 147.285 \nL 7.2 51.435 \n\" style=\"fill: none; stroke: #262626; stroke-width: 1.25; stroke-linejoin: miter; stroke-linecap: square\"/>\n    </g>\n    <g id=\"patch_5\">\n     <path d=\"M 103.05 147.285 \nL 103.05 51.435 \n\" style=\"fill: none; stroke: #262626; stroke-width: 1.25; stroke-linejoin: miter; stroke-linecap: square\"/>\n    </g>\n    <g id=\"patch_6\">\n     <path d=\"M 7.2 147.285 \nL 103.05 147.285 \n\" style=\"fill: none; stroke: #262626; stroke-width: 1.25; stroke-linejoin: miter; stroke-linecap: square\"/>\n    </g>\n    <g id=\"patch_7\">\n     <path d=\"M 7.2 51.435 \nL 103.05 51.435 \n\" style=\"fill: none; stroke: #262626; stroke-width: 1.25; stroke-linejoin: miter; stroke-linecap: square\"/>\n    </g>\n   </g>\n   <g id=\"axes_2\">\n    <g id=\"patch_8\">\n     <path d=\"M 113.85 147.285 \nL 209.7 147.285 \nL 209.7 51.435 \nL 113.85 51.435 \nz\n\" style=\"fill: #ffffff\"/>\n    </g>\n    <g clip-path=\"url(#p60dd9e9c8d)\">\n     <image xlink:href=\"data:image/png;base64,\niVBORw0KGgoAAAANSUhEUgAAAIYAAACGCAYAAAAYefKRAAAEr0lEQVR4nO3dSyj0bRzG8Zmnx6FQioWsFAtZKAlhaeG0cIgUKYciFCVlJwk7WdjIIcZGTkuJkrJjZSMKCyk7csghKe/2/c/vel7zjBkz3vl+dvfVjXtxdfs15m/cLpfrwwV4+RXqAyA8UQxIFAMSxYBEMSBRDEgUAxLFgEQxIFEMSBQDEsWARDEgUQxIFAMSxYBEMSBRDEi/A/nNiouLTdbS0vLp193f35tsenraZOfn536dC3+PGwMSxYBEMSBRDEhuVwCfK9nf3zeZGkh9cXd3Z7KNjQ2fsr29Pcf67e3NrzNEMm4MSBQDEsWARDEgBX34jImJMdn4+LhjnZuba/Z0dXWZLCkpyWQfH/b4Y2NjjvXS0pLZw6uo/40bAxLFgEQxIFEMSEEfPgsLC03W0dHhWKvhMCEhwWQNDQ0m6+/vN1lGRoZj/fT0ZPa0traaTL2KGqm4MSBRDEgUA1JAZ4yamhqT+fJ7W/2+93g8Pv3MqKgok9XV1TnW8/PzZk9sbKzJ1NsJu7u7fTrH/w03BiSKAYliQKIYkAI6fCrZ2dkmW1hYcKzT0tLMnoKCApP5+xfRxMREk01MTJhMDcGHh4cmq6iocKxvb2/9Olc448aARDEgUQxIFANS0IdPpaioyLFeWVkxe15eXkz2/v5usuHhYZNtbW051o+Pj2aPGkgnJydN1tTUZLK1tTXHuqenx+xRz8X8JNwYkCgGJIoBiWJACsnw6Yv29naTzc7Omkw9V3J9fe1Yqz+nb25umuzo6Mhkvb29JvMeUtVwOzAwYLK5uTmThStuDEgUAxLFgBS2M4aSnJxsspGREZN1dnZ++r1eX19Nph4zUG8BjIuL+/T7Kzc3NybznpFGR0fNnqmpKb9+3ldwY0CiGJAoBiSKAelHDZ+Keq4kPz/fsW5sbDR71D90US+qqRfQ/OV2u03mfbbt7W2zJxRvHeTGgEQxIFEMSBQD0o8fPsOBepvg4OCgT9ni4qJj3dbWFqhjfQk3BiSKAYliQKIYkBg+v9HBwYHJcnJyHOuqqiqzx/s5me/AjQGJYkCiGJAoBiSGz2+UmZlpMu+B9OHhwewpKysz2fHxceAOJnBjQKIYkCgGpN+hPkAkOT09NdnJyYljnZeXZ/aoj+MYGhoK3MEEbgxIFAMSxYBEMSDxAleIpaenO9a7u7tmz/Pzs8mysrKCdiaXixsDf0AxIFEMSBQDEq98htjFxYVjvbq6avaoh63Ly8tNFsi3AHJjQKIYkCgGJIoBKWKHT/U5J6mpqSZbX1832c7OTjCO9EfqoemSkhKTMXwi6CgGJIoBiWJAitjh8+rqymTqfZTNzc0m8x7ylpeXzZ6zszOTqc9D8eVcSm1trcnUZ6T4ixsDEsWARDEg8da+f6murjaZ+l3u/c9N4uPjzR5fPw/F+19SR0dHmz3qM1P6+vpMNjMzYzJ/cWNAohiQKAYkigGJ4dMPpaWljnV9fb3ZU1lZabKUlBSTeQ+fl5eXZo/6S7DH4/nsmF/CjQGJYkCiGJAoBiSGT0jcGJAoBiSKAYliQKIYkCgGJIoBiWJAohiQKAYkigGJYkCiGJAoBiSKAYliQKIYkCgGpH8AhXEUW9WnjY4AAAAASUVORK5CYII=\" id=\"image69165d7323\" transform=\"scale(1 -1) translate(0 -96.48)\" x=\"113.85\" y=\"-50.805\" width=\"96.48\" height=\"96.48\"/>\n    </g>\n    <g id=\"matplotlib.axis_3\"/>\n    <g id=\"matplotlib.axis_4\"/>\n    <g id=\"patch_9\">\n     <path d=\"M 113.85 147.285 \nL 113.85 51.435 \n\" style=\"fill: none; stroke: #262626; stroke-width: 1.25; stroke-linejoin: miter; stroke-linecap: square\"/>\n    </g>\n    <g id=\"patch_10\">\n     <path d=\"M 209.7 147.285 \nL 209.7 51.435 \n\" style=\"fill: none; stroke: #262626; stroke-width: 1.25; stroke-linejoin: miter; stroke-linecap: square\"/>\n    </g>\n    <g id=\"patch_11\">\n     <path d=\"M 113.85 147.285 \nL 209.7 147.285 \n\" style=\"fill: none; stroke: #262626; stroke-width: 1.25; stroke-linejoin: miter; stroke-linecap: square\"/>\n    </g>\n    <g id=\"patch_12\">\n     <path d=\"M 113.85 51.435 \nL 209.7 51.435 \n\" style=\"fill: none; stroke: #262626; stroke-width: 1.25; stroke-linejoin: miter; stroke-linecap: square\"/>\n    </g>\n   </g>\n   <g id=\"axes_3\">\n    <g id=\"patch_13\">\n     <path d=\"M 220.5 147.285 \nL 316.35 147.285 \nL 316.35 51.435 \nL 220.5 51.435 \nz\n\" style=\"fill: #ffffff\"/>\n    </g>\n    <g clip-path=\"url(#p0b597ed29e)\">\n     <image xlink:href=\"data:image/png;base64,\niVBORw0KGgoAAAANSUhEUgAAAIYAAACGCAYAAAAYefKRAAACoElEQVR4nO3dUU7bQBRA0UnVfQVWBqwMsjL6Xee2da0k9ijn/GEBycfV6GnsSU5jjO8BCz/2fgMckzBIwiAJgyQMkjBIwiAJgyQMkjBIwiAJgyQM0s+tf/j+/n517Xw+X117eXm5uvb19fXbz5fLZfNrch9WDJIwSMIgCYN0Ghsf7fv+PsYTgctBdowxPj4+/vk7/J0VgyQMkjBIwiBtHj4/Pz+vrtUu51GtGVr/9HvPwIpBEgZJGCRhkDYPn2X2gbTUQPoMt/+tGCRhkIRBEgbppsPnLdWA9/b29vg3ssLr6+vVtdl3TK0YJGGQhEE67IyxVm2gLa/tMZvMvjFmxSAJgyQMkjBI0w+fW+2xgTbTQGrFIAmDJAySMEhPO3yWPQbS5Z3Zo9yVtWKQhEESBkkYpKcdPut2fZ2LebTT6bT3WxhjWDH4A2GQhEF6ihljpjO1tcFVxxPuzYpBEgZJGCRhkKYfPmuIXN4RvfegWQPjLV9zj0cCrRgkYZCEQRIGafOX5R3FmkPNt7YcBmsQPOrd27WsGCRhkIRBEgZp+uHz0ec+xlh39mPt96Ec9ZMIrRgkYZCEQRIGafrh85aO+tHP5/P54a9pxSAJgyQMkhljAnucgbFikIRBEgZJGKTph89b3rGsR+/q/y83vdaeK9ljo2orKwZJGCRhkIRBmn74vLcaZI/6ON4tWTFIwiAJgyQM0vTDZx0oXu5EznSYuNTu671ZMUjCIAmDJAzS9MNnWQ6f9R0gR/188bqFv8fZFisGSRgkYZCm/8joe1vz0cz1yF7NKzUrXC6X/369R7BikIRBEgZJGCTDJ8mKQRIGSRgkYZCEQRIGSRgkYZCEQRIGSRgkYZCEQRIGSRgkYZCEQRIGSRgkYZCEQRIGSRikX0sUmLxCKCoYAAAAAElFTkSuQmCC\" id=\"image819075d25e\" transform=\"scale(1 -1) translate(0 -96.48)\" x=\"220.5\" y=\"-50.805\" width=\"96.48\" height=\"96.48\"/>\n    </g>\n    <g id=\"matplotlib.axis_5\"/>\n    <g id=\"matplotlib.axis_6\"/>\n    <g id=\"patch_14\">\n     <path d=\"M 220.5 147.285 \nL 220.5 51.435 \n\" style=\"fill: none; stroke: #262626; stroke-width: 1.25; stroke-linejoin: miter; stroke-linecap: square\"/>\n    </g>\n    <g id=\"patch_15\">\n     <path d=\"M 316.35 147.285 \nL 316.35 51.435 \n\" style=\"fill: none; stroke: #262626; stroke-width: 1.25; stroke-linejoin: miter; stroke-linecap: square\"/>\n    </g>\n    <g id=\"patch_16\">\n     <path d=\"M 220.5 147.285 \nL 316.35 147.285 \n\" style=\"fill: none; stroke: #262626; stroke-width: 1.25; stroke-linejoin: miter; stroke-linecap: square\"/>\n    </g>\n    <g id=\"patch_17\">\n     <path d=\"M 220.5 51.435 \nL 316.35 51.435 \n\" style=\"fill: none; stroke: #262626; stroke-width: 1.25; stroke-linejoin: miter; stroke-linecap: square\"/>\n    </g>\n   </g>\n   <g id=\"axes_4\">\n    <g id=\"patch_18\">\n     <path d=\"M 327.15 147.285 \nL 423 147.285 \nL 423 51.435 \nL 327.15 51.435 \nz\n\" style=\"fill: #ffffff\"/>\n    </g>\n    <g clip-path=\"url(#p23cbff68ff)\">\n     <image xlink:href=\"data:image/png;base64,\niVBORw0KGgoAAAANSUhEUgAAAIYAAACGCAYAAAAYefKRAAAEuklEQVR4nO3dvSu9fxzH8Yu+GOQmt4u7DGewuPn6CxiklPtBBjFgIZTFKqVEYbGYDBKREZFFSQmxoHQoRQxKDG7yG79d3q/f13Fc5+scPR/b59XH8RlePn06l+u6ohzHeXOAd6K/ewEITxQDEsWARDEgUQxIFAMSxYBEMSBRDEgUAxLFgEQxIFEMSBQDEsWARDEgUQxIFAPSr+9egOM4TlNTk8mqqqpMVllZabKkpCTP1nF5eWmy+fl5k01OTrrGfr/fszWEC3YMSBQDEsWARDEgRTkhvq8kLS3NZFNTU65xTU2NmRMVFWWyx8dHk01PT5vs4ODgw3Xl5OSYrLq62mSFhYUme35+do1XVlbMnN7eXpOdnZ19uK5wwY4BiWJAohiQKAYkTw+fqampJlMHs+LiYtf4/v7ezJmZmTHZyMiIyS4uLj6zxL+KjY01WXl5ucna2tpc47q6OjNndXXVZA0NDSZ7eHj4zBL/GXYMSBQDEsWARDEgeXr4VIfDvr6+D3/u6urKZM3NzSa7vb012dHRUYCr805cXJxrvLS0ZOZUVFSYbGxszGT9/f3eLcxD7BiQKAYkigHJ0zNGfHy8yYaGhkxWVlYW1Oerq6ajo6Mm29/fD+rzg+Xz+Uy2tbVlsoSEBJOVlpa6xt9xZlLYMSBRDEgUAxLFgOTpfSXqSmFPT4+XvyIsnZycmOzu7s5kKSkpJqutrXWNOXwirFEMSBQDEsWAFBY3Nf9E6l/7Ojs7TZaYmPgvlvNp7BiQKAYkigGJYkDi8BkiRUVFAc17enoK7UKCxI4BiWJAohiQOGN4IDMz02T5+fkme3uz/0W5uLgYkjV9FTsGJIoBiWJAohiQOHx6QN1/qg6kGxsbJtvd3Q3Jmr6KHQMSxYBEMSBRDEgRdfhUN02Pj4+brLW11TV+fX01c9R7SLa3t012fn5usoyMDNe4o6PDzFHfci4sLJgsXLFjQKIYkCgGJIoBKaIOn11dXSZ7f9B0HPs+kc3NTTNHPd5aHWTVITIQ6nL63NxcUJ/1HdgxIFEMSBQDEsWAFPKX5XmpoKDAZIeHhyZ7/zjH379/B/T56ok3jY2NJouO/vjvSX3LeXNzE9A6wgE7BiSKAYliQIqoM0ZycrLJ1OOh09PTXeOSkhIz5/j42Ktl/UjsGJAoBiSKAYliQIqoq6vqMczX19cmy87Odo1zc3PNHA6ff8eOAYliQKIYkCgGpIg6fAarvr7eZOqRzviDHQMSxYBEMSBRDEgRddldGRwcNNnAwIBr/Pj4aOaotybjD3YMSBQDEsWARDEgRfw3nzs7OyZ7eXlxjWNiYsycvLw8k/n9fq+WFbDu7m7XuKKiwsyZmJgw2crKSsjW5DjsGPgfFAMSxYAU8V9wKWtra65xWVmZmbO3t2eyYO8tvb29Ndn6+npAP+vz+Vzj9vZ2M0e9tLelpcVks7OzAf3OQLBjQKIYkCgGJIoB6UcePmNjY13j4eFhM0c9ECUrK8tkwT61L1inp6cmU+80UU8AXF5e9mwd7BiQKAYkigGJYkD6kYdPfB07BiSKAYliQKIYkCgGJIoBiWJAohiQKAYkigGJYkCiGJAoBiSKAYliQKIYkCgGJIoB6T/q6fqBeZLSFAAAAABJRU5ErkJggg==\" id=\"image42780654b8\" transform=\"scale(1 -1) translate(0 -96.48)\" x=\"327.15\" y=\"-50.805\" width=\"96.48\" height=\"96.48\"/>\n    </g>\n    <g id=\"matplotlib.axis_7\"/>\n    <g id=\"matplotlib.axis_8\"/>\n    <g id=\"patch_19\">\n     <path d=\"M 327.15 147.285 \nL 327.15 51.435 \n\" style=\"fill: none; stroke: #262626; stroke-width: 1.25; stroke-linejoin: miter; stroke-linecap: square\"/>\n    </g>\n    <g id=\"patch_20\">\n     <path d=\"M 423 147.285 \nL 423 51.435 \n\" style=\"fill: none; stroke: #262626; stroke-width: 1.25; stroke-linejoin: miter; stroke-linecap: square\"/>\n    </g>\n    <g id=\"patch_21\">\n     <path d=\"M 327.15 147.285 \nL 423 147.285 \n\" style=\"fill: none; stroke: #262626; stroke-width: 1.25; stroke-linejoin: miter; stroke-linecap: square\"/>\n    </g>\n    <g id=\"patch_22\">\n     <path d=\"M 327.15 51.435 \nL 423 51.435 \n\" style=\"fill: none; stroke: #262626; stroke-width: 1.25; stroke-linejoin: miter; stroke-linecap: square\"/>\n    </g>\n   </g>\n   <g id=\"axes_5\">\n    <g id=\"patch_23\">\n     <path d=\"M 433.8 147.285 \nL 529.65 147.285 \nL 529.65 51.435 \nL 433.8 51.435 \nz\n\" style=\"fill: #ffffff\"/>\n    </g>\n    <g clip-path=\"url(#paa2ac6f8b8)\">\n     <image xlink:href=\"data:image/png;base64,\niVBORw0KGgoAAAANSUhEUgAAAIYAAACGCAYAAAAYefKRAAAEtElEQVR4nO3dSyhtbRzH8eVFGUlunajtFiUGhoxMlIEJUiITuQyYSEnKgGLERMaGMiCFIgOXyabEQJSUzCi5JaIU5x2+rfX/ndc6zuKszfcze349e7fUr6enZ629xDmO89MBPP752xeAcKIYkCgGJIoBiWJAohiQKAYkigGJYkCiGJAoBiSKAYliQKIYkCgGJIoBiWJAohiQKAYkigGJYkCiGJAoBiSKAYliQKIYkCgGJIoBKeFvX8BHSEhw/1m9vb1mTl1dnckKCgpMtrCwYLKOjo4/uLrYwIoBiWJAohiQKAakOOcLvlFnenraNW5qanr3d+3s7Jhse3vbNZ6YmDBzLi4uTPb09PTu6/hsrBiQKAYkigEp5vcYAwMDJhseHnaNvQdenyEajZqsp6fHZHt7e59wNb+PFQMSxYBEMSBRDEgxtfmsrq422eLioskSExPf/K6XlxeTqTupSn19va95Xnd3dyYbHR11jcfHx9/13UFjxYBEMSBRDEgUA1JMbT4PDg5MVlJS8q7venh4MFkkEjHZ4+OjybKyslzjsrIyM2dyctJk2dnZJnt9fXWNh4aGzJyRkRGTfTRWDEgUAxLFgEQxIH3bzacyOztrss7OTpOpE0yvoqIik21ubprsx48frvH19bWZ09bWZjJ14hskVgxIFAMSxYAU2j1GZWWlydbX100WFxdnMu+BUGFhoZnT2Njo6zpWV1dNVlNT4xp7D6l+Rf1NMzMzrrF3z+E4jnNzc2Mydac5yMcEWTEgUQxIFAMSxYAU2s3n/Py8yWpra319NjMz0zW+vb01c46Pj02Wk5Njsvj4eJN5f7va1dVl5uzv7795nY7jOK2tra7x1NSUr8/19/ebbGxszNdn/WDFgEQxIFEMSBQDUmjf2ndycuJr3vPzs8m8J5HqNyQVFRUm6+vrM1l7e/ubn93Y2DBzuru7TaZOUZeXl11jdXc1LS3NZB+NFQMSxYBEMSBRDEih3XyWlpb6mqfeqqduU3tdXl6abHBw0GTqNnhLS4trnJKSYuZ43xz4q+u6v793jdVGU22wDw8PTRYkVgxIFAMSxYBEMSCFdvOpNnTq+c4gqU2e+t8k3lPZ5uZmM0f9riQ1NfXNTF2D2hSvrKyYLEisGJAoBiSKASm0j/ZtbW2ZrLy83GRnZ2cmKy4udo3VS1KClJSUZDLvI3uO4+9tguq3Mx99mKWwYkCiGJAoBiSKASnmN5+K93clV1dXgVzTd8KKAYliQKIYkCgGpNDeXVVvpfO7+cSfY8WARDEgUQxIFANSaDefp6enJvP7aF9ubq5rzMnn72PFgEQxIFEMSBQDUmg3n0tLSyZTG9K8vDyTNTQ0uMa7u7vBXdg3wYoBiWJAohiQQvtonxKNRk2m3r7nfRlJRkaGmaN+I4r/sGJAohiQKAYkigEptAdcytzcnMnU5jM5Odk1Tk9PN3POz8+Du7AviBUDEsWARDEgUQxIMXXyqU4wj46OTOZ97XJVVZWZs7a2FtyFfUGsGJAoBiSKAYliQIqpzaei3ryTn5/vGkciETOH2+7/jxUDEsWARDEgxfweAx+DFQMSxYBEMSBRDEgUAxLFgEQxIFEMSBQD0r9h0QzkRYIf8QAAAABJRU5ErkJggg==\" id=\"imageff8c865aec\" transform=\"scale(1 -1) translate(0 -96.48)\" x=\"433.8\" y=\"-50.805\" width=\"96.48\" height=\"96.48\"/>\n    </g>\n    <g id=\"matplotlib.axis_9\"/>\n    <g id=\"matplotlib.axis_10\"/>\n    <g id=\"patch_24\">\n     <path d=\"M 433.8 147.285 \nL 433.8 51.435 \n\" style=\"fill: none; stroke: #262626; stroke-width: 1.25; stroke-linejoin: miter; stroke-linecap: square\"/>\n    </g>\n    <g id=\"patch_25\">\n     <path d=\"M 529.65 147.285 \nL 529.65 51.435 \n\" style=\"fill: none; stroke: #262626; stroke-width: 1.25; stroke-linejoin: miter; stroke-linecap: square\"/>\n    </g>\n    <g id=\"patch_26\">\n     <path d=\"M 433.8 147.285 \nL 529.65 147.285 \n\" style=\"fill: none; stroke: #262626; stroke-width: 1.25; stroke-linejoin: miter; stroke-linecap: square\"/>\n    </g>\n    <g id=\"patch_27\">\n     <path d=\"M 433.8 51.435 \nL 529.65 51.435 \n\" style=\"fill: none; stroke: #262626; stroke-width: 1.25; stroke-linejoin: miter; stroke-linecap: square\"/>\n    </g>\n   </g>\n   <g id=\"axes_6\">\n    <g id=\"patch_28\">\n     <path d=\"M 540.45 147.285 \nL 636.3 147.285 \nL 636.3 51.435 \nL 540.45 51.435 \nz\n\" style=\"fill: #ffffff\"/>\n    </g>\n    <g clip-path=\"url(#p0c3a0d75fd)\">\n     <image xlink:href=\"data:image/png;base64,\niVBORw0KGgoAAAANSUhEUgAAAIYAAACGCAYAAAAYefKRAAAFd0lEQVR4nO3dTUhUXQDG8Wu+YiSUH4FpBULlJ5QbQUKDNoEVREUYtJMiSYLaKS3CdVKQIEQglkRQ6sJQWkQtLChooWJQERZIkqALlTLB6F3f+zzlODbNTPx/u/NwGg/ydDjc8d6bEQTBzwCI2JDsBSA1UQxYFAMWxYBFMWBRDFgUAxbFgEUxYFEMWBQDFsWARTFgUQxYFAMWxYBFMWBRDFj/JXsBv1JbWyvZxYsXJSsvL5dsbm5u1TkjIyOSff78WbK2tjbJfvz4Idm/hh0DFsWARTFgUQxYGUEK3FeyZcsWycbHxyXbsWOHZK9evZJsYWFh1Z9ZWFgo2b59+yT7+vWrZI8fPw6NOzo6YlpXOmHHgEUxYFEMWBQDVlIOn9GrmgMDAzLHHQ7PnDkjWV9fn2QrKyurriE7O1uyPXv2SHb37l3JoodU9/OGh4clu3z5smSfPn363TKThh0DFsWARTFgUQxYSTl8Tk1NhcbFxcUy58uXL5K5K5Ozs7N/bmHGxo0bJTt06FBofOPGDZlTUlIi2fT0tGRHjx4NjcfGxta4wsRgx4BFMWBRDFgJP2PU1dVJ9vTp09A4MzNT5kxMTEjmzhipYOvWrZK5i1mtra2SPXv2LDQ+duyYzHHf8CYaOwYsigGLYsCiGLBS9r6S3bt3S+YOss+fP/8by/mt/Px8yT5+/CjZ/Py8ZPX19aFxRUWFzHn9+vU6VhcfdgxYFAMWxYBFMWAl5dvVFy9ehMbuBmbn+/fvkp09e1ay+/fvx7ewOLn7StyVT6erqys0djduJwM7BiyKAYtiwKIYsJJy+Ny/f39o/OjRI5mTm5sb02ctLy9LduDAgdB4PVcOd+3aJVn06/Pon/oFQRAUFRVJ9uTJE8kaGxtD48XFxbUuMSHYMWBRDFgUA1ZKPDilrKxMslu3bkkW/SbyV4aGhkLj48ePyxz354SdnZ2SNTQ0SLZ9+/bQeGZmRuZcvXpVstu3b+tiUxQ7BiyKAYtiwKIYsFLi8Ols3rxZsoMHD0p27do1yaKPdHYXlk6cOCGZu4f250/99Vy5ciU0fvjwocz58OGDZOmEHQMWxYBFMWBRDFgpe/iMlXsXSX9//6pznIyMDMmampok6+npiW1xaYwdAxbFgEUxYFEMWCl7U3Os3J/Q5eXl/bHP37Zt2x/7rHTCjgGLYsCiGLAoBqy0v/LpXkpXXV0dGp8/f17mjI6OStbb2yuZe4fJgwcPQuPr16/H9PnphB0DFsWARTFgpdUFrug9qUEQBHv37pUs+o4yd9+HOwO4+09GRkYki76b7du3bzKnublZsnTCjgGLYsCiGLAoBqy0usDlHiP97t27Vf+duzdkcnJSstLSUsncO1KiTwUsKCiQOZcuXZJswwb9f3jv3j3JUgE7BiyKAYtiwKIYsNLq8JmdnS3ZnTt3JDt16lRcn3/69GnJ3A3LOTk5oXF7e7vMOXfunGTuhbwXLlwIjV++fClzlpaWdLEJxo4Bi2LAohiwKAastDp8OiUlJZLdvHkzND5y5EhMn+Uet+iuYEYfP+kOld3d3ZIdPnxYsuhX9jU1NTLn7du3kiUaOwYsigGLYsCiGLDS/vDpZGVlhcZtbW0y5+TJk5K5Z5q/f/9esqqqqtDYvQ9l06ZNklVWVupiI6JXQoPAP1c90dgxYFEMWBQD1j95xoiXuxekpaVFsoqKitDYPe0vXn19fZJF35v2N7BjwKIYsCgGLIoBi8NnHKLfwu7cuVPmuJf0vnnzRrLoQ1cGBwdlztzc3FqXuG7sGLAoBiyKAYtiwOLwCYsdAxbFgEUxYFEMWBQDFsWARTFgUQxYFAMWxYBFMWBRDFgUAxbFgEUxYFEMWBQDFsWA9T/tCTE48/ukUgAAAABJRU5ErkJggg==\" id=\"image90d0314765\" transform=\"scale(1 -1) translate(0 -96.48)\" x=\"540.45\" y=\"-50.805\" width=\"96.48\" height=\"96.48\"/>\n    </g>\n    <g id=\"matplotlib.axis_11\"/>\n    <g id=\"matplotlib.axis_12\"/>\n    <g id=\"patch_29\">\n     <path d=\"M 540.45 147.285 \nL 540.45 51.435 \n\" style=\"fill: none; stroke: #262626; stroke-width: 1.25; stroke-linejoin: miter; stroke-linecap: square\"/>\n    </g>\n    <g id=\"patch_30\">\n     <path d=\"M 636.3 147.285 \nL 636.3 51.435 \n\" style=\"fill: none; stroke: #262626; stroke-width: 1.25; stroke-linejoin: miter; stroke-linecap: square\"/>\n    </g>\n    <g id=\"patch_31\">\n     <path d=\"M 540.45 147.285 \nL 636.3 147.285 \n\" style=\"fill: none; stroke: #262626; stroke-width: 1.25; stroke-linejoin: miter; stroke-linecap: square\"/>\n    </g>\n    <g id=\"patch_32\">\n     <path d=\"M 540.45 51.435 \nL 636.3 51.435 \n\" style=\"fill: none; stroke: #262626; stroke-width: 1.25; stroke-linejoin: miter; stroke-linecap: square\"/>\n    </g>\n   </g>\n   <g id=\"axes_7\">\n    <g id=\"patch_33\">\n     <path d=\"M 647.1 147.285 \nL 742.95 147.285 \nL 742.95 51.435 \nL 647.1 51.435 \nz\n\" style=\"fill: #ffffff\"/>\n    </g>\n    <g clip-path=\"url(#pa75a199d66)\">\n     <image xlink:href=\"data:image/png;base64,\niVBORw0KGgoAAAANSUhEUgAAAIYAAACGCAYAAAAYefKRAAAEYElEQVR4nO3dzSu8XxzG8TPTb0UWHhasFEuzkFBE2MgafwCpEQs1ZcGaiCQWEinZsPGQZKFkrdlZsEDyUFiwolh4+K3v+VyZuzHf3Dfv1+5cnTnf862r02lmzB1xzn06IEX0pzeAYKIYkCgGJIoBiWJAohiQKAYkigGJYkD676c38C80NTV5xqOjo2bOy8uLydS84+Njkz0+Pn5jd+HAiQGJYkCiGJAiLkSfrkajtscTExMm6+7u9ozz8/Mz/jcvLi5MNjY25hkvLy9nvH5QcWJAohiQKAYkigEpVJfPeDxusvn5eZN9fnr/S8lk0szJzc01WSwW87WP6+trz7iurs7Mub+/97VWUHFiQKIYkCgGJIoBKVSXT/UuZHFxsckWFhY840QiYeYUFRWZbHd312TV1dVp9zU8PGyyycnJtK8LMk4MSBQDEsWARDEgheqrfefn5yYbGRkxmZ+PwR8eHkw2PT1tstXV1bRrVVRUpJ0TNpwYkCgGJIoBiWJACtXls7293WTPz89ZW7+qqipra4UdJwYkigGJYkAK1R0jm/cJpb6+PqPXHRwcZHknP48TAxLFgEQxIFEMSKG6fGaT+kNn9XU/5eTkxDPe3NzMyp6ChBMDEsWARDEgUQxIf+LyqS6aZ2dnvual/oG0c85NTU15xk9PT9/YXTBxYkCiGJAoBiSKAelXXj4LCgo8462tLTPH7088rq+vm2xlZSWzjYUIJwYkigGJYkD6lXeM3t5ez7ihoSHjtXZ2dr67nVDixIBEMSBRDEgUA1KoLp85OTkmS/2k0znnenp60q719vZmsqGhIZOtra353N3vwokBiWJAohiQKAakwF4+1S/hzc3NmayxsTHtWpeXlybr7+832d7enr/N/QGcGJAoBiSKAYliQArE80pKS0tNdnR0ZLK8vDxf611dXXnGbW1tZs7p6anP3f1NnBiQKAYkigGJYkAKxDufAwMDJvN70RwcHDTZ9va2Z6yeTYKvcWJAohiQKAakQLzB1dzcbLLZ2VmTxWIxk6mH9JaVlXnGqb+y55xzra2tJru7u/tqm38KJwYkigGJYkCiGJACcflU1Btc6lNYJZFIeMZdXV1mzu3trcmSyaTJ1Nf9Up9Poh4UHHacGJAoBiSKAYliQArs5fM7olFv32tra82cmZkZk9XU1Pha//393TP++PgwcxYXF02W+pVD55zb2Nj4cm3nnLu5ufG1r2zixIBEMSBRDEgUA9KvvHz6UVlZabKWlhaT9fX1may8vPxfbMk559zr66vJ9vf3s7b++Pi4yQ4PD03GiQGJYkCiGJAoBqQ/e/n0q7Cw0GSpv/bT2dnpa62SkhKTdXR0pH1dJBIxmXqInx/xeNxkS0tLJuPEgEQxIFEMSNwxIHFiQKIYkCgGJIoBiWJAohiQKAYkigGJYkCiGJAoBiSKAYliQKIYkCgGJIoBiWJAohiQKAYkigGJYkCiGJAoBiSKAYliQKIYkCgGJIoB6X8rW9S/h06i7QAAAABJRU5ErkJggg==\" id=\"image1aace079ed\" transform=\"scale(1 -1) translate(0 -96.48)\" x=\"647.1\" y=\"-50.805\" width=\"96.48\" height=\"96.48\"/>\n    </g>\n    <g id=\"matplotlib.axis_13\"/>\n    <g id=\"matplotlib.axis_14\"/>\n    <g id=\"patch_34\">\n     <path d=\"M 647.1 147.285 \nL 647.1 51.435 \n\" style=\"fill: none; stroke: #262626; stroke-width: 1.25; stroke-linejoin: miter; stroke-linecap: square\"/>\n    </g>\n    <g id=\"patch_35\">\n     <path d=\"M 742.95 147.285 \nL 742.95 51.435 \n\" style=\"fill: none; stroke: #262626; stroke-width: 1.25; stroke-linejoin: miter; stroke-linecap: square\"/>\n    </g>\n    <g id=\"patch_36\">\n     <path d=\"M 647.1 147.285 \nL 742.95 147.285 \n\" style=\"fill: none; stroke: #262626; stroke-width: 1.25; stroke-linejoin: miter; stroke-linecap: square\"/>\n    </g>\n    <g id=\"patch_37\">\n     <path d=\"M 647.1 51.435 \nL 742.95 51.435 \n\" style=\"fill: none; stroke: #262626; stroke-width: 1.25; stroke-linejoin: miter; stroke-linecap: square\"/>\n    </g>\n   </g>\n   <g id=\"axes_8\">\n    <g id=\"patch_38\">\n     <path d=\"M 753.75 147.285 \nL 849.6 147.285 \nL 849.6 51.435 \nL 753.75 51.435 \nz\n\" style=\"fill: #ffffff\"/>\n    </g>\n    <g clip-path=\"url(#pae881da1bf)\">\n     <image xlink:href=\"data:image/png;base64,\niVBORw0KGgoAAAANSUhEUgAAAIYAAACGCAYAAAAYefKRAAADQUlEQVR4nO3cTytscRjA8TO3kchkJxZM/qxnJRZW9jYW0uQt8D68DUVspJSdjWysJNmSUl6AGiVqrM99vl0zzJzzG/f72Z0n5j7q269fR1cly7J2Jv3lT9kLKE2GIWQYQoYhZBhChiFkGEKGIWQYQoYhZBhChiFkGEKGIWQYQoYhZBhChiFkGEKGIWQYQoYhZBhC1bIX+K3W1tbC7PT0NMy2trZyz4eHh33bqRueGEKGIWQYQoYh5OWzT5aXl8te4Uc8MYQMQ8gwhAxDyDCEDEPIMIQMQ2igXnBNTU2FWaPR+PL7RkdHw2x7e7ujf3N/fz/Mnp+fv/y+ZrPZ0edvbm7mnv3tqpJmGEKGIWQYQslePldWVsLs4OAgzGZmZvq6x+rqapg9Pj7mnulSPDw83NHn1+v1b+3Vb54YQoYhZBhChiGU7OWzVquFGV007+7uwmx9fT33/P7+3rvFsixrtVq555GRkfA1Dw8PYTY0NBRm19fXvVushzwxhAxDyDCEDEMo2ctnpy4uLsLs/v6+hE3yNjY2wuzk5CTMzs/Pi1ina54YQoYhZBhChiFkGEKGIWQYQoYhNPAvuFI1NzdX9go/4okhZBhChiFkGEKVLMvaZS9BJiYmwuzq6irMzs7OwmxnZ6cvO3VjbGwszF5eXsLs+Pg490y/lS2DJ4aQYQgZhpBhCPnms0CVSiXMFhYWStjka54YQoYhZBhChiGU7OVzcnIyzMbHx0vYpHfa7SRfMiNPDCHDEDIMoWTvGLe3t2H29PRUwibfQ3+shX6mVHliCBmGkGEIGYZQspfPQff29hZmu7u7Yba0tFTEOl3zxBAyDCHDEDIMIS+fBTo6OupolgJPDCHDEDIMIcMQMgwhwxAyDCHDEDIMoWTffC4uLobZ7OxsmF1eXhaxzn/HE0PIMIQMQyjZO8bHx0eY0f/9nJ+fD7NqNf9j0Wfp3zwxhAxDyDCEDEMo2T8ZTW5ubsKs0WiEWa1Wyz23Wq1+rfRreWIIGYaQYQgZhlCybz7J3t5emE1PT4fZ6+trEev8ap4YQoYhZBhChiE0UG8+VRxPDCHDEDIMIcMQMgwhwxAyDCHDEDIMIcMQMgwhwxAyDKFPQGNyZLmw6v0AAAAASUVORK5CYII=\" id=\"imageebac2a72c6\" transform=\"scale(1 -1) translate(0 -96.48)\" x=\"753.75\" y=\"-50.805\" width=\"96.48\" height=\"96.48\"/>\n    </g>\n    <g id=\"matplotlib.axis_15\"/>\n    <g id=\"matplotlib.axis_16\"/>\n    <g id=\"patch_39\">\n     <path d=\"M 753.75 147.285 \nL 753.75 51.435 \n\" style=\"fill: none; stroke: #262626; stroke-width: 1.25; stroke-linejoin: miter; stroke-linecap: square\"/>\n    </g>\n    <g id=\"patch_40\">\n     <path d=\"M 849.6 147.285 \nL 849.6 51.435 \n\" style=\"fill: none; stroke: #262626; stroke-width: 1.25; stroke-linejoin: miter; stroke-linecap: square\"/>\n    </g>\n    <g id=\"patch_41\">\n     <path d=\"M 753.75 147.285 \nL 849.6 147.285 \n\" style=\"fill: none; stroke: #262626; stroke-width: 1.25; stroke-linejoin: miter; stroke-linecap: square\"/>\n    </g>\n    <g id=\"patch_42\">\n     <path d=\"M 753.75 51.435 \nL 849.6 51.435 \n\" style=\"fill: none; stroke: #262626; stroke-width: 1.25; stroke-linejoin: miter; stroke-linecap: square\"/>\n    </g>\n   </g>\n   <g id=\"text_1\">\n    <!-- Original Images -->\n    <g style=\"fill: #262626\" transform=\"translate(386.385 15.943125) scale(0.12 -0.12)\">\n     <defs>\n      <path id=\"ArialMT-4f\" d=\"M 309 2231 \nQ 309 3372 921 4017 \nQ 1534 4663 2503 4663 \nQ 3138 4663 3647 4359 \nQ 4156 4056 4423 3514 \nQ 4691 2972 4691 2284 \nQ 4691 1588 4409 1038 \nQ 4128 488 3612 205 \nQ 3097 -78 2500 -78 \nQ 1853 -78 1343 234 \nQ 834 547 571 1087 \nQ 309 1628 309 2231 \nz\nM 934 2222 \nQ 934 1394 1379 917 \nQ 1825 441 2497 441 \nQ 3181 441 3623 922 \nQ 4066 1403 4066 2288 \nQ 4066 2847 3877 3264 \nQ 3688 3681 3323 3911 \nQ 2959 4141 2506 4141 \nQ 1863 4141 1398 3698 \nQ 934 3256 934 2222 \nz\n\" transform=\"scale(0.015625)\"/>\n      <path id=\"ArialMT-72\" d=\"M 416 0 \nL 416 3319 \nL 922 3319 \nL 922 2816 \nQ 1116 3169 1280 3281 \nQ 1444 3394 1641 3394 \nQ 1925 3394 2219 3213 \nL 2025 2691 \nQ 1819 2813 1613 2813 \nQ 1428 2813 1281 2702 \nQ 1134 2591 1072 2394 \nQ 978 2094 978 1738 \nL 978 0 \nL 416 0 \nz\n\" transform=\"scale(0.015625)\"/>\n      <path id=\"ArialMT-69\" d=\"M 425 3934 \nL 425 4581 \nL 988 4581 \nL 988 3934 \nL 425 3934 \nz\nM 425 0 \nL 425 3319 \nL 988 3319 \nL 988 0 \nL 425 0 \nz\n\" transform=\"scale(0.015625)\"/>\n      <path id=\"ArialMT-67\" d=\"M 319 -275 \nL 866 -356 \nQ 900 -609 1056 -725 \nQ 1266 -881 1628 -881 \nQ 2019 -881 2231 -725 \nQ 2444 -569 2519 -288 \nQ 2563 -116 2559 434 \nQ 2191 0 1641 0 \nQ 956 0 581 494 \nQ 206 988 206 1678 \nQ 206 2153 378 2554 \nQ 550 2956 876 3175 \nQ 1203 3394 1644 3394 \nQ 2231 3394 2613 2919 \nL 2613 3319 \nL 3131 3319 \nL 3131 450 \nQ 3131 -325 2973 -648 \nQ 2816 -972 2473 -1159 \nQ 2131 -1347 1631 -1347 \nQ 1038 -1347 672 -1080 \nQ 306 -813 319 -275 \nz\nM 784 1719 \nQ 784 1066 1043 766 \nQ 1303 466 1694 466 \nQ 2081 466 2343 764 \nQ 2606 1063 2606 1700 \nQ 2606 2309 2336 2618 \nQ 2066 2928 1684 2928 \nQ 1309 2928 1046 2623 \nQ 784 2319 784 1719 \nz\n\" transform=\"scale(0.015625)\"/>\n      <path id=\"ArialMT-6e\" d=\"M 422 0 \nL 422 3319 \nL 928 3319 \nL 928 2847 \nQ 1294 3394 1984 3394 \nQ 2284 3394 2536 3286 \nQ 2788 3178 2913 3003 \nQ 3038 2828 3088 2588 \nQ 3119 2431 3119 2041 \nL 3119 0 \nL 2556 0 \nL 2556 2019 \nQ 2556 2363 2490 2533 \nQ 2425 2703 2258 2804 \nQ 2091 2906 1866 2906 \nQ 1506 2906 1245 2678 \nQ 984 2450 984 1813 \nL 984 0 \nL 422 0 \nz\n\" transform=\"scale(0.015625)\"/>\n      <path id=\"ArialMT-61\" d=\"M 2588 409 \nQ 2275 144 1986 34 \nQ 1697 -75 1366 -75 \nQ 819 -75 525 192 \nQ 231 459 231 875 \nQ 231 1119 342 1320 \nQ 453 1522 633 1644 \nQ 813 1766 1038 1828 \nQ 1203 1872 1538 1913 \nQ 2219 1994 2541 2106 \nQ 2544 2222 2544 2253 \nQ 2544 2597 2384 2738 \nQ 2169 2928 1744 2928 \nQ 1347 2928 1158 2789 \nQ 969 2650 878 2297 \nL 328 2372 \nQ 403 2725 575 2942 \nQ 747 3159 1072 3276 \nQ 1397 3394 1825 3394 \nQ 2250 3394 2515 3294 \nQ 2781 3194 2906 3042 \nQ 3031 2891 3081 2659 \nQ 3109 2516 3109 2141 \nL 3109 1391 \nQ 3109 606 3145 398 \nQ 3181 191 3288 0 \nL 2700 0 \nQ 2613 175 2588 409 \nz\nM 2541 1666 \nQ 2234 1541 1622 1453 \nQ 1275 1403 1131 1340 \nQ 988 1278 909 1158 \nQ 831 1038 831 891 \nQ 831 666 1001 516 \nQ 1172 366 1500 366 \nQ 1825 366 2078 508 \nQ 2331 650 2450 897 \nQ 2541 1088 2541 1459 \nL 2541 1666 \nz\n\" transform=\"scale(0.015625)\"/>\n      <path id=\"ArialMT-6c\" d=\"M 409 0 \nL 409 4581 \nL 972 4581 \nL 972 0 \nL 409 0 \nz\n\" transform=\"scale(0.015625)\"/>\n      <path id=\"ArialMT-20\" transform=\"scale(0.015625)\"/>\n      <path id=\"ArialMT-49\" d=\"M 597 0 \nL 597 4581 \nL 1203 4581 \nL 1203 0 \nL 597 0 \nz\n\" transform=\"scale(0.015625)\"/>\n      <path id=\"ArialMT-6d\" d=\"M 422 0 \nL 422 3319 \nL 925 3319 \nL 925 2853 \nQ 1081 3097 1340 3245 \nQ 1600 3394 1931 3394 \nQ 2300 3394 2536 3241 \nQ 2772 3088 2869 2813 \nQ 3263 3394 3894 3394 \nQ 4388 3394 4653 3120 \nQ 4919 2847 4919 2278 \nL 4919 0 \nL 4359 0 \nL 4359 2091 \nQ 4359 2428 4304 2576 \nQ 4250 2725 4106 2815 \nQ 3963 2906 3769 2906 \nQ 3419 2906 3187 2673 \nQ 2956 2441 2956 1928 \nL 2956 0 \nL 2394 0 \nL 2394 2156 \nQ 2394 2531 2256 2718 \nQ 2119 2906 1806 2906 \nQ 1569 2906 1367 2781 \nQ 1166 2656 1075 2415 \nQ 984 2175 984 1722 \nL 984 0 \nL 422 0 \nz\n\" transform=\"scale(0.015625)\"/>\n      <path id=\"ArialMT-65\" d=\"M 2694 1069 \nL 3275 997 \nQ 3138 488 2766 206 \nQ 2394 -75 1816 -75 \nQ 1088 -75 661 373 \nQ 234 822 234 1631 \nQ 234 2469 665 2931 \nQ 1097 3394 1784 3394 \nQ 2450 3394 2872 2941 \nQ 3294 2488 3294 1666 \nQ 3294 1616 3291 1516 \nL 816 1516 \nQ 847 969 1125 678 \nQ 1403 388 1819 388 \nQ 2128 388 2347 550 \nQ 2566 713 2694 1069 \nz\nM 847 1978 \nL 2700 1978 \nQ 2663 2397 2488 2606 \nQ 2219 2931 1791 2931 \nQ 1403 2931 1139 2672 \nQ 875 2413 847 1978 \nz\n\" transform=\"scale(0.015625)\"/>\n      <path id=\"ArialMT-73\" d=\"M 197 991 \nL 753 1078 \nQ 800 744 1014 566 \nQ 1228 388 1613 388 \nQ 2000 388 2187 545 \nQ 2375 703 2375 916 \nQ 2375 1106 2209 1216 \nQ 2094 1291 1634 1406 \nQ 1016 1563 777 1677 \nQ 538 1791 414 1992 \nQ 291 2194 291 2438 \nQ 291 2659 392 2848 \nQ 494 3038 669 3163 \nQ 800 3259 1026 3326 \nQ 1253 3394 1513 3394 \nQ 1903 3394 2198 3281 \nQ 2494 3169 2634 2976 \nQ 2775 2784 2828 2463 \nL 2278 2388 \nQ 2241 2644 2061 2787 \nQ 1881 2931 1553 2931 \nQ 1166 2931 1000 2803 \nQ 834 2675 834 2503 \nQ 834 2394 903 2306 \nQ 972 2216 1119 2156 \nQ 1203 2125 1616 2013 \nQ 2213 1853 2448 1751 \nQ 2684 1650 2818 1456 \nQ 2953 1263 2953 975 \nQ 2953 694 2789 445 \nQ 2625 197 2315 61 \nQ 2006 -75 1616 -75 \nQ 969 -75 630 194 \nQ 291 463 197 991 \nz\n\" transform=\"scale(0.015625)\"/>\n     </defs>\n     <use xlink:href=\"#ArialMT-4f\"/>\n     <use xlink:href=\"#ArialMT-72\" x=\"77.783203\"/>\n     <use xlink:href=\"#ArialMT-69\" x=\"111.083984\"/>\n     <use xlink:href=\"#ArialMT-67\" x=\"133.300781\"/>\n     <use xlink:href=\"#ArialMT-69\" x=\"188.916016\"/>\n     <use xlink:href=\"#ArialMT-6e\" x=\"211.132812\"/>\n     <use xlink:href=\"#ArialMT-61\" x=\"266.748047\"/>\n     <use xlink:href=\"#ArialMT-6c\" x=\"322.363281\"/>\n     <use xlink:href=\"#ArialMT-20\" x=\"344.580078\"/>\n     <use xlink:href=\"#ArialMT-49\" x=\"372.363281\"/>\n     <use xlink:href=\"#ArialMT-6d\" x=\"400.146484\"/>\n     <use xlink:href=\"#ArialMT-61\" x=\"483.447266\"/>\n     <use xlink:href=\"#ArialMT-67\" x=\"539.0625\"/>\n     <use xlink:href=\"#ArialMT-65\" x=\"594.677734\"/>\n     <use xlink:href=\"#ArialMT-73\" x=\"650.292969\"/>\n    </g>\n   </g>\n  </g>\n  <g id=\"subfigure_2\">\n   <g id=\"patch_43\">\n    <path d=\"M -3.6 387.36 \nL 860.4 387.36 \nL 860.4 195.36 \nL -3.6 195.36 \nz\n\" style=\"fill: #ffffff\"/>\n   </g>\n   <g id=\"axes_9\">\n    <g id=\"patch_44\">\n     <path d=\"M 7.2 339.285 \nL 103.05 339.285 \nL 103.05 243.435 \nL 7.2 243.435 \nz\n\" style=\"fill: #ffffff\"/>\n    </g>\n    <g clip-path=\"url(#pcc1bc78816)\">\n     <image xlink:href=\"data:image/png;base64,\niVBORw0KGgoAAAANSUhEUgAAAIYAAACGCAYAAAAYefKRAAADVUlEQVR4nO3cPy9kURiA8WOzJBqFQiJBpRAhkSg002iQCJ/BFxiNSERDJBJ/voWvoEGCRoNEodOoqSUEEdu68z67bi5r5s48v+6+mTl7iicnJ9bVllJ6T1KNX/XegBqTYQgZhpBhCBmGkGEIGYaQYQgZhtDvem/gq8bHx8Ps+Pg483x/fx8+s7m5GWZ7e3vft7GS88QQMgwhwxAq/R2jUqmEWVdX1z+fU0ppY2MjzM7OzsLs9vb2C7srL08MIcMQMgwhwxAq/eWzqIGBgTCbmJgIMy+f0geGIWQYQoYhVPrL593dXZi9vr5mntvb23Ottbi4GGanp6e5/s1m44khZBhChiFkGEJtqQlfar6+vs48j4yMFF6L/nt+fX298Hpl4YkhZBhChiFkGEJNefkcHBzMPJ+cnITP9PX15Vrr+fk5zDo7O4ttrEQ8MYQMQ8gwhJryjlFre3s7zJaXl3N99+3tLcxmZmYyz7XvyjYDTwwhwxAyDCHDEGqJy+fQ0FCYHR4ehll/f3+u9WovpN3d3eEzDw8POXfXmDwxhAxDyDCEDEOoJS6fZHd3N8yWlpYKrbWzsxNmKysrhdZqFJ4YQoYhZBhChiFU+peai1pbWwszev9kenr607WGh4fDjH797+npKefu6s8TQ8gwhAxDqGV/wEUmJyfDrOiv7W1tbYXZ6upqobXqwRNDyDCEDEPIMIRa9gdc5Pz8PMyOjo7CbGpq6tO1RkdHw6yjoyPMXl5ecu7uZ3liCBmGkGEIGYaQl88PHh8fw+zm5ibM8lw+Z2dnw2xsbCzMLi4u8m3uh3liCBmGkGEIGYaQl89P0F/8q1arddjJz/LEEDIMIcMQMgyhulw+5+fnM8+9vb25vnd5eRlmV1dX37Knvzk4OPiv6zcqTwwhwxAyDCHfKxHyxBAyDCHDEDIMIcMQMgwhwxAyDCHDEDIMIcMQMgwhwxAyDCHDEDIMIcMQMgwhwxBqiZeaFxYWwqynpyfXd+fm5sKsUqlknmvfk0kppf39/Xyba1CeGEKGIWQYQr5XIuSJIWQYQoYhZBhChiFkGEKGIWQYQoYhZBhChiFkGEKGIWQYQoYhZBhChiFkGEKGIWQYQoYhZBhChiFkGEKGIWQYQoYhZBhCfwC/W38AeiK43wAAAABJRU5ErkJggg==\" id=\"imagefa4491e89f\" transform=\"scale(1 -1) translate(0 -96.48)\" x=\"7.2\" y=\"-242.805\" width=\"96.48\" height=\"96.48\"/>\n    </g>\n    <g id=\"matplotlib.axis_17\"/>\n    <g id=\"matplotlib.axis_18\"/>\n    <g id=\"patch_45\">\n     <path d=\"M 7.2 339.285 \nL 7.2 243.435 \n\" style=\"fill: none; stroke: #262626; stroke-width: 1.25; stroke-linejoin: miter; stroke-linecap: square\"/>\n    </g>\n    <g id=\"patch_46\">\n     <path d=\"M 103.05 339.285 \nL 103.05 243.435 \n\" style=\"fill: none; stroke: #262626; stroke-width: 1.25; stroke-linejoin: miter; stroke-linecap: square\"/>\n    </g>\n    <g id=\"patch_47\">\n     <path d=\"M 7.2 339.285 \nL 103.05 339.285 \n\" style=\"fill: none; stroke: #262626; stroke-width: 1.25; stroke-linejoin: miter; stroke-linecap: square\"/>\n    </g>\n    <g id=\"patch_48\">\n     <path d=\"M 7.2 243.435 \nL 103.05 243.435 \n\" style=\"fill: none; stroke: #262626; stroke-width: 1.25; stroke-linejoin: miter; stroke-linecap: square\"/>\n    </g>\n   </g>\n   <g id=\"axes_10\">\n    <g id=\"patch_49\">\n     <path d=\"M 113.85 339.285 \nL 209.7 339.285 \nL 209.7 243.435 \nL 113.85 243.435 \nz\n\" style=\"fill: #ffffff\"/>\n    </g>\n    <g clip-path=\"url(#pfa1550657f)\">\n     <image xlink:href=\"data:image/png;base64,\niVBORw0KGgoAAAANSUhEUgAAAIYAAACGCAYAAAAYefKRAAAEYUlEQVR4nO3dSyjtaxzG8bVPx6VQioGMFAMZ7IkkDA3cBi6RgRQpQlEyloSZDEzkkpaJ3IZSSsqMkYko22C3y4xccknKmZ7/ep69rbMsm318P7P36cU7eHrXL9by/xIKhZ5DQIS/3vsA+JgoBiyKAYtiwKIYsCgGLIoBi2LAohiwKAYsigGLYsCiGLAoBiyKAYtiwKIYsCgGrL/j+c3Kysoka2tre/Hrrq6uJJuenpbs27dvMZ0L/x03BiyKAYtiwKIYsL6E4vi5kt3dXcncQBqNy8tLydbX16PKdnZ2AuvHx8eYzvCZcWPAohiwKAYsigHrzYfPpKQkycbHxwPrwsJC2dPd3S1ZRkaGZM/PevyxsbHAenFxUfbwW9Rf48aARTFgUQxYFAPWmw+fJSUlknV2dgbWbjhMS0uTrLm5WbKBgQHJ8vLyAuvb21vZ097eLpn7LepnxY0Bi2LAohiw4jpj1NfXSxbN67Z7vQ+Hw1H9zISEBMkaGxsD6/n5edmTnJwsmXs7YU9PT1Tn+L/hxoBFMWBRDFgUA1Zch0/n69evki0sLATWOTk5sqe4uFiyWP8imp6eLtnExIRkbgje39+XrLq6OrC+uLiI6VwfGTcGLIoBi2LAohiw3nz4dEpLSwPr5eVl2XN/fy/Z09OTZMPDw5Jtbm4G1jc3N7LHDaSTk5OStbS0SLa6uhpY9/b2yh73uZg/CTcGLIoBi2LAohiw3mX4jEZHR4dks7OzkrnPlZydnQXW7s/pGxsbkh0cHEjW19cnWeSQ6obbwcFByebm5iT7qLgxYFEMWBQD1oedMZzMzEzJRkZGJOvq6nrxez08PEjmPmbg3gKYkpLy4vd3zs/PJYuckUZHR2XP1NRUTD/vNbgxYFEMWBQDFsWA9UcNn/h9uDFgUQxYFAMWxYBFMWBRDFgUAxbFgEUxYFEMWBQDFsWARTFgUQxYcX1SM34tPz9fsr29vcD6+vpa9lRWVkp2eHgYv4MZ3BiwKAYsigGLGeM3Oj4+luzo6CiwLioqkj3ucRxDQ0PxO5jBjQGLYsCiGLAoBiw+V/LOcnNzA+vt7W3Zc3d3J1lBQcGbnSkU4sbAT1AMWBQDFsWAxW8+39np6WlgvbKyInvcfzCsqqqSLPJfZb8GNwYsigGLYsCiGLA+7fDpnnOSnZ0t2drammRbW1tvcaSfcs9WKS8vl4zhE2+OYsCiGLAoBqxPO3z++PFDMvc+ytbWVskih7ylpSXZc3JyIpl7Hko053IaGhokc89IiRU3BiyKAYtiwOKtff9SV1cnmXstr62tDaxTU1NlT7TPQ4l8XkliYqLscc9M6e/vl2xmZkayWHFjwKIYsCgGLIoBi+EzBhUVFYF1U1OT7KmpqZEsKytLssjh8/v377LH/SU4HA6/dMxX4caARTFgUQxYFAMWwycsbgxYFAMWxYBFMWBRDFgUAxbFgEUxYFEMWBQDFsWARTFgUQxYFAMWxYBFMWBRDFgUA9Y/WNT5VIF+dk8AAAAASUVORK5CYII=\" id=\"image6c0f519b74\" transform=\"scale(1 -1) translate(0 -96.48)\" x=\"113.85\" y=\"-242.805\" width=\"96.48\" height=\"96.48\"/>\n    </g>\n    <g id=\"matplotlib.axis_19\"/>\n    <g id=\"matplotlib.axis_20\"/>\n    <g id=\"patch_50\">\n     <path d=\"M 113.85 339.285 \nL 113.85 243.435 \n\" style=\"fill: none; stroke: #262626; stroke-width: 1.25; stroke-linejoin: miter; stroke-linecap: square\"/>\n    </g>\n    <g id=\"patch_51\">\n     <path d=\"M 209.7 339.285 \nL 209.7 243.435 \n\" style=\"fill: none; stroke: #262626; stroke-width: 1.25; stroke-linejoin: miter; stroke-linecap: square\"/>\n    </g>\n    <g id=\"patch_52\">\n     <path d=\"M 113.85 339.285 \nL 209.7 339.285 \n\" style=\"fill: none; stroke: #262626; stroke-width: 1.25; stroke-linejoin: miter; stroke-linecap: square\"/>\n    </g>\n    <g id=\"patch_53\">\n     <path d=\"M 113.85 243.435 \nL 209.7 243.435 \n\" style=\"fill: none; stroke: #262626; stroke-width: 1.25; stroke-linejoin: miter; stroke-linecap: square\"/>\n    </g>\n   </g>\n   <g id=\"axes_11\">\n    <g id=\"patch_54\">\n     <path d=\"M 220.5 339.285 \nL 316.35 339.285 \nL 316.35 243.435 \nL 220.5 243.435 \nz\n\" style=\"fill: #ffffff\"/>\n    </g>\n    <g clip-path=\"url(#p599154d8f1)\">\n     <image xlink:href=\"data:image/png;base64,\niVBORw0KGgoAAAANSUhEUgAAAIYAAACGCAYAAAAYefKRAAACiUlEQVR4nO3dQU7jQBRAQWc09wqcDDgZycmYvf0WHiuJu0XV0gKSxVPrq+02l2VZfhZY+XP2F2BMwiAJgyQMkjBIwiAJgyQMkjBIwiAJgyQMkjBIf4/+4ufn5+ba9XrdXHt7e9tcu1wuRz+WF7FikIRBEgZJGKTLcvDRvp+f408EGj7HZ8UgCYMkDJIwSId3Pm+32+Za7XIyJysGSRgkYZCEQTq881m+v78319x2n5MVgyQMkjBIwiA9dPh8pHqm9OPj4/VfZIf39/fNtdoZnokVgyQMkjBIw84Ye9UG2vraGbPJ19fX5lrNTaOyYpCEQRIGSRik6YfPo87YQJtpILVikIRBEgZJGKRfO3yWMwbS9Z3ZUe7KWjFIwiAJgyQM0q8dPut2fZ2LebVRztxYMUjCIAmD9CtmjL1nakdQG1x1POHZrBgkYZCEQRIGafrhs4bI9R3RZw+az36D4RmPBFoxSMIgCYMkDNLhV0aPYs+h5kdbD4M1CI5693YvKwZJGCRhkIRBmn74fPW5j2XZd/ajfqZ2MEd9E6EVgyQMkjBIwiBNP3w+0qivfr5ery//TCsGSRgkYZDMGBM44wyMFYMkDJIwSMIgTT98PvKOZT16V39/vem191zJGRtVR1kxSMIgCYMkDNL0w+ez1SA76uN4j2TFIAmDJAySMEjTD591oHi9EznTYeJSu6/PZsUgCYMkDJIwSNMPn2U9fNb/ABn1/eJ1C/+Msy1WDJIwSMIgTf/K6Gfb82rmemSv5pWaFe73+39/3itYMUjCIAmDJAyS4ZNkxSAJgyQMkjBIwiAJgyQMkjBIwiAJgyQMkjBIwiAJgyQMkjBIwiAJgyQMkjBIwiAJgyQM0j8mZYLAcMw9owAAAABJRU5ErkJggg==\" id=\"image317ac6fdbf\" transform=\"scale(1 -1) translate(0 -96.48)\" x=\"220.5\" y=\"-242.805\" width=\"96.48\" height=\"96.48\"/>\n    </g>\n    <g id=\"matplotlib.axis_21\"/>\n    <g id=\"matplotlib.axis_22\"/>\n    <g id=\"patch_55\">\n     <path d=\"M 220.5 339.285 \nL 220.5 243.435 \n\" style=\"fill: none; stroke: #262626; stroke-width: 1.25; stroke-linejoin: miter; stroke-linecap: square\"/>\n    </g>\n    <g id=\"patch_56\">\n     <path d=\"M 316.35 339.285 \nL 316.35 243.435 \n\" style=\"fill: none; stroke: #262626; stroke-width: 1.25; stroke-linejoin: miter; stroke-linecap: square\"/>\n    </g>\n    <g id=\"patch_57\">\n     <path d=\"M 220.5 339.285 \nL 316.35 339.285 \n\" style=\"fill: none; stroke: #262626; stroke-width: 1.25; stroke-linejoin: miter; stroke-linecap: square\"/>\n    </g>\n    <g id=\"patch_58\">\n     <path d=\"M 220.5 243.435 \nL 316.35 243.435 \n\" style=\"fill: none; stroke: #262626; stroke-width: 1.25; stroke-linejoin: miter; stroke-linecap: square\"/>\n    </g>\n   </g>\n   <g id=\"axes_12\">\n    <g id=\"patch_59\">\n     <path d=\"M 327.15 339.285 \nL 423 339.285 \nL 423 243.435 \nL 327.15 243.435 \nz\n\" style=\"fill: #ffffff\"/>\n    </g>\n    <g clip-path=\"url(#p240cc0adab)\">\n     <image xlink:href=\"data:image/png;base64,\niVBORw0KGgoAAAANSUhEUgAAAIYAAACGCAYAAAAYefKRAAAEZ0lEQVR4nO3dyyt8YRzH8TP6NRZyyXXjUhazsHH9C8ZCSrnEQhZigY1C+ROUEiUbGysLicgSkY2yEWKDEkqRWSixIPmtj+8nc4wz5tL7tXs+PTOexcfT08yccwKO43w6wBcZiV4AkhPFgEQxIFEMSBQDEsWARDEgUQxIFAMSxYBEMSBRDEgUAxLFgEQxIFEMSBQDEsWA9C/RC3Acx+nu7jZZS0uLyZqbm02Wm5vr2zru7u5MtrKyYrK5uTnX+Pr62rc1JAt2DEgUAxLFgEQxIAWcOF9XUlhYaLL5+XnXuK2tzcwJBAIme319NdnCwoLJTk5Ooq6rvLzcZK2trSarrq422fv7u2u8ublp5oyOjprs6uoq6rqSBTsGJIoBiWJAohiQfD18FhQUmEwdzGpra13j5+dnM2dxcdFkU1NTJru9vf3JEr8VDAZN1tjYaLL+/n7XuKOjw8zZ2toyWWdnp8leXl5+ssQ/w44BiWJAohiQKAYkXw+f6nA4NjYW9XX39/cm6+npMVkkEjHZ2dmZx9X5JzMz0zVeX183c5qamkw2MzNjsvHxcf8W5iN2DEgUAxLFgOTrGSMrK8tkExMTJguHwzG9v/rWdHp62mTHx8cxvX+sQqGQyfb3902WnZ1tsoaGBtc4EWcmhR0DEsWARDEgUQxIvl5Xor4pHBkZ8fNPJKWLiwuTPT09mSw/P99k7e3trjGHTyQ1igGJYkCiGJCS4qLmdKR+2jc0NGSynJycv1jOj7FjQKIYkCgGJIoBicNnnNTU1Hia9/b2Ft+FxIgdAxLFgEQxIHHG8EFJSYnJKisrTfb5aX9Fuba2Fpc1/RY7BiSKAYliQKIYkDh8+kBdf6oOpLu7uyY7PDyMy5p+ix0DEsWARDEgUQxIKXX4VBdNz87Omqyvr881/vj4MHPUc0gODg5MdnNzY7Li4mLXeHBw0MxRn3Kurq6aLFmxY0CiGJAoBiSKASmlDp/Dw8Mm+3rQdBz7PJG9vT0zR93eWh1k1SHSC/V1+vLyckzvlQjsGJAoBiSKAYliQIr7w/L8VFVVZbLT01OTfb2dY319vaf3V3e86erqMllGRvT/J/Up5+Pjo6d1JAN2DEgUAxLFgJRSZ4y8vDyTqdtDFxUVucZ1dXVmzvn5uV/LSkvsGJAoBiSKAYliQEqpb1fVbZgfHh5MVlZW5hpXVFSYORw+v8eOAYliQKIYkCgGpJT65BN/hx0DEsWARDEgUQxIFAMSxYBEMSBRDEgUAxLFgEQxIFEMSBQDUkr9tM+r7e1t1zgcDps5R0dHJov12tJIJGKynZ0dT68NhUKu8cDAgJmjHtrb29trsqWlJU9/0wt2DEgUAxLFgEQxIKXlT/uCwaBrPDk5aeaoG6KUlpaaLNa79sXq8vLSZOqZJuoOgBsbG76tgx0DEsWARDEgUQxIaXn4xO+xY0CiGJAoBiSKAYliQKIYkCgGJIoBiWJAohiQKAYkigGJYkCiGJAoBiSKAYliQKIYkP4DN5jh+RRCSQkAAAAASUVORK5CYII=\" id=\"image350be05533\" transform=\"scale(1 -1) translate(0 -96.48)\" x=\"327.15\" y=\"-242.805\" width=\"96.48\" height=\"96.48\"/>\n    </g>\n    <g id=\"matplotlib.axis_23\"/>\n    <g id=\"matplotlib.axis_24\"/>\n    <g id=\"patch_60\">\n     <path d=\"M 327.15 339.285 \nL 327.15 243.435 \n\" style=\"fill: none; stroke: #262626; stroke-width: 1.25; stroke-linejoin: miter; stroke-linecap: square\"/>\n    </g>\n    <g id=\"patch_61\">\n     <path d=\"M 423 339.285 \nL 423 243.435 \n\" style=\"fill: none; stroke: #262626; stroke-width: 1.25; stroke-linejoin: miter; stroke-linecap: square\"/>\n    </g>\n    <g id=\"patch_62\">\n     <path d=\"M 327.15 339.285 \nL 423 339.285 \n\" style=\"fill: none; stroke: #262626; stroke-width: 1.25; stroke-linejoin: miter; stroke-linecap: square\"/>\n    </g>\n    <g id=\"patch_63\">\n     <path d=\"M 327.15 243.435 \nL 423 243.435 \n\" style=\"fill: none; stroke: #262626; stroke-width: 1.25; stroke-linejoin: miter; stroke-linecap: square\"/>\n    </g>\n   </g>\n   <g id=\"axes_13\">\n    <g id=\"patch_64\">\n     <path d=\"M 433.8 339.285 \nL 529.65 339.285 \nL 529.65 243.435 \nL 433.8 243.435 \nz\n\" style=\"fill: #ffffff\"/>\n    </g>\n    <g clip-path=\"url(#p2df37fdcc7)\">\n     <image xlink:href=\"data:image/png;base64,\niVBORw0KGgoAAAANSUhEUgAAAIYAAACGCAYAAAAYefKRAAAEMUlEQVR4nO3dPyitcRzH8d+5rjJJ/qWjjj9FicHIZFFnsBiUkkX+DMyyGAw2o9koAxkoOoM/C0oMoqRkY/EvkUFx73j7Pd/PvedxPSfP4f3anm+/o+fWu1+/nvPnJpxzvxwQ8OOzbwDxRBiQCAMSYUAiDEiEAYkwIBEGJMKARBiQCAMSYUAiDEiEAYkwIBEGJMKARBiQCAMSYUAiDEiEAYkwIBEGJMKARBiQCAMSYUAiDEiEAYkwIBEGJMKARBiQCAMSYUAiDEiEAYkwIBEGJMKARBiQCAMSYUAiDEiEAYkwIP387Bt4j+PjYzNrbm7+r7/19PRkZqlUysyen5/NLJlMetetra1mzezsrJlVV1eb2dvbm3c9NTVl1kxPT5tZrrFjQCIMSIQBiTAgJVwe/Wd5UR4+lcXFRTMbGRkxs4eHh6x/q7Gx0cy2t7fNrKqqyru+vb01awYHB81sZWUl6z18BDsGJMKARBiQYnvG6OjoMLPNzU0zSyQSZhZ8INTQ0GDW9Pb2hrqPTCZjZl1dXd518CHV36h/08LCgncdPHM459zd3Z2ZpdNpMzs8PAx1H2GwY0AiDEiEAYkwIMX28Lm8vGxm3d3doV5bWVnpXd/f35s1Z2dnZlZTU2NmBQUFZra3t+ddj46OmjVHR0dZ79M55wYGBrzrubm5UK+bmJgws5mZmVCvDYMdAxJhQCIMSIQBKbYf7Ts/Pw+17uXlxcyCTyJfX1/Nmvb2djMbHx83s6Ghoayv3draMmvGxsbMTD1FXVtb867Vu6tlZWVmlmvsGJAIAxJhQCIMSLE9fLa0tIRat7+/b2bqbeqg6+trM5ucnDQz9TZ4f3+/d11SUmLWzM/Ph7qvx8dH71odNNUB++TkxMyixI4BiTAgEQYkwoAU28OnOtCpz3dGSR3yhoeHzSz4VLavr8+sUd8rKS0tzTpT96AOxevr62YWJXYMSIQBiTAgxfajfbu7u2bW1tZmZpeXl2bW1NTkXasfSYlSUVGRmQU/suecc4WFhVn/lvruTK4fZinsGJAIAxJhQCIMSHl/+FSC3yu5ubmJ5J6+E3YMSIQBiTAgEQak2L67qn6VLuzhEx/HjgGJMCARBiTCgBTbw+fFxYWZhf1oX21trXfNk8/3Y8eARBiQCAMSYUCK7eFzdXXVzNSBtK6uzsx6enq864ODg+hu7Jtgx4BEGJAIA1JsP9qn7OzsmJn69b3gj5FUVFSYNeo7oviDHQMSYUAiDEiEASm2D7iUpaUlM1OHz+LiYu+6vLzcrLm6uoruxr4gdgxIhAGJMCARBqS8evKpnmCenp6aWfBnlzs7O82ajY2N6G7sC2LHgEQYkAgDEmFAyqvDp6J+eae+vt67TqVSZg1vu/8bOwYkwoBEGJDy/oyB3GDHgEQYkAgDEmFAIgxIhAGJMCARBiTCgPQbt0vb3QseWlgAAAAASUVORK5CYII=\" id=\"image844e42cd1c\" transform=\"scale(1 -1) translate(0 -96.48)\" x=\"433.8\" y=\"-242.805\" width=\"96.48\" height=\"96.48\"/>\n    </g>\n    <g id=\"matplotlib.axis_25\"/>\n    <g id=\"matplotlib.axis_26\"/>\n    <g id=\"patch_65\">\n     <path d=\"M 433.8 339.285 \nL 433.8 243.435 \n\" style=\"fill: none; stroke: #262626; stroke-width: 1.25; stroke-linejoin: miter; stroke-linecap: square\"/>\n    </g>\n    <g id=\"patch_66\">\n     <path d=\"M 529.65 339.285 \nL 529.65 243.435 \n\" style=\"fill: none; stroke: #262626; stroke-width: 1.25; stroke-linejoin: miter; stroke-linecap: square\"/>\n    </g>\n    <g id=\"patch_67\">\n     <path d=\"M 433.8 339.285 \nL 529.65 339.285 \n\" style=\"fill: none; stroke: #262626; stroke-width: 1.25; stroke-linejoin: miter; stroke-linecap: square\"/>\n    </g>\n    <g id=\"patch_68\">\n     <path d=\"M 433.8 243.435 \nL 529.65 243.435 \n\" style=\"fill: none; stroke: #262626; stroke-width: 1.25; stroke-linejoin: miter; stroke-linecap: square\"/>\n    </g>\n   </g>\n   <g id=\"axes_14\">\n    <g id=\"patch_69\">\n     <path d=\"M 540.45 339.285 \nL 636.3 339.285 \nL 636.3 243.435 \nL 540.45 243.435 \nz\n\" style=\"fill: #ffffff\"/>\n    </g>\n    <g clip-path=\"url(#pe656421002)\">\n     <image xlink:href=\"data:image/png;base64,\niVBORw0KGgoAAAANSUhEUgAAAIYAAACGCAYAAAAYefKRAAAE70lEQVR4nO3dXyjdfxzH8a/56ZALYiWh1MjRCuVmaXO5iylu2IpL+Zf8vbLb3cpSLrSsXWytLU4piRvlgmTaxcSFXEiJTTkXaEOR3/Xn+35th4Odc9bzcfd59TnHh14+ffpyvt8kz/MuPcDnXqwXgPhEMSBRDEgUAxLFgEQxIFEMSBQDEsWARDEgUQxIFAMSxYBEMSBRDEgUAxLFgEQxIP0X6wX8zqNHj0zW3d1tsmAwaLJwOBxxzsLCgsl2d3dNNjAwYLKLiwuT/WvYMSBRDEgUAxLFgJTkxcHnSjIyMky2trZmsvz8fJN9+fLFZEdHRxG/Zk5OjsnKy8tN9uvXL5PNzs4648HBwSutK5GwY0CiGJAoBiSKASkmh0//Vc3JyUkzRx0OGxsbTRYKhUx2fn4ecQ2BQMBkxcXFJvvw4YPJ/IdU9fVmZmZM1tvba7Lt7e0/rDJ22DEgUQxIFAMSxYAUk8Pnzs6OM87LyzNzfvz4YbKysjKTHRwc3N7ChNTUVJM9ffrUGQ8PD5s5hYWFJvv+/bvJnj175oxXV1evt8A7wo4BiWJAohiQ7vyM8fjxY5PNz8874+TkZDNnfX3dZOqMEQ/u379vsv7+fpOpfxP0/yxqa2vNnJ8/f95gddFhx4BEMSBRDEgUA1Lcfq6kqKjIZOogu7i4+DeW80dZWVkm29raMtnh4aHJnjx54oxLS0vNnK9fv95gddFhx4BEMSBRDEgUA1JM/rq6tLTkjNUHmJXT01OTNTc3m+zTp0/RLSxKQ0NDJuvr67vSa0dHR51xZ2fnrazpptgxIFEMSBQDEsWAFJPDZ1VVlTOenp42czIzM6/0XmdnZybzX028yZXDBw8emOzly5fO2P+vfp7nebm5uSabm5sz2fPnz53x8fHxdZd4J9gxIFEMSBQDUlzcOAXxhx0DEsWARDEgUQxIFAMSxYBEMSBRDEgUAxLFgEQxIFEMSBQDEsWARDEgUQxIFAMSxYBEMSDF7R11rmplZcVkFRUVzri1tdXM+fbtm8k+fvxoMnVnn/HxcWesPtSs3j+RsGNAohiQKAakhDpjVFdXm0zdRtr/jLL9/X0zR50B6urqTKbuCtjU1OSM1UN729raTJZI2DEgUQxIFAMSxYCUUB9qVhebNjc3I77u8tJ+i+qWzuqBvP6H73qe533+/NkZZ2dnmzk9PT0mu3fP/h6qi2rxgB0DEsWARDEgUQxICXX4DAQCJnv//r3JGhoaonr/Fy9emGxiYsJk6enpzvjVq1dmTktLi8n29vZM1tHR4YyXl5fNnJOTE7vYO8aOAYliQKIYkCgGpIQ6fCqFhYUmGxkZccY1NTVXeq+xsTGTqSuYJSUlzlgdKt+9e2cytQ7/wbKystLM2djYsIu9Y+wYkCgGJIoBiWJASvjDp5KSkuKM/c8X8TzPq6+vN5n/UOl5+s/6Dx8+dMbqeShpaWkRX6f4r4R6nue9efMm4utuGzsGJIoBiWJA+ifPGNFqb283WVdXl8mCwaAzTkpKurU1hEIhk/mfm/Y3sGNAohiQKAYkigGJw2cU3r5964wLCgrMHPWQ3vX1dZO9fv3aGU9NTZk54XD4uku8MXYMSBQDEsWARDEgcfiExI4BiWJAohiQKAYkigGJYkCiGJAoBiSKAYliQKIYkCgGJIoBiWJAohiQKAYkigGJYkD6H8fcBm+GyIjEAAAAAElFTkSuQmCC\" id=\"image52be84c8cf\" transform=\"scale(1 -1) translate(0 -96.48)\" x=\"540.45\" y=\"-242.805\" width=\"96.48\" height=\"96.48\"/>\n    </g>\n    <g id=\"matplotlib.axis_27\"/>\n    <g id=\"matplotlib.axis_28\"/>\n    <g id=\"patch_70\">\n     <path d=\"M 540.45 339.285 \nL 540.45 243.435 \n\" style=\"fill: none; stroke: #262626; stroke-width: 1.25; stroke-linejoin: miter; stroke-linecap: square\"/>\n    </g>\n    <g id=\"patch_71\">\n     <path d=\"M 636.3 339.285 \nL 636.3 243.435 \n\" style=\"fill: none; stroke: #262626; stroke-width: 1.25; stroke-linejoin: miter; stroke-linecap: square\"/>\n    </g>\n    <g id=\"patch_72\">\n     <path d=\"M 540.45 339.285 \nL 636.3 339.285 \n\" style=\"fill: none; stroke: #262626; stroke-width: 1.25; stroke-linejoin: miter; stroke-linecap: square\"/>\n    </g>\n    <g id=\"patch_73\">\n     <path d=\"M 540.45 243.435 \nL 636.3 243.435 \n\" style=\"fill: none; stroke: #262626; stroke-width: 1.25; stroke-linejoin: miter; stroke-linecap: square\"/>\n    </g>\n   </g>\n   <g id=\"axes_15\">\n    <g id=\"patch_74\">\n     <path d=\"M 647.1 339.285 \nL 742.95 339.285 \nL 742.95 243.435 \nL 647.1 243.435 \nz\n\" style=\"fill: #ffffff\"/>\n    </g>\n    <g clip-path=\"url(#pde1f727b06)\">\n     <image xlink:href=\"data:image/png;base64,\niVBORw0KGgoAAAANSUhEUgAAAIYAAACGCAYAAAAYefKRAAAENUlEQVR4nO3dzSt0bxzH8Wume0UWZGGnbM1KKCJWsvYXkBploaYsWBORxEIiJRs2HpIslKw1OwsWSB4KC1YUCw+/9TnfT+Y0c37NOTPv1+58O8593fXu6mpmmIRz7tcBPsliLwDRRBiQCAMSYUAiDEiEAYkwIBEGJMKA9K/YC/g/dHV1ea4nJyfNPR8fH2am7js/Pzez19fXAlYXD+wYkAgDEmFASrgYvbuaTNqOZ2ZmzGxgYMBzXV1dnfe/eXNzY2ZTU1Oe6/X19byfH1XsGJAIAxJhQCIMSLE6fKbTaTNbXl42s99f738pm82aeyorK80slUoFWsf9/b3nuq2tzdzz/Pwc6FlRxY4BiTAgEQYkwoAUq8OnehWyrq7OzFZWVjzXmUzG3FNbW2tmh4eHZtbc3JxzXePj42Y2Ozub8+eijB0DEmFAIgxIhAEpVh/tu76+NrOJiQkzC/I2+MvLi5nNz8+b2ebmZs5nNTY25rwnbtgxIBEGJMKARBiQYnX47OvrM7P39/fQnt/U1BTas+KOHQMSYUAiDEixOmOEeZ5Q2tvb8/q5k5OTkFdSfOwYkAgDEmFAIgxIsTp8hkn9orP6uJ9ycXHhud7d3Q1lTVHCjgGJMCARBiTCgFQWh0910Ly6ugp0n/8XpJ1zbm5uznP99vZWwOqiiR0DEmFAIgxIhAGpJA+fNTU1nuu9vT1zT9A/8bi9vW1mGxsb+S0sRtgxIBEGJMKAVJJnjKGhIc91R0dH3s86ODgodDmxxI4BiTAgEQYkwoAUq8NnRUWFmfnf6XTOucHBwZzP+vr6MrOxsTEz29raCri60sKOAYkwIBEGJMKAFNnDp/pLeEtLS2bW2dmZ81m3t7dmNjw8bGZHR0fBFlcG2DEgEQYkwoBEGJAi8X0l9fX1ZnZ2dmZmVVVVgZ53d3fnue7t7TX3XF5eBlxdeWLHgEQYkAgDEmFAisQrnyMjI2YW9KA5OjpqZvv7+55r9d0k+Bs7BiTCgEQYkCLxAld3d7eZLS4umlkqlTIz9SW9DQ0Nnmv/X9lzzrmenh4ze3p6+muZZYUdAxJhQCIMSIQBKRKHT0W9wKXehVUymYznur+/39zz+PhoZtls1szUx/3830+ivig47tgxIBEGJMKARBiQInv4LEQy6e29tbXV3LOwsGBmLS0tgZ7//f3tuf75+TH3rK6umpn/I4fOObezs/Pns51z7uHhIdC6wsSOAYkwIBEGJMKAVJKHzzjxHzY/Pz/NPcfHx6H9e9PT02Z2enpqZuwYkAgDEmFAIgxIHD6LTL1q6pdIJMxMfYlfEOl02szW1tbMjB0DEmFAIgxInDEgsWNAIgxIhAGJMCARBiTCgEQYkAgDEmFAIgxIhAGJMCARBiTCgEQYkAgDEmFAIgxIhAGJMCARBiTCgEQYkAgDEmFAIgxIhAGJMCD9B3R91L/pK8mzAAAAAElFTkSuQmCC\" id=\"image68629261f3\" transform=\"scale(1 -1) translate(0 -96.48)\" x=\"647.1\" y=\"-242.805\" width=\"96.48\" height=\"96.48\"/>\n    </g>\n    <g id=\"matplotlib.axis_29\"/>\n    <g id=\"matplotlib.axis_30\"/>\n    <g id=\"patch_75\">\n     <path d=\"M 647.1 339.285 \nL 647.1 243.435 \n\" style=\"fill: none; stroke: #262626; stroke-width: 1.25; stroke-linejoin: miter; stroke-linecap: square\"/>\n    </g>\n    <g id=\"patch_76\">\n     <path d=\"M 742.95 339.285 \nL 742.95 243.435 \n\" style=\"fill: none; stroke: #262626; stroke-width: 1.25; stroke-linejoin: miter; stroke-linecap: square\"/>\n    </g>\n    <g id=\"patch_77\">\n     <path d=\"M 647.1 339.285 \nL 742.95 339.285 \n\" style=\"fill: none; stroke: #262626; stroke-width: 1.25; stroke-linejoin: miter; stroke-linecap: square\"/>\n    </g>\n    <g id=\"patch_78\">\n     <path d=\"M 647.1 243.435 \nL 742.95 243.435 \n\" style=\"fill: none; stroke: #262626; stroke-width: 1.25; stroke-linejoin: miter; stroke-linecap: square\"/>\n    </g>\n   </g>\n   <g id=\"axes_16\">\n    <g id=\"patch_79\">\n     <path d=\"M 753.75 339.285 \nL 849.6 339.285 \nL 849.6 243.435 \nL 753.75 243.435 \nz\n\" style=\"fill: #ffffff\"/>\n    </g>\n    <g clip-path=\"url(#pc0c0370e13)\">\n     <image xlink:href=\"data:image/png;base64,\niVBORw0KGgoAAAANSUhEUgAAAIYAAACGCAYAAAAYefKRAAADIElEQVR4nO3cTyusbxzH8Xt+kcg8AAvkz3pWYmFlb2MhyVPgeXgaithIWdvIXpItWXkAapQoZz2/69MxDjNzj16v3f3tmPNV766ubtGoquqjgv/5b9ALUE/CIBIGkTCIhEEkDCJhEAmDSBhEwiASBpEwiIRBJAwiYRAJg0gYRMIgEgaRMIiEQSQMImEQjQx6gd9qfX29mJ2fnxeznZ2djufj4+Oe7fQVTgwiYRAJg0gYRC6fPbKysjLoFb7FiUEkDCJhEAmDSBhEwiASBpEwiIbqBdfU1FQxa7Van37dxMREMdvd3e3q/zw8PCxmT09Pn37d9vZ2V5+/tbXV8eynq9SaMIiEQSQMotpePldXV4vZ0dFRMZuZmenpHmtra8Xs8fGx4zldisfGxrr6/NnZ2X/aq9ecGETCIBIGkTCIanv5bDabxSxdNO/u7orZxsZGx/Pb29vPLVZVVbvd7ngeHx8v/s3Dw0MxGx0dLWbX19c/t9gPcmIQCYNIGETCIKrt5bNbl5eXxez+/n4Am3Ta3NwsZmdnZ8Xs4uKiH+t8mRODSBhEwiASBpEwiIRBJAwiYRAN/Quuupqfnx/0Ct/ixCASBpEwiIRB1Kiq6mPQS/xGk5OTxez5+bmYnZ6edjynn8oOghODSBhEwiASBpE3n33UaDSK2eLi4gA2+ZwTg0gYRMIgEgaRy2cffXwMz0tmJwaRMIiEQeSO0SPpj7Xc3t4OYJN/48QgEgaRMIiEQTRUl8+bm5tidnV1Vcz29vb6sM3fvb6+FrP9/f1itry83I91vsyJQSQMImEQCYNoqC6fw+7k5KSrWR04MYiEQSQMImEQCYNIGETCIBIGkTCIavvmc2lpqZjNzc0Vs/Rjd77PiUEkDCJhENX2jvH+/l7M0u9+LiwsFLORkc5vK30Wf+fEIBIGkTCIhEE0VH8yOv1eSavVKmbNZrPjud1u92qlX8uJQSQMImEQCYOotm8+k4ODg2I2PT1dzF5eXvqxzq/mxCASBpEwiIRBNFRvPukfJwaRMIiEQSQMImEQCYNIGETCIBIGkTCIhEEkDCJhEP0Bepds0F08K/0AAAAASUVORK5CYII=\" id=\"image523856c44e\" transform=\"scale(1 -1) translate(0 -96.48)\" x=\"753.75\" y=\"-242.805\" width=\"96.48\" height=\"96.48\"/>\n    </g>\n    <g id=\"matplotlib.axis_31\"/>\n    <g id=\"matplotlib.axis_32\"/>\n    <g id=\"patch_80\">\n     <path d=\"M 753.75 339.285 \nL 753.75 243.435 \n\" style=\"fill: none; stroke: #262626; stroke-width: 1.25; stroke-linejoin: miter; stroke-linecap: square\"/>\n    </g>\n    <g id=\"patch_81\">\n     <path d=\"M 849.6 339.285 \nL 849.6 243.435 \n\" style=\"fill: none; stroke: #262626; stroke-width: 1.25; stroke-linejoin: miter; stroke-linecap: square\"/>\n    </g>\n    <g id=\"patch_82\">\n     <path d=\"M 753.75 339.285 \nL 849.6 339.285 \n\" style=\"fill: none; stroke: #262626; stroke-width: 1.25; stroke-linejoin: miter; stroke-linecap: square\"/>\n    </g>\n    <g id=\"patch_83\">\n     <path d=\"M 753.75 243.435 \nL 849.6 243.435 \n\" style=\"fill: none; stroke: #262626; stroke-width: 1.25; stroke-linejoin: miter; stroke-linecap: square\"/>\n    </g>\n   </g>\n   <g id=\"text_2\">\n    <!-- Transformed Images -->\n    <g style=\"fill: #262626\" transform=\"translate(373.275937 207.935625) scale(0.12 -0.12)\">\n     <defs>\n      <path id=\"ArialMT-54\" d=\"M 1659 0 \nL 1659 4041 \nL 150 4041 \nL 150 4581 \nL 3781 4581 \nL 3781 4041 \nL 2266 4041 \nL 2266 0 \nL 1659 0 \nz\n\" transform=\"scale(0.015625)\"/>\n      <path id=\"ArialMT-66\" d=\"M 556 0 \nL 556 2881 \nL 59 2881 \nL 59 3319 \nL 556 3319 \nL 556 3672 \nQ 556 4006 616 4169 \nQ 697 4388 901 4523 \nQ 1106 4659 1475 4659 \nQ 1713 4659 2000 4603 \nL 1916 4113 \nQ 1741 4144 1584 4144 \nQ 1328 4144 1222 4034 \nQ 1116 3925 1116 3625 \nL 1116 3319 \nL 1763 3319 \nL 1763 2881 \nL 1116 2881 \nL 1116 0 \nL 556 0 \nz\n\" transform=\"scale(0.015625)\"/>\n      <path id=\"ArialMT-6f\" d=\"M 213 1659 \nQ 213 2581 725 3025 \nQ 1153 3394 1769 3394 \nQ 2453 3394 2887 2945 \nQ 3322 2497 3322 1706 \nQ 3322 1066 3130 698 \nQ 2938 331 2570 128 \nQ 2203 -75 1769 -75 \nQ 1072 -75 642 372 \nQ 213 819 213 1659 \nz\nM 791 1659 \nQ 791 1022 1069 705 \nQ 1347 388 1769 388 \nQ 2188 388 2466 706 \nQ 2744 1025 2744 1678 \nQ 2744 2294 2464 2611 \nQ 2184 2928 1769 2928 \nQ 1347 2928 1069 2612 \nQ 791 2297 791 1659 \nz\n\" transform=\"scale(0.015625)\"/>\n      <path id=\"ArialMT-64\" d=\"M 2575 0 \nL 2575 419 \nQ 2259 -75 1647 -75 \nQ 1250 -75 917 144 \nQ 584 363 401 755 \nQ 219 1147 219 1656 \nQ 219 2153 384 2558 \nQ 550 2963 881 3178 \nQ 1213 3394 1622 3394 \nQ 1922 3394 2156 3267 \nQ 2391 3141 2538 2938 \nL 2538 4581 \nL 3097 4581 \nL 3097 0 \nL 2575 0 \nz\nM 797 1656 \nQ 797 1019 1065 703 \nQ 1334 388 1700 388 \nQ 2069 388 2326 689 \nQ 2584 991 2584 1609 \nQ 2584 2291 2321 2609 \nQ 2059 2928 1675 2928 \nQ 1300 2928 1048 2622 \nQ 797 2316 797 1656 \nz\n\" transform=\"scale(0.015625)\"/>\n     </defs>\n     <use xlink:href=\"#ArialMT-54\"/>\n     <use xlink:href=\"#ArialMT-72\" x=\"57.333984\"/>\n     <use xlink:href=\"#ArialMT-61\" x=\"90.634766\"/>\n     <use xlink:href=\"#ArialMT-6e\" x=\"146.25\"/>\n     <use xlink:href=\"#ArialMT-73\" x=\"201.865234\"/>\n     <use xlink:href=\"#ArialMT-66\" x=\"251.865234\"/>\n     <use xlink:href=\"#ArialMT-6f\" x=\"279.648438\"/>\n     <use xlink:href=\"#ArialMT-72\" x=\"335.263672\"/>\n     <use xlink:href=\"#ArialMT-6d\" x=\"368.564453\"/>\n     <use xlink:href=\"#ArialMT-65\" x=\"451.865234\"/>\n     <use xlink:href=\"#ArialMT-64\" x=\"507.480469\"/>\n     <use xlink:href=\"#ArialMT-20\" x=\"563.095703\"/>\n     <use xlink:href=\"#ArialMT-49\" x=\"590.878906\"/>\n     <use xlink:href=\"#ArialMT-6d\" x=\"618.662109\"/>\n     <use xlink:href=\"#ArialMT-61\" x=\"701.962891\"/>\n     <use xlink:href=\"#ArialMT-67\" x=\"757.578125\"/>\n     <use xlink:href=\"#ArialMT-65\" x=\"813.193359\"/>\n     <use xlink:href=\"#ArialMT-73\" x=\"868.808594\"/>\n    </g>\n   </g>\n  </g>\n  <g id=\"subfigure_3\">\n   <g id=\"patch_84\">\n    <path d=\"M -3.6 579.36 \nL 860.4 579.36 \nL 860.4 387.36 \nL -3.6 387.36 \nz\n\" style=\"fill: #ffffff\"/>\n   </g>\n   <g id=\"axes_17\">\n    <g id=\"patch_85\">\n     <path d=\"M 7.2 531.285 \nL 103.05 531.285 \nL 103.05 435.435 \nL 7.2 435.435 \nz\n\" style=\"fill: #ffffff\"/>\n    </g>\n    <g clip-path=\"url(#p815e818a12)\">\n     <image xlink:href=\"data:image/png;base64,\niVBORw0KGgoAAAANSUhEUgAAAIYAAACGCAYAAAAYefKRAAADhElEQVR4nO3dPy8sURiA8V3/GkSDRhQ6FdEoJDoJjQ8gUekU4qsoRKPS+AQaiVKi0BCdhkKiRkhEcNu78z7JTM5i5+w+v27f7EzmJs89OZmxu81Go/HdkAr6On0BqifDEDIMIcMQMgwhwxAyDCHDEDIMoYFOX0C7pqamwuzh4aH0uIWFhTC7urr6iUvqCq4YQoYhZBhCzUbmT1evr6/DbG5uLulcAwNxy/X5+Zl0rty5YggZhpBhCBmGUPabz42NjTA7Pj5OOtfMzEyY3d/fJ50rd64YQoYhZBhChiGU/eaTfH19tbxuNpuVjvv4+AizoaGhH7mm3LhiCBmGkGEIGYZQV24+t7e3W14fHBwkn6tXH8W7YggZhpBhCBmGUFduPou+v9P/iaenp2G2trbWzuVkwRVDyDCEDEOoJ/YYu7u7Yba3t5d8vv7+/pbXxae53cAVQ8gwhAxDyDCEemLzSdq56bWzs9Pyen9/v93LqR1XDCHDEDIMIcMQ6tnN5/z8fJhV/da+4sZ1cHAwvCf3P/9zxRAyDCHDEDIMoZ7dfJLn5+cwGx0dTTpX1Q9S15UrhpBhCBmGkHuM/4yMjITZy8tL0rlOTk7CbH19PelcneCKIWQYQoYhZBhCbj5L0FPSvr7y/0/0p4NVjquLfK5Uf8owhAxDyDCEsv9B3t9Gv32yublZehw9XaVZO59v+U2uGEKGIWQYQoYh5J3PEvR7Je/v70nnWl5eDrPz8/Okc/02VwwhwxAyDCHDEPLOZwn6Ab1UKysrYebmU1kxDCHDEMrqBhf9adzExESYFW9APT09hfdUfapJX4ry+vpa+h5ycXERZktLS5WO/WuuGEKGIWQYQoYhVNsbXJOTk2F2eXkZZtPT06Xnos+G3N7ehhl9EHl1dTXMqm42iw4PD5OO6wRXDCHDEDIMIcMQqu2dz/Hx8TC7u7sLM/oWnLoaHh4Os7e3tw5cSTlXDCHDEDIMIcMQqu3mkywuLobZ2dlZmKV+zfNPoq+fHhsb68CVpHHFEDIMIcMQMgyhrDafVRUfi29tbYX3zM7Ohhk9wr+5uQmzx8fHltdHR0fhPakffK4LVwwhwxAyDKGu3GOofa4YQoYhZBhChiFkGEKGIWQYQoYhZBhChiFkGEKGIWQYQoYhZBhChiFkGEKGIWQYQoYhZBhChiFkGEKGIWQYQoYhZBhChiH0D52woVMZ7zb7AAAAAElFTkSuQmCC\" id=\"image6660cd0d8d\" transform=\"scale(1 -1) translate(0 -96.48)\" x=\"7.2\" y=\"-434.805\" width=\"96.48\" height=\"96.48\"/>\n    </g>\n    <g id=\"matplotlib.axis_33\"/>\n    <g id=\"matplotlib.axis_34\"/>\n    <g id=\"patch_86\">\n     <path d=\"M 7.2 531.285 \nL 7.2 435.435 \n\" style=\"fill: none; stroke: #262626; stroke-width: 1.25; stroke-linejoin: miter; stroke-linecap: square\"/>\n    </g>\n    <g id=\"patch_87\">\n     <path d=\"M 103.05 531.285 \nL 103.05 435.435 \n\" style=\"fill: none; stroke: #262626; stroke-width: 1.25; stroke-linejoin: miter; stroke-linecap: square\"/>\n    </g>\n    <g id=\"patch_88\">\n     <path d=\"M 7.2 531.285 \nL 103.05 531.285 \n\" style=\"fill: none; stroke: #262626; stroke-width: 1.25; stroke-linejoin: miter; stroke-linecap: square\"/>\n    </g>\n    <g id=\"patch_89\">\n     <path d=\"M 7.2 435.435 \nL 103.05 435.435 \n\" style=\"fill: none; stroke: #262626; stroke-width: 1.25; stroke-linejoin: miter; stroke-linecap: square\"/>\n    </g>\n   </g>\n   <g id=\"axes_18\">\n    <g id=\"patch_90\">\n     <path d=\"M 113.85 531.285 \nL 209.7 531.285 \nL 209.7 435.435 \nL 113.85 435.435 \nz\n\" style=\"fill: #ffffff\"/>\n    </g>\n    <g clip-path=\"url(#p8024db375a)\">\n     <image xlink:href=\"data:image/png;base64,\niVBORw0KGgoAAAANSUhEUgAAAIYAAACGCAYAAAAYefKRAAAEg0lEQVR4nO3dzSttURzG8XW85yWUl6SOzMhAGRkonQlTJooMlIF/gyH5J4wNxEjpdAyYSUoRkpNIKaIQDs4d3vb+Pbr7Hmfbp/b3M1tPi7u6Pa1W+03COZd3gE9Z1AtAaaIYkCgGJIoBiWJAohiQKAYkigGJYkCiGJAoBiSKAYliQKqIegHfqa+vN1k+b28EPz8//8ZyYocdAxLFgEQxIFEMSCVx+Nzc3DTZysqKyTKZjMk4fIaDHQMSxYBEMSBRDEiRHD79VzAfHx/NnPLycpNtbW2ZLJlMmuzy8vIHq4Nz7Bj4BsWARDEgUQxICRfyS83qVrnfx8eHyXp7e02mDqlnZ2cmq66u9ozVLfzPz89/rivO2DEgUQxIFAMSxYBU1CufuVwu0Lz393fP+Pz83MzJZrMm8x8qnXPu8PDQZENDQ57xy8tLoN+Fv9gxIFEMSBQDUlEvcKXTaZOlUimT+c8Uk5OTZs7e3p7JEomEyaqqqky2vb3tGQ8ODpo56sJbS0uLye7v700WB+wYkCgGJIoBiWJAKurhs6amxmRLS0smm5ub84xvbm7MnJGREZNdX1+brKmpyWQPDw+e8e3trZlTW1trstfXV5Pt7OyYbGFhwTPe3d01c4LcVS5l7BiQKAYkigGJYkAK/dG+sjLbvaurK8+4tbXVzFFXOdW7Jor/EKkOxcV0dHRksr6+vlD/zbCxY0CiGJAoBiSKASn0w6dSUeF9otD/KJ5zzm1sbJisoaEhtDUV29jYmMnW19d/fyEFYseARDEgUQxIkXw4xf+uqv9RPOeca2xsNNni4qLJZmdnTba6uuoZz8zMmDnqkUB1Ua1Qd3d3RftdUWDHgEQxIFEMSBQDUiQXuEpBW1ubyZaXl002Pj5uMvUhFj/1mKC6i/z09PTP3xUFdgxIFAMSxYBEMSDF9vAZlHo00X/VVH05sKOjw2THx8cm6+/v94y/vr7+d4mhYMeARDEgUQxIFAMSh8+QqBew/V8rdM650dFRz/j09DS0Nf0PdgxIFAMSxYBEMSBx+PxF6hb+1NSUZzw9PW3mvL29hbam77BjQKIYkCgGpEjeK4mrtbU1k/X09HjG+/v7Zk4UH2Fhx4BEMSBRDEgUAxIXuCLW1dXlGV9cXJg56o8HNzc3m6yY76iwY0CiGJAoBiSKASkWh0/1pRz1vog65IXNv46ga1Dz/F9D/Al2DEgUAxLFgEQxIMXitnsymTRZJpMx2cHBgckmJiZM5v8c5U8MDAwU9HNB/3ZLodgxIFEMSBQDEsWAFIvDZy6XM1lnZ6fJuru7Tabe6chms55xKpUyc/x/Ldo554aHh02mngMNYn5+vqCfC4odAxLFgEQxIMXi7mpQdXV1Jkun0ybzX5RSdzWD/u2TfN7736/u+kahNFaBkkMxIFEMSBQDEofPAlRWVnrG/gtezjnX3t5uspOTE5NF8cJyEOwYkCgGJIoBiWJA4vAJiR0DEsWARDEgUQxIFAMSxYBEMSBRDEgUAxLFgEQxIFEMSBQDEsWARDEgUQxIFAMSxYD0B3nP87qXOmmNAAAAAElFTkSuQmCC\" id=\"image6f3dc142f1\" transform=\"scale(1 -1) translate(0 -96.48)\" x=\"113.85\" y=\"-434.805\" width=\"96.48\" height=\"96.48\"/>\n    </g>\n    <g id=\"matplotlib.axis_35\"/>\n    <g id=\"matplotlib.axis_36\"/>\n    <g id=\"patch_91\">\n     <path d=\"M 113.85 531.285 \nL 113.85 435.435 \n\" style=\"fill: none; stroke: #262626; stroke-width: 1.25; stroke-linejoin: miter; stroke-linecap: square\"/>\n    </g>\n    <g id=\"patch_92\">\n     <path d=\"M 209.7 531.285 \nL 209.7 435.435 \n\" style=\"fill: none; stroke: #262626; stroke-width: 1.25; stroke-linejoin: miter; stroke-linecap: square\"/>\n    </g>\n    <g id=\"patch_93\">\n     <path d=\"M 113.85 531.285 \nL 209.7 531.285 \n\" style=\"fill: none; stroke: #262626; stroke-width: 1.25; stroke-linejoin: miter; stroke-linecap: square\"/>\n    </g>\n    <g id=\"patch_94\">\n     <path d=\"M 113.85 435.435 \nL 209.7 435.435 \n\" style=\"fill: none; stroke: #262626; stroke-width: 1.25; stroke-linejoin: miter; stroke-linecap: square\"/>\n    </g>\n   </g>\n   <g id=\"axes_19\">\n    <g id=\"patch_95\">\n     <path d=\"M 220.5 531.285 \nL 316.35 531.285 \nL 316.35 435.435 \nL 220.5 435.435 \nz\n\" style=\"fill: #ffffff\"/>\n    </g>\n    <g clip-path=\"url(#p4556bb725b)\">\n     <image xlink:href=\"data:image/png;base64,\niVBORw0KGgoAAAANSUhEUgAAAIYAAACGCAYAAAAYefKRAAAEJElEQVR4nO3dzSt8bRzH8TPIU5SHBYkVpeQPsLNSCCnJH2Bl7X+xsbNSZqNI2bIQC0tlRWRBIkqe3btfnbne7t/cx5yZObf3a3d9O3Pmok9X3851zpxcFEVfkVSgptITUHUyGEIGQ8hgCBkMIYMhZDCEDIaQwRAyGEIGQ8hgCBkMobpKT+A7j4+PQe3s7CyoLS4uBrXDw8M0pvSruGIIGQwhgyFkMIRyURXc2nd7exvU2tvbg1oul0t0/nw+H9QWFhaC2ufnZ6Lz/x+5YggZDCGDIWQwhCrSfI6NjcXGx8fHwTEXFxdBrbGxMbU5RVEUXV9fB7Wurq5Uv7NauWIIGQwhgyFkMIRSbz7r6sKd/ff3979+rqYmzCw1pD09Pckm9gOFTfDLy0vZ55A2VwwhgyFkMIQMhlBVbLsXixrZu7u7oNbS0lKO6fyxtbUV1Kanp8s6h1JzxRAyGEIGQyhTPQahvmNycjI23tzcLNd0/piamgpq29vbZZ9HUq4YQgZDyGAIGQyhzDefxWhoaAhqT09PQY12dEuJzv/1VZ3/flcMIYMhZDCEDIbQr2g+CV2ZXFtbC2r0cHVSdAV2dna2ZOcvJVcMIYMhZDCEDIZQ5pvPtra2oDYwMBAbr66uBscMDw8HNdrCLyV6nqa+vj42rpYroa4YQgZDyGAIZarHoF1S+hnp7u7uMsymNAYHB2Pj09PTCs0kzhVDyGAIGQwhgyGUqeaT0I7lzMxMBWaSzMnJSWw8NDRUoZnEuWIIGQwhgyFkMISq9mV5xVpfXw9qaTefhTugNzc3wTEdHR1Bjd630tvbGxuPjIwExxwcHPzXKf6YK4aQwRAyGEIGQyjzzefc3FxQK2wOqemjF+Pt7e0FteXl5aBW+H6VYl+yR01qa2trbLy/vx8cQ7cbfHx8FPWdSbliCBkMIYMhZDCEMr/tnvQ5jMvLy6DW19f30+n8q6WlpaC2srLy1889Pz8HtaamppLM6TuuGEIGQ8hgCGX+AldShbuaURRFExMTQW1nZ6dk33l0dJToc3SBiy7alfK5V1cMIYMhZDCEDIbQr73AVazz8/Og1t/fHxvTTmdtbW1Qu7+/D2rFvL+N/kY6v82nUmcwhAyGkMEQynzzSb+09/b2VoGZpOf19TWoNTc3B7VS3u7niiFkMIQMhpDBEMr8tjv9DPP8/HxsvLGxUa7ppOLq6iqoFfssS1KuGEIGQ8hgCBkMocxf+SwG3R85Ojoa1PL5fFDr7OxMZU7fGR8fD2q7u7tBLe3bDVwxhAyGkMEQ+hU9xk8U8/wGHUO/2vfw8BDUqnUn2BVDyGAIGQwhgyFk8ynkiiFkMIQMhpDBEDIYQgZDyGAIGQwhgyFkMIQMhpDBEDIYQgZDyGAIGQwhgyFkMIQMhpDBEDIYQgZDyGAI/QPaINTIPPWgcQAAAABJRU5ErkJggg==\" id=\"image2a5b5a677c\" transform=\"scale(1 -1) translate(0 -96.48)\" x=\"220.5\" y=\"-434.805\" width=\"96.48\" height=\"96.48\"/>\n    </g>\n    <g id=\"matplotlib.axis_37\"/>\n    <g id=\"matplotlib.axis_38\"/>\n    <g id=\"patch_96\">\n     <path d=\"M 220.5 531.285 \nL 220.5 435.435 \n\" style=\"fill: none; stroke: #262626; stroke-width: 1.25; stroke-linejoin: miter; stroke-linecap: square\"/>\n    </g>\n    <g id=\"patch_97\">\n     <path d=\"M 316.35 531.285 \nL 316.35 435.435 \n\" style=\"fill: none; stroke: #262626; stroke-width: 1.25; stroke-linejoin: miter; stroke-linecap: square\"/>\n    </g>\n    <g id=\"patch_98\">\n     <path d=\"M 220.5 531.285 \nL 316.35 531.285 \n\" style=\"fill: none; stroke: #262626; stroke-width: 1.25; stroke-linejoin: miter; stroke-linecap: square\"/>\n    </g>\n    <g id=\"patch_99\">\n     <path d=\"M 220.5 435.435 \nL 316.35 435.435 \n\" style=\"fill: none; stroke: #262626; stroke-width: 1.25; stroke-linejoin: miter; stroke-linecap: square\"/>\n    </g>\n   </g>\n   <g id=\"axes_20\">\n    <g id=\"patch_100\">\n     <path d=\"M 327.15 531.285 \nL 423 531.285 \nL 423 435.435 \nL 327.15 435.435 \nz\n\" style=\"fill: #ffffff\"/>\n    </g>\n    <g clip-path=\"url(#pdc1401a960)\">\n     <image xlink:href=\"data:image/png;base64,\niVBORw0KGgoAAAANSUhEUgAAAIYAAACGCAYAAAAYefKRAAAEVUlEQVR4nO3dPS9sURTG8eU9CKKgEGEkCpEIlSBapQ9AQSuh8CFUGrXCB0Al0eh0E5XGSyERxEuIUSEmY7j1Oeu5986cO2dmjvv/dXtlm9nFk5Wdbc4+NWb2bUBIbaUXgOpEMCARDEgEAxLBgEQwIBEMSAQDEsGARDAgEQxIBAMSwYBEMCARDEgEAxLBgEQwINVXegFmZjMzM662t7fnas3NzbGuI5/Pu1o2m3W1vr6+wDiTycS2pkqhY0AiGJAIBiSCAanGKvBcydfXV3ARNTXlXkLsGhsbXS2Xy1VgJdHQMSARDEgEAxLBgBT75lOdJtbWRsvj7u6uqy0tLbnay8tLpM+vr/cHwRsbG662srIS6fNTqZSrXV9fR/qsuNExIBEMSAQDEsGAVNLNZ1tbm6vd3d0VNC+sv7/f1W5ubqItrMTCJ7Wnp6duzuDgoKupTXdDQ0Ng/P1dHRcc0TEgEQxIBANS7AdcY2NjrnZ4eBgYT09PuzknJycxrag80um0q42Pj7va1NRUYHx0dBTbmopBx4BEMCARDEgEA1JFftoXPiCqlkOdUpqYmHC18KbbzGxnZycwXlhYiGtJRaFjQCIYkAgGJIIBqSIPNf/EzWbY5OSkq4X/k2pmNjw8XI7lFI2OAYlgQCIYkAgGpIqcfP4Prq6uXE39XHF2djYw3t/fj2tJRaFjQCIYkAgGpKq4tS/pWlpaXK23t9fV1MHe2dlZLGv6V3QMSAQDEsGARDAgsfmMIPwM6vb2tptTV1dX0GdVy/O4YXQMSAQDEsGARDAgJX7zeXFx4WrhS0vCV1Sbmb29vblaU1NTQd8ZvhWwu7vbzVGnnOoSmc/Pz4K+s9zoGJAIBiSCAYlgQErU5nNoaMjV1O14Yeq2vEJuDvydrq6uwPj5+dnNOT4+drXV1dXI31ludAxIBAMSwYBEMCAlavOp3icS1evrq6uNjIy42v39vat1dHQExmrzqV4AqE5gqxUdAxLBgEQwICXq2VW1x3h/f3e18IHW8vKym7O5uVm6hf1AdAxIBAMSwYBEMCAlavPZ3t7uauHDJjOzubm5wHh9fT22Nf1UdAxIBAMSwYBEMCAl6r+r2WzW1RYXF11ta2urHMv50egYkAgGJIIBiWBAStTJp3ro+PHx0dXy+XxgPD8/7+YcHByUbmFCT0+Pqz09Pbla+Od+1fLzPzoGJIIBiWBAIhiQErX5VMK325iZdXZ2Rvo79T4RdfNOa2trYPzw8PDXOWZmHx8frpZOpwPjtbU1N0e94TnuFw7SMSARDEgEA1Li9xjqWZNMJhMYq58EVkL44M3M7Pb2NjBOpVJlWs2f0TEgEQxIBAMSwYCU+M1nIS4vL11tYGCgZJ+fy+UKmnd+fu5qo6OjJVtHKdExIBEMSAQDEsGA9F9sPlE8OgYkggGJYEAiGJAIBiSCAYlgQCIYkAgGJIIBiWBAIhiQCAYkggGJYEAiGJAIBiSCAekXQ7TZLeZHfCMAAAAASUVORK5CYII=\" id=\"image8e36578ca0\" transform=\"scale(1 -1) translate(0 -96.48)\" x=\"327.15\" y=\"-434.805\" width=\"96.48\" height=\"96.48\"/>\n    </g>\n    <g id=\"matplotlib.axis_39\"/>\n    <g id=\"matplotlib.axis_40\"/>\n    <g id=\"patch_101\">\n     <path d=\"M 327.15 531.285 \nL 327.15 435.435 \n\" style=\"fill: none; stroke: #262626; stroke-width: 1.25; stroke-linejoin: miter; stroke-linecap: square\"/>\n    </g>\n    <g id=\"patch_102\">\n     <path d=\"M 423 531.285 \nL 423 435.435 \n\" style=\"fill: none; stroke: #262626; stroke-width: 1.25; stroke-linejoin: miter; stroke-linecap: square\"/>\n    </g>\n    <g id=\"patch_103\">\n     <path d=\"M 327.15 531.285 \nL 423 531.285 \n\" style=\"fill: none; stroke: #262626; stroke-width: 1.25; stroke-linejoin: miter; stroke-linecap: square\"/>\n    </g>\n    <g id=\"patch_104\">\n     <path d=\"M 327.15 435.435 \nL 423 435.435 \n\" style=\"fill: none; stroke: #262626; stroke-width: 1.25; stroke-linejoin: miter; stroke-linecap: square\"/>\n    </g>\n   </g>\n   <g id=\"axes_21\">\n    <g id=\"patch_105\">\n     <path d=\"M 433.8 531.285 \nL 529.65 531.285 \nL 529.65 435.435 \nL 433.8 435.435 \nz\n\" style=\"fill: #ffffff\"/>\n    </g>\n    <g clip-path=\"url(#p617b8ab3d9)\">\n     <image xlink:href=\"data:image/png;base64,\niVBORw0KGgoAAAANSUhEUgAAAIYAAACGCAYAAAAYefKRAAAEsElEQVR4nO3dSyhtURzH8X28Ql4lj8gpGUghMpOJgbEZiiJFMSEZMjA2komSiYlMTYxNlFLKRHlNSCTkleR1h9r7/6uz7+mcYx2+n9n+tfe5+95+d7Va+6x9Ip7nfXlAQMZP3wDcRDEgUQxIFAMSxYBEMSBRDEgUAxLFgEQxIFEMSBQDEsWARDEgUQxIFAMSxYBEMSBRDEgUAxLFgEQxIFEMSFk/fQOpMDg4aLLi4mKTLS4umuzr629uu2HEgEQxIFEMSBQDUsT7hZuaPz8/fceRSCTuz3p7ezNZZ2en73h7e9uck+6TVkYMSBQDEsWARDEgpf3k8/7+3mRFRUUpvYePjw+TZWdnmyydJqSMGJAoBiSKASmtnq52dHSYrLCwMOZ1ag6wsLBgssfHR5MNDQ2ZLBqN+o4zMzPNOcFFNs/zvKWlJZONjY2ZzAWMGJAoBiSKAYliQHJ2gWtubs5kAwMDJqutrTVZcOK3tbUV6rOur69NlpeXZ7LR0VHfcX9/vzmntbXVZMrT05PvuLy83Jzz8vIS6rMSiREDEsWARDEgUQxIzk4+9/f3TdbY2Bjq2uBK58PDgznn6OjIZKenpyYbGRkx2fPzc8x7mJ6eNtn8/HzM697f302mntQmGyMGJIoBiWJAohiQnJ18Xl5emqyiosJkarJ2cXHhO66qqjLnqEflysnJicnq6+t9x+oRu7K3t2eylpaWmNf9xON6RgxIFAMSxYDk7BxDLSLl5+eb7OzszGSbm5u+456eHnOOenFK2D2uwYWwurq6UNepzw8zP3l9fTVZbm5uqD8zXowYkCgGJIoBiWJAcnbyqRaulOXlZZONj4/HvG5tbc1kvb29of7MILVHZXJy0mQZGfb/YfDvqSaoas+rWqBL5N5YRgxIFAMSxYBEMSA5u6lZbTBWq5Xq635hJmF9fX0mq6mpMVl7e3vMz5qYmDCZeqK7urpqsnjfKKgmn2En7GEwYkCiGJAoBiSKAcnZlU+1kVc9at7Y2DBZd3d3wu5D7W9pamqKeZ2aAKtMrYYG3dzcmKysrCzU58eLEQMSxYBEMSBRDEjOrnyqV0GryWdDQ0NS76O5udlkMzMzvuPZ2VlzjtqIHGaiqRwcHJhM/Vsk8s07jBiQKAYkigHJ2QWuu7s7k5WUlJjs9vbWZKWlpcm4pf+i5hPq6XDwK4BdXV3mnKmpKZPt7OyYjAUuJB3FgEQxIFEMSM5OPldWVkw2PDxsMvUVwFT/JtpvxIgBiWJAohiQKAYkZyef1dXVJjs/PzeZ+iG8nJwc33HYt+rhGyMGJIoBiWJAohiQnJ18ZmXZbx2q1xqqx9uVlZW+46urq8Td2B/BiAGJYkCiGJAoBiRnJ5+KWsFUb6Q5PDz0HQd/XwSxMWJAohiQKAaktJpj7O7umqytrc1kwf0V0WjUnKOe1OIbIwYkigGJYkCiGJCcfXGKcnx8bDL1g7bB1ykHf9zO8+zX/+DHiAGJYkCiGJAoBqS0mnyq3xhRb/crKCjwHa+vr5tz1FcC2X/yjREDEsWARDEgUQxIafXYHanDiAGJYkCiGJAoBiSKAYliQKIYkCgGJIoBiWJAohiQKAYkigHpH2m5F0AZu8axAAAAAElFTkSuQmCC\" id=\"image386ea1d71d\" transform=\"scale(1 -1) translate(0 -96.48)\" x=\"433.8\" y=\"-434.805\" width=\"96.48\" height=\"96.48\"/>\n    </g>\n    <g id=\"matplotlib.axis_41\"/>\n    <g id=\"matplotlib.axis_42\"/>\n    <g id=\"patch_106\">\n     <path d=\"M 433.8 531.285 \nL 433.8 435.435 \n\" style=\"fill: none; stroke: #262626; stroke-width: 1.25; stroke-linejoin: miter; stroke-linecap: square\"/>\n    </g>\n    <g id=\"patch_107\">\n     <path d=\"M 529.65 531.285 \nL 529.65 435.435 \n\" style=\"fill: none; stroke: #262626; stroke-width: 1.25; stroke-linejoin: miter; stroke-linecap: square\"/>\n    </g>\n    <g id=\"patch_108\">\n     <path d=\"M 433.8 531.285 \nL 529.65 531.285 \n\" style=\"fill: none; stroke: #262626; stroke-width: 1.25; stroke-linejoin: miter; stroke-linecap: square\"/>\n    </g>\n    <g id=\"patch_109\">\n     <path d=\"M 433.8 435.435 \nL 529.65 435.435 \n\" style=\"fill: none; stroke: #262626; stroke-width: 1.25; stroke-linejoin: miter; stroke-linecap: square\"/>\n    </g>\n   </g>\n   <g id=\"axes_22\">\n    <g id=\"patch_110\">\n     <path d=\"M 540.45 531.285 \nL 636.3 531.285 \nL 636.3 435.435 \nL 540.45 435.435 \nz\n\" style=\"fill: #ffffff\"/>\n    </g>\n    <g clip-path=\"url(#p27400733ec)\">\n     <image xlink:href=\"data:image/png;base64,\niVBORw0KGgoAAAANSUhEUgAAAIYAAACGCAYAAAAYefKRAAAErklEQVR4nO3dPS8tXRjG8dnbe0RQSQgK0Wi8VjoJiURQ7KDwFTRC4QtQKWkVChIv0QgJjYggIdEIjVbQEUS8P/Ws+3piHnvm7Jnz/H/durP2zjonl5U7M7NmpzzP+/YARzrXC0A8EQxIBAMSwYBEMCARDEgEAxLBgEQwIBEMSAQDEsGARDAg5ed6AVHIy8vzjT8/P3O0kuRix4BEMCARDEgEA1Jsm8+ioiJTW1xcNLXh4eFI16Ea1/X1dd94ZGQk0jXkAjsGJIIBiWBAIhiQUl4MzpWsrq6aWiaTCfTZk5MTU2toaPCNKysrzZx0Ory/iY+PD1MrLCw0te/vnP9XB8aOAYlgQCIYkAgGpJw0ny0tLb7x2dlZoM/d3t6aWn19vam9vb39al3KzMyMqU1NTfnGqVTKzHl6ejK1srKy0NYVNXYMSAQDEsGARDAgRd58FhQUmNrLy4tv7D6j+W/UrfgwG82g3KumFxcXZk5paampTUxMmNrKykp4CwsROwYkggGJYECKvMdQF3++vr5+/Jy6E6l6kTjcsVR3au/u7kytoqLix9rz83NYy8oKOwYkggGJYEAiGJAiP1eimkP3Ubj8fLsM9bmqqipTU3dc/zTVTB8cHJjawMCAqV1eXvrGdXV14S0sC+wYkAgGJIIBiWBAysmjfe6ZkbW1NTPn/f3d1Do7O03t9PQ0vIWFqK2tzdQODw9Nzf13lpeXmzlBrhSHjR0DEsGARDAgEQxIOXmjjvtGmurqajNHnct4fHyMbE1hU48b7O3tmVpzc/MfWM1/x44BiWBAIhiQYvHilKRT/YQ6U9vY2Ghqu7u7kawpW+wYkAgGJIIBiWBAovn8Bfc87ujoqJmzsbFhag8PD5GtKWzsGJAIBiSCAYlgQIrt75Uo6iUsQc6tZEO9+rm3t9c3Pjo6MnOS1Ggq7BiQCAYkggGJYEBKVPOpzprMzs6aWnt7u2+8s7Nj5jQ1NZlaR0eHqakmcm5uzje+urqyi004dgxIBAMSwYBEMCAlqvlU1NVQ9w096tzK4OCgqQX9PRG3ud3c3DRz7u/vA31XXLFjQCIYkAgGpMQ/2tfd3W1q29vbvnFra6uZc3NzY2rqrXoLCwum5t7Rvb6+NnNqa2vtYhOEHQMSwYBEMCARDEiJbz6HhoZMbXl52TdWB4fVBS5197ampsbUlpaWfGP3B4Y9TzefSXrcjx0DEsGARDAgEQxIiW8+S0pKTM39wTn1xpvz83NT6+rqMjX3x4M9z/NeX199462tLTNHXW09Pj42tf7+flOLA3YMSAQDEsGARDAgJb75VNyGsbi4+Nfftb+/b2p9fX2+sXp1o2puFbeRzWatYWLHgEQwIBEMSAQD0l/ZfLpXOt0Gz/P0eZSg3Gc+1ZXV3xobGzO1+fn50L4/KHYMSAQDEsGA9Ff2GEFMT0+b2uTkpKmpXiTMnsLtV9LpePytxmMViB2CAYlgQCIYkP63zWdQ6pXRmUzmx8+Nj4+bmjpX0tPT87uFRYwdAxLBgEQwIBEMSDSfkNgxIBEMSAQDEsGARDAgEQxIBAMSwYBEMCARDEgEAxLBgEQwIBEMSAQDEsGARDAgEQxI/wCxpQGXDbOa0wAAAABJRU5ErkJggg==\" id=\"image58dde542b5\" transform=\"scale(1 -1) translate(0 -96.48)\" x=\"540.45\" y=\"-434.805\" width=\"96.48\" height=\"96.48\"/>\n    </g>\n    <g id=\"matplotlib.axis_43\"/>\n    <g id=\"matplotlib.axis_44\"/>\n    <g id=\"patch_111\">\n     <path d=\"M 540.45 531.285 \nL 540.45 435.435 \n\" style=\"fill: none; stroke: #262626; stroke-width: 1.25; stroke-linejoin: miter; stroke-linecap: square\"/>\n    </g>\n    <g id=\"patch_112\">\n     <path d=\"M 636.3 531.285 \nL 636.3 435.435 \n\" style=\"fill: none; stroke: #262626; stroke-width: 1.25; stroke-linejoin: miter; stroke-linecap: square\"/>\n    </g>\n    <g id=\"patch_113\">\n     <path d=\"M 540.45 531.285 \nL 636.3 531.285 \n\" style=\"fill: none; stroke: #262626; stroke-width: 1.25; stroke-linejoin: miter; stroke-linecap: square\"/>\n    </g>\n    <g id=\"patch_114\">\n     <path d=\"M 540.45 435.435 \nL 636.3 435.435 \n\" style=\"fill: none; stroke: #262626; stroke-width: 1.25; stroke-linejoin: miter; stroke-linecap: square\"/>\n    </g>\n   </g>\n   <g id=\"axes_23\">\n    <g id=\"patch_115\">\n     <path d=\"M 647.1 531.285 \nL 742.95 531.285 \nL 742.95 435.435 \nL 647.1 435.435 \nz\n\" style=\"fill: #ffffff\"/>\n    </g>\n    <g clip-path=\"url(#pdc0302f51f)\">\n     <image xlink:href=\"data:image/png;base64,\niVBORw0KGgoAAAANSUhEUgAAAIYAAACGCAYAAAAYefKRAAAELklEQVR4nO3duUosWxSH8XJEcUAQQRHUzAkUjATNBA18Ad/BwMBQ8D3M1cTEoBMfwUAwUFETQXBCHCLn4cZV67vXPveoXbbfL9uL7WEHfxaLfaqqK5IkeU+kjMpSH0D5ZDCEDIaQwRAyGEIGQ8hgCBkMIYMhVF3qA/yJioqKomqtra2p9fX1ddjz+vr6eQcrQ3YMIYMhZDCEcjtjVFbGzDY3N4fa+fl5qL29vaXWtbW1YQ/NJtm/S5IkGRsbC7Wtra3UuhznFTuGkMEQMhhCBkMoF8NnQ0NDqHV3d4caDZ80+NXX16fWLy8vYU9NTU2o0cC7ubkZatvb26n1yMhI2PP+/rOfmLRjCBkMIYMhZDCEKpIcvFdCQ9/s7Gyo3dzchNrk5GSora2tpdaFQiHsoYF3d3c31Lq6ukItiwbl4+PjD/8uz+wYQgZDyGAIGQyhXAyfhG4m6Qbzq28YV1dXQ21mZia17ujoCHsuLi6+7EzfwY4hZDCEDIaQwRDKxX+7k+fn51IfIUmSJGlvbw+1h4eH1Prx8fG7jvNt7BhCBkPIYAjldsYoBXrXpK2tLdSurq5S69vb2686UsnYMYQMhpDBEDIYQr92+Ozp6Qk1erSvrq4u1FZWVr7iSLlixxAyGEIGQ8hgCOX20b7P1NLSEmrZ28sk4fdbDg8PQ21wcDC1pkcOfzo7hpDBEDIYQgZD6FfcfC4tLYUaDZqkv78/1Oizj+XGjiFkMIQMhtCPnzHocbyJiYnUempqKuyhd16np6dD7TfME8SOIWQwhAyGkMEQ+lHDZ3V1PO7d3V2oVVVVpdanp6dhz/j4eKjt7Oz8xenKix1DyGAIGQwhgyGU2+Gzs7Mz1I6OjkKNBtLs+yHDw8Nhz2+90SyWHUPIYAgZDCGDIZTb90po0KQXkenH8hobG1Pr7Ff29DE7hpDBEDIYQgZDKLc3n01NTUXto2c3+/r6UuvsLyvrY3YMIYMhZDCEcnvBRT+0u7GxEWo0Y+zv76fWCwsLYc/BwUGo7e3t/ckRy5odQ8hgCBkMIYMhlNvhk9DX987OzkKttrY2tS72Iyn39/ehtr6+Hmrz8/OpNf347k9/dNCOIWQwhAyGkMEQ+lHDZ7Gy75oUCoWwh76y85noM9InJyehdnl5mVoPDAyEPfTVoKGhoVAbHR0NteXl5f8857+xYwgZDCGDIWQwhMpy+CxG9nY0Sfg3TLLvqOQF3axmvyT0N+wYQgZDyGAIGQyh3L5X8tWenp5Crdh3WbID6dzcXNizuLgYajTw/l+rq6uf9m8RO4aQwRAyGEK/9oKrFOgLg729val19ouDpWLHEDIYQgZDyGAIOXwK2TGEDIaQwRAyGEIGQ8hgCBkMIYMhZDCEDIaQwRAyGEIGQ8hgCBkMIYMhZDCEDIaQwRAyGEIGQ8hgCBkMoX8AsOLUo//R5dEAAAAASUVORK5CYII=\" id=\"image504fa65b16\" transform=\"scale(1 -1) translate(0 -96.48)\" x=\"647.1\" y=\"-434.805\" width=\"96.48\" height=\"96.48\"/>\n    </g>\n    <g id=\"matplotlib.axis_45\"/>\n    <g id=\"matplotlib.axis_46\"/>\n    <g id=\"patch_116\">\n     <path d=\"M 647.1 531.285 \nL 647.1 435.435 \n\" style=\"fill: none; stroke: #262626; stroke-width: 1.25; stroke-linejoin: miter; stroke-linecap: square\"/>\n    </g>\n    <g id=\"patch_117\">\n     <path d=\"M 742.95 531.285 \nL 742.95 435.435 \n\" style=\"fill: none; stroke: #262626; stroke-width: 1.25; stroke-linejoin: miter; stroke-linecap: square\"/>\n    </g>\n    <g id=\"patch_118\">\n     <path d=\"M 647.1 531.285 \nL 742.95 531.285 \n\" style=\"fill: none; stroke: #262626; stroke-width: 1.25; stroke-linejoin: miter; stroke-linecap: square\"/>\n    </g>\n    <g id=\"patch_119\">\n     <path d=\"M 647.1 435.435 \nL 742.95 435.435 \n\" style=\"fill: none; stroke: #262626; stroke-width: 1.25; stroke-linejoin: miter; stroke-linecap: square\"/>\n    </g>\n   </g>\n   <g id=\"axes_24\">\n    <g id=\"patch_120\">\n     <path d=\"M 753.75 531.285 \nL 849.6 531.285 \nL 849.6 435.435 \nL 753.75 435.435 \nz\n\" style=\"fill: #ffffff\"/>\n    </g>\n    <g clip-path=\"url(#pc1bad10cf8)\">\n     <image xlink:href=\"data:image/png;base64,\niVBORw0KGgoAAAANSUhEUgAAAIYAAACGCAYAAAAYefKRAAADz0lEQVR4nO3dv0ojXRiA8Yn/QUQRMSLYaGPhLXgF3oF4C9behxY2grWVjY2diI2dICjYaKGFoKCi+A90i61m3mfZ2WSSnLjPr5uXfH6neDh7SCaTWpZl35lU0NPpBShNhiFkGEKGIWQYQoYhZBhChiFkGEKGIWQYQoYhZBhChiFkGEKGIWQYQoYh1NfpBfxParVamH1/p3lnpTuGkGEIGYaQYQh5+GyRwcHBMOvv7w+z5+fndiznn7ljCBmGkGEIGYaQh88KzM7OhtnGxkaYbW1thdnu7m5L1tQsdwwhwxAyDCHDEKpl/8ETdXp6yvX/9fXV0N+/ubkJs6mpqTB7f38Ps/Hx8dz129tbQ2uomjuGkGEIGYbQjzxjFG+hq9fr4TUPDw9h1ui/70tLS2G2t7cXZnSGWV5ezl3v7Ow0tIaquWMIGYaQYQgZhlDXHz57e3vDrHj47OuLHyJX+UYS3bL38fERZvQdkvn5+dz1xcVFZetqhjuGkGEIGYaQYQh11a199Inl9vZ2mK2uruauLy8vW7amLMuygYGBMKODJs3u7u5asqZmuWMIGYaQYQgZhlCyh096R/Pg4CDM6KPsmZmZ3PXV1VVVy0K0Bnp6Ds1WVlZy1+vr69UtrAnuGEKGIWQYQsl+unp4eBhmi4uLYba2thZmp6enuev9/f3wmka/KkDo7PD4+BhmIyMjYXZ/f5+7npiYqGxdzXDHEDIMIcMQMgyhZN/gen19DTM6MG5uboZZ8Ul4rX4sM/19urWPFL+7mgp3DCHDEDIMIcMQSvbwSd+veHl5KTVL4TdAPj8/S72O3jVNgTuGkGEIGYaQYQgle/icm5srNUvhoEm3IdJ3YMqgJwxWeYtA6XW0/f+ormAYQoYhZBhCSRw+y94zSYewThw+i+s9OTlp+G8V19+JgyZxxxAyDCHDEErijEHnhOPj4zC7vr5ux3L+qvhjuwsLCw3/rWb+21ZyxxAyDCHDEDIMoSQOn+To6CjMhoaGOrCSqPi46eHh4fCa4qOgsyzLzs/Pw4y+P5MCdwwhwxAyDCHDEEr2iTpjY2NhRj9om+rhrdu5YwgZhpBhCBmGULLvfI6OjobZ09NTmHn4bA13DCHDEDIMIcMQSvadT/r143q9Hma3t7dhVvZpNvozdwwhwxAyDKFkzxhkcnIyzKanp8Osme+S6jd3DCHDEDIMIcMQSvbT1bLOzs46vYQfyR1DyDCEDEPIMIS66p1PtY87hpBhCBmGkGEIGYaQYQgZhpBhCBmGkGEIGYaQYQgZhpBhCBmGkGEIGYaQYQj9AvjE0f6nQ0T8AAAAAElFTkSuQmCC\" id=\"image77de5098f7\" transform=\"scale(1 -1) translate(0 -96.48)\" x=\"753.75\" y=\"-434.805\" width=\"96.48\" height=\"96.48\"/>\n    </g>\n    <g id=\"matplotlib.axis_47\"/>\n    <g id=\"matplotlib.axis_48\"/>\n    <g id=\"patch_121\">\n     <path d=\"M 753.75 531.285 \nL 753.75 435.435 \n\" style=\"fill: none; stroke: #262626; stroke-width: 1.25; stroke-linejoin: miter; stroke-linecap: square\"/>\n    </g>\n    <g id=\"patch_122\">\n     <path d=\"M 849.6 531.285 \nL 849.6 435.435 \n\" style=\"fill: none; stroke: #262626; stroke-width: 1.25; stroke-linejoin: miter; stroke-linecap: square\"/>\n    </g>\n    <g id=\"patch_123\">\n     <path d=\"M 753.75 531.285 \nL 849.6 531.285 \n\" style=\"fill: none; stroke: #262626; stroke-width: 1.25; stroke-linejoin: miter; stroke-linecap: square\"/>\n    </g>\n    <g id=\"patch_124\">\n     <path d=\"M 753.75 435.435 \nL 849.6 435.435 \n\" style=\"fill: none; stroke: #262626; stroke-width: 1.25; stroke-linejoin: miter; stroke-linecap: square\"/>\n    </g>\n   </g>\n   <g id=\"text_3\">\n    <!-- Predicted Images -->\n    <g style=\"fill: #262626\" transform=\"translate(381.7125 399.789375) scale(0.12 -0.12)\">\n     <defs>\n      <path id=\"ArialMT-50\" d=\"M 494 0 \nL 494 4581 \nL 2222 4581 \nQ 2678 4581 2919 4538 \nQ 3256 4481 3484 4323 \nQ 3713 4166 3852 3881 \nQ 3991 3597 3991 3256 \nQ 3991 2672 3619 2267 \nQ 3247 1863 2275 1863 \nL 1100 1863 \nL 1100 0 \nL 494 0 \nz\nM 1100 2403 \nL 2284 2403 \nQ 2872 2403 3119 2622 \nQ 3366 2841 3366 3238 \nQ 3366 3525 3220 3729 \nQ 3075 3934 2838 4000 \nQ 2684 4041 2272 4041 \nL 1100 4041 \nL 1100 2403 \nz\n\" transform=\"scale(0.015625)\"/>\n      <path id=\"ArialMT-63\" d=\"M 2588 1216 \nL 3141 1144 \nQ 3050 572 2676 248 \nQ 2303 -75 1759 -75 \nQ 1078 -75 664 370 \nQ 250 816 250 1647 \nQ 250 2184 428 2587 \nQ 606 2991 970 3192 \nQ 1334 3394 1763 3394 \nQ 2303 3394 2647 3120 \nQ 2991 2847 3088 2344 \nL 2541 2259 \nQ 2463 2594 2264 2762 \nQ 2066 2931 1784 2931 \nQ 1359 2931 1093 2626 \nQ 828 2322 828 1663 \nQ 828 994 1084 691 \nQ 1341 388 1753 388 \nQ 2084 388 2306 591 \nQ 2528 794 2588 1216 \nz\n\" transform=\"scale(0.015625)\"/>\n      <path id=\"ArialMT-74\" d=\"M 1650 503 \nL 1731 6 \nQ 1494 -44 1306 -44 \nQ 1000 -44 831 53 \nQ 663 150 594 308 \nQ 525 466 525 972 \nL 525 2881 \nL 113 2881 \nL 113 3319 \nL 525 3319 \nL 525 4141 \nL 1084 4478 \nL 1084 3319 \nL 1650 3319 \nL 1650 2881 \nL 1084 2881 \nL 1084 941 \nQ 1084 700 1114 631 \nQ 1144 563 1211 522 \nQ 1278 481 1403 481 \nQ 1497 481 1650 503 \nz\n\" transform=\"scale(0.015625)\"/>\n     </defs>\n     <use xlink:href=\"#ArialMT-50\"/>\n     <use xlink:href=\"#ArialMT-72\" x=\"66.699219\"/>\n     <use xlink:href=\"#ArialMT-65\" x=\"100\"/>\n     <use xlink:href=\"#ArialMT-64\" x=\"155.615234\"/>\n     <use xlink:href=\"#ArialMT-69\" x=\"211.230469\"/>\n     <use xlink:href=\"#ArialMT-63\" x=\"233.447266\"/>\n     <use xlink:href=\"#ArialMT-74\" x=\"283.447266\"/>\n     <use xlink:href=\"#ArialMT-65\" x=\"311.230469\"/>\n     <use xlink:href=\"#ArialMT-64\" x=\"366.845703\"/>\n     <use xlink:href=\"#ArialMT-20\" x=\"422.460938\"/>\n     <use xlink:href=\"#ArialMT-49\" x=\"450.244141\"/>\n     <use xlink:href=\"#ArialMT-6d\" x=\"478.027344\"/>\n     <use xlink:href=\"#ArialMT-61\" x=\"561.328125\"/>\n     <use xlink:href=\"#ArialMT-67\" x=\"616.943359\"/>\n     <use xlink:href=\"#ArialMT-65\" x=\"672.558594\"/>\n     <use xlink:href=\"#ArialMT-73\" x=\"728.173828\"/>\n    </g>\n   </g>\n  </g>\n </g>\n <defs>\n  <clipPath id=\"pf5cf62fd44\">\n   <rect x=\"7.2\" y=\"51.435\" width=\"95.85\" height=\"95.85\"/>\n  </clipPath>\n  <clipPath id=\"p60dd9e9c8d\">\n   <rect x=\"113.85\" y=\"51.435\" width=\"95.85\" height=\"95.85\"/>\n  </clipPath>\n  <clipPath id=\"p0b597ed29e\">\n   <rect x=\"220.5\" y=\"51.435\" width=\"95.85\" height=\"95.85\"/>\n  </clipPath>\n  <clipPath id=\"p23cbff68ff\">\n   <rect x=\"327.15\" y=\"51.435\" width=\"95.85\" height=\"95.85\"/>\n  </clipPath>\n  <clipPath id=\"paa2ac6f8b8\">\n   <rect x=\"433.8\" y=\"51.435\" width=\"95.85\" height=\"95.85\"/>\n  </clipPath>\n  <clipPath id=\"p0c3a0d75fd\">\n   <rect x=\"540.45\" y=\"51.435\" width=\"95.85\" height=\"95.85\"/>\n  </clipPath>\n  <clipPath id=\"pa75a199d66\">\n   <rect x=\"647.1\" y=\"51.435\" width=\"95.85\" height=\"95.85\"/>\n  </clipPath>\n  <clipPath id=\"pae881da1bf\">\n   <rect x=\"753.75\" y=\"51.435\" width=\"95.85\" height=\"95.85\"/>\n  </clipPath>\n  <clipPath id=\"pcc1bc78816\">\n   <rect x=\"7.2\" y=\"243.435\" width=\"95.85\" height=\"95.85\"/>\n  </clipPath>\n  <clipPath id=\"pfa1550657f\">\n   <rect x=\"113.85\" y=\"243.435\" width=\"95.85\" height=\"95.85\"/>\n  </clipPath>\n  <clipPath id=\"p599154d8f1\">\n   <rect x=\"220.5\" y=\"243.435\" width=\"95.85\" height=\"95.85\"/>\n  </clipPath>\n  <clipPath id=\"p240cc0adab\">\n   <rect x=\"327.15\" y=\"243.435\" width=\"95.85\" height=\"95.85\"/>\n  </clipPath>\n  <clipPath id=\"p2df37fdcc7\">\n   <rect x=\"433.8\" y=\"243.435\" width=\"95.85\" height=\"95.85\"/>\n  </clipPath>\n  <clipPath id=\"pe656421002\">\n   <rect x=\"540.45\" y=\"243.435\" width=\"95.85\" height=\"95.85\"/>\n  </clipPath>\n  <clipPath id=\"pde1f727b06\">\n   <rect x=\"647.1\" y=\"243.435\" width=\"95.85\" height=\"95.85\"/>\n  </clipPath>\n  <clipPath id=\"pc0c0370e13\">\n   <rect x=\"753.75\" y=\"243.435\" width=\"95.85\" height=\"95.85\"/>\n  </clipPath>\n  <clipPath id=\"p815e818a12\">\n   <rect x=\"7.2\" y=\"435.435\" width=\"95.85\" height=\"95.85\"/>\n  </clipPath>\n  <clipPath id=\"p8024db375a\">\n   <rect x=\"113.85\" y=\"435.435\" width=\"95.85\" height=\"95.85\"/>\n  </clipPath>\n  <clipPath id=\"p4556bb725b\">\n   <rect x=\"220.5\" y=\"435.435\" width=\"95.85\" height=\"95.85\"/>\n  </clipPath>\n  <clipPath id=\"pdc1401a960\">\n   <rect x=\"327.15\" y=\"435.435\" width=\"95.85\" height=\"95.85\"/>\n  </clipPath>\n  <clipPath id=\"p617b8ab3d9\">\n   <rect x=\"433.8\" y=\"435.435\" width=\"95.85\" height=\"95.85\"/>\n  </clipPath>\n  <clipPath id=\"p27400733ec\">\n   <rect x=\"540.45\" y=\"435.435\" width=\"95.85\" height=\"95.85\"/>\n  </clipPath>\n  <clipPath id=\"pdc0302f51f\">\n   <rect x=\"647.1\" y=\"435.435\" width=\"95.85\" height=\"95.85\"/>\n  </clipPath>\n  <clipPath id=\"pc1bad10cf8\">\n   <rect x=\"753.75\" y=\"435.435\" width=\"95.85\" height=\"95.85\"/>\n  </clipPath>\n </defs>\n</svg>\n"
     },
     "metadata": {},
     "output_type": "display_data"
    }
   ],
   "source": [
    "fig = plt.figure(figsize=(12,8))\n",
    "subfigs = fig.subfigures(nrows=3,ncols=1)\n",
    "figs_titles = ['Original Images from Dataset', 'Transformed Images from Dataset', \"Model's Prediction\"]\n",
    "\n",
    "subfigs[0].suptitle('Original Images')\n",
    "for i, ax in enumerate(subfigs[0].subplots(1,8)):\n",
    "    ax.imshow(origin_imgs[i].reshape(28,28),cmap='gray')\n",
    "    ax.set_xticks([]), ax.set_yticks([])\n",
    "\n",
    "subfigs[1].suptitle('Transformed Images')\n",
    "for i, ax in enumerate(subfigs[1].subplots(1,8)):\n",
    "    ax.imshow(transform_imgs[i].reshape(28,28),cmap='gray')\n",
    "    ax.set_xticks([]), ax.set_yticks([])\n",
    "\n",
    "subfigs[2].suptitle('Predicted Images')\n",
    "for i, ax in enumerate(subfigs[2].subplots(1,8)):\n",
    "    ax.imshow(predicted_img[i].detach().reshape(28,28),cmap='gray')\n",
    "    ax.set_xticks([]), ax.set_yticks([])\n",
    "\n",
    "plt.tight_layout()\n",
    "plt.show()"
   ],
   "metadata": {
    "collapsed": false,
    "ExecuteTime": {
     "end_time": "2023-10-01T21:54:49.100724900Z",
     "start_time": "2023-10-01T21:54:48.208507800Z"
    }
   }
  },
  {
   "cell_type": "code",
   "execution_count": 433,
   "outputs": [],
   "source": [],
   "metadata": {
    "collapsed": false,
    "ExecuteTime": {
     "end_time": "2023-10-01T21:53:11.015070500Z",
     "start_time": "2023-10-01T21:53:11.012562400Z"
    }
   }
  }
 ],
 "metadata": {
  "kernelspec": {
   "display_name": "Python 3",
   "language": "python",
   "name": "python3"
  },
  "language_info": {
   "codemirror_mode": {
    "name": "ipython",
    "version": 2
   },
   "file_extension": ".py",
   "mimetype": "text/x-python",
   "name": "python",
   "nbconvert_exporter": "python",
   "pygments_lexer": "ipython2",
   "version": "2.7.6"
  }
 },
 "nbformat": 4,
 "nbformat_minor": 0
}
