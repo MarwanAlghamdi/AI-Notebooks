{
 "cells": [
  {
   "cell_type": "markdown",
   "source": [
    "# K-Fold\n",
    "This topic was explained more precisely in Notion.\n",
    "\n",
    "Website: [K-Fold Lecture by jeffheaton](https://github.com/jeffheaton/app_deep_learning/blob/main/t81_558_class_04_1_kfold.ipynb)\n",
    "YouTube: [K-Fold Lecture by jeffheaton](https://www.youtube.com/watch?v=Q8ZQNvZwsNE&list=PLjy4p-07OYzulelvJ5KVaT2pDlxivl_BN)"
   ],
   "metadata": {
    "collapsed": false
   }
  },
  {
   "cell_type": "code",
   "execution_count": 1434,
   "metadata": {
    "collapsed": true,
    "ExecuteTime": {
     "end_time": "2023-09-10T22:32:03.096592600Z",
     "start_time": "2023-09-10T22:32:03.047974400Z"
    }
   },
   "outputs": [],
   "source": [
    "import numpy as np\n",
    "import matplotlib.pyplot as plt\n",
    "import pandas as pd\n",
    "import scipy.stats as stats\n",
    "\n",
    "import torch\n",
    "import torch.nn as nn\n",
    "\n",
    "from torch.utils.data import DataLoader\n",
    "from torch.utils.data import TensorDataset\n",
    "\n",
    "from sklearn.model_selection import train_test_split\n",
    "\n",
    "plt.style.use('seaborn-v0_8-ticks')\n",
    "%config InlineBackend.figure_formats =['png']"
   ]
  },
  {
   "cell_type": "code",
   "execution_count": 1435,
   "outputs": [],
   "source": [
    "import copy\n",
    "class EarlyStopping:\n",
    "    \"\"\"\n",
    "    Parameters\n",
    "    ----------\n",
    "    patience : float\n",
    "        How long should we wait until there are no improvements\n",
    "    minDelta : float\n",
    "        Small values, The minimum change that should be considered as an improvement.\n",
    "    restoreBestWeights : bool\n",
    "        Restore the best weight settings, when there is no overfitting!\n",
    "    \"\"\"\n",
    "\n",
    "    def __init__(self,patience=5, minDelta=0, restoreBestWeights=True):\n",
    "        # Early Params\n",
    "        self.patience = patience\n",
    "        self.minDelta = minDelta\n",
    "        self.restoreBestWeights = restoreBestWeights\n",
    "\n",
    "        # Model Current State\n",
    "        self.bestModel  = None\n",
    "        self.bestLoss   = None\n",
    "        self.counter    = 0\n",
    "        self.status     = 'Learning'\n",
    "\n",
    "    def __call__(self, model, val_loss):\n",
    "\n",
    "        if self.bestLoss is None: # First Visit\n",
    "            self.bestModel = copy.deepcopy(model.state_dict())\n",
    "            self.bestLoss  = val_loss\n",
    "\n",
    "        elif self.bestLoss - val_loss >= self.minDelta: # check if there is any improvement, learning would be positive otherwise we should wait for an improvement\n",
    "            self.bestModel   = copy.deepcopy(model.state_dict())\n",
    "            self.bestLoss   = val_loss\n",
    "            self.counter    = 0 # reset counting\n",
    "            self.status     = f'Learning'\n",
    "\n",
    "        else: # there are no improvements\n",
    "            self.counter   += 1\n",
    "            self.status     = f'Waiting.'\n",
    "            if self.counter >= self.patience: # Have we waited enough ?\n",
    "                self.status     = f'*Finished due to no improvements on validation for {self.counter} epochs.'\n",
    "                if self.restoreBestWeights: # Restore Best weights ?\n",
    "                    model.load_state_dict(self.bestModel)\n",
    "                return True\n",
    "        return False"
   ],
   "metadata": {
    "collapsed": false,
    "ExecuteTime": {
     "end_time": "2023-09-10T22:32:03.099095Z",
     "start_time": "2023-09-10T22:32:03.055876400Z"
    }
   }
  },
  {
   "cell_type": "markdown",
   "source": [
    "# Data"
   ],
   "metadata": {
    "collapsed": false
   }
  },
  {
   "cell_type": "code",
   "execution_count": 1436,
   "outputs": [],
   "source": [
    "df = pd.read_csv('https://data.heatonresearch.com/data/t81-558/jh-simple-dataset.csv', na_values=['NA','?'])\n",
    "df = df.drop(columns=['id'])"
   ],
   "metadata": {
    "collapsed": false,
    "ExecuteTime": {
     "end_time": "2023-09-10T22:32:03.476547400Z",
     "start_time": "2023-09-10T22:32:03.060555900Z"
    }
   }
  },
  {
   "cell_type": "markdown",
   "source": [
    "## Data pre processing"
   ],
   "metadata": {
    "collapsed": false
   }
  },
  {
   "cell_type": "code",
   "execution_count": 1437,
   "outputs": [],
   "source": [
    "X_cols = df.keys().drop('age')\n",
    "y_cols = 'age'\n",
    "encode_cols = ['job','area','product']\n",
    "zscore_cols = X_cols.drop(encode_cols)\n",
    "toDrop = np.concatenate((encode_cols,zscore_cols)) # New cols are renamed. old ones have to be deleted"
   ],
   "metadata": {
    "collapsed": false,
    "ExecuteTime": {
     "end_time": "2023-09-10T22:32:03.482207Z",
     "start_time": "2023-09-10T22:32:03.479050Z"
    }
   }
  },
  {
   "cell_type": "code",
   "execution_count": 1438,
   "outputs": [],
   "source": [
    "df['income'] = df['income'].fillna(df['income'].median())"
   ],
   "metadata": {
    "collapsed": false,
    "ExecuteTime": {
     "end_time": "2023-09-10T22:32:03.488624900Z",
     "start_time": "2023-09-10T22:32:03.483707200Z"
    }
   }
  },
  {
   "cell_type": "code",
   "execution_count": 1439,
   "outputs": [],
   "source": [
    "from sklearn.preprocessing import LabelEncoder\n",
    "\n",
    "le = LabelEncoder()\n",
    "for col in encode_cols:\n",
    "    df[col] = df[col].astype(str)\n",
    "    df[f'encoded_{col}'] = le.fit_transform(df[col].values)"
   ],
   "metadata": {
    "collapsed": false,
    "ExecuteTime": {
     "end_time": "2023-09-10T22:32:03.496731100Z",
     "start_time": "2023-09-10T22:32:03.491127100Z"
    }
   }
  },
  {
   "cell_type": "code",
   "execution_count": 1440,
   "outputs": [],
   "source": [
    "for col in zscore_cols:\n",
    "    df[f'scaled_{col}'] = stats.zscore(df[col])"
   ],
   "metadata": {
    "collapsed": false,
    "ExecuteTime": {
     "end_time": "2023-09-10T22:32:03.517308900Z",
     "start_time": "2023-09-10T22:32:03.498231900Z"
    }
   }
  },
  {
   "cell_type": "code",
   "execution_count": 1441,
   "outputs": [],
   "source": [
    "df.drop(columns=toDrop,inplace=True)"
   ],
   "metadata": {
    "collapsed": false,
    "ExecuteTime": {
     "end_time": "2023-09-10T22:32:03.517308900Z",
     "start_time": "2023-09-10T22:32:03.511505200Z"
    }
   }
  },
  {
   "cell_type": "code",
   "execution_count": 1442,
   "outputs": [],
   "source": [
    "# Update cols\n",
    "X_cols = df.keys().drop('age')\n",
    "y_cols = 'age'"
   ],
   "metadata": {
    "collapsed": false,
    "ExecuteTime": {
     "end_time": "2023-09-10T22:32:03.527882300Z",
     "start_time": "2023-09-10T22:32:03.515809Z"
    }
   }
  },
  {
   "cell_type": "code",
   "execution_count": 1443,
   "outputs": [],
   "source": [
    "for col in X_cols:\n",
    "    df[col] = stats.zscore(df[col])"
   ],
   "metadata": {
    "collapsed": false,
    "ExecuteTime": {
     "end_time": "2023-09-10T22:32:03.536185900Z",
     "start_time": "2023-09-10T22:32:03.521877Z"
    }
   }
  },
  {
   "cell_type": "markdown",
   "source": [
    "# Cross-Validation [ K-Fold ]"
   ],
   "metadata": {
    "collapsed": false
   }
  },
  {
   "cell_type": "code",
   "execution_count": 1444,
   "outputs": [],
   "source": [
    "def createModel(nFeatures,learningEpochs = 500,learningRate=0.01):\n",
    "    model = nn.Sequential(\n",
    "        nn.Linear(nFeatures, 32),\n",
    "        nn.BatchNorm1d(32),\n",
    "        nn.Tanh(),\n",
    "\n",
    "        nn.Linear(32, 32),\n",
    "        nn.BatchNorm1d(32),\n",
    "        nn.Tanh(),\n",
    "\n",
    "        nn.Linear(32, 1)\n",
    "    )\n",
    "    loss_func = nn.MSELoss()\n",
    "    optimizer = torch.optim.Adam(model.parameters(),learningRate)\n",
    "    es = EarlyStopping(patience=50,minDelta=0,restoreBestWeights=True)\n",
    "\n",
    "    return model,loss_func,optimizer,es"
   ],
   "metadata": {
    "collapsed": false,
    "ExecuteTime": {
     "end_time": "2023-09-10T22:32:03.541313600Z",
     "start_time": "2023-09-10T22:32:03.536806200Z"
    }
   }
  },
  {
   "cell_type": "code",
   "execution_count": 1445,
   "outputs": [],
   "source": [
    "def evaluate(model,val_loader):\n",
    "    model.eval()\n",
    "    loss_result = 0\n",
    "    corrcoef_result = 0\n",
    "    with torch.no_grad():\n",
    "        for X,y in val_loader:\n",
    "            # Evaluate\n",
    "            yHat  = model(X)\n",
    "            vloss = loss_func(yHat,y)\n",
    "\n",
    "            # Add losses then take the mean\n",
    "            loss_result += vloss.item()\n",
    "            corrcoef_result += np.corrcoef(yHat.detach().T, y.T)[0,1]\n",
    "\n",
    "    return loss_result / len(val_loader), corrcoef_result / len(val_loader)"
   ],
   "metadata": {
    "collapsed": false,
    "ExecuteTime": {
     "end_time": "2023-09-10T22:32:03.546436300Z",
     "start_time": "2023-09-10T22:32:03.542313800Z"
    }
   }
  },
  {
   "cell_type": "code",
   "execution_count": 1446,
   "outputs": [
    {
     "data": {
      "text/plain": "<torch._C.Generator at 0x1747020ed10>"
     },
     "execution_count": 1446,
     "metadata": {},
     "output_type": "execute_result"
    }
   ],
   "source": [
    "torch.manual_seed(42)"
   ],
   "metadata": {
    "collapsed": false,
    "ExecuteTime": {
     "end_time": "2023-09-10T22:32:03.566112900Z",
     "start_time": "2023-09-10T22:32:03.546937Z"
    }
   }
  },
  {
   "cell_type": "code",
   "execution_count": 1447,
   "outputs": [],
   "source": [
    "X = torch.tensor(df[X_cols].values, dtype=torch.float)\n",
    "y = torch.tensor(df[y_cols].values, dtype=torch.float)[:,None]"
   ],
   "metadata": {
    "collapsed": false,
    "ExecuteTime": {
     "end_time": "2023-09-10T22:32:03.566613400Z",
     "start_time": "2023-09-10T22:32:03.555821800Z"
    }
   }
  },
  {
   "cell_type": "code",
   "execution_count": 1448,
   "outputs": [],
   "source": [
    "from sklearn.model_selection import KFold\n",
    "n_folds = 5\n",
    "k_fold  = KFold(n_splits=n_folds, shuffle=True, random_state=42)"
   ],
   "metadata": {
    "collapsed": false,
    "ExecuteTime": {
     "end_time": "2023-09-10T22:32:03.566613400Z",
     "start_time": "2023-09-10T22:32:03.560747900Z"
    }
   }
  },
  {
   "cell_type": "code",
   "execution_count": 1449,
   "outputs": [],
   "source": [
    "models_state = []\n",
    "models_perf = np.zeros((n_folds,2))"
   ],
   "metadata": {
    "collapsed": false,
    "ExecuteTime": {
     "end_time": "2023-09-10T22:32:03.578030500Z",
     "start_time": "2023-09-10T22:32:03.565612600Z"
    }
   }
  },
  {
   "cell_type": "markdown",
   "source": [],
   "metadata": {
    "collapsed": false
   }
  },
  {
   "cell_type": "markdown",
   "source": [
    "Total data = 2000\n",
    "X (train)  = 1600\n",
    "y (valid)  = 400"
   ],
   "metadata": {
    "collapsed": false
   }
  },
  {
   "cell_type": "code",
   "execution_count": 1450,
   "outputs": [
    {
     "name": "stderr",
     "output_type": "stream",
     "text": [
      "Fold #1 \tEpoch: 336, [tLoss 0.094506010\t vLoss 0.245020032,\t CorrCoef 0.99278]\t Waiting.-50\t:  67%|██████▋   | 337/500 [00:27<00:13, 12.22it/s, Training Break due to no improvements, Best vLoss 0.196571946]\n",
      "Fold #2 \tEpoch: 316, [tLoss 0.613798797\t vLoss 0.350835025,\t CorrCoef 0.99405]\t Waiting.-50\t:  63%|██████▎   | 317/500 [00:25<00:14, 12.48it/s, Training Break due to no improvements, Best vLoss 0.157805920]\n",
      "Fold #3 \tEpoch: 250, [tLoss 0.574879289\t vLoss 0.308124393,\t CorrCoef 0.99285]\t Waiting.-50\t:  50%|█████     | 250/500 [00:19<00:19, 12.56it/s, Training Break due to no improvements, Best vLoss 0.169467151]\n",
      "Fold #4 \tEpoch: 192, [tLoss 0.159815833\t vLoss 0.217839286,\t CorrCoef 0.99445]\t Waiting.-50\t:  39%|███▊      | 193/500 [00:15<00:24, 12.45it/s, Training Break due to no improvements, Best vLoss 0.155813754]\n",
      "Fold #5 \tEpoch: 210, [tLoss 2.153025150\t vLoss 0.282374829,\t CorrCoef 0.98939]\t Waiting.-50\t:  42%|████▏     | 211/500 [00:17<00:23, 12.32it/s, Training Break due to no improvements, Best vLoss 0.234379560]\n"
     ]
    }
   ],
   "source": [
    "from tqdm import tqdm\n",
    "X_train_size = 0\n",
    "\n",
    "for fold_i,(trainIdx,valIdx) in enumerate(k_fold.split(X)):\n",
    "\n",
    "    # Data & DataLoaders\n",
    "    X_train, X_val, y_train, y_val = X[trainIdx],X[valIdx],y[trainIdx],y[valIdx]\n",
    "    X_train_size = X_train.shape[1]\n",
    "\n",
    "    train_ds = TensorDataset(X_train,y_train)\n",
    "    val_ds   = TensorDataset(X_val,y_val)\n",
    "    train_dl = DataLoader(train_ds,batch_size=32,shuffle=True,drop_last=True)\n",
    "    val_dl   = DataLoader(val_ds,batch_size=len(y_val))\n",
    "\n",
    "\n",
    "    # Model\n",
    "    model, loss_func, optimizer ,es = createModel(X_train_size,500,0.001)\n",
    "    epoch_pb = tqdm(range(500),leave=True,position=0)\n",
    "    for epoch_i in epoch_pb:\n",
    "        model.train()\n",
    "        for batch_X, batch_y in train_dl:\n",
    "            yHat = model(batch_X)\n",
    "            tloss = loss_func(yHat,batch_y)\n",
    "            optimizer.zero_grad()\n",
    "            tloss.backward()\n",
    "            optimizer.step()\n",
    "        # End of Batches\n",
    "\n",
    "        vloss, vcorrcoef = evaluate(model,val_dl)\n",
    "        epoch_pb.set_description(f'Fold #{fold_i+1} \\tEpoch: {epoch_pb.n:2d}, [tLoss {tloss:.9f}\\t vLoss {vloss:.9f},\\t CorrCoef {vcorrcoef:.5f}]\\t {es.status}-{es.counter+1}\\t')\n",
    "\n",
    "        if es(model,vloss) or epoch_i >= 500:\n",
    "            epoch_pb.set_postfix_str(f'Training Break due to no improvements, Best vLoss {es.bestLoss:.9f}')\n",
    "            models_state.append(model.state_dict())\n",
    "            models_perf[fold_i,:] = es.bestLoss,vcorrcoef\n",
    "            break"
   ],
   "metadata": {
    "collapsed": false,
    "ExecuteTime": {
     "end_time": "2023-09-10T22:33:49.089529Z",
     "start_time": "2023-09-10T22:32:03.575028100Z"
    }
   }
  },
  {
   "cell_type": "markdown",
   "source": [
    "# Results"
   ],
   "metadata": {
    "collapsed": false
   }
  },
  {
   "cell_type": "code",
   "execution_count": 1451,
   "outputs": [
    {
     "data": {
      "text/plain": "(0.16762924194335938, 0.994498745445166)"
     },
     "execution_count": 1451,
     "metadata": {},
     "output_type": "execute_result"
    }
   ],
   "source": [
    "X_train, X_val, y_train, y_val = train_test_split(X,y,test_size=0.2,random_state=42)\n",
    "val_ds   = TensorDataset(X_val,y_val)\n",
    "val_dl   = DataLoader(val_ds,batch_size=len(y_val))\n",
    "\n",
    "bestIdx = models_perf[:,0].argmin()\n",
    "\n",
    "bestModel, loss_func, optimizer ,es = createModel(X_train_size,500,0.001)\n",
    "bestModel.load_state_dict(models_state[bestIdx])\n",
    "\n",
    "vloss, vcorrcoef = evaluate(bestModel, val_dl)\n",
    "vloss, vcorrcoef"
   ],
   "metadata": {
    "collapsed": false,
    "ExecuteTime": {
     "end_time": "2023-09-10T22:33:49.101172200Z",
     "start_time": "2023-09-10T22:33:49.092030100Z"
    }
   }
  },
  {
   "cell_type": "code",
   "execution_count": 1456,
   "outputs": [
    {
     "data": {
      "text/plain": "<Figure size 1000x500 with 1 Axes>",
      "image/png": "[encoded data removed]"
     },
     "metadata": {},
     "output_type": "display_data"
    }
   ],
   "source": [
    "import seaborn as sns\n",
    "plt.figure(figsize=(10,5))\n",
    "sns.regplot(\n",
    "    x=y_val.detach().flatten().numpy(),\n",
    "    y=bestModel(X_val).detach().flatten().numpy(),\n",
    "    scatter_kws={\"color\": \"black\"},\n",
    "    line_kws={\"color\": \"red\"})\n",
    "plt.yscale('log')\n",
    "plt.xscale('log')\n",
    "plt.xlabel('Predicted Values')\n",
    "plt.ylabel('Actual Values')\n",
    "plt.title('Scatter Plot of Predictions vs. Actual')\n",
    "plt.show()"
   ],
   "metadata": {
    "collapsed": false,
    "ExecuteTime": {
     "end_time": "2023-09-10T22:34:14.609253100Z",
     "start_time": "2023-09-10T22:34:14.017282Z"
    }
   }
  },
  {
   "cell_type": "code",
   "execution_count": 1453,
   "outputs": [],
   "source": [],
   "metadata": {
    "collapsed": false,
    "ExecuteTime": {
     "end_time": "2023-09-10T22:33:49.707792800Z",
     "start_time": "2023-09-10T22:33:49.706288200Z"
    }
   }
  }
 ],
 "metadata": {
  "kernelspec": {
   "display_name": "Python 3",
   "language": "python",
   "name": "python3"
  },
  "language_info": {
   "codemirror_mode": {
    "name": "ipython",
    "version": 2
   },
   "file_extension": ".py",
   "mimetype": "text/x-python",
   "name": "python",
   "nbconvert_exporter": "python",
   "pygments_lexer": "ipython2",
   "version": "2.7.6"
  }
 },
 "nbformat": 4,
 "nbformat_minor": 0
}
